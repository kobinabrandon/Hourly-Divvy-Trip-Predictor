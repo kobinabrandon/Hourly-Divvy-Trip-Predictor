{
 "cells": [
  {
   "cell_type": "code",
   "execution_count": 1,
   "metadata": {},
   "outputs": [],
   "source": [
    "import pandas as pd \n",
    "from tqdm import tqdm\n",
    "\n",
    "from src.feature_pipeline.preprocessing import DataProcessor"
   ]
  },
  {
   "cell_type": "markdown",
   "metadata": {},
   "source": [
    "# Intro"
   ]
  },
  {
   "cell_type": "code",
   "execution_count": 2,
   "metadata": {},
   "outputs": [
    {
     "name": "stderr",
     "output_type": "stream",
     "text": [
      "\u001b[32m2024-07-23 23:11:03.727\u001b[0m | \u001b[32m\u001b[1mSUCCESS \u001b[0m | \u001b[36msrc.feature_pipeline.data_extraction\u001b[0m:\u001b[36mcheck_for_file_and_download\u001b[0m:\u001b[36m112\u001b[0m - \u001b[32m\u001b[1mThe file 202401-divvy-tripdata.zip is already in local storage\u001b[0m\n",
      "\u001b[32m2024-07-23 23:11:04.691\u001b[0m | \u001b[32m\u001b[1mSUCCESS \u001b[0m | \u001b[36msrc.feature_pipeline.data_extraction\u001b[0m:\u001b[36mcheck_for_file_and_download\u001b[0m:\u001b[36m112\u001b[0m - \u001b[32m\u001b[1mThe file 202402-divvy-tripdata.zip is already in local storage\u001b[0m\n",
      "\u001b[32m2024-07-23 23:11:06.079\u001b[0m | \u001b[32m\u001b[1mSUCCESS \u001b[0m | \u001b[36msrc.feature_pipeline.data_extraction\u001b[0m:\u001b[36mcheck_for_file_and_download\u001b[0m:\u001b[36m112\u001b[0m - \u001b[32m\u001b[1mThe file 202403-divvy-tripdata.zip is already in local storage\u001b[0m\n",
      "\u001b[32m2024-07-23 23:11:07.875\u001b[0m | \u001b[32m\u001b[1mSUCCESS \u001b[0m | \u001b[36msrc.feature_pipeline.data_extraction\u001b[0m:\u001b[36mcheck_for_file_and_download\u001b[0m:\u001b[36m112\u001b[0m - \u001b[32m\u001b[1mThe file 202404-divvy-tripdata.zip is already in local storage\u001b[0m\n",
      "\u001b[32m2024-07-23 23:11:10.392\u001b[0m | \u001b[32m\u001b[1mSUCCESS \u001b[0m | \u001b[36msrc.feature_pipeline.data_extraction\u001b[0m:\u001b[36mcheck_for_file_and_download\u001b[0m:\u001b[36m112\u001b[0m - \u001b[32m\u001b[1mThe file 202405-divvy-tripdata.zip is already in local storage\u001b[0m\n",
      "\u001b[32m2024-07-23 23:11:14.163\u001b[0m | \u001b[32m\u001b[1mSUCCESS \u001b[0m | \u001b[36msrc.feature_pipeline.data_extraction\u001b[0m:\u001b[36mcheck_for_file_and_download\u001b[0m:\u001b[36m112\u001b[0m - \u001b[32m\u001b[1mThe file 202406-divvy-tripdata.zip is already in local storage\u001b[0m\n",
      "\u001b[32m2024-07-23 23:11:18.622\u001b[0m | \u001b[1mINFO    \u001b[0m | \u001b[36msrc.feature_pipeline.data_extraction\u001b[0m:\u001b[36mcheck_for_file_and_download\u001b[0m:\u001b[36m107\u001b[0m - \u001b[1mDownloading and extracting 202407-divvy-tripdata.zip\u001b[0m\n",
      "\u001b[32m2024-07-23 23:11:18.630\u001b[0m | \u001b[31m\u001b[1mERROR   \u001b[0m | \u001b[36msrc.feature_pipeline.data_extraction\u001b[0m:\u001b[36mcheck_for_file_and_download\u001b[0m:\u001b[36m110\u001b[0m - \u001b[31m\u001b[1mHTTPSConnectionPool(host='divvy-tripdata.s3.amazonaws.com', port=443): Max retries exceeded with url: /202407-divvy-tripdata.zip (Caused by NewConnectionError('<urllib3.connection.HTTPSConnection object at 0x737250cf9cd0>: Failed to establish a new connection: [Errno -3] Temporary failure in name resolution'))\u001b[0m\n",
      "\u001b[32m2024-07-23 23:11:18.632\u001b[0m | \u001b[31m\u001b[1mERROR   \u001b[0m | \u001b[36msrc.feature_pipeline.data_extraction\u001b[0m:\u001b[36mload_raw_data\u001b[0m:\u001b[36m154\u001b[0m - \u001b[31m\u001b[1m[Errno 2] No such file or directory: '/home/kobina/ML/Projects/Divvy-Bikes-Demand-Predictor/data/raw/202407-divvy-tripdata/202407-divvy-tripdata.csv'\u001b[0m\n"
     ]
    }
   ],
   "source": [
    "processor = DataProcessor(year=2024)\n",
    "data = processor.data "
   ]
  },
  {
   "cell_type": "code",
   "execution_count": 3,
   "metadata": {},
   "outputs": [
    {
     "data": {
      "text/html": [
       "<div>\n",
       "<style scoped>\n",
       "    .dataframe tbody tr th:only-of-type {\n",
       "        vertical-align: middle;\n",
       "    }\n",
       "\n",
       "    .dataframe tbody tr th {\n",
       "        vertical-align: top;\n",
       "    }\n",
       "\n",
       "    .dataframe thead th {\n",
       "        text-align: right;\n",
       "    }\n",
       "</style>\n",
       "<table border=\"1\" class=\"dataframe\">\n",
       "  <thead>\n",
       "    <tr style=\"text-align: right;\">\n",
       "      <th></th>\n",
       "      <th>ride_id</th>\n",
       "      <th>rideable_type</th>\n",
       "      <th>started_at</th>\n",
       "      <th>ended_at</th>\n",
       "      <th>start_station_name</th>\n",
       "      <th>start_station_id</th>\n",
       "      <th>end_station_name</th>\n",
       "      <th>end_station_id</th>\n",
       "      <th>start_lat</th>\n",
       "      <th>start_lng</th>\n",
       "      <th>end_lat</th>\n",
       "      <th>end_lng</th>\n",
       "      <th>member_casual</th>\n",
       "    </tr>\n",
       "  </thead>\n",
       "  <tbody>\n",
       "    <tr>\n",
       "      <th>0</th>\n",
       "      <td>C1D650626C8C899A</td>\n",
       "      <td>electric_bike</td>\n",
       "      <td>2024-01-12 15:30:27</td>\n",
       "      <td>2024-01-12 15:37:59</td>\n",
       "      <td>Wells St &amp; Elm St</td>\n",
       "      <td>KA1504000135</td>\n",
       "      <td>Kingsbury St &amp; Kinzie St</td>\n",
       "      <td>KA1503000043</td>\n",
       "      <td>41.903267</td>\n",
       "      <td>-87.634737</td>\n",
       "      <td>41.889177</td>\n",
       "      <td>-87.638506</td>\n",
       "      <td>member</td>\n",
       "    </tr>\n",
       "  </tbody>\n",
       "</table>\n",
       "</div>"
      ],
      "text/plain": [
       "            ride_id  rideable_type           started_at             ended_at  \\\n",
       "0  C1D650626C8C899A  electric_bike  2024-01-12 15:30:27  2024-01-12 15:37:59   \n",
       "\n",
       "  start_station_name start_station_id          end_station_name  \\\n",
       "0  Wells St & Elm St     KA1504000135  Kingsbury St & Kinzie St   \n",
       "\n",
       "  end_station_id  start_lat  start_lng    end_lat    end_lng member_casual  \n",
       "0   KA1503000043  41.903267 -87.634737  41.889177 -87.638506        member  "
      ]
     },
     "execution_count": 3,
     "metadata": {},
     "output_type": "execute_result"
    }
   ],
   "source": [
    "data.head(1)"
   ]
  },
  {
   "cell_type": "code",
   "execution_count": 6,
   "metadata": {},
   "outputs": [
    {
     "data": {
      "text/plain": [
       "414704"
      ]
     },
     "execution_count": 6,
     "metadata": {},
     "output_type": "execute_result"
    }
   ],
   "source": [
    "data[\"start_station_name\"].isna().sum()"
   ]
  },
  {
   "cell_type": "code",
   "execution_count": 7,
   "metadata": {},
   "outputs": [
    {
     "data": {
      "text/plain": [
       "432317"
      ]
     },
     "execution_count": 7,
     "metadata": {},
     "output_type": "execute_result"
    }
   ],
   "source": [
    "data[\"end_station_name\"].isna().sum()"
   ]
  },
  {
   "cell_type": "markdown",
   "metadata": {},
   "source": [
    "# IDs being treated as strings"
   ]
  },
  {
   "cell_type": "code",
   "execution_count": 4,
   "metadata": {},
   "outputs": [],
   "source": [
    "def find_ids_treated_as_strings(scenario: str):\n",
    "    non_str_counter = 0\n",
    "    rows = range(data.shape[0])\n",
    "    column_index = data.columns.get_loc(f\"{scenario}_station_id\")\n",
    "\n",
    "    counter = 0\n",
    "    for row in tqdm(rows):\n",
    "        if isinstance(data.iloc[row, column_index], str) and not pd.isnull(data.iloc[row, column_index]):\n",
    "            counter += 1\n",
    "\n",
    "    print(f\"{counter / len(rows) * 100} % of the end station IDs are being treated as strings\")"
   ]
  },
  {
   "cell_type": "markdown",
   "metadata": {},
   "source": [
    "### All Station IDs came as strings"
   ]
  },
  {
   "cell_type": "code",
   "execution_count": 6,
   "metadata": {},
   "outputs": [
    {
     "name": "stderr",
     "output_type": "stream",
     "text": [
      "100%|██████████| 2404963/2404963 [03:27<00:00, 11593.13it/s]"
     ]
    },
    {
     "name": "stdout",
     "output_type": "stream",
     "text": [
      "82.75632514928503 % of the end station IDs are being treated as strings\n"
     ]
    },
    {
     "name": "stderr",
     "output_type": "stream",
     "text": [
      "\n"
     ]
    }
   ],
   "source": [
    "find_ids_treated_as_strings(column_name=\"start_station_id\")"
   ]
  },
  {
   "cell_type": "code",
   "execution_count": 8,
   "metadata": {},
   "outputs": [
    {
     "name": "stderr",
     "output_type": "stream",
     "text": [
      "100%|██████████| 2404963/2404963 [02:36<00:00, 15328.01it/s]"
     ]
    },
    {
     "name": "stdout",
     "output_type": "stream",
     "text": [
      "82.02396460985054 % of the end station IDs are being treated as strings\n"
     ]
    },
    {
     "name": "stderr",
     "output_type": "stream",
     "text": [
      "\n"
     ]
    }
   ],
   "source": [
    "find_ids_treated_as_strings(column_name=\"end_station_id\")"
   ]
  },
  {
   "cell_type": "markdown",
   "metadata": {},
   "source": [
    "# Missing values"
   ]
  },
  {
   "cell_type": "code",
   "execution_count": 19,
   "metadata": {},
   "outputs": [
    {
     "data": {
      "text/plain": [
       "ride_id                    0\n",
       "rideable_type              0\n",
       "started_at                 0\n",
       "ended_at                   0\n",
       "start_station_name    414704\n",
       "start_station_id      414704\n",
       "end_station_name      432317\n",
       "end_station_id        432317\n",
       "start_lat                  0\n",
       "start_lng                  0\n",
       "end_lat                 3389\n",
       "end_lng                 3389\n",
       "member_casual              0\n",
       "dtype: int64"
      ]
     },
     "execution_count": 19,
     "metadata": {},
     "output_type": "execute_result"
    }
   ],
   "source": [
    "data.isna().sum()"
   ]
  },
  {
   "cell_type": "code",
   "execution_count": 9,
   "metadata": {},
   "outputs": [
    {
     "name": "stdout",
     "output_type": "stream",
     "text": [
      "17.24367485071496% of the start station IDs are missing\n"
     ]
    }
   ],
   "source": [
    "print(f\"{data[\"start_station_id\"].isna().sum() / data.shape[0] * 100}% of the start station IDs are missing\") "
   ]
  },
  {
   "cell_type": "code",
   "execution_count": 10,
   "metadata": {},
   "outputs": [
    {
     "name": "stdout",
     "output_type": "stream",
     "text": [
      "17.976035390149452% of the end station IDs are missing\n"
     ]
    }
   ],
   "source": [
    "print(f\"{data[\"end_station_id\"].isna().sum() / data.shape[0] * 100}% of the end station IDs are missing\") "
   ]
  },
  {
   "cell_type": "markdown",
   "metadata": {},
   "source": [
    "# Long IDS"
   ]
  },
  {
   "cell_type": "code",
   "execution_count": 17,
   "metadata": {},
   "outputs": [],
   "source": [
    "def print_long_ids(column_name: str):\n",
    "    rows = range(data.shape[0])\n",
    "    column_index = data.columns.get_loc(column_name)\n",
    "    \n",
    "    counter = 0\n",
    "    for row in tqdm(rows):\n",
    "        if len(str(data.iloc[row, column_index])) > 7 and not pd.isnull(data.iloc[row, column_index]):\n",
    "            counter += 1\n",
    "\n",
    "    print(f\"There are {len(data[column_name].unique())} unique IDs\")\n",
    "    print(f\"{counter / len(rows) * 100} % of the end station IDs are long strings\")"
   ]
  },
  {
   "cell_type": "code",
   "execution_count": 18,
   "metadata": {},
   "outputs": [
    {
     "name": "stderr",
     "output_type": "stream",
     "text": [
      "100%|██████████| 2404963/2404963 [02:45<00:00, 14539.76it/s]\n"
     ]
    },
    {
     "name": "stdout",
     "output_type": "stream",
     "text": [
      "There are 1529 unique IDs\n",
      "40.76940061032124 % of the end station IDs are long strings\n"
     ]
    }
   ],
   "source": [
    "print_long_ids(column_name=\"start_station_id\")"
   ]
  },
  {
   "cell_type": "code",
   "execution_count": null,
   "metadata": {},
   "outputs": [
    {
     "name": "stderr",
     "output_type": "stream",
     "text": [
      "100%|██████████| 2404963/2404963 [02:36<00:00, 15380.43it/s]\n"
     ]
    },
    {
     "name": "stdout",
     "output_type": "stream",
     "text": [
      "There are 1544 unique IDs\n",
      "There are 974914 long strings\n"
     ]
    }
   ],
   "source": [
    "print_long_ids(column_name=\"end_station_id\")"
   ]
  }
 ],
 "metadata": {
  "kernelspec": {
   "display_name": "src-sOhH62IC-py3.12",
   "language": "python",
   "name": "python3"
  },
  "language_info": {
   "codemirror_mode": {
    "name": "ipython",
    "version": 3
   },
   "file_extension": ".py",
   "mimetype": "text/x-python",
   "name": "python",
   "nbconvert_exporter": "python",
   "pygments_lexer": "ipython3",
   "version": "3.12.4"
  }
 },
 "nbformat": 4,
 "nbformat_minor": 2
}
