{
 "cells": [
  {
   "cell_type": "code",
   "execution_count": 1,
   "metadata": {},
   "outputs": [],
   "source": [
    "import pandas as pd \n",
    "from tqdm import tqdm\n",
    "\n",
    "from src.feature_pipeline.preprocessing import DataProcessor"
   ]
  },
  {
   "cell_type": "markdown",
   "metadata": {},
   "source": [
    "# Intro"
   ]
  },
  {
   "cell_type": "code",
   "execution_count": 2,
   "metadata": {},
   "outputs": [
    {
     "name": "stderr",
     "output_type": "stream",
     "text": [
      "\u001b[32m2024-07-25 09:46:24.267\u001b[0m | \u001b[32m\u001b[1mSUCCESS \u001b[0m | \u001b[36msrc.feature_pipeline.data_extraction\u001b[0m:\u001b[36mcheck_for_file_and_download\u001b[0m:\u001b[36m112\u001b[0m - \u001b[32m\u001b[1mThe file 202401-divvy-tripdata.zip is already in local storage\u001b[0m\n",
      "\u001b[32m2024-07-25 09:46:25.337\u001b[0m | \u001b[32m\u001b[1mSUCCESS \u001b[0m | \u001b[36msrc.feature_pipeline.data_extraction\u001b[0m:\u001b[36mcheck_for_file_and_download\u001b[0m:\u001b[36m112\u001b[0m - \u001b[32m\u001b[1mThe file 202402-divvy-tripdata.zip is already in local storage\u001b[0m\n",
      "\u001b[32m2024-07-25 09:46:26.601\u001b[0m | \u001b[32m\u001b[1mSUCCESS \u001b[0m | \u001b[36msrc.feature_pipeline.data_extraction\u001b[0m:\u001b[36mcheck_for_file_and_download\u001b[0m:\u001b[36m112\u001b[0m - \u001b[32m\u001b[1mThe file 202403-divvy-tripdata.zip is already in local storage\u001b[0m\n",
      "\u001b[32m2024-07-25 09:46:28.367\u001b[0m | \u001b[32m\u001b[1mSUCCESS \u001b[0m | \u001b[36msrc.feature_pipeline.data_extraction\u001b[0m:\u001b[36mcheck_for_file_and_download\u001b[0m:\u001b[36m112\u001b[0m - \u001b[32m\u001b[1mThe file 202404-divvy-tripdata.zip is already in local storage\u001b[0m\n",
      "\u001b[32m2024-07-25 09:46:30.633\u001b[0m | \u001b[32m\u001b[1mSUCCESS \u001b[0m | \u001b[36msrc.feature_pipeline.data_extraction\u001b[0m:\u001b[36mcheck_for_file_and_download\u001b[0m:\u001b[36m112\u001b[0m - \u001b[32m\u001b[1mThe file 202405-divvy-tripdata.zip is already in local storage\u001b[0m\n",
      "\u001b[32m2024-07-25 09:46:34.034\u001b[0m | \u001b[32m\u001b[1mSUCCESS \u001b[0m | \u001b[36msrc.feature_pipeline.data_extraction\u001b[0m:\u001b[36mcheck_for_file_and_download\u001b[0m:\u001b[36m112\u001b[0m - \u001b[32m\u001b[1mThe file 202406-divvy-tripdata.zip is already in local storage\u001b[0m\n",
      "\u001b[32m2024-07-25 09:46:38.208\u001b[0m | \u001b[1mINFO    \u001b[0m | \u001b[36msrc.feature_pipeline.data_extraction\u001b[0m:\u001b[36mcheck_for_file_and_download\u001b[0m:\u001b[36m107\u001b[0m - \u001b[1mDownloading and extracting 202407-divvy-tripdata.zip\u001b[0m\n",
      "\u001b[32m2024-07-25 09:46:38.215\u001b[0m | \u001b[31m\u001b[1mERROR   \u001b[0m | \u001b[36msrc.feature_pipeline.data_extraction\u001b[0m:\u001b[36mcheck_for_file_and_download\u001b[0m:\u001b[36m110\u001b[0m - \u001b[31m\u001b[1mHTTPSConnectionPool(host='divvy-tripdata.s3.amazonaws.com', port=443): Max retries exceeded with url: /202407-divvy-tripdata.zip (Caused by NewConnectionError('<urllib3.connection.HTTPSConnection object at 0x7bd53459ee10>: Failed to establish a new connection: [Errno -3] Temporary failure in name resolution'))\u001b[0m\n",
      "\u001b[32m2024-07-25 09:46:38.217\u001b[0m | \u001b[31m\u001b[1mERROR   \u001b[0m | \u001b[36msrc.feature_pipeline.data_extraction\u001b[0m:\u001b[36mload_raw_data\u001b[0m:\u001b[36m154\u001b[0m - \u001b[31m\u001b[1m[Errno 2] No such file or directory: '/home/kobina/ML/Projects/Divvy-Bikes-Demand-Predictor/data/raw/202407-divvy-tripdata/202407-divvy-tripdata.csv'\u001b[0m\n"
     ]
    }
   ],
   "source": [
    "processor = DataProcessor(year=2024)\n",
    "data = processor.data "
   ]
  },
  {
   "cell_type": "code",
   "execution_count": 5,
   "metadata": {},
   "outputs": [
    {
     "data": {
      "text/html": [
       "<div>\n",
       "<style scoped>\n",
       "    .dataframe tbody tr th:only-of-type {\n",
       "        vertical-align: middle;\n",
       "    }\n",
       "\n",
       "    .dataframe tbody tr th {\n",
       "        vertical-align: top;\n",
       "    }\n",
       "\n",
       "    .dataframe thead th {\n",
       "        text-align: right;\n",
       "    }\n",
       "</style>\n",
       "<table border=\"1\" class=\"dataframe\">\n",
       "  <thead>\n",
       "    <tr style=\"text-align: right;\">\n",
       "      <th></th>\n",
       "      <th>ride_id</th>\n",
       "      <th>rideable_type</th>\n",
       "      <th>started_at</th>\n",
       "      <th>ended_at</th>\n",
       "      <th>start_station_name</th>\n",
       "      <th>start_station_id</th>\n",
       "      <th>end_station_name</th>\n",
       "      <th>end_station_id</th>\n",
       "      <th>start_lat</th>\n",
       "      <th>start_lng</th>\n",
       "      <th>end_lat</th>\n",
       "      <th>end_lng</th>\n",
       "      <th>member_casual</th>\n",
       "    </tr>\n",
       "  </thead>\n",
       "  <tbody>\n",
       "    <tr>\n",
       "      <th>0</th>\n",
       "      <td>C1D650626C8C899A</td>\n",
       "      <td>electric_bike</td>\n",
       "      <td>2024-01-12 15:30:27</td>\n",
       "      <td>2024-01-12 15:37:59</td>\n",
       "      <td>Wells St &amp; Elm St</td>\n",
       "      <td>KA1504000135</td>\n",
       "      <td>Kingsbury St &amp; Kinzie St</td>\n",
       "      <td>KA1503000043</td>\n",
       "      <td>41.903267</td>\n",
       "      <td>-87.634737</td>\n",
       "      <td>41.889177</td>\n",
       "      <td>-87.638506</td>\n",
       "      <td>member</td>\n",
       "    </tr>\n",
       "    <tr>\n",
       "      <th>1</th>\n",
       "      <td>EECD38BDB25BFCB0</td>\n",
       "      <td>electric_bike</td>\n",
       "      <td>2024-01-08 15:45:46</td>\n",
       "      <td>2024-01-08 15:52:59</td>\n",
       "      <td>Wells St &amp; Elm St</td>\n",
       "      <td>KA1504000135</td>\n",
       "      <td>Kingsbury St &amp; Kinzie St</td>\n",
       "      <td>KA1503000043</td>\n",
       "      <td>41.902937</td>\n",
       "      <td>-87.634440</td>\n",
       "      <td>41.889177</td>\n",
       "      <td>-87.638506</td>\n",
       "      <td>member</td>\n",
       "    </tr>\n",
       "    <tr>\n",
       "      <th>2</th>\n",
       "      <td>F4A9CE78061F17F7</td>\n",
       "      <td>electric_bike</td>\n",
       "      <td>2024-01-27 12:27:19</td>\n",
       "      <td>2024-01-27 12:35:19</td>\n",
       "      <td>Wells St &amp; Elm St</td>\n",
       "      <td>KA1504000135</td>\n",
       "      <td>Kingsbury St &amp; Kinzie St</td>\n",
       "      <td>KA1503000043</td>\n",
       "      <td>41.902951</td>\n",
       "      <td>-87.634470</td>\n",
       "      <td>41.889177</td>\n",
       "      <td>-87.638506</td>\n",
       "      <td>member</td>\n",
       "    </tr>\n",
       "  </tbody>\n",
       "</table>\n",
       "</div>"
      ],
      "text/plain": [
       "            ride_id  rideable_type           started_at             ended_at  \\\n",
       "0  C1D650626C8C899A  electric_bike  2024-01-12 15:30:27  2024-01-12 15:37:59   \n",
       "1  EECD38BDB25BFCB0  electric_bike  2024-01-08 15:45:46  2024-01-08 15:52:59   \n",
       "2  F4A9CE78061F17F7  electric_bike  2024-01-27 12:27:19  2024-01-27 12:35:19   \n",
       "\n",
       "  start_station_name start_station_id          end_station_name  \\\n",
       "0  Wells St & Elm St     KA1504000135  Kingsbury St & Kinzie St   \n",
       "1  Wells St & Elm St     KA1504000135  Kingsbury St & Kinzie St   \n",
       "2  Wells St & Elm St     KA1504000135  Kingsbury St & Kinzie St   \n",
       "\n",
       "  end_station_id  start_lat  start_lng    end_lat    end_lng member_casual  \n",
       "0   KA1503000043  41.903267 -87.634737  41.889177 -87.638506        member  \n",
       "1   KA1503000043  41.902937 -87.634440  41.889177 -87.638506        member  \n",
       "2   KA1503000043  41.902951 -87.634470  41.889177 -87.638506        member  "
      ]
     },
     "execution_count": 5,
     "metadata": {},
     "output_type": "execute_result"
    }
   ],
   "source": [
    "data.head(3)"
   ]
  },
  {
   "cell_type": "code",
   "execution_count": 7,
   "metadata": {},
   "outputs": [
    {
     "data": {
      "text/plain": [
       "ride_id                    0\n",
       "rideable_type              0\n",
       "started_at                 0\n",
       "ended_at                   0\n",
       "start_station_name    414704\n",
       "start_station_id      414704\n",
       "end_station_name      432317\n",
       "end_station_id        432317\n",
       "start_lat                  0\n",
       "start_lng                  0\n",
       "end_lat                 3389\n",
       "end_lng                 3389\n",
       "member_casual              0\n",
       "dtype: int64"
      ]
     },
     "execution_count": 7,
     "metadata": {},
     "output_type": "execute_result"
    }
   ],
   "source": [
    "data.isna().sum()"
   ]
  },
  {
   "cell_type": "code",
   "execution_count": 3,
   "metadata": {},
   "outputs": [
    {
     "data": {
      "text/html": [
       "<div>\n",
       "<style scoped>\n",
       "    .dataframe tbody tr th:only-of-type {\n",
       "        vertical-align: middle;\n",
       "    }\n",
       "\n",
       "    .dataframe tbody tr th {\n",
       "        vertical-align: top;\n",
       "    }\n",
       "\n",
       "    .dataframe thead th {\n",
       "        text-align: right;\n",
       "    }\n",
       "</style>\n",
       "<table border=\"1\" class=\"dataframe\">\n",
       "  <thead>\n",
       "    <tr style=\"text-align: right;\">\n",
       "      <th></th>\n",
       "      <th>started_at</th>\n",
       "      <th>ended_at</th>\n",
       "      <th>start_station_name</th>\n",
       "      <th>start_station_id</th>\n",
       "      <th>end_station_name</th>\n",
       "      <th>end_station_id</th>\n",
       "      <th>start_lat</th>\n",
       "      <th>start_lng</th>\n",
       "      <th>end_lat</th>\n",
       "      <th>end_lng</th>\n",
       "    </tr>\n",
       "  </thead>\n",
       "  <tbody>\n",
       "    <tr>\n",
       "      <th>0</th>\n",
       "      <td>2024-01-12 15:30:27.000</td>\n",
       "      <td>2024-01-12 15:37:59.000</td>\n",
       "      <td>Wells St &amp; Elm St</td>\n",
       "      <td>KA1504000135</td>\n",
       "      <td>Kingsbury St &amp; Kinzie St</td>\n",
       "      <td>KA1503000043</td>\n",
       "      <td>41.903267</td>\n",
       "      <td>-87.634737</td>\n",
       "      <td>41.889177</td>\n",
       "      <td>-87.638506</td>\n",
       "    </tr>\n",
       "    <tr>\n",
       "      <th>1</th>\n",
       "      <td>2024-01-08 15:45:46.000</td>\n",
       "      <td>2024-01-08 15:52:59.000</td>\n",
       "      <td>Wells St &amp; Elm St</td>\n",
       "      <td>KA1504000135</td>\n",
       "      <td>Kingsbury St &amp; Kinzie St</td>\n",
       "      <td>KA1503000043</td>\n",
       "      <td>41.902937</td>\n",
       "      <td>-87.634440</td>\n",
       "      <td>41.889177</td>\n",
       "      <td>-87.638506</td>\n",
       "    </tr>\n",
       "    <tr>\n",
       "      <th>2</th>\n",
       "      <td>2024-01-27 12:27:19.000</td>\n",
       "      <td>2024-01-27 12:35:19.000</td>\n",
       "      <td>Wells St &amp; Elm St</td>\n",
       "      <td>KA1504000135</td>\n",
       "      <td>Kingsbury St &amp; Kinzie St</td>\n",
       "      <td>KA1503000043</td>\n",
       "      <td>41.902951</td>\n",
       "      <td>-87.634470</td>\n",
       "      <td>41.889177</td>\n",
       "      <td>-87.638506</td>\n",
       "    </tr>\n",
       "    <tr>\n",
       "      <th>3</th>\n",
       "      <td>2024-01-29 16:26:17.000</td>\n",
       "      <td>2024-01-29 16:56:06.000</td>\n",
       "      <td>Wells St &amp; Randolph St</td>\n",
       "      <td>TA1305000030</td>\n",
       "      <td>Larrabee St &amp; Webster Ave</td>\n",
       "      <td>13193</td>\n",
       "      <td>41.884295</td>\n",
       "      <td>-87.633963</td>\n",
       "      <td>41.921822</td>\n",
       "      <td>-87.644140</td>\n",
       "    </tr>\n",
       "    <tr>\n",
       "      <th>4</th>\n",
       "      <td>2024-01-31 05:43:23.000</td>\n",
       "      <td>2024-01-31 06:09:35.000</td>\n",
       "      <td>Lincoln Ave &amp; Waveland Ave</td>\n",
       "      <td>13253</td>\n",
       "      <td>Kingsbury St &amp; Kinzie St</td>\n",
       "      <td>KA1503000043</td>\n",
       "      <td>41.948797</td>\n",
       "      <td>-87.675278</td>\n",
       "      <td>41.889177</td>\n",
       "      <td>-87.638506</td>\n",
       "    </tr>\n",
       "    <tr>\n",
       "      <th>...</th>\n",
       "      <td>...</td>\n",
       "      <td>...</td>\n",
       "      <td>...</td>\n",
       "      <td>...</td>\n",
       "      <td>...</td>\n",
       "      <td>...</td>\n",
       "      <td>...</td>\n",
       "      <td>...</td>\n",
       "      <td>...</td>\n",
       "      <td>...</td>\n",
       "    </tr>\n",
       "    <tr>\n",
       "      <th>716546</th>\n",
       "      <td>2024-06-12 17:47:45.743</td>\n",
       "      <td>2024-06-12 18:17:11.714</td>\n",
       "      <td>Campbell Ave &amp; North Ave</td>\n",
       "      <td>13257</td>\n",
       "      <td>None</td>\n",
       "      <td>None</td>\n",
       "      <td>41.910553</td>\n",
       "      <td>-87.689565</td>\n",
       "      <td>41.880000</td>\n",
       "      <td>-87.610000</td>\n",
       "    </tr>\n",
       "    <tr>\n",
       "      <th>716547</th>\n",
       "      <td>2024-06-25 16:28:34.427</td>\n",
       "      <td>2024-06-25 16:46:58.584</td>\n",
       "      <td>W Oakdale Ave &amp; N Broadway</td>\n",
       "      <td>20252.0</td>\n",
       "      <td>None</td>\n",
       "      <td>None</td>\n",
       "      <td>41.935598</td>\n",
       "      <td>-87.644072</td>\n",
       "      <td>41.910000</td>\n",
       "      <td>-87.670000</td>\n",
       "    </tr>\n",
       "    <tr>\n",
       "      <th>716548</th>\n",
       "      <td>2024-06-05 08:20:06.133</td>\n",
       "      <td>2024-06-05 08:37:36.306</td>\n",
       "      <td>Campbell Ave &amp; North Ave</td>\n",
       "      <td>13257</td>\n",
       "      <td>None</td>\n",
       "      <td>None</td>\n",
       "      <td>41.910549</td>\n",
       "      <td>-87.689592</td>\n",
       "      <td>41.920000</td>\n",
       "      <td>-87.650000</td>\n",
       "    </tr>\n",
       "    <tr>\n",
       "      <th>716549</th>\n",
       "      <td>2024-06-02 16:28:53.588</td>\n",
       "      <td>2024-06-02 16:39:31.972</td>\n",
       "      <td>Kedzie Ave &amp; Leland Ave</td>\n",
       "      <td>KA1504000126</td>\n",
       "      <td>Campbell Ave &amp; Montrose Ave</td>\n",
       "      <td>15623</td>\n",
       "      <td>41.966686</td>\n",
       "      <td>-87.708052</td>\n",
       "      <td>41.961524</td>\n",
       "      <td>-87.691177</td>\n",
       "    </tr>\n",
       "    <tr>\n",
       "      <th>716550</th>\n",
       "      <td>2024-06-25 20:38:21.458</td>\n",
       "      <td>2024-06-25 20:51:56.832</td>\n",
       "      <td>Campbell Ave &amp; North Ave</td>\n",
       "      <td>13257</td>\n",
       "      <td>Wood St &amp; Chicago Ave</td>\n",
       "      <td>637</td>\n",
       "      <td>41.910535</td>\n",
       "      <td>-87.689556</td>\n",
       "      <td>41.895634</td>\n",
       "      <td>-87.672069</td>\n",
       "    </tr>\n",
       "  </tbody>\n",
       "</table>\n",
       "<p>2397993 rows × 10 columns</p>\n",
       "</div>"
      ],
      "text/plain": [
       "                    started_at                ended_at  \\\n",
       "0      2024-01-12 15:30:27.000 2024-01-12 15:37:59.000   \n",
       "1      2024-01-08 15:45:46.000 2024-01-08 15:52:59.000   \n",
       "2      2024-01-27 12:27:19.000 2024-01-27 12:35:19.000   \n",
       "3      2024-01-29 16:26:17.000 2024-01-29 16:56:06.000   \n",
       "4      2024-01-31 05:43:23.000 2024-01-31 06:09:35.000   \n",
       "...                        ...                     ...   \n",
       "716546 2024-06-12 17:47:45.743 2024-06-12 18:17:11.714   \n",
       "716547 2024-06-25 16:28:34.427 2024-06-25 16:46:58.584   \n",
       "716548 2024-06-05 08:20:06.133 2024-06-05 08:37:36.306   \n",
       "716549 2024-06-02 16:28:53.588 2024-06-02 16:39:31.972   \n",
       "716550 2024-06-25 20:38:21.458 2024-06-25 20:51:56.832   \n",
       "\n",
       "                start_station_name start_station_id  \\\n",
       "0                Wells St & Elm St     KA1504000135   \n",
       "1                Wells St & Elm St     KA1504000135   \n",
       "2                Wells St & Elm St     KA1504000135   \n",
       "3           Wells St & Randolph St     TA1305000030   \n",
       "4       Lincoln Ave & Waveland Ave            13253   \n",
       "...                            ...              ...   \n",
       "716546    Campbell Ave & North Ave            13257   \n",
       "716547  W Oakdale Ave & N Broadway          20252.0   \n",
       "716548    Campbell Ave & North Ave            13257   \n",
       "716549     Kedzie Ave & Leland Ave     KA1504000126   \n",
       "716550    Campbell Ave & North Ave            13257   \n",
       "\n",
       "                   end_station_name end_station_id  start_lat  start_lng  \\\n",
       "0          Kingsbury St & Kinzie St   KA1503000043  41.903267 -87.634737   \n",
       "1          Kingsbury St & Kinzie St   KA1503000043  41.902937 -87.634440   \n",
       "2          Kingsbury St & Kinzie St   KA1503000043  41.902951 -87.634470   \n",
       "3         Larrabee St & Webster Ave          13193  41.884295 -87.633963   \n",
       "4          Kingsbury St & Kinzie St   KA1503000043  41.948797 -87.675278   \n",
       "...                             ...            ...        ...        ...   \n",
       "716546                         None           None  41.910553 -87.689565   \n",
       "716547                         None           None  41.935598 -87.644072   \n",
       "716548                         None           None  41.910549 -87.689592   \n",
       "716549  Campbell Ave & Montrose Ave          15623  41.966686 -87.708052   \n",
       "716550        Wood St & Chicago Ave            637  41.910535 -87.689556   \n",
       "\n",
       "          end_lat    end_lng  \n",
       "0       41.889177 -87.638506  \n",
       "1       41.889177 -87.638506  \n",
       "2       41.889177 -87.638506  \n",
       "3       41.921822 -87.644140  \n",
       "4       41.889177 -87.638506  \n",
       "...           ...        ...  \n",
       "716546  41.880000 -87.610000  \n",
       "716547  41.910000 -87.670000  \n",
       "716548  41.920000 -87.650000  \n",
       "716549  41.961524 -87.691177  \n",
       "716550  41.895634 -87.672069  \n",
       "\n",
       "[2397993 rows x 10 columns]"
      ]
     },
     "execution_count": 3,
     "metadata": {},
     "output_type": "execute_result"
    }
   ],
   "source": [
    "alp = pd.read_parquet(\"/home/kobina/ML/Projects/Divvy-Bikes-Demand-Predictor/data/cleaned/first_clean/cleaned_data_indexer_two.parquet\")\n",
    "alp"
   ]
  },
  {
   "cell_type": "code",
   "execution_count": 1,
   "metadata": {},
   "outputs": [],
   "source": [
    "import pandas as pd \n",
    "not_fully_clean = pd.read_parquet(\"/home/kobina/ML/Projects/Divvy-Bikes-Demand-Predictor/data/cleaned/first_clean/cleaned_data_indexer_two.parquet\")"
   ]
  },
  {
   "cell_type": "code",
   "execution_count": 2,
   "metadata": {},
   "outputs": [
    {
     "data": {
      "text/plain": [
       "started_at                 0\n",
       "ended_at                   0\n",
       "start_station_name    413918\n",
       "start_station_id      413918\n",
       "end_station_name      428290\n",
       "end_station_id        428290\n",
       "start_lat                  0\n",
       "start_lng                  0\n",
       "end_lat                    0\n",
       "end_lng                    0\n",
       "dtype: int64"
      ]
     },
     "execution_count": 2,
     "metadata": {},
     "output_type": "execute_result"
    }
   ],
   "source": [
    "not_fully_clean.isna().sum()"
   ]
  },
  {
   "cell_type": "code",
   "execution_count": null,
   "metadata": {},
   "outputs": [],
   "source": []
  },
  {
   "cell_type": "markdown",
   "metadata": {},
   "source": [
    "# IDs being treated as strings"
   ]
  },
  {
   "cell_type": "code",
   "execution_count": 4,
   "metadata": {},
   "outputs": [],
   "source": [
    "def find_ids_treated_as_strings(scenario: str):\n",
    "    non_str_counter = 0\n",
    "    rows = range(data.shape[0])\n",
    "    column_index = data.columns.get_loc(f\"{scenario}_station_id\")\n",
    "\n",
    "    counter = 0\n",
    "    for row in tqdm(rows):\n",
    "        if isinstance(data.iloc[row, column_index], str) and not pd.isnull(data.iloc[row, column_index]):\n",
    "            counter += 1\n",
    "\n",
    "    print(f\"{counter / len(rows) * 100} % of the end station IDs are being treated as strings\")"
   ]
  },
  {
   "cell_type": "markdown",
   "metadata": {},
   "source": [
    "### All Station IDs came as strings"
   ]
  },
  {
   "cell_type": "code",
   "execution_count": 6,
   "metadata": {},
   "outputs": [
    {
     "name": "stderr",
     "output_type": "stream",
     "text": [
      "100%|██████████| 2404963/2404963 [03:27<00:00, 11593.13it/s]"
     ]
    },
    {
     "name": "stdout",
     "output_type": "stream",
     "text": [
      "82.75632514928503 % of the end station IDs are being treated as strings\n"
     ]
    },
    {
     "name": "stderr",
     "output_type": "stream",
     "text": [
      "\n"
     ]
    }
   ],
   "source": [
    "find_ids_treated_as_strings(column_name=\"start_station_id\")"
   ]
  },
  {
   "cell_type": "code",
   "execution_count": 8,
   "metadata": {},
   "outputs": [
    {
     "name": "stderr",
     "output_type": "stream",
     "text": [
      "100%|██████████| 2404963/2404963 [02:36<00:00, 15328.01it/s]"
     ]
    },
    {
     "name": "stdout",
     "output_type": "stream",
     "text": [
      "82.02396460985054 % of the end station IDs are being treated as strings\n"
     ]
    },
    {
     "name": "stderr",
     "output_type": "stream",
     "text": [
      "\n"
     ]
    }
   ],
   "source": [
    "find_ids_treated_as_strings(column_name=\"end_station_id\")"
   ]
  },
  {
   "cell_type": "markdown",
   "metadata": {},
   "source": [
    "# Missing values"
   ]
  },
  {
   "cell_type": "code",
   "execution_count": 19,
   "metadata": {},
   "outputs": [
    {
     "data": {
      "text/plain": [
       "ride_id                    0\n",
       "rideable_type              0\n",
       "started_at                 0\n",
       "ended_at                   0\n",
       "start_station_name    414704\n",
       "start_station_id      414704\n",
       "end_station_name      432317\n",
       "end_station_id        432317\n",
       "start_lat                  0\n",
       "start_lng                  0\n",
       "end_lat                 3389\n",
       "end_lng                 3389\n",
       "member_casual              0\n",
       "dtype: int64"
      ]
     },
     "execution_count": 19,
     "metadata": {},
     "output_type": "execute_result"
    }
   ],
   "source": [
    "data.isna().sum()"
   ]
  },
  {
   "cell_type": "code",
   "execution_count": 9,
   "metadata": {},
   "outputs": [
    {
     "name": "stdout",
     "output_type": "stream",
     "text": [
      "17.24367485071496% of the start station IDs are missing\n"
     ]
    }
   ],
   "source": [
    "print(f\"{data[\"start_station_id\"].isna().sum() / data.shape[0] * 100}% of the start station IDs are missing\") "
   ]
  },
  {
   "cell_type": "code",
   "execution_count": 10,
   "metadata": {},
   "outputs": [
    {
     "name": "stdout",
     "output_type": "stream",
     "text": [
      "17.976035390149452% of the end station IDs are missing\n"
     ]
    }
   ],
   "source": [
    "print(f\"{data[\"end_station_id\"].isna().sum() / data.shape[0] * 100}% of the end station IDs are missing\") "
   ]
  },
  {
   "cell_type": "markdown",
   "metadata": {},
   "source": [
    "# Long IDS"
   ]
  },
  {
   "cell_type": "code",
   "execution_count": 17,
   "metadata": {},
   "outputs": [],
   "source": [
    "def print_long_ids(column_name: str):\n",
    "    rows = range(data.shape[0])\n",
    "    column_index = data.columns.get_loc(column_name)\n",
    "    \n",
    "    counter = 0\n",
    "    for row in tqdm(rows):\n",
    "        if len(str(data.iloc[row, column_index])) > 7 and not pd.isnull(data.iloc[row, column_index]):\n",
    "            counter += 1\n",
    "\n",
    "    print(f\"There are {len(data[column_name].unique())} unique IDs\")\n",
    "    print(f\"{counter / len(rows) * 100} % of the end station IDs are long strings\")"
   ]
  },
  {
   "cell_type": "code",
   "execution_count": 18,
   "metadata": {},
   "outputs": [
    {
     "name": "stderr",
     "output_type": "stream",
     "text": [
      "100%|██████████| 2404963/2404963 [02:45<00:00, 14539.76it/s]\n"
     ]
    },
    {
     "name": "stdout",
     "output_type": "stream",
     "text": [
      "There are 1529 unique IDs\n",
      "40.76940061032124 % of the end station IDs are long strings\n"
     ]
    }
   ],
   "source": [
    "print_long_ids(column_name=\"start_station_id\")"
   ]
  },
  {
   "cell_type": "code",
   "execution_count": null,
   "metadata": {},
   "outputs": [
    {
     "name": "stderr",
     "output_type": "stream",
     "text": [
      "100%|██████████| 2404963/2404963 [02:36<00:00, 15380.43it/s]\n"
     ]
    },
    {
     "name": "stdout",
     "output_type": "stream",
     "text": [
      "There are 1544 unique IDs\n",
      "There are 974914 long strings\n"
     ]
    }
   ],
   "source": [
    "print_long_ids(column_name=\"end_station_id\")"
   ]
  }
 ],
 "metadata": {
  "kernelspec": {
   "display_name": "src-sOhH62IC-py3.12",
   "language": "python",
   "name": "python3"
  },
  "language_info": {
   "codemirror_mode": {
    "name": "ipython",
    "version": 3
   },
   "file_extension": ".py",
   "mimetype": "text/x-python",
   "name": "python",
   "nbconvert_exporter": "python",
   "pygments_lexer": "ipython3",
   "version": "3.11.2"
  }
 },
 "nbformat": 4,
 "nbformat_minor": 2
}
