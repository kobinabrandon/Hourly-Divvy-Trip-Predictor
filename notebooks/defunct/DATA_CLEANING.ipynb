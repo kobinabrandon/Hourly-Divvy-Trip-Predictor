{
 "cells": [
  {
   "cell_type": "markdown",
   "metadata": {},
   "source": [
    "# Data Cleaning"
   ]
  },
  {
   "cell_type": "code",
   "execution_count": 1,
   "metadata": {
    "ExecuteTime": {
     "end_time": "2023-12-29T14:09:13.599896664Z",
     "start_time": "2023-12-29T14:09:13.191738865Z"
    },
    "collapsed": false
   },
   "outputs": [],
   "source": [
    "import pandas as pd\n",
    "from src.paths import ALTERED_DATA_TYPES, TEMPORARY_DATA, CLEANED_DATA"
   ]
  },
  {
   "cell_type": "code",
   "execution_count": 2,
   "metadata": {
    "ExecuteTime": {
     "end_time": "2023-12-29T14:09:18.216936435Z",
     "start_time": "2023-12-29T14:09:13.599463881Z"
    }
   },
   "outputs": [],
   "source": [
    "trips_2023 = pd.read_parquet(ALTERED_DATA_TYPES/\"2020 - 2023/trips_2023.parquet\")"
   ]
  },
  {
   "cell_type": "code",
   "execution_count": 3,
   "metadata": {
    "ExecuteTime": {
     "end_time": "2023-12-29T14:09:19.280867460Z",
     "start_time": "2023-12-29T14:09:19.212235584Z"
    },
    "collapsed": false
   },
   "outputs": [
    {
     "data": {
      "text/plain": [
       "ride_id                    0\n",
       "rideable_type              0\n",
       "started_at                 0\n",
       "ended_at                   0\n",
       "start_station_name    875716\n",
       "start_station_id      875848\n",
       "end_station_name      929202\n",
       "end_station_id        929343\n",
       "start_lat                  0\n",
       "start_lng                  0\n",
       "end_lat                 6990\n",
       "end_lng                 6990\n",
       "member_casual              0\n",
       "dtype: int64"
      ]
     },
     "execution_count": 3,
     "metadata": {},
     "output_type": "execute_result"
    }
   ],
   "source": [
    "trips_2023.isna().sum()"
   ]
  },
  {
   "cell_type": "markdown",
   "metadata": {
    "collapsed": false
   },
   "source": [
    "### Removing some unnecessary features, and renaming others"
   ]
  },
  {
   "cell_type": "code",
   "execution_count": 4,
   "metadata": {
    "ExecuteTime": {
     "end_time": "2023-12-29T14:09:19.680658455Z",
     "start_time": "2023-12-29T14:09:19.425494672Z"
    },
    "collapsed": false
   },
   "outputs": [],
   "source": [
    "trips_2023.drop(\n",
    "    columns = [\n",
    "        \"ride_id\", \"rideable_type\", \"member_casual\", \"start_station_id\", \"end_station_id\"\n",
    "    ], inplace = True)\n",
    "\n",
    "trips_2023.rename(\n",
    "        columns = {\n",
    "            \"started_at\": \"start_time\", \n",
    "            \"ended_at\" : \"stop_time\",\n",
    "            \"start_station_name\" : \"from_station_name\",\n",
    "            \"end_station_name\" : \"to_station_name\", \n",
    "            \"start_lat\" : \"start_latitude\",\n",
    "            \"start_lng\" : \"start_longitude\",\n",
    "            \"end_lat\" : \"stop_latitude\",\n",
    "            \"end_lng\" : \"stop_longitude\",\n",
    "            },\n",
    "        inplace = True\n",
    "    )"
   ]
  },
  {
   "cell_type": "markdown",
   "metadata": {
    "collapsed": false
   },
   "source": [
    "#### Checking out the missing values"
   ]
  },
  {
   "cell_type": "code",
   "execution_count": 5,
   "metadata": {
    "ExecuteTime": {
     "end_time": "2023-12-29T14:09:20.260427724Z",
     "start_time": "2023-12-29T14:09:20.209140540Z"
    },
    "collapsed": false
   },
   "outputs": [
    {
     "data": {
      "text/plain": [
       "start_time                0\n",
       "stop_time                 0\n",
       "from_station_name    875716\n",
       "to_station_name      929202\n",
       "start_latitude            0\n",
       "start_longitude           0\n",
       "stop_latitude          6990\n",
       "stop_longitude         6990\n",
       "dtype: int64"
      ]
     },
     "execution_count": 5,
     "metadata": {},
     "output_type": "execute_result"
    }
   ],
   "source": [
    "trips_2023.isna().sum()"
   ]
  },
  {
   "cell_type": "markdown",
   "metadata": {},
   "source": [
    "###### For each year, there are a couple of thousand trips for which the destination's coordinates and names are unknown."
   ]
  },
  {
   "cell_type": "code",
   "execution_count": 6,
   "metadata": {
    "ExecuteTime": {
     "end_time": "2023-12-29T14:09:20.294213604Z",
     "start_time": "2023-12-29T14:09:20.260206346Z"
    },
    "collapsed": false
   },
   "outputs": [
    {
     "data": {
      "text/html": [
       "<div>\n",
       "<style scoped>\n",
       "    .dataframe tbody tr th:only-of-type {\n",
       "        vertical-align: middle;\n",
       "    }\n",
       "\n",
       "    .dataframe tbody tr th {\n",
       "        vertical-align: top;\n",
       "    }\n",
       "\n",
       "    .dataframe thead th {\n",
       "        text-align: right;\n",
       "    }\n",
       "</style>\n",
       "<table border=\"1\" class=\"dataframe\">\n",
       "  <thead>\n",
       "    <tr style=\"text-align: right;\">\n",
       "      <th></th>\n",
       "      <th>start_time</th>\n",
       "      <th>stop_time</th>\n",
       "      <th>from_station_name</th>\n",
       "      <th>to_station_name</th>\n",
       "      <th>start_latitude</th>\n",
       "      <th>start_longitude</th>\n",
       "      <th>stop_latitude</th>\n",
       "      <th>stop_longitude</th>\n",
       "    </tr>\n",
       "  </thead>\n",
       "  <tbody>\n",
       "    <tr>\n",
       "      <th>69506</th>\n",
       "      <td>2023-01-01 04:45:39</td>\n",
       "      <td>2023-01-02 05:45:28</td>\n",
       "      <td>State St &amp; Van Buren St</td>\n",
       "      <td>NaN</td>\n",
       "      <td>41.877181</td>\n",
       "      <td>-87.627844</td>\n",
       "      <td>NaN</td>\n",
       "      <td>NaN</td>\n",
       "    </tr>\n",
       "    <tr>\n",
       "      <th>69523</th>\n",
       "      <td>2023-01-09 14:20:41</td>\n",
       "      <td>2023-01-15 04:19:09</td>\n",
       "      <td>Indiana Ave &amp; Roosevelt Rd</td>\n",
       "      <td>NaN</td>\n",
       "      <td>41.867888</td>\n",
       "      <td>-87.623041</td>\n",
       "      <td>NaN</td>\n",
       "      <td>NaN</td>\n",
       "    </tr>\n",
       "    <tr>\n",
       "      <th>69531</th>\n",
       "      <td>2023-01-30 13:24:22</td>\n",
       "      <td>2023-01-31 14:24:09</td>\n",
       "      <td>State St &amp; 19th St</td>\n",
       "      <td>NaN</td>\n",
       "      <td>41.856594</td>\n",
       "      <td>-87.627542</td>\n",
       "      <td>NaN</td>\n",
       "      <td>NaN</td>\n",
       "    </tr>\n",
       "    <tr>\n",
       "      <th>69952</th>\n",
       "      <td>2023-01-31 09:21:10</td>\n",
       "      <td>2023-02-01 10:21:02</td>\n",
       "      <td>Halsted St &amp; Maxwell St</td>\n",
       "      <td>NaN</td>\n",
       "      <td>41.864883</td>\n",
       "      <td>-87.647071</td>\n",
       "      <td>NaN</td>\n",
       "      <td>NaN</td>\n",
       "    </tr>\n",
       "    <tr>\n",
       "      <th>70167</th>\n",
       "      <td>2023-01-07 12:52:32</td>\n",
       "      <td>2023-01-08 06:47:21</td>\n",
       "      <td>New St &amp; Illinois St</td>\n",
       "      <td>NaN</td>\n",
       "      <td>41.890847</td>\n",
       "      <td>-87.618617</td>\n",
       "      <td>NaN</td>\n",
       "      <td>NaN</td>\n",
       "    </tr>\n",
       "    <tr>\n",
       "      <th>...</th>\n",
       "      <td>...</td>\n",
       "      <td>...</td>\n",
       "      <td>...</td>\n",
       "      <td>...</td>\n",
       "      <td>...</td>\n",
       "      <td>...</td>\n",
       "      <td>...</td>\n",
       "      <td>...</td>\n",
       "    </tr>\n",
       "    <tr>\n",
       "      <th>210132</th>\n",
       "      <td>2023-12-08 13:16:13</td>\n",
       "      <td>2023-12-09 14:15:52</td>\n",
       "      <td>900 W Harrison St</td>\n",
       "      <td>NaN</td>\n",
       "      <td>41.874754</td>\n",
       "      <td>-87.649807</td>\n",
       "      <td>NaN</td>\n",
       "      <td>NaN</td>\n",
       "    </tr>\n",
       "    <tr>\n",
       "      <th>210171</th>\n",
       "      <td>2023-12-21 21:13:52</td>\n",
       "      <td>2023-12-22 22:13:48</td>\n",
       "      <td>Damen Ave &amp; Madison St</td>\n",
       "      <td>NaN</td>\n",
       "      <td>41.881370</td>\n",
       "      <td>-87.674930</td>\n",
       "      <td>NaN</td>\n",
       "      <td>NaN</td>\n",
       "    </tr>\n",
       "    <tr>\n",
       "      <th>210172</th>\n",
       "      <td>2023-12-21 21:14:03</td>\n",
       "      <td>2023-12-22 22:13:59</td>\n",
       "      <td>Damen Ave &amp; Madison St</td>\n",
       "      <td>NaN</td>\n",
       "      <td>41.881370</td>\n",
       "      <td>-87.674930</td>\n",
       "      <td>NaN</td>\n",
       "      <td>NaN</td>\n",
       "    </tr>\n",
       "    <tr>\n",
       "      <th>210173</th>\n",
       "      <td>2023-12-21 21:13:48</td>\n",
       "      <td>2023-12-22 22:13:40</td>\n",
       "      <td>Damen Ave &amp; Madison St</td>\n",
       "      <td>NaN</td>\n",
       "      <td>41.881370</td>\n",
       "      <td>-87.674930</td>\n",
       "      <td>NaN</td>\n",
       "      <td>NaN</td>\n",
       "    </tr>\n",
       "    <tr>\n",
       "      <th>210181</th>\n",
       "      <td>2023-12-04 12:41:15</td>\n",
       "      <td>2023-12-05 13:41:06</td>\n",
       "      <td>Mies van der Rohe Way &amp; Chicago Ave</td>\n",
       "      <td>NaN</td>\n",
       "      <td>41.896945</td>\n",
       "      <td>-87.621758</td>\n",
       "      <td>NaN</td>\n",
       "      <td>NaN</td>\n",
       "    </tr>\n",
       "  </tbody>\n",
       "</table>\n",
       "<p>6990 rows × 8 columns</p>\n",
       "</div>"
      ],
      "text/plain": [
       "                start_time           stop_time  \\\n",
       "69506  2023-01-01 04:45:39 2023-01-02 05:45:28   \n",
       "69523  2023-01-09 14:20:41 2023-01-15 04:19:09   \n",
       "69531  2023-01-30 13:24:22 2023-01-31 14:24:09   \n",
       "69952  2023-01-31 09:21:10 2023-02-01 10:21:02   \n",
       "70167  2023-01-07 12:52:32 2023-01-08 06:47:21   \n",
       "...                    ...                 ...   \n",
       "210132 2023-12-08 13:16:13 2023-12-09 14:15:52   \n",
       "210171 2023-12-21 21:13:52 2023-12-22 22:13:48   \n",
       "210172 2023-12-21 21:14:03 2023-12-22 22:13:59   \n",
       "210173 2023-12-21 21:13:48 2023-12-22 22:13:40   \n",
       "210181 2023-12-04 12:41:15 2023-12-05 13:41:06   \n",
       "\n",
       "                          from_station_name to_station_name  start_latitude  \\\n",
       "69506               State St & Van Buren St             NaN       41.877181   \n",
       "69523            Indiana Ave & Roosevelt Rd             NaN       41.867888   \n",
       "69531                    State St & 19th St             NaN       41.856594   \n",
       "69952               Halsted St & Maxwell St             NaN       41.864883   \n",
       "70167                  New St & Illinois St             NaN       41.890847   \n",
       "...                                     ...             ...             ...   \n",
       "210132                    900 W Harrison St             NaN       41.874754   \n",
       "210171               Damen Ave & Madison St             NaN       41.881370   \n",
       "210172               Damen Ave & Madison St             NaN       41.881370   \n",
       "210173               Damen Ave & Madison St             NaN       41.881370   \n",
       "210181  Mies van der Rohe Way & Chicago Ave             NaN       41.896945   \n",
       "\n",
       "        start_longitude  stop_latitude  stop_longitude  \n",
       "69506        -87.627844            NaN             NaN  \n",
       "69523        -87.623041            NaN             NaN  \n",
       "69531        -87.627542            NaN             NaN  \n",
       "69952        -87.647071            NaN             NaN  \n",
       "70167        -87.618617            NaN             NaN  \n",
       "...                 ...            ...             ...  \n",
       "210132       -87.649807            NaN             NaN  \n",
       "210171       -87.674930            NaN             NaN  \n",
       "210172       -87.674930            NaN             NaN  \n",
       "210173       -87.674930            NaN             NaN  \n",
       "210181       -87.621758            NaN             NaN  \n",
       "\n",
       "[6990 rows x 8 columns]"
      ]
     },
     "execution_count": 6,
     "metadata": {},
     "output_type": "execute_result"
    }
   ],
   "source": [
    "trips_2023[\n",
    "    pd.isnull(trips_2023[\"stop_latitude\"])\n",
    "]"
   ]
  },
  {
   "cell_type": "code",
   "execution_count": 7,
   "metadata": {
    "ExecuteTime": {
     "end_time": "2023-12-29T14:09:20.576453925Z",
     "start_time": "2023-12-29T14:09:20.442612120Z"
    }
   },
   "outputs": [],
   "source": [
    "trips_2023.drop(\n",
    "        columns = [\"from_station_name\", \"to_station_name\"],\n",
    "        inplace = True\n",
    "    )"
   ]
  },
  {
   "cell_type": "code",
   "execution_count": 8,
   "metadata": {
    "ExecuteTime": {
     "end_time": "2023-12-29T14:09:21.353005816Z",
     "start_time": "2023-12-29T14:09:21.094947341Z"
    },
    "collapsed": false
   },
   "outputs": [
    {
     "data": {
      "text/html": [
       "<div>\n",
       "<style scoped>\n",
       "    .dataframe tbody tr th:only-of-type {\n",
       "        vertical-align: middle;\n",
       "    }\n",
       "\n",
       "    .dataframe tbody tr th {\n",
       "        vertical-align: top;\n",
       "    }\n",
       "\n",
       "    .dataframe thead th {\n",
       "        text-align: right;\n",
       "    }\n",
       "</style>\n",
       "<table border=\"1\" class=\"dataframe\">\n",
       "  <thead>\n",
       "    <tr style=\"text-align: right;\">\n",
       "      <th></th>\n",
       "      <th>start_time</th>\n",
       "      <th>stop_time</th>\n",
       "      <th>start_latitude</th>\n",
       "      <th>start_longitude</th>\n",
       "      <th>stop_latitude</th>\n",
       "      <th>stop_longitude</th>\n",
       "    </tr>\n",
       "  </thead>\n",
       "  <tbody>\n",
       "    <tr>\n",
       "      <th>0</th>\n",
       "      <td>2023-01-21 20:05:42</td>\n",
       "      <td>2023-01-21 20:16:33</td>\n",
       "      <td>41.924074</td>\n",
       "      <td>-87.646278</td>\n",
       "      <td>41.930000</td>\n",
       "      <td>-87.640000</td>\n",
       "    </tr>\n",
       "    <tr>\n",
       "      <th>1</th>\n",
       "      <td>2023-01-10 15:37:36</td>\n",
       "      <td>2023-01-10 15:46:05</td>\n",
       "      <td>41.799568</td>\n",
       "      <td>-87.594747</td>\n",
       "      <td>41.809835</td>\n",
       "      <td>-87.599383</td>\n",
       "    </tr>\n",
       "    <tr>\n",
       "      <th>2</th>\n",
       "      <td>2023-01-02 07:51:57</td>\n",
       "      <td>2023-01-02 08:05:11</td>\n",
       "      <td>42.008571</td>\n",
       "      <td>-87.690483</td>\n",
       "      <td>42.039742</td>\n",
       "      <td>-87.699413</td>\n",
       "    </tr>\n",
       "    <tr>\n",
       "      <th>3</th>\n",
       "      <td>2023-01-22 10:52:58</td>\n",
       "      <td>2023-01-22 11:01:44</td>\n",
       "      <td>41.799568</td>\n",
       "      <td>-87.594747</td>\n",
       "      <td>41.809835</td>\n",
       "      <td>-87.599383</td>\n",
       "    </tr>\n",
       "    <tr>\n",
       "      <th>4</th>\n",
       "      <td>2023-01-12 13:58:01</td>\n",
       "      <td>2023-01-12 14:13:20</td>\n",
       "      <td>41.799568</td>\n",
       "      <td>-87.594747</td>\n",
       "      <td>41.809835</td>\n",
       "      <td>-87.599383</td>\n",
       "    </tr>\n",
       "    <tr>\n",
       "      <th>...</th>\n",
       "      <td>...</td>\n",
       "      <td>...</td>\n",
       "      <td>...</td>\n",
       "      <td>...</td>\n",
       "      <td>...</td>\n",
       "      <td>...</td>\n",
       "    </tr>\n",
       "    <tr>\n",
       "      <th>224068</th>\n",
       "      <td>2023-12-07 13:15:24</td>\n",
       "      <td>2023-12-07 13:17:37</td>\n",
       "      <td>41.874702</td>\n",
       "      <td>-87.649804</td>\n",
       "      <td>41.874640</td>\n",
       "      <td>-87.657030</td>\n",
       "    </tr>\n",
       "    <tr>\n",
       "      <th>224069</th>\n",
       "      <td>2023-12-08 18:42:21</td>\n",
       "      <td>2023-12-08 18:45:56</td>\n",
       "      <td>41.874754</td>\n",
       "      <td>-87.649807</td>\n",
       "      <td>41.874640</td>\n",
       "      <td>-87.657030</td>\n",
       "    </tr>\n",
       "    <tr>\n",
       "      <th>224070</th>\n",
       "      <td>2023-12-05 14:09:11</td>\n",
       "      <td>2023-12-05 14:13:01</td>\n",
       "      <td>41.874754</td>\n",
       "      <td>-87.649807</td>\n",
       "      <td>41.874640</td>\n",
       "      <td>-87.657030</td>\n",
       "    </tr>\n",
       "    <tr>\n",
       "      <th>224071</th>\n",
       "      <td>2023-12-02 21:36:07</td>\n",
       "      <td>2023-12-02 21:53:45</td>\n",
       "      <td>41.881396</td>\n",
       "      <td>-87.674984</td>\n",
       "      <td>41.885492</td>\n",
       "      <td>-87.652289</td>\n",
       "    </tr>\n",
       "    <tr>\n",
       "      <th>224072</th>\n",
       "      <td>2023-12-11 13:07:46</td>\n",
       "      <td>2023-12-11 13:11:24</td>\n",
       "      <td>41.874754</td>\n",
       "      <td>-87.649807</td>\n",
       "      <td>41.874640</td>\n",
       "      <td>-87.657030</td>\n",
       "    </tr>\n",
       "  </tbody>\n",
       "</table>\n",
       "<p>5712887 rows × 6 columns</p>\n",
       "</div>"
      ],
      "text/plain": [
       "                start_time           stop_time  start_latitude  \\\n",
       "0      2023-01-21 20:05:42 2023-01-21 20:16:33       41.924074   \n",
       "1      2023-01-10 15:37:36 2023-01-10 15:46:05       41.799568   \n",
       "2      2023-01-02 07:51:57 2023-01-02 08:05:11       42.008571   \n",
       "3      2023-01-22 10:52:58 2023-01-22 11:01:44       41.799568   \n",
       "4      2023-01-12 13:58:01 2023-01-12 14:13:20       41.799568   \n",
       "...                    ...                 ...             ...   \n",
       "224068 2023-12-07 13:15:24 2023-12-07 13:17:37       41.874702   \n",
       "224069 2023-12-08 18:42:21 2023-12-08 18:45:56       41.874754   \n",
       "224070 2023-12-05 14:09:11 2023-12-05 14:13:01       41.874754   \n",
       "224071 2023-12-02 21:36:07 2023-12-02 21:53:45       41.881396   \n",
       "224072 2023-12-11 13:07:46 2023-12-11 13:11:24       41.874754   \n",
       "\n",
       "        start_longitude  stop_latitude  stop_longitude  \n",
       "0            -87.646278      41.930000      -87.640000  \n",
       "1            -87.594747      41.809835      -87.599383  \n",
       "2            -87.690483      42.039742      -87.699413  \n",
       "3            -87.594747      41.809835      -87.599383  \n",
       "4            -87.594747      41.809835      -87.599383  \n",
       "...                 ...            ...             ...  \n",
       "224068       -87.649804      41.874640      -87.657030  \n",
       "224069       -87.649807      41.874640      -87.657030  \n",
       "224070       -87.649807      41.874640      -87.657030  \n",
       "224071       -87.674984      41.885492      -87.652289  \n",
       "224072       -87.649807      41.874640      -87.657030  \n",
       "\n",
       "[5712887 rows x 6 columns]"
      ]
     },
     "execution_count": 8,
     "metadata": {},
     "output_type": "execute_result"
    }
   ],
   "source": [
    "trips_2023.dropna()"
   ]
  },
  {
   "cell_type": "markdown",
   "metadata": {},
   "source": [
    "##### Duplicate Values"
   ]
  },
  {
   "cell_type": "code",
   "execution_count": 9,
   "metadata": {
    "ExecuteTime": {
     "end_time": "2023-12-29T14:09:28.722155968Z",
     "start_time": "2023-12-29T14:09:21.651000298Z"
    }
   },
   "outputs": [],
   "source": [
    "trips_2023.drop_duplicates(inplace = True)"
   ]
  },
  {
   "cell_type": "markdown",
   "metadata": {
    "collapsed": false
   },
   "source": [
    "## Final Data"
   ]
  },
  {
   "cell_type": "code",
   "execution_count": 10,
   "metadata": {
    "ExecuteTime": {
     "end_time": "2023-12-29T14:09:31.374473993Z",
     "start_time": "2023-12-29T14:09:28.724822858Z"
    }
   },
   "outputs": [],
   "source": [
    "trips_2023.to_parquet(path = CLEANED_DATA/\"final.parquet\")"
   ]
  },
  {
   "cell_type": "code",
   "execution_count": 11,
   "metadata": {
    "ExecuteTime": {
     "end_time": "2023-12-29T14:09:31.385796621Z",
     "start_time": "2023-12-29T14:09:31.381186857Z"
    }
   },
   "outputs": [
    {
     "data": {
      "text/html": [
       "<div>\n",
       "<style scoped>\n",
       "    .dataframe tbody tr th:only-of-type {\n",
       "        vertical-align: middle;\n",
       "    }\n",
       "\n",
       "    .dataframe tbody tr th {\n",
       "        vertical-align: top;\n",
       "    }\n",
       "\n",
       "    .dataframe thead th {\n",
       "        text-align: right;\n",
       "    }\n",
       "</style>\n",
       "<table border=\"1\" class=\"dataframe\">\n",
       "  <thead>\n",
       "    <tr style=\"text-align: right;\">\n",
       "      <th></th>\n",
       "      <th>start_time</th>\n",
       "      <th>stop_time</th>\n",
       "      <th>start_latitude</th>\n",
       "      <th>start_longitude</th>\n",
       "      <th>stop_latitude</th>\n",
       "      <th>stop_longitude</th>\n",
       "    </tr>\n",
       "  </thead>\n",
       "  <tbody>\n",
       "    <tr>\n",
       "      <th>0</th>\n",
       "      <td>2023-01-21 20:05:42</td>\n",
       "      <td>2023-01-21 20:16:33</td>\n",
       "      <td>41.924074</td>\n",
       "      <td>-87.646278</td>\n",
       "      <td>41.930000</td>\n",
       "      <td>-87.640000</td>\n",
       "    </tr>\n",
       "    <tr>\n",
       "      <th>1</th>\n",
       "      <td>2023-01-10 15:37:36</td>\n",
       "      <td>2023-01-10 15:46:05</td>\n",
       "      <td>41.799568</td>\n",
       "      <td>-87.594747</td>\n",
       "      <td>41.809835</td>\n",
       "      <td>-87.599383</td>\n",
       "    </tr>\n",
       "    <tr>\n",
       "      <th>2</th>\n",
       "      <td>2023-01-02 07:51:57</td>\n",
       "      <td>2023-01-02 08:05:11</td>\n",
       "      <td>42.008571</td>\n",
       "      <td>-87.690483</td>\n",
       "      <td>42.039742</td>\n",
       "      <td>-87.699413</td>\n",
       "    </tr>\n",
       "    <tr>\n",
       "      <th>3</th>\n",
       "      <td>2023-01-22 10:52:58</td>\n",
       "      <td>2023-01-22 11:01:44</td>\n",
       "      <td>41.799568</td>\n",
       "      <td>-87.594747</td>\n",
       "      <td>41.809835</td>\n",
       "      <td>-87.599383</td>\n",
       "    </tr>\n",
       "    <tr>\n",
       "      <th>4</th>\n",
       "      <td>2023-01-12 13:58:01</td>\n",
       "      <td>2023-01-12 14:13:20</td>\n",
       "      <td>41.799568</td>\n",
       "      <td>-87.594747</td>\n",
       "      <td>41.809835</td>\n",
       "      <td>-87.599383</td>\n",
       "    </tr>\n",
       "  </tbody>\n",
       "</table>\n",
       "</div>"
      ],
      "text/plain": [
       "           start_time           stop_time  start_latitude  start_longitude  \\\n",
       "0 2023-01-21 20:05:42 2023-01-21 20:16:33       41.924074       -87.646278   \n",
       "1 2023-01-10 15:37:36 2023-01-10 15:46:05       41.799568       -87.594747   \n",
       "2 2023-01-02 07:51:57 2023-01-02 08:05:11       42.008571       -87.690483   \n",
       "3 2023-01-22 10:52:58 2023-01-22 11:01:44       41.799568       -87.594747   \n",
       "4 2023-01-12 13:58:01 2023-01-12 14:13:20       41.799568       -87.594747   \n",
       "\n",
       "   stop_latitude  stop_longitude  \n",
       "0      41.930000      -87.640000  \n",
       "1      41.809835      -87.599383  \n",
       "2      42.039742      -87.699413  \n",
       "3      41.809835      -87.599383  \n",
       "4      41.809835      -87.599383  "
      ]
     },
     "execution_count": 11,
     "metadata": {},
     "output_type": "execute_result"
    }
   ],
   "source": [
    "trips_2023.head()"
   ]
  }
 ],
 "metadata": {
  "kernelspec": {
   "display_name": "src-Frx8CZzu-py3.11",
   "language": "python",
   "name": "python3"
  },
  "language_info": {
   "codemirror_mode": {
    "name": "ipython",
    "version": 3
   },
   "file_extension": ".py",
   "mimetype": "text/x-python",
   "name": "python",
   "nbconvert_exporter": "python",
   "pygments_lexer": "ipython3",
   "version": "3.11.4"
  },
  "orig_nbformat": 4
 },
 "nbformat": 4,
 "nbformat_minor": 2
}
