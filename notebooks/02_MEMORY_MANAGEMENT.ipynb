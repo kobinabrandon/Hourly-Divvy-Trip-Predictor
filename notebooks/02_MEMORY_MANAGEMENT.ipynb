{
 "cells": [
  {
   "cell_type": "markdown",
   "metadata": {},
   "source": [
    "# Memory Management"
   ]
  },
  {
   "cell_type": "code",
   "execution_count": 1,
   "metadata": {
    "ExecuteTime": {
     "end_time": "2023-12-22T14:25:57.219363197Z",
     "start_time": "2023-12-22T14:25:56.741716889Z"
    }
   },
   "outputs": [],
   "source": [
    "import pandas as pd\n",
    "from src.core.paths import ORIGINAL_DATA_TYPES, ALTERED_DATA_TYPES\n",
    "from src.core.miscellaneous import view_memory_usage, change_column_data_type, save_as_parquet"
   ]
  },
  {
   "cell_type": "markdown",
   "metadata": {},
   "source": [
    "## 2014 - 2017 "
   ]
  },
  {
   "cell_type": "markdown",
   "metadata": {},
   "source": [
    "### Dealing With Datetimes"
   ]
  },
  {
   "cell_type": "markdown",
   "metadata": {},
   "source": [
    "#### 2014"
   ]
  },
  {
   "cell_type": "code",
   "execution_count": 2,
   "metadata": {
    "ExecuteTime": {
     "end_time": "2023-12-22T13:56:28.867537135Z",
     "start_time": "2023-12-22T13:56:27.836280118Z"
    }
   },
   "outputs": [
    {
     "data": {
      "text/plain": "   trip_id        starttime       stoptime  bikeid  tripduration  \\\n0  2355134  6/30/2014 23:57  7/1/2014 0:07    2006           604   \n\n   from_station_id          from_station_name  to_station_id  \\\n0              131  Lincoln Ave & Belmont Ave            303   \n\n           to_station_name    usertype gender  birthyear  \n0  Broadway & Cornelia Ave  Subscriber   Male     1988.0  ",
      "text/html": "<div>\n<style scoped>\n    .dataframe tbody tr th:only-of-type {\n        vertical-align: middle;\n    }\n\n    .dataframe tbody tr th {\n        vertical-align: top;\n    }\n\n    .dataframe thead th {\n        text-align: right;\n    }\n</style>\n<table border=\"1\" class=\"dataframe\">\n  <thead>\n    <tr style=\"text-align: right;\">\n      <th></th>\n      <th>trip_id</th>\n      <th>starttime</th>\n      <th>stoptime</th>\n      <th>bikeid</th>\n      <th>tripduration</th>\n      <th>from_station_id</th>\n      <th>from_station_name</th>\n      <th>to_station_id</th>\n      <th>to_station_name</th>\n      <th>usertype</th>\n      <th>gender</th>\n      <th>birthyear</th>\n    </tr>\n  </thead>\n  <tbody>\n    <tr>\n      <th>0</th>\n      <td>2355134</td>\n      <td>6/30/2014 23:57</td>\n      <td>7/1/2014 0:07</td>\n      <td>2006</td>\n      <td>604</td>\n      <td>131</td>\n      <td>Lincoln Ave &amp; Belmont Ave</td>\n      <td>303</td>\n      <td>Broadway &amp; Cornelia Ave</td>\n      <td>Subscriber</td>\n      <td>Male</td>\n      <td>1988.0</td>\n    </tr>\n  </tbody>\n</table>\n</div>"
     },
     "execution_count": 2,
     "metadata": {},
     "output_type": "execute_result"
    }
   ],
   "source": [
    "trips_2014 = pd.read_parquet(ORIGINAL_DATA_TYPES/\"trips_2014.parquet\")\n",
    "trips_2014.head(1)"
   ]
  },
  {
   "cell_type": "markdown",
   "metadata": {},
   "source": [
    "##### Changing Start & Stop Times to Datetime"
   ]
  },
  {
   "cell_type": "code",
   "execution_count": 3,
   "metadata": {
    "ExecuteTime": {
     "end_time": "2023-12-22T13:56:32.577667297Z",
     "start_time": "2023-12-22T13:56:28.865687745Z"
    }
   },
   "outputs": [],
   "source": [
    "trips_2014[\"starttime\"] = pd.to_datetime(trips_2014[\"starttime\"], format = \"%m/%d/%Y %H:%M\")\n",
    "trips_2014[\"stoptime\"] = pd.to_datetime(trips_2014[\"stoptime\"], format = \"%m/%d/%Y %H:%M\")"
   ]
  },
  {
   "cell_type": "markdown",
   "metadata": {},
   "source": [
    "#### 2015"
   ]
  },
  {
   "cell_type": "code",
   "execution_count": 4,
   "metadata": {
    "ExecuteTime": {
     "end_time": "2023-12-22T13:56:33.454766128Z",
     "start_time": "2023-12-22T13:56:32.578939286Z"
    }
   },
   "outputs": [
    {
     "data": {
      "text/plain": "   trip_id        starttime       stoptime  bikeid  tripduration  \\\n0  4738454  3/31/2015 23:58  4/1/2015 0:03    1095           299   \n\n   from_station_id         from_station_name  to_station_id  \\\n0              117  Wilton Ave & Belmont Ave            300   \n\n        to_station_name    usertype gender  birthyear  \n0  Broadway & Barry Ave  Subscriber   Male     1994.0  ",
      "text/html": "<div>\n<style scoped>\n    .dataframe tbody tr th:only-of-type {\n        vertical-align: middle;\n    }\n\n    .dataframe tbody tr th {\n        vertical-align: top;\n    }\n\n    .dataframe thead th {\n        text-align: right;\n    }\n</style>\n<table border=\"1\" class=\"dataframe\">\n  <thead>\n    <tr style=\"text-align: right;\">\n      <th></th>\n      <th>trip_id</th>\n      <th>starttime</th>\n      <th>stoptime</th>\n      <th>bikeid</th>\n      <th>tripduration</th>\n      <th>from_station_id</th>\n      <th>from_station_name</th>\n      <th>to_station_id</th>\n      <th>to_station_name</th>\n      <th>usertype</th>\n      <th>gender</th>\n      <th>birthyear</th>\n    </tr>\n  </thead>\n  <tbody>\n    <tr>\n      <th>0</th>\n      <td>4738454</td>\n      <td>3/31/2015 23:58</td>\n      <td>4/1/2015 0:03</td>\n      <td>1095</td>\n      <td>299</td>\n      <td>117</td>\n      <td>Wilton Ave &amp; Belmont Ave</td>\n      <td>300</td>\n      <td>Broadway &amp; Barry Ave</td>\n      <td>Subscriber</td>\n      <td>Male</td>\n      <td>1994.0</td>\n    </tr>\n  </tbody>\n</table>\n</div>"
     },
     "execution_count": 4,
     "metadata": {},
     "output_type": "execute_result"
    }
   ],
   "source": [
    "trips_2015 = pd.read_parquet(ORIGINAL_DATA_TYPES/\"trips_2015.parquet\")\n",
    "trips_2015.head(1)"
   ]
  },
  {
   "cell_type": "markdown",
   "metadata": {},
   "source": [
    "##### Changing Start & Stop Times to Datetime"
   ]
  },
  {
   "cell_type": "code",
   "execution_count": 5,
   "metadata": {
    "ExecuteTime": {
     "end_time": "2023-12-22T13:56:37.056845056Z",
     "start_time": "2023-12-22T13:56:33.586659779Z"
    }
   },
   "outputs": [],
   "source": [
    "trips_2015[\"starttime\"] = pd.to_datetime(trips_2015[\"starttime\"], format = \"%m/%d/%Y %H:%M\")\n",
    "trips_2015[\"stoptime\"] = pd.to_datetime(trips_2015[\"stoptime\"], format = \"%m/%d/%Y %H:%M\")"
   ]
  },
  {
   "cell_type": "markdown",
   "metadata": {},
   "source": [
    "#### 2016"
   ]
  },
  {
   "cell_type": "code",
   "execution_count": 6,
   "metadata": {
    "ExecuteTime": {
     "end_time": "2023-12-22T13:56:38.984073780Z",
     "start_time": "2023-12-22T13:56:37.057733415Z"
    }
   },
   "outputs": [
    {
     "data": {
      "text/plain": "   trip_id        starttime       stoptime  bikeid  tripduration  \\\n0  9080551  3/31/2016 23:53  4/1/2016 0:07     155           841   \n\n   from_station_id              from_station_name  to_station_id  \\\n0              344  Ravenswood Ave & Lawrence Ave            458   \n\n            to_station_name    usertype gender  birthyear  \n0  Broadway & Thorndale Ave  Subscriber   Male     1986.0  ",
      "text/html": "<div>\n<style scoped>\n    .dataframe tbody tr th:only-of-type {\n        vertical-align: middle;\n    }\n\n    .dataframe tbody tr th {\n        vertical-align: top;\n    }\n\n    .dataframe thead th {\n        text-align: right;\n    }\n</style>\n<table border=\"1\" class=\"dataframe\">\n  <thead>\n    <tr style=\"text-align: right;\">\n      <th></th>\n      <th>trip_id</th>\n      <th>starttime</th>\n      <th>stoptime</th>\n      <th>bikeid</th>\n      <th>tripduration</th>\n      <th>from_station_id</th>\n      <th>from_station_name</th>\n      <th>to_station_id</th>\n      <th>to_station_name</th>\n      <th>usertype</th>\n      <th>gender</th>\n      <th>birthyear</th>\n    </tr>\n  </thead>\n  <tbody>\n    <tr>\n      <th>0</th>\n      <td>9080551</td>\n      <td>3/31/2016 23:53</td>\n      <td>4/1/2016 0:07</td>\n      <td>155</td>\n      <td>841</td>\n      <td>344</td>\n      <td>Ravenswood Ave &amp; Lawrence Ave</td>\n      <td>458</td>\n      <td>Broadway &amp; Thorndale Ave</td>\n      <td>Subscriber</td>\n      <td>Male</td>\n      <td>1986.0</td>\n    </tr>\n  </tbody>\n</table>\n</div>"
     },
     "execution_count": 6,
     "metadata": {},
     "output_type": "execute_result"
    }
   ],
   "source": [
    "trips_2016 = pd.read_parquet(ORIGINAL_DATA_TYPES/\"trips_2016.parquet\")\n",
    "trips_2016.head(1)"
   ]
  },
  {
   "cell_type": "markdown",
   "metadata": {},
   "source": [
    "##### Changing Start & Stop Times to Datetime"
   ]
  },
  {
   "cell_type": "code",
   "execution_count": 7,
   "metadata": {
    "ExecuteTime": {
     "end_time": "2023-12-22T14:00:28.246149013Z",
     "start_time": "2023-12-22T13:56:38.982465842Z"
    }
   },
   "outputs": [],
   "source": [
    "trips_2016[\"starttime\"] = pd.to_datetime(trips_2016[\"starttime\"], format = \"mixed\")\n",
    "trips_2016[\"stoptime\"] = pd.to_datetime(trips_2016[\"stoptime\"], format = \"mixed\")"
   ]
  },
  {
   "cell_type": "markdown",
   "metadata": {},
   "source": [
    "#### 2017"
   ]
  },
  {
   "cell_type": "code",
   "execution_count": 8,
   "metadata": {
    "ExecuteTime": {
     "end_time": "2023-12-22T14:00:30.080750335Z",
     "start_time": "2023-12-22T14:00:28.245888916Z"
    }
   },
   "outputs": [
    {
     "data": {
      "text/plain": "    trip_id          start_time           end_time  bikeid  tripduration  \\\n0  13518905  3/31/2017 23:59:07  4/1/2017 00:13:24    5292           857   \n\n   from_station_id     from_station_name  to_station_id  \\\n0               66  Clinton St & Lake St            171   \n\n         to_station_name    usertype gender  birthyear  \n0  May St & Cullerton St  Subscriber   Male     1989.0  ",
      "text/html": "<div>\n<style scoped>\n    .dataframe tbody tr th:only-of-type {\n        vertical-align: middle;\n    }\n\n    .dataframe tbody tr th {\n        vertical-align: top;\n    }\n\n    .dataframe thead th {\n        text-align: right;\n    }\n</style>\n<table border=\"1\" class=\"dataframe\">\n  <thead>\n    <tr style=\"text-align: right;\">\n      <th></th>\n      <th>trip_id</th>\n      <th>start_time</th>\n      <th>end_time</th>\n      <th>bikeid</th>\n      <th>tripduration</th>\n      <th>from_station_id</th>\n      <th>from_station_name</th>\n      <th>to_station_id</th>\n      <th>to_station_name</th>\n      <th>usertype</th>\n      <th>gender</th>\n      <th>birthyear</th>\n    </tr>\n  </thead>\n  <tbody>\n    <tr>\n      <th>0</th>\n      <td>13518905</td>\n      <td>3/31/2017 23:59:07</td>\n      <td>4/1/2017 00:13:24</td>\n      <td>5292</td>\n      <td>857</td>\n      <td>66</td>\n      <td>Clinton St &amp; Lake St</td>\n      <td>171</td>\n      <td>May St &amp; Cullerton St</td>\n      <td>Subscriber</td>\n      <td>Male</td>\n      <td>1989.0</td>\n    </tr>\n  </tbody>\n</table>\n</div>"
     },
     "execution_count": 8,
     "metadata": {},
     "output_type": "execute_result"
    }
   ],
   "source": [
    "trips_2017 = pd.read_parquet(ORIGINAL_DATA_TYPES/\"trips_2017.parquet\")\n",
    "trips_2017.head(1)"
   ]
  },
  {
   "cell_type": "markdown",
   "metadata": {},
   "source": [
    "##### Changing Start & Stop Times to Datetime"
   ]
  },
  {
   "cell_type": "code",
   "execution_count": 9,
   "metadata": {
    "ExecuteTime": {
     "end_time": "2023-12-22T14:07:26.398220407Z",
     "start_time": "2023-12-22T14:00:30.092396309Z"
    }
   },
   "outputs": [],
   "source": [
    "trips_2017[\"start_time\"] = pd.to_datetime(trips_2017[\"start_time\"], format = \"mixed\")\n",
    "trips_2017[\"end_time\"] = pd.to_datetime(trips_2017[\"end_time\"], format = \"mixed\")"
   ]
  },
  {
   "cell_type": "markdown",
   "metadata": {},
   "source": [
    "### Changing the Data Types of The Other Columns"
   ]
  },
  {
   "cell_type": "markdown",
   "metadata": {},
   "source": [
    "##### Trip ID"
   ]
  },
  {
   "cell_type": "code",
   "execution_count": 10,
   "metadata": {
    "ExecuteTime": {
     "end_time": "2023-12-22T14:07:26.484808615Z",
     "start_time": "2023-12-22T14:07:26.441754198Z"
    }
   },
   "outputs": [],
   "source": [
    "pre_2018 = [trips_2014, trips_2015, trips_2016, trips_2017]\n",
    "\n",
    "for dataset in pre_2018:\n",
    "    change_column_data_type(data = dataset, columns = [\"trip_id\"], to_format = \"int32\")"
   ]
  },
  {
   "cell_type": "markdown",
   "metadata": {},
   "source": [
    "##### Trip Duration"
   ]
  },
  {
   "cell_type": "code",
   "execution_count": 11,
   "metadata": {
    "ExecuteTime": {
     "end_time": "2023-12-22T14:07:26.535332964Z",
     "start_time": "2023-12-22T14:07:26.487956505Z"
    }
   },
   "outputs": [],
   "source": [
    "pre_2018 = [trips_2014, trips_2015, trips_2016, trips_2017]\n",
    "\n",
    "for dataset in pre_2018:\n",
    "    change_column_data_type(data = dataset, columns = [\"tripduration\"], to_format = \"int16\")"
   ]
  },
  {
   "cell_type": "markdown",
   "metadata": {},
   "source": [
    "##### Birth Year"
   ]
  },
  {
   "cell_type": "code",
   "execution_count": 12,
   "metadata": {
    "ExecuteTime": {
     "end_time": "2023-12-22T14:07:26.581982839Z",
     "start_time": "2023-12-22T14:07:26.534285609Z"
    }
   },
   "outputs": [],
   "source": [
    "for dataset in pre_2018:\n",
    "    change_column_data_type(data = dataset, columns = \"birthyear\", to_format = \"float32\")"
   ]
  },
  {
   "cell_type": "markdown",
   "metadata": {},
   "source": [
    "##### From Station ID"
   ]
  },
  {
   "cell_type": "code",
   "execution_count": 13,
   "metadata": {
    "ExecuteTime": {
     "end_time": "2023-12-22T14:07:26.583605074Z",
     "start_time": "2023-12-22T14:07:26.562347673Z"
    }
   },
   "outputs": [],
   "source": [
    "for dataset in pre_2018:\n",
    "    change_column_data_type(data = trips_2014, columns = \"from_station_id\", to_format = \"int16\")"
   ]
  },
  {
   "cell_type": "markdown",
   "metadata": {},
   "source": [
    "##### Bike ID"
   ]
  },
  {
   "cell_type": "code",
   "execution_count": 14,
   "metadata": {
    "ExecuteTime": {
     "end_time": "2023-12-22T14:07:26.622743939Z",
     "start_time": "2023-12-22T14:07:26.571652526Z"
    }
   },
   "outputs": [],
   "source": [
    "for dataset in pre_2018:\n",
    "    change_column_data_type(data = dataset, columns = \"bikeid\", to_format = \"int16\")"
   ]
  },
  {
   "cell_type": "markdown",
   "metadata": {},
   "source": [
    "##### To Station ID"
   ]
  },
  {
   "cell_type": "code",
   "execution_count": 15,
   "metadata": {
    "ExecuteTime": {
     "end_time": "2023-12-22T14:07:26.624279461Z",
     "start_time": "2023-12-22T14:07:26.613623973Z"
    }
   },
   "outputs": [],
   "source": [
    "for dataset in pre_2018:\n",
    "    change_column_data_type(data = dataset, columns = \"to_station_id\", to_format = \"int16\")"
   ]
  },
  {
   "cell_type": "markdown",
   "metadata": {},
   "source": [
    "##### From Station Name"
   ]
  },
  {
   "cell_type": "code",
   "execution_count": 16,
   "metadata": {
    "ExecuteTime": {
     "end_time": "2023-12-22T14:07:27.552433616Z",
     "start_time": "2023-12-22T14:07:26.657519061Z"
    }
   },
   "outputs": [],
   "source": [
    "for dataset in pre_2018:\n",
    "    change_column_data_type(data = dataset, columns = \"from_station_name\", to_format = \"category\")"
   ]
  },
  {
   "cell_type": "markdown",
   "metadata": {},
   "source": [
    "##### To Station Name"
   ]
  },
  {
   "cell_type": "code",
   "execution_count": 17,
   "metadata": {
    "ExecuteTime": {
     "end_time": "2023-12-22T14:07:28.464940929Z",
     "start_time": "2023-12-22T14:07:27.593549096Z"
    }
   },
   "outputs": [],
   "source": [
    "for dataset in pre_2018:\n",
    "    change_column_data_type(data = dataset, columns = \"to_station_name\", to_format = \"category\")"
   ]
  },
  {
   "cell_type": "markdown",
   "metadata": {},
   "source": [
    "##### Usertype"
   ]
  },
  {
   "cell_type": "code",
   "execution_count": 18,
   "metadata": {
    "ExecuteTime": {
     "end_time": "2023-12-22T14:07:29.206584683Z",
     "start_time": "2023-12-22T14:07:28.544769123Z"
    }
   },
   "outputs": [],
   "source": [
    "for dataset in pre_2018:\n",
    "    change_column_data_type(data = dataset, columns = \"usertype\", to_format = \"category\")"
   ]
  },
  {
   "cell_type": "markdown",
   "metadata": {},
   "source": [
    "##### Gender"
   ]
  },
  {
   "cell_type": "code",
   "execution_count": 19,
   "metadata": {
    "ExecuteTime": {
     "end_time": "2023-12-22T14:07:29.771346965Z",
     "start_time": "2023-12-22T14:07:29.209785792Z"
    }
   },
   "outputs": [],
   "source": [
    "for dataset in pre_2018:\n",
    "    change_column_data_type(data = dataset, columns = \"gender\", to_format = \"category\")"
   ]
  },
  {
   "cell_type": "code",
   "execution_count": 20,
   "metadata": {
    "ExecuteTime": {
     "end_time": "2023-12-22T14:07:29.783319961Z",
     "start_time": "2023-12-22T14:07:29.775480755Z"
    }
   },
   "outputs": [
    {
     "data": {
      "text/plain": "trip_id                       int32\nstarttime            datetime64[ns]\nstoptime             datetime64[ns]\nbikeid                        int16\ntripduration                  int16\nfrom_station_id               int16\nfrom_station_name          category\nto_station_id                 int16\nto_station_name            category\nusertype                   category\ngender                     category\nbirthyear                   float32\ndtype: object"
     },
     "execution_count": 20,
     "metadata": {},
     "output_type": "execute_result"
    }
   ],
   "source": [
    "trips_2014.dtypes"
   ]
  },
  {
   "cell_type": "markdown",
   "metadata": {},
   "source": [
    "### Saving the data from 2014 to 2017 as parquet files"
   ]
  },
  {
   "cell_type": "code",
   "execution_count": 21,
   "metadata": {
    "ExecuteTime": {
     "end_time": "2023-12-22T14:13:30.823254840Z",
     "start_time": "2023-12-22T14:13:25.605362301Z"
    }
   },
   "outputs": [
    {
     "name": "stderr",
     "output_type": "stream",
     "text": [
      "4it [00:05,  1.30s/it]\n"
     ]
    }
   ],
   "source": [
    "save_as_parquet(\n",
    "    list_of_dataframes = pre_2018,\n",
    "    folder_name = ALTERED_DATA_TYPES/\"2014 - 2017\"\n",
    "    )  "
   ]
  },
  {
   "cell_type": "markdown",
   "metadata": {},
   "source": [
    "## 2018 - 2019"
   ]
  },
  {
   "cell_type": "markdown",
   "metadata": {},
   "source": [
    "### 2018 & 2019: Special Cases"
   ]
  },
  {
   "cell_type": "code",
   "execution_count": 2,
   "metadata": {
    "ExecuteTime": {
     "end_time": "2023-12-22T14:14:36.797587784Z",
     "start_time": "2023-12-22T14:14:31.855050288Z"
    }
   },
   "outputs": [],
   "source": [
    "trips_2018 = pd.read_parquet(ORIGINAL_DATA_TYPES/\"trips_2018.parquet\")\n",
    "trips_2019 = pd.read_parquet(ORIGINAL_DATA_TYPES/\"trips_2019.parquet\")"
   ]
  },
  {
   "cell_type": "markdown",
   "metadata": {},
   "source": [
    "#### Changing Start & Stop Times to Datetime"
   ]
  },
  {
   "cell_type": "code",
   "execution_count": 3,
   "metadata": {
    "ExecuteTime": {
     "end_time": "2023-12-22T14:14:46.257783988Z",
     "start_time": "2023-12-22T14:14:36.977344345Z"
    }
   },
   "outputs": [],
   "source": [
    "for dataset in [trips_2018, trips_2019]:\n",
    "\n",
    "    dataset[\"01 - Rental Details Local Start Time\"] = pd.to_datetime(\n",
    "    dataset[\"01 - Rental Details Local Start Time\"], format = \"%Y-%m-%d %H:%M:%S\"\n",
    "    )\n",
    "\n",
    "\n",
    "    dataset[\"01 - Rental Details Local End Time\"] = pd.to_datetime(\n",
    "        dataset[\"01 - Rental Details Local End Time\"], format = \"%Y-%m-%d %H:%M:%S\"\n",
    "        )\n",
    "\n",
    "\n",
    "    dataset[\"start_time\"] = pd.to_datetime(dataset[\"start_time\"], format = \"%Y-%m-%d %H:%M:%S\")\n",
    "    dataset[\"end_time\"] = pd.to_datetime(dataset[\"end_time\"], format = \"%Y-%m-%d %H:%M:%S\")"
   ]
  },
  {
   "cell_type": "markdown",
   "metadata": {},
   "source": [
    "#### Changing the Data Types of The Other Columns"
   ]
  },
  {
   "cell_type": "markdown",
   "metadata": {},
   "source": [
    "###### Changing the relevant columns into integer has posed a slight challenge because a lot of these columns have missing values. So this work will be done in the Data Cleaning notebook."
   ]
  },
  {
   "cell_type": "markdown",
   "metadata": {},
   "source": [
    "##### Categoricals"
   ]
  },
  {
   "cell_type": "code",
   "execution_count": 4,
   "metadata": {
    "ExecuteTime": {
     "end_time": "2023-12-22T14:14:50.731083152Z",
     "start_time": "2023-12-22T14:14:48.404549423Z"
    }
   },
   "outputs": [],
   "source": [
    "for dataset in [trips_2018, trips_2019]:\n",
    "    \n",
    "    change_column_data_type(\n",
    "        data = dataset, \n",
    "        columns = [\n",
    "            \"Member Gender\", \"User Type\", \"gender\", \"usertype\", \"from_station_name\", \"to_station_name\", \n",
    "            \"03 - Rental Start Station Name\", \"02 - Rental End Station Name\"\n",
    "            ], \n",
    "        to_format = \"category\"\n",
    "        )"
   ]
  },
  {
   "cell_type": "code",
   "execution_count": 5,
   "metadata": {},
   "outputs": [
    {
     "data": {
      "text/plain": [
       "01 - Rental Details Rental ID                              float64\n",
       "01 - Rental Details Local Start Time                datetime64[ns]\n",
       "01 - Rental Details Local End Time                  datetime64[ns]\n",
       "01 - Rental Details Bike ID                                float64\n",
       "01 - Rental Details Duration In Seconds Uncapped            object\n",
       "03 - Rental Start Station ID                               float64\n",
       "03 - Rental Start Station Name                            category\n",
       "02 - Rental End Station ID                                 float64\n",
       "02 - Rental End Station Name                              category\n",
       "User Type                                                 category\n",
       "Member Gender                                             category\n",
       "05 - Member Details Member Birthday Year                   float64\n",
       "trip_id                                                    float64\n",
       "start_time                                          datetime64[ns]\n",
       "end_time                                            datetime64[ns]\n",
       "bikeid                                                     float64\n",
       "tripduration                                                object\n",
       "from_station_id                                            float64\n",
       "from_station_name                                         category\n",
       "to_station_id                                              float64\n",
       "to_station_name                                           category\n",
       "usertype                                                  category\n",
       "gender                                                    category\n",
       "birthyear                                                  float64\n",
       "dtype: object"
      ]
     },
     "execution_count": 5,
     "metadata": {},
     "output_type": "execute_result"
    }
   ],
   "source": [
    "trips_2018.dtypes"
   ]
  },
  {
   "cell_type": "markdown",
   "metadata": {},
   "source": [
    "#### Save data as parquet files"
   ]
  },
  {
   "cell_type": "code",
   "execution_count": 5,
   "metadata": {
    "ExecuteTime": {
     "end_time": "2023-12-22T14:15:02.971970989Z",
     "start_time": "2023-12-22T14:14:56.710002244Z"
    }
   },
   "outputs": [
    {
     "name": "stderr",
     "output_type": "stream",
     "text": [
      "2it [00:06,  3.12s/it]\n"
     ]
    }
   ],
   "source": [
    "save_as_parquet(\n",
    "    list_of_dataframes = [trips_2018, trips_2019],\n",
    "    folder_name = ALTERED_DATA_TYPES/\"2018 - 2019\"\n",
    "    )"
   ]
  },
  {
   "cell_type": "markdown",
   "metadata": {},
   "source": [
    "## 2020 - 2023"
   ]
  },
  {
   "cell_type": "markdown",
   "metadata": {},
   "source": [
    "### Dealing With Datetimes"
   ]
  },
  {
   "cell_type": "markdown",
   "metadata": {},
   "source": [
    "#### 2020"
   ]
  },
  {
   "cell_type": "code",
   "execution_count": 2,
   "metadata": {
    "ExecuteTime": {
     "end_time": "2023-12-22T14:23:29.533574541Z",
     "start_time": "2023-12-22T14:23:26.005862090Z"
    }
   },
   "outputs": [
    {
     "data": {
      "text/plain": "            ride_id rideable_type           started_at             ended_at  \\\n0  EACB19130B0CDA4A   docked_bike  2020-01-21 20:06:59  2020-01-21 20:14:30   \n1  8FED874C809DC021   docked_bike  2020-01-30 14:22:39  2020-01-30 14:26:22   \n\n         start_station_name  start_station_id                end_station_name  \\\n0  Western Ave & Leland Ave             239.0           Clark St & Leland Ave   \n1   Clark St & Montrose Ave             234.0  Southport Ave & Irving Park Rd   \n\n   end_station_id  start_lat  start_lng  end_lat  end_lng member_casual  \n0           326.0    41.9665   -87.6884  41.9671 -87.6674        member  \n1           318.0    41.9616   -87.6660  41.9542 -87.6644        member  ",
      "text/html": "<div>\n<style scoped>\n    .dataframe tbody tr th:only-of-type {\n        vertical-align: middle;\n    }\n\n    .dataframe tbody tr th {\n        vertical-align: top;\n    }\n\n    .dataframe thead th {\n        text-align: right;\n    }\n</style>\n<table border=\"1\" class=\"dataframe\">\n  <thead>\n    <tr style=\"text-align: right;\">\n      <th></th>\n      <th>ride_id</th>\n      <th>rideable_type</th>\n      <th>started_at</th>\n      <th>ended_at</th>\n      <th>start_station_name</th>\n      <th>start_station_id</th>\n      <th>end_station_name</th>\n      <th>end_station_id</th>\n      <th>start_lat</th>\n      <th>start_lng</th>\n      <th>end_lat</th>\n      <th>end_lng</th>\n      <th>member_casual</th>\n    </tr>\n  </thead>\n  <tbody>\n    <tr>\n      <th>0</th>\n      <td>EACB19130B0CDA4A</td>\n      <td>docked_bike</td>\n      <td>2020-01-21 20:06:59</td>\n      <td>2020-01-21 20:14:30</td>\n      <td>Western Ave &amp; Leland Ave</td>\n      <td>239.0</td>\n      <td>Clark St &amp; Leland Ave</td>\n      <td>326.0</td>\n      <td>41.9665</td>\n      <td>-87.6884</td>\n      <td>41.9671</td>\n      <td>-87.6674</td>\n      <td>member</td>\n    </tr>\n    <tr>\n      <th>1</th>\n      <td>8FED874C809DC021</td>\n      <td>docked_bike</td>\n      <td>2020-01-30 14:22:39</td>\n      <td>2020-01-30 14:26:22</td>\n      <td>Clark St &amp; Montrose Ave</td>\n      <td>234.0</td>\n      <td>Southport Ave &amp; Irving Park Rd</td>\n      <td>318.0</td>\n      <td>41.9616</td>\n      <td>-87.6660</td>\n      <td>41.9542</td>\n      <td>-87.6644</td>\n      <td>member</td>\n    </tr>\n  </tbody>\n</table>\n</div>"
     },
     "execution_count": 2,
     "metadata": {},
     "output_type": "execute_result"
    }
   ],
   "source": [
    "trips_2020 = pd.read_parquet(ORIGINAL_DATA_TYPES/\"trips_2020.parquet\")\n",
    "trips_2020.head(2)"
   ]
  },
  {
   "cell_type": "markdown",
   "metadata": {},
   "source": [
    "#### 2021"
   ]
  },
  {
   "cell_type": "code",
   "execution_count": 3,
   "metadata": {
    "ExecuteTime": {
     "end_time": "2023-12-22T14:23:35.410482109Z",
     "start_time": "2023-12-22T14:23:29.531351630Z"
    }
   },
   "outputs": [
    {
     "data": {
      "text/plain": "            ride_id  rideable_type           started_at             ended_at  \\\n0  E19E6F1B8D4C42ED  electric_bike  2021-01-23 16:14:19  2021-01-23 16:24:44   \n1  DC88F20C2C55F27F  electric_bike  2021-01-27 18:43:08  2021-01-27 18:47:12   \n\n           start_station_name start_station_id end_station_name  \\\n0  California Ave & Cortez St            17660             None   \n1  California Ave & Cortez St            17660             None   \n\n  end_station_id  start_lat  start_lng  end_lat  end_lng member_casual  \n0           None  41.900341 -87.696743    41.89   -87.72        member  \n1           None  41.900333 -87.696707    41.90   -87.69        member  ",
      "text/html": "<div>\n<style scoped>\n    .dataframe tbody tr th:only-of-type {\n        vertical-align: middle;\n    }\n\n    .dataframe tbody tr th {\n        vertical-align: top;\n    }\n\n    .dataframe thead th {\n        text-align: right;\n    }\n</style>\n<table border=\"1\" class=\"dataframe\">\n  <thead>\n    <tr style=\"text-align: right;\">\n      <th></th>\n      <th>ride_id</th>\n      <th>rideable_type</th>\n      <th>started_at</th>\n      <th>ended_at</th>\n      <th>start_station_name</th>\n      <th>start_station_id</th>\n      <th>end_station_name</th>\n      <th>end_station_id</th>\n      <th>start_lat</th>\n      <th>start_lng</th>\n      <th>end_lat</th>\n      <th>end_lng</th>\n      <th>member_casual</th>\n    </tr>\n  </thead>\n  <tbody>\n    <tr>\n      <th>0</th>\n      <td>E19E6F1B8D4C42ED</td>\n      <td>electric_bike</td>\n      <td>2021-01-23 16:14:19</td>\n      <td>2021-01-23 16:24:44</td>\n      <td>California Ave &amp; Cortez St</td>\n      <td>17660</td>\n      <td>None</td>\n      <td>None</td>\n      <td>41.900341</td>\n      <td>-87.696743</td>\n      <td>41.89</td>\n      <td>-87.72</td>\n      <td>member</td>\n    </tr>\n    <tr>\n      <th>1</th>\n      <td>DC88F20C2C55F27F</td>\n      <td>electric_bike</td>\n      <td>2021-01-27 18:43:08</td>\n      <td>2021-01-27 18:47:12</td>\n      <td>California Ave &amp; Cortez St</td>\n      <td>17660</td>\n      <td>None</td>\n      <td>None</td>\n      <td>41.900333</td>\n      <td>-87.696707</td>\n      <td>41.90</td>\n      <td>-87.69</td>\n      <td>member</td>\n    </tr>\n  </tbody>\n</table>\n</div>"
     },
     "execution_count": 3,
     "metadata": {},
     "output_type": "execute_result"
    }
   ],
   "source": [
    "trips_2021 = pd.read_parquet(ORIGINAL_DATA_TYPES/\"trips_2021.parquet\")\n",
    "trips_2021.head(2)"
   ]
  },
  {
   "cell_type": "markdown",
   "metadata": {},
   "source": [
    "#### 2022"
   ]
  },
  {
   "cell_type": "code",
   "execution_count": 4,
   "metadata": {
    "ExecuteTime": {
     "end_time": "2023-12-22T14:23:40.820795214Z",
     "start_time": "2023-12-22T14:23:35.410408020Z"
    }
   },
   "outputs": [
    {
     "data": {
      "text/plain": "            ride_id  rideable_type           started_at             ended_at  \\\n0  C2F7DD78E82EC875  electric_bike  2022-01-13 11:59:47  2022-01-13 12:02:44   \n1  A6CF8980A652D272  electric_bike  2022-01-10 08:41:56  2022-01-10 08:46:17   \n\n         start_station_name start_station_id      end_station_name  \\\n0  Glenwood Ave & Touhy Ave              525  Clark St & Touhy Ave   \n1  Glenwood Ave & Touhy Ave              525  Clark St & Touhy Ave   \n\n  end_station_id  start_lat  start_lng   end_lat    end_lng member_casual  \n0         RP-007  42.012800 -87.665906  42.01256 -87.674367        casual  \n1         RP-007  42.012763 -87.665967  42.01256 -87.674367        casual  ",
      "text/html": "<div>\n<style scoped>\n    .dataframe tbody tr th:only-of-type {\n        vertical-align: middle;\n    }\n\n    .dataframe tbody tr th {\n        vertical-align: top;\n    }\n\n    .dataframe thead th {\n        text-align: right;\n    }\n</style>\n<table border=\"1\" class=\"dataframe\">\n  <thead>\n    <tr style=\"text-align: right;\">\n      <th></th>\n      <th>ride_id</th>\n      <th>rideable_type</th>\n      <th>started_at</th>\n      <th>ended_at</th>\n      <th>start_station_name</th>\n      <th>start_station_id</th>\n      <th>end_station_name</th>\n      <th>end_station_id</th>\n      <th>start_lat</th>\n      <th>start_lng</th>\n      <th>end_lat</th>\n      <th>end_lng</th>\n      <th>member_casual</th>\n    </tr>\n  </thead>\n  <tbody>\n    <tr>\n      <th>0</th>\n      <td>C2F7DD78E82EC875</td>\n      <td>electric_bike</td>\n      <td>2022-01-13 11:59:47</td>\n      <td>2022-01-13 12:02:44</td>\n      <td>Glenwood Ave &amp; Touhy Ave</td>\n      <td>525</td>\n      <td>Clark St &amp; Touhy Ave</td>\n      <td>RP-007</td>\n      <td>42.012800</td>\n      <td>-87.665906</td>\n      <td>42.01256</td>\n      <td>-87.674367</td>\n      <td>casual</td>\n    </tr>\n    <tr>\n      <th>1</th>\n      <td>A6CF8980A652D272</td>\n      <td>electric_bike</td>\n      <td>2022-01-10 08:41:56</td>\n      <td>2022-01-10 08:46:17</td>\n      <td>Glenwood Ave &amp; Touhy Ave</td>\n      <td>525</td>\n      <td>Clark St &amp; Touhy Ave</td>\n      <td>RP-007</td>\n      <td>42.012763</td>\n      <td>-87.665967</td>\n      <td>42.01256</td>\n      <td>-87.674367</td>\n      <td>casual</td>\n    </tr>\n  </tbody>\n</table>\n</div>"
     },
     "execution_count": 4,
     "metadata": {},
     "output_type": "execute_result"
    }
   ],
   "source": [
    "trips_2022 = pd.read_parquet(ORIGINAL_DATA_TYPES/\"trips_2022.parquet\")\n",
    "trips_2022.head(2)"
   ]
  },
  {
   "cell_type": "markdown",
   "metadata": {},
   "source": [
    "#### 2023"
   ]
  },
  {
   "cell_type": "code",
   "execution_count": 5,
   "metadata": {
    "ExecuteTime": {
     "end_time": "2023-12-22T14:23:53.910007201Z",
     "start_time": "2023-12-22T14:23:48.085697948Z"
    }
   },
   "outputs": [
    {
     "data": {
      "text/plain": "            ride_id  rideable_type           started_at             ended_at  \\\n0  F96D5A74A3E41399  electric_bike  2023-01-21 20:05:42  2023-01-21 20:16:33   \n1  13CB7EB698CEDB88   classic_bike  2023-01-10 15:37:36  2023-01-10 15:46:05   \n\n            start_station_name start_station_id           end_station_name  \\\n0  Lincoln Ave & Fullerton Ave     TA1309000058  Hampden Ct & Diversey Ave   \n1        Kimbark Ave & 53rd St     TA1309000037    Greenwood Ave & 47th St   \n\n  end_station_id  start_lat  start_lng    end_lat    end_lng member_casual  \n0       202480.0  41.924074 -87.646278  41.930000 -87.640000        member  \n1   TA1308000002  41.799568 -87.594747  41.809835 -87.599383        member  ",
      "text/html": "<div>\n<style scoped>\n    .dataframe tbody tr th:only-of-type {\n        vertical-align: middle;\n    }\n\n    .dataframe tbody tr th {\n        vertical-align: top;\n    }\n\n    .dataframe thead th {\n        text-align: right;\n    }\n</style>\n<table border=\"1\" class=\"dataframe\">\n  <thead>\n    <tr style=\"text-align: right;\">\n      <th></th>\n      <th>ride_id</th>\n      <th>rideable_type</th>\n      <th>started_at</th>\n      <th>ended_at</th>\n      <th>start_station_name</th>\n      <th>start_station_id</th>\n      <th>end_station_name</th>\n      <th>end_station_id</th>\n      <th>start_lat</th>\n      <th>start_lng</th>\n      <th>end_lat</th>\n      <th>end_lng</th>\n      <th>member_casual</th>\n    </tr>\n  </thead>\n  <tbody>\n    <tr>\n      <th>0</th>\n      <td>F96D5A74A3E41399</td>\n      <td>electric_bike</td>\n      <td>2023-01-21 20:05:42</td>\n      <td>2023-01-21 20:16:33</td>\n      <td>Lincoln Ave &amp; Fullerton Ave</td>\n      <td>TA1309000058</td>\n      <td>Hampden Ct &amp; Diversey Ave</td>\n      <td>202480.0</td>\n      <td>41.924074</td>\n      <td>-87.646278</td>\n      <td>41.930000</td>\n      <td>-87.640000</td>\n      <td>member</td>\n    </tr>\n    <tr>\n      <th>1</th>\n      <td>13CB7EB698CEDB88</td>\n      <td>classic_bike</td>\n      <td>2023-01-10 15:37:36</td>\n      <td>2023-01-10 15:46:05</td>\n      <td>Kimbark Ave &amp; 53rd St</td>\n      <td>TA1309000037</td>\n      <td>Greenwood Ave &amp; 47th St</td>\n      <td>TA1308000002</td>\n      <td>41.799568</td>\n      <td>-87.594747</td>\n      <td>41.809835</td>\n      <td>-87.599383</td>\n      <td>member</td>\n    </tr>\n  </tbody>\n</table>\n</div>"
     },
     "execution_count": 5,
     "metadata": {},
     "output_type": "execute_result"
    }
   ],
   "source": [
    "trips_2023 = pd.read_parquet(ORIGINAL_DATA_TYPES/\"trips_2023.parquet\")\n",
    "trips_2023.head(2)"
   ]
  },
  {
   "cell_type": "code",
   "execution_count": 6,
   "metadata": {
    "ExecuteTime": {
     "end_time": "2023-12-22T14:24:10.879888853Z",
     "start_time": "2023-12-22T14:23:56.905808010Z"
    }
   },
   "outputs": [],
   "source": [
    "from_2020 = [trips_2020, trips_2021, trips_2022, trips_2023]\n",
    "\n",
    "for dataset in from_2020:\n",
    "    \n",
    "    dataset[\"started_at\"] = pd.to_datetime(dataset[\"started_at\"], format = \"mixed\")\n",
    "    dataset[\"ended_at\"] = pd.to_datetime(dataset[\"ended_at\"], format = \"mixed\")"
   ]
  },
  {
   "cell_type": "markdown",
   "metadata": {},
   "source": [
    "### Changing the Data Types of The Other Columns"
   ]
  },
  {
   "cell_type": "code",
   "execution_count": 7,
   "metadata": {
    "ExecuteTime": {
     "end_time": "2023-12-22T14:24:21.818788131Z",
     "start_time": "2023-12-22T14:24:20.902730120Z"
    }
   },
   "outputs": [],
   "source": [
    "for dataset in from_2020:\n",
    "    dataset.drop([\"start_station_id\", \"end_station_id\"], axis = 1, inplace = True)"
   ]
  },
  {
   "cell_type": "markdown",
   "metadata": {},
   "source": [
    "##### Rideable Type & Member Type"
   ]
  },
  {
   "cell_type": "code",
   "execution_count": 8,
   "metadata": {
    "ExecuteTime": {
     "end_time": "2023-12-22T14:24:32.446975514Z",
     "start_time": "2023-12-22T14:24:29.594809933Z"
    }
   },
   "outputs": [],
   "source": [
    "for dataset in from_2020:\n",
    "    change_column_data_type(data = dataset, columns = [\"rideable_type\", \"member_casual\"], to_format = \"category\")"
   ]
  },
  {
   "cell_type": "markdown",
   "metadata": {},
   "source": [
    "##### Starting & Ending Station Names"
   ]
  },
  {
   "cell_type": "code",
   "execution_count": 9,
   "metadata": {
    "ExecuteTime": {
     "end_time": "2023-12-22T14:24:38.358556919Z",
     "start_time": "2023-12-22T14:24:36.349226757Z"
    }
   },
   "outputs": [],
   "source": [
    "for dataset in from_2020:\n",
    "    change_column_data_type(data = dataset, columns = [\"start_station_name\", \"end_station_name\"], to_format = \"category\")"
   ]
  },
  {
   "cell_type": "markdown",
   "metadata": {},
   "source": [
    "###### The Latitudes & Longitudes could not be changed into int16 values due to the presence of missing values. During the cleaning stage, this issue will be taken care of."
   ]
  },
  {
   "cell_type": "markdown",
   "metadata": {},
   "source": [
    "### Saving the data from 2020 to 2023 as pkls"
   ]
  },
  {
   "cell_type": "code",
   "execution_count": 10,
   "metadata": {
    "ExecuteTime": {
     "end_time": "2023-12-22T14:24:53.466458403Z",
     "start_time": "2023-12-22T14:24:41.902186626Z"
    }
   },
   "outputs": [
    {
     "name": "stderr",
     "output_type": "stream",
     "text": [
      "4it [00:11,  2.88s/it]\n"
     ]
    }
   ],
   "source": [
    "save_as_parquet(\n",
    "    list_of_dataframes = from_2020,\n",
    "    folder_name = ALTERED_DATA_TYPES/\"2020 - 2023\"\n",
    "    )"
   ]
  }
 ],
 "metadata": {
  "kernelspec": {
   "display_name": "src-Frx8CZzu-py3.11",
   "language": "python",
   "name": "python3"
  },
  "language_info": {
   "codemirror_mode": {
    "name": "ipython",
    "version": 3
   },
   "file_extension": ".py",
   "mimetype": "text/x-python",
   "name": "python",
   "nbconvert_exporter": "python",
   "pygments_lexer": "ipython3",
   "version": "3.11.4"
  },
  "orig_nbformat": 4
 },
 "nbformat": 4,
 "nbformat_minor": 2
}
