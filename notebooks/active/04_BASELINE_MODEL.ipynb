{
 "cells": [
  {
   "cell_type": "code",
   "execution_count": 1,
   "id": "initial_id",
   "metadata": {
    "ExecuteTime": {
     "end_time": "2024-01-05T18:57:36.607293598Z",
     "start_time": "2024-01-05T18:57:35.874616377Z"
    },
    "collapsed": true
   },
   "outputs": [],
   "source": [
    "import pandas as pd\n",
    "from datetime import datetime\n",
    "\n",
    "from src.paths import TRAINING_DATA"
   ]
  },
  {
   "cell_type": "markdown",
   "id": "9c01807dd7896120",
   "metadata": {
    "collapsed": false
   },
   "source": [
    "# Starts"
   ]
  },
  {
   "cell_type": "markdown",
   "id": "2bf679d84053785e",
   "metadata": {
    "collapsed": false
   },
   "source": [
    "## Train-test split on starting data"
   ]
  },
  {
   "cell_type": "code",
   "execution_count": 3,
   "id": "b561f2bff4d06f1b",
   "metadata": {
    "ExecuteTime": {
     "end_time": "2024-01-05T18:57:37.590698701Z",
     "start_time": "2024-01-05T18:57:36.607868139Z"
    },
    "collapsed": false
   },
   "outputs": [],
   "source": [
    "start_table = pd.read_parquet(path = TRAINING_DATA/\"integers/start_june.parquet\")"
   ]
  },
  {
   "cell_type": "code",
   "execution_count": null,
   "id": "c656f737",
   "metadata": {},
   "outputs": [],
   "source": [
    "def train_test_split(\n",
    "        data: pd.DataFrame,\n",
    "        scenario: str,\n",
    "        cutoff_date: datetime,\n",
    "        target_column: str\n",
    ") -> tuple[pd.DataFrame, pd.Series, pd.DataFrame, pd.Series]:\n",
    "        \n",
    "    \"\"\"\n",
    "    This is just a primitive splitting function that treats all data\n",
    "    before a certain date as training data, and everything after that\n",
    "    as test data\n",
    "    \"\"\"\n",
    "\n",
    "    training_data = data[data[f\"{scenario}_hour\"] < cutoff_date].reset_index(drop=True)\n",
    "\n",
    "    test_data = data[data[f\"{scenario}_hour\"] > cutoff_date].reset_index(drop=True)\n",
    "\n",
    "    x_train = training_data.drop(columns=[target_column])\n",
    "    y_train = training_data[target_column]\n",
    "\n",
    "    x_test = test_data.drop(columns=[target_column])\n",
    "    y_test = test_data[target_column]\n",
    "\n",
    "    return x_train, y_train, x_test, y_test\n"
   ]
  },
  {
   "cell_type": "code",
   "execution_count": 4,
   "id": "e3e818e59567ffaf",
   "metadata": {
    "ExecuteTime": {
     "end_time": "2024-01-05T18:57:45.661170384Z",
     "start_time": "2024-01-05T18:57:44.322120022Z"
    },
    "collapsed": false
   },
   "outputs": [
    {
     "name": "stdout",
     "output_type": "stream",
     "text": [
      "x_train.shape = (0, 674)\n",
      "y_train.shape = (0,)\n",
      "x_test.shape = (2624327, 674)\n",
      "y_test.shape = (2624327,)\n"
     ]
    }
   ],
   "source": [
    "x_train, y_train, x_test, y_test = train_test_split(\n",
    "    data=start_table,\n",
    "    scenario=\"start\",\n",
    "    cutoff_date=datetime(2023,6,1,0,0,0),\n",
    "    target_column=\"trips_next_hour\"\n",
    ")\n",
    "\n",
    "#for data in [x_train, y_train, x_test, y_test]:\n",
    "\n",
    "print(f\"{x_train.shape = }\")\n",
    "print(f\"{y_train.shape = }\")\n",
    "print(f\"{x_test.shape = }\")\n",
    "print(f\"{y_test.shape = }\")"
   ]
  },
  {
   "cell_type": "markdown",
   "id": "bf464442",
   "metadata": {},
   "source": [
    "### Defining the base model"
   ]
  },
  {
   "cell_type": "code",
   "execution_count": 5,
   "id": "9203cc70442759f9",
   "metadata": {
    "ExecuteTime": {
     "end_time": "2024-01-05T18:57:49.296449930Z",
     "start_time": "2024-01-05T18:57:49.293536199Z"
    },
    "collapsed": false
   },
   "outputs": [],
   "source": [
    "import numpy as np \n",
    "\n",
    "class BaselineModel:\n",
    "    \n",
    "    def fit(self, x_train: pd.DataFrame, y_train: pd.Series):\n",
    "        pass \n",
    "    \n",
    "    def predict(self, x_test: pd.DataFrame) -> np.array:\n",
    "        \n",
    "        return x_test[\"trips_previous_1_hour\"]"
   ]
  },
  {
   "cell_type": "markdown",
   "id": "59bdae58dc4b221f",
   "metadata": {
    "collapsed": false
   },
   "source": [
    "### Base Model Predictions "
   ]
  },
  {
   "cell_type": "code",
   "execution_count": 6,
   "id": "6d01868b2115fa6f",
   "metadata": {
    "ExecuteTime": {
     "end_time": "2024-01-05T18:58:30.451140145Z",
     "start_time": "2024-01-05T18:58:30.430527401Z"
    },
    "collapsed": false
   },
   "outputs": [],
   "source": [
    "model = BaselineModel()\n",
    "predictions = model.predict(x_test)"
   ]
  },
  {
   "cell_type": "markdown",
   "id": "e75f93fb4cf7f137",
   "metadata": {
    "collapsed": false
   },
   "source": [
    "### Mean absolute error"
   ]
  },
  {
   "cell_type": "code",
   "execution_count": 7,
   "id": "bc53adbf",
   "metadata": {
    "ExecuteTime": {
     "end_time": "2024-01-05T19:00:31.855704855Z",
     "start_time": "2024-01-05T19:00:31.147824057Z"
    }
   },
   "outputs": [],
   "source": [
    "from sklearn.metrics import mean_absolute_error\n",
    "\n",
    "start_test_mae = mean_absolute_error(y_test, predictions)"
   ]
  },
  {
   "cell_type": "code",
   "execution_count": 8,
   "id": "e7785ee16f900aee",
   "metadata": {
    "ExecuteTime": {
     "end_time": "2024-01-05T19:00:33.840317755Z",
     "start_time": "2024-01-05T19:00:33.834553045Z"
    },
    "collapsed": false
   },
   "outputs": [
    {
     "data": {
      "text/plain": [
       "0.026907469991353974"
      ]
     },
     "execution_count": 8,
     "metadata": {},
     "output_type": "execute_result"
    }
   ],
   "source": [
    "start_test_mae"
   ]
  },
  {
   "cell_type": "markdown",
   "id": "3ce8d395b8bf9ae",
   "metadata": {
    "collapsed": false
   },
   "source": [
    "# Stops"
   ]
  }
 ],
 "metadata": {
  "kernelspec": {
   "display_name": "Python 3",
   "language": "python",
   "name": "python3"
  },
  "language_info": {
   "codemirror_mode": {
    "name": "ipython",
    "version": 3
   },
   "file_extension": ".py",
   "mimetype": "text/x-python",
   "name": "python",
   "nbconvert_exporter": "python",
   "pygments_lexer": "ipython3",
   "version": "3.10.0"
  }
 },
 "nbformat": 4,
 "nbformat_minor": 5
}
