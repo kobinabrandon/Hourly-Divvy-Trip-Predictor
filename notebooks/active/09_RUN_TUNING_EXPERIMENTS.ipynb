{
 "cells": [
  {
   "cell_type": "code",
   "execution_count": 1,
   "metadata": {},
   "outputs": [
    {
     "name": "stderr",
     "output_type": "stream",
     "text": [
      "/home/kobina/.cache/pypoetry/virtualenvs/src-Frx8CZzu-py3.10/lib/python3.10/site-packages/tqdm/auto.py:21: TqdmWarning: IProgress not found. Please update jupyter and ipywidgets. See https://ipywidgets.readthedocs.io/en/stable/user_install.html\n",
      "  from .autonotebook import tqdm as notebook_tqdm\n"
     ]
    }
   ],
   "source": [
    "import pandas as pd\n",
    "from datetime import datetime\n",
    "from lightgbm import LGBMRegressor\n",
    "from xgboost import XGBRegressor\n",
    "from sklearn.linear_model import Lasso \n",
    "  \n",
    "from src.paths import TEMPORARY_DATA, TRAINING_DATA\n",
    "from src.hyperparameter_tuning import optimise_hyperparams"
   ]
  },
  {
   "cell_type": "markdown",
   "metadata": {},
   "source": [
    "## Importing and making some changes to the datasets"
   ]
  },
  {
   "cell_type": "code",
   "execution_count": null,
   "metadata": {},
   "outputs": [],
   "source": [
    "start_table = pd.read_parquet(TRAINING_DATA/\"mar_to_jan_starts.parquet\").sort_index()\n",
    "stop_table = pd.read_parquet(TRAINING_DATA/\"jan_to_jan_stops.parquet\").sort_index()"
   ]
  },
  {
   "cell_type": "markdown",
   "metadata": {},
   "source": [
    "## Tuning on Starts Data"
   ]
  },
  {
   "cell_type": "markdown",
   "metadata": {},
   "source": [
    "### Changing data types to reduce memory load"
   ]
  },
  {
   "cell_type": "code",
   "execution_count": null,
   "metadata": {},
   "outputs": [],
   "source": [
    "import numpy as np\n",
    "from tqdm import tqdm\n",
    "from src.miscellaneous import change_column_data_type\n",
    "\n",
    "#for dataset in tqdm([start_table, start_past_4_months, stop_table]):\n",
    "  \n",
    "for dataset in [start_table, stop_table]:\n",
    "  for col in dataset.columns:\n",
    "      \n",
    "      if \"trips\" in col:\n",
    "\n",
    "        change_column_data_type(\n",
    "          data=dataset, \n",
    "          columns=col, \n",
    "          to_format=np.int8)"
   ]
  },
  {
   "cell_type": "code",
   "execution_count": null,
   "metadata": {},
   "outputs": [],
   "source": [
    "start_table.to_parquet(TRAINING_DATA/\"integers/mar_to_jan_starts.parquet\")\n",
    "stop_table.to_parquet(TRAINING_DATA/\"integers/jan_to_jan_stops.parquet\")"
   ]
  },
  {
   "cell_type": "markdown",
   "metadata": {},
   "source": [
    "### Choosing how many rows of the data to drop to reduce memory load"
   ]
  },
  {
   "cell_type": "code",
   "execution_count": null,
   "metadata": {},
   "outputs": [],
   "source": [
    "from datetime import datetime\n",
    "\n",
    "# Restrict the data to the rows after June\n",
    "start_june = start_table[start_table[\"start_hour\"] > datetime(2023,6,1)]"
   ]
  },
  {
   "cell_type": "code",
   "execution_count": null,
   "metadata": {},
   "outputs": [],
   "source": [
    "start_june.to_parquet(TRAINING_DATA/\"integers/start_june.parquet\")"
   ]
  },
  {
   "cell_type": "markdown",
   "metadata": {},
   "source": [
    "## Tuning on Starts Data"
   ]
  },
  {
   "cell_type": "code",
   "execution_count": 2,
   "metadata": {},
   "outputs": [],
   "source": [
    "start_june = pd.read_parquet(TRAINING_DATA/\"integers/start_june.parquet\")"
   ]
  },
  {
   "cell_type": "code",
   "execution_count": 4,
   "metadata": {},
   "outputs": [
    {
     "name": "stdout",
     "output_type": "stream",
     "text": [
      "ClearML Task: created new task id=4b5b27e8f8384b0fb224fd4399e98e83\n",
      "2024-02-10 19:31:38,600 - clearml.Task - INFO - Storing jupyter notebook directly as code\n",
      "ClearML results page: https://app.clear.ml/projects/1b181c40a8b243d5b50eb2bc14ea4d45/experiments/4b5b27e8f8384b0fb224fd4399e98e83/output/log\n",
      "ClearML Monitor: GPU monitoring failed getting GPU reading, switching off GPU monitoring\n"
     ]
    },
    {
     "name": "stderr",
     "output_type": "stream",
     "text": [
      "divvy_trips - INFO - Beginning hyperparameter search\n",
      "[I 2024-02-10 19:31:53,698] A new study created in memory with name: no-name-b47c7789-e378-43b3-9573-5bc9b95ba047\n",
      "divvy_trips - INFO - Start Trial 0\n",
      "divvy_trips - INFO - Performing split number 0\n",
      "divvy_trips - INFO - Performing split number 1\n"
     ]
    },
    {
     "name": "stdout",
     "output_type": "stream",
     "text": [
      "ClearML Monitor: Could not detect iteration reporting, falling back to iterations as seconds-from-start\n"
     ]
    },
    {
     "name": "stderr",
     "output_type": "stream",
     "text": [
      "divvy_trips - INFO - Performing split number 2\n",
      "divvy_trips - INFO - Performing split number 3\n",
      "divvy_trips - INFO - Performing split number 4\n",
      "[I 2024-02-10 19:47:38,491] Trial 0 finished with value: 0.012503867935649032 and parameters: {'alpha': 0.015864111625064632}. Best is trial 0 with value: 0.012503867935649032.\n",
      "divvy_trips - INFO - Start Trial 1\n",
      "divvy_trips - INFO - Performing split number 0\n",
      "divvy_trips - INFO - Performing split number 1\n",
      "divvy_trips - INFO - Performing split number 2\n",
      "divvy_trips - INFO - Performing split number 3\n",
      "divvy_trips - INFO - Performing split number 4\n",
      "[I 2024-02-10 19:48:43,227] Trial 1 finished with value: 0.03251249750141218 and parameters: {'alpha': 0.874849790517695}. Best is trial 0 with value: 0.012503867935649032.\n",
      "divvy_trips - INFO - Start Trial 2\n",
      "divvy_trips - INFO - Performing split number 0\n",
      "divvy_trips - INFO - Performing split number 1\n",
      "divvy_trips - INFO - Performing split number 2\n",
      "divvy_trips - INFO - Performing split number 3\n",
      "divvy_trips - INFO - Performing split number 4\n",
      "[I 2024-02-10 19:49:47,292] Trial 2 finished with value: 0.03196559881414239 and parameters: {'alpha': 1.4232159233811952}. Best is trial 0 with value: 0.012503867935649032.\n",
      "divvy_trips - INFO - Start Trial 3\n",
      "divvy_trips - INFO - Performing split number 0\n",
      "divvy_trips - INFO - Performing split number 1\n",
      "divvy_trips - INFO - Performing split number 2\n",
      "divvy_trips - INFO - Performing split number 3\n",
      "divvy_trips - INFO - Performing split number 4\n",
      "[I 2024-02-10 19:50:53,151] Trial 3 finished with value: 0.032325862061434965 and parameters: {'alpha': 1.0612719936213972}. Best is trial 0 with value: 0.012503867935649032.\n",
      "divvy_trips - INFO - Start Trial 4\n",
      "divvy_trips - INFO - Performing split number 0\n",
      "divvy_trips - INFO - Performing split number 1\n",
      "divvy_trips - INFO - Performing split number 2\n",
      "divvy_trips - INFO - Performing split number 3\n",
      "divvy_trips - INFO - Performing split number 4\n",
      "[I 2024-02-10 20:01:55,960] Trial 4 finished with value: 0.012982120545707757 and parameters: {'alpha': 0.024216322042079415}. Best is trial 0 with value: 0.012503867935649032.\n",
      "divvy_trips - INFO - The best hyperparameters for <class 'sklearn.linear_model._coordinate_descent.Lasso'> are:\n",
      "divvy_trips - INFO - alpha:0.015864111625064632\n",
      "divvy_trips - INFO - Best MAE: 0.012503867935649032\n"
     ]
    }
   ],
   "source": [
    "best_lasso_hyperparams_for_starts = \\\n",
    "  optimise_hyperparams(\n",
    "    model_fn=Lasso, \n",
    "    hyperparam_trials = 5, \n",
    "    scenario = \"start\",   \n",
    "    X = start_june.drop(\"trips_next_hour\", axis = 1), \n",
    "    y = start_june[\"trips_next_hour\"]\n",
    ")"
   ]
  },
  {
   "cell_type": "markdown",
   "metadata": {},
   "source": [
    "#### LGBMRegressor"
   ]
  },
  {
   "cell_type": "code",
   "execution_count": 3,
   "metadata": {},
   "outputs": [
    {
     "name": "stdout",
     "output_type": "stream",
     "text": [
      "ClearML Task: created new task id=19efa9714ca74369ae8b55c0d6175941\n",
      "2024-02-11 21:30:22,171 - clearml.Task - INFO - Storing jupyter notebook directly as code\n",
      "ClearML results page: https://app.clear.ml/projects/1b181c40a8b243d5b50eb2bc14ea4d45/experiments/19efa9714ca74369ae8b55c0d6175941/output/log\n"
     ]
    },
    {
     "name": "stderr",
     "output_type": "stream",
     "text": [
      "divvy_trips - INFO - Beginning hyperparameter search\n",
      "[I 2024-02-11 21:30:32,914] A new study created in memory with name: no-name-ca415d73-2471-4ae7-a491-d163298a4b76\n",
      "divvy_trips - INFO - Start Trial 0\n",
      "divvy_trips - INFO - Performing split number 0\n"
     ]
    },
    {
     "name": "stdout",
     "output_type": "stream",
     "text": [
      "ClearML Monitor: GPU monitoring failed getting GPU reading, switching off GPU monitoring\n"
     ]
    },
    {
     "name": "stderr",
     "output_type": "stream",
     "text": [
      "divvy_trips - INFO - Performing split number 1\n",
      "divvy_trips - INFO - Performing split number 2\n",
      "divvy_trips - INFO - Performing split number 3\n",
      "divvy_trips - INFO - Performing split number 4\n",
      "[I 2024-02-11 21:32:48,000] Trial 0 finished with value: 0.008906199082582935 and parameters: {'num_leaves': 20, 'max_depth': 6, 'n_estimators': 69, 'learning_rate': 0.1335340030140376, 'importance_type': 'split', 'subsample': 1, 'feature_fraction': 0.6993501719351904, 'bagging_fraction': 0.3542643035202445}. Best is trial 0 with value: 0.008906199082582935.\n",
      "divvy_trips - INFO - Start Trial 1\n",
      "divvy_trips - INFO - Performing split number 0\n",
      "divvy_trips - INFO - Performing split number 1\n",
      "divvy_trips - INFO - Performing split number 2\n"
     ]
    },
    {
     "name": "stdout",
     "output_type": "stream",
     "text": [
      "ClearML Monitor: Could not detect iteration reporting, falling back to iterations as seconds-from-start\n"
     ]
    },
    {
     "name": "stderr",
     "output_type": "stream",
     "text": [
      "divvy_trips - INFO - Performing split number 3\n",
      "divvy_trips - INFO - Performing split number 4\n",
      "[I 2024-02-11 21:35:42,166] Trial 1 finished with value: 0.008658780525690862 and parameters: {'num_leaves': 20, 'max_depth': 4, 'n_estimators': 43, 'learning_rate': 0.206476979086468, 'importance_type': 'split', 'subsample': 1, 'feature_fraction': 0.2869926513900841, 'bagging_fraction': 0.6867430854647192}. Best is trial 1 with value: 0.008658780525690862.\n",
      "divvy_trips - INFO - Start Trial 2\n",
      "divvy_trips - INFO - Performing split number 0\n",
      "divvy_trips - INFO - Performing split number 1\n",
      "divvy_trips - INFO - Performing split number 2\n",
      "divvy_trips - INFO - Performing split number 3\n",
      "divvy_trips - INFO - Performing split number 4\n",
      "[I 2024-02-11 21:37:47,116] Trial 2 finished with value: 0.008548896283498654 and parameters: {'num_leaves': 44, 'max_depth': 9, 'n_estimators': 76, 'learning_rate': 0.47953726836882615, 'importance_type': 'gain', 'subsample': 1, 'feature_fraction': 0.9565789882653105, 'bagging_fraction': 0.9296894317263882}. Best is trial 2 with value: 0.008548896283498654.\n",
      "divvy_trips - INFO - Start Trial 3\n",
      "divvy_trips - INFO - Performing split number 0\n",
      "divvy_trips - INFO - Performing split number 1\n",
      "divvy_trips - INFO - Performing split number 2\n",
      "divvy_trips - INFO - Performing split number 3\n",
      "divvy_trips - INFO - Performing split number 4\n",
      "[I 2024-02-11 21:42:37,735] Trial 3 finished with value: 0.008971169911964784 and parameters: {'num_leaves': 24, 'max_depth': 6, 'n_estimators': 92, 'learning_rate': 0.9619916298450952, 'importance_type': 'gain', 'subsample': 1, 'feature_fraction': 0.5008971827606339, 'bagging_fraction': 0.6954260546511286}. Best is trial 2 with value: 0.008548896283498654.\n",
      "divvy_trips - INFO - Start Trial 4\n",
      "divvy_trips - INFO - Performing split number 0\n",
      "divvy_trips - INFO - Performing split number 1\n",
      "divvy_trips - INFO - Performing split number 2\n",
      "divvy_trips - INFO - Performing split number 3\n",
      "divvy_trips - INFO - Performing split number 4\n",
      "Retrying (Retry(total=237, connect=239, read=238, redirect=240, status=240)) after connection broken by 'ReadTimeoutError(\"HTTPSConnectionPool(host='api.clear.ml', port=443): Read timed out. (read timeout=10.0)\")': /v2.23/tasks.get_all\n",
      "Retrying (Retry(total=237, connect=237, read=240, redirect=240, status=240)) after connection broken by 'NameResolutionError(\"<urllib3.connection.HTTPSConnection object at 0x7efbb5bb2bf0>: Failed to resolve 'api.clear.ml' ([Errno -2] Name or service not known)\")': /v2.23/events.add_batch\n",
      "Retrying (Retry(total=237, connect=239, read=238, redirect=240, status=240)) after connection broken by 'NameResolutionError(\"<urllib3.connection.HTTPSConnection object at 0x7efbb5bb33a0>: Failed to resolve 'api.clear.ml' ([Errno -2] Name or service not known)\")': /v2.23/events.add_batch\n",
      "Retrying (Retry(total=236, connect=238, read=238, redirect=240, status=240)) after connection broken by 'NameResolutionError(\"<urllib3.connection.HTTPSConnection object at 0x7efc18c55630>: Failed to resolve 'api.clear.ml' ([Errno -2] Name or service not known)\")': /v2.23/tasks.get_all\n",
      "[I 2024-02-11 21:47:28,494] Trial 4 finished with value: 0.008487048672107221 and parameters: {'num_leaves': 33, 'max_depth': 7, 'n_estimators': 126, 'learning_rate': 0.3576285313935724, 'importance_type': 'gain', 'subsample': 0, 'feature_fraction': 0.23372095933726927, 'bagging_fraction': 0.8604674190845005}. Best is trial 4 with value: 0.008487048672107221.\n",
      "divvy_trips - INFO - The best hyperparameters for <class 'lightgbm.sklearn.LGBMRegressor'> are:\n",
      "divvy_trips - INFO - num_leaves:33\n",
      "divvy_trips - INFO - max_depth:7\n",
      "divvy_trips - INFO - n_estimators:126\n",
      "divvy_trips - INFO - learning_rate:0.3576285313935724\n",
      "divvy_trips - INFO - importance_type:gain\n",
      "divvy_trips - INFO - subsample:0\n",
      "divvy_trips - INFO - feature_fraction:0.23372095933726927\n",
      "divvy_trips - INFO - bagging_fraction:0.8604674190845005\n",
      "divvy_trips - INFO - Best MAE: 0.008487048672107221\n",
      "Retrying (Retry(total=235, connect=238, read=237, redirect=240, status=240)) after connection broken by 'ReadTimeoutError(\"HTTPSConnectionPool(host='api.clear.ml', port=443): Read timed out. (read timeout=10.0)\")': /v2.23/tasks.get_all\n",
      "Retrying (Retry(total=237, connect=240, read=237, redirect=240, status=240)) after connection broken by 'ReadTimeoutError(\"HTTPSConnectionPool(host='api.clear.ml', port=443): Read timed out. (read timeout=10.0)\")': /v2.23/tasks.edit\n",
      "Retrying (Retry(total=234, connect=238, read=236, redirect=240, status=240)) after connection broken by 'ReadTimeoutError(\"HTTPSConnectionPool(host='api.clear.ml', port=443): Read timed out. (read timeout=10.0)\")': /v2.23/tasks.get_all\n",
      "Retrying (Retry(total=236, connect=239, read=237, redirect=240, status=240)) after connection broken by 'NameResolutionError(\"<urllib3.connection.HTTPSConnection object at 0x7efc18c54df0>: Failed to resolve 'api.clear.ml' ([Errno -2] Name or service not known)\")': /v2.23/tasks.edit\n",
      "Retrying (Retry(total=237, connect=238, read=239, redirect=240, status=240)) after connection broken by 'NameResolutionError(\"<urllib3.connection.HTTPSConnection object at 0x7efbb40fce20>: Failed to resolve 'api.clear.ml' ([Errno -2] Name or service not known)\")': /v2.23/events.add_batch\n",
      "Retrying (Retry(total=236, connect=237, read=239, redirect=240, status=240)) after connection broken by 'NameResolutionError(\"<urllib3.connection.HTTPSConnection object at 0x7efbb40fec80>: Failed to resolve 'api.clear.ml' ([Errno -2] Name or service not known)\")': /v2.23/events.add_batch\n",
      "Retrying (Retry(total=235, connect=238, read=237, redirect=240, status=240)) after connection broken by 'NameResolutionError(\"<urllib3.connection.HTTPSConnection object at 0x7efc18de7eb0>: Failed to resolve 'api.clear.ml' ([Errno -2] Name or service not known)\")': /v2.23/tasks.edit\n",
      "Retrying (Retry(total=235, connect=237, read=238, redirect=240, status=240)) after connection broken by 'ReadTimeoutError(\"HTTPSConnectionPool(host='api.clear.ml', port=443): Read timed out. (read timeout=10.0)\")': /v2.23/events.add_batch\n"
     ]
    },
    {
     "name": "stderr",
     "output_type": "stream",
     "text": [
      "Retrying (Retry(total=233, connect=237, read=236, redirect=240, status=240)) after connection broken by 'NameResolutionError(\"<urllib3.connection.HTTPSConnection object at 0x7efc18de7f10>: Failed to resolve 'api.clear.ml' ([Errno -2] Name or service not known)\")': /v2.23/tasks.get_all\n"
     ]
    }
   ],
   "source": [
    "best_lasso_hyperparams_for_start = \\\n",
    "  optimise_hyperparams(\n",
    "    model_fn=LGBMRegressor, \n",
    "    hyperparam_trials = 5, \n",
    "    scenario = \"start\", \n",
    "    X = start_june.drop(\"trips_next_hour\", axis = 1), \n",
    "    y = start_june[\"trips_next_hour\"]\n",
    ")"
   ]
  },
  {
   "cell_type": "markdown",
   "metadata": {},
   "source": [
    "#### XGBRegressor"
   ]
  },
  {
   "cell_type": "code",
   "execution_count": null,
   "metadata": {},
   "outputs": [],
   "source": [
    "best_xgb_hyperparams_for_stops = \\\n",
    "  optimise_hyperparams(\n",
    "    model_fn=XGBRegressor, \n",
    "    hyperparam_trials=5, \n",
    "    scenario=\"start\", \n",
    "    X=start_june.drop(\"trips_next_hour\", axis = 1),\n",
    "    y=start_june[\"trips_next_hour\"]\n",
    ")"
   ]
  },
  {
   "cell_type": "markdown",
   "metadata": {},
   "source": [
    "## Tuning on Stops Data"
   ]
  },
  {
   "cell_type": "markdown",
   "metadata": {},
   "source": [
    "#### Lasso"
   ]
  },
  {
   "cell_type": "code",
   "execution_count": null,
   "metadata": {},
   "outputs": [],
   "source": [
    "best_lasso_hyperparams_for_stops = \\\n",
    "  optimise_hyperparams(\n",
    "    model_fn=Lasso, \n",
    "    hyperparam_trials = 5, \n",
    "    scenario = \"stop\", \n",
    "    X = stop_table.drop(\"trips_next_hour\", axis = 1), \n",
    "    y = stop_table[\"trips_next_hour\"]\n",
    ")"
   ]
  },
  {
   "cell_type": "markdown",
   "metadata": {},
   "source": [
    "#### LGBMRegressor"
   ]
  },
  {
   "cell_type": "code",
   "execution_count": null,
   "metadata": {},
   "outputs": [],
   "source": [
    "best_lgb_hyperparams_for_stops = \\\n",
    "  optimise_hyperparams(\n",
    "    model_fn=LGBMRegressor, \n",
    "    hyperparam_trials=5, \n",
    "    scenario = \"stop\", \n",
    "    X=stop_table.drop(\"trips_next_hour\", axis = 1),\n",
    "    y=stop_table[\"trips_next_hour\"]\n",
    ")"
   ]
  },
  {
   "cell_type": "markdown",
   "metadata": {},
   "source": [
    "#### XGBRegressor"
   ]
  },
  {
   "cell_type": "code",
   "execution_count": null,
   "metadata": {},
   "outputs": [],
   "source": [
    "best_xgb_hyperparams_for_stops = \\\n",
    "  optimise_hyperparams(\n",
    "    model_fn=XGBRegressor, \n",
    "    hyperparam_trials=5, \n",
    "    scenario=\"stop\", \n",
    "    X=stop_table.drop(\"trips_next_hour\", axis = 1),\n",
    "    y=stop_table[\"trips_next_hour\"]\n",
    ")"
   ]
  }
 ],
 "metadata": {
  "kernelspec": {
   "display_name": "src-Frx8CZzu-py3.11",
   "language": "python",
   "name": "python3"
  },
  "language_info": {
   "codemirror_mode": {
    "name": "ipython",
    "version": 3
   },
   "file_extension": ".py",
   "mimetype": "text/x-python",
   "name": "python",
   "nbconvert_exporter": "python",
   "pygments_lexer": "ipython3",
   "version": "3.10.0"
  }
 },
 "nbformat": 4,
 "nbformat_minor": 2
}
