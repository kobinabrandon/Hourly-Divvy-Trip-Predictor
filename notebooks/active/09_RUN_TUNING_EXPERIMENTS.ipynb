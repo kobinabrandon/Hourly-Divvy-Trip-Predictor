{
 "cells": [
  {
   "cell_type": "code",
   "execution_count": 1,
   "metadata": {},
   "outputs": [
    {
     "name": "stderr",
     "output_type": "stream",
     "text": [
      "/home/kobina/.cache/pypoetry/virtualenvs/src-Frx8CZzu-py3.10/lib/python3.10/site-packages/tqdm/auto.py:21: TqdmWarning: IProgress not found. Please update jupyter and ipywidgets. See https://ipywidgets.readthedocs.io/en/stable/user_install.html\n",
      "  from .autonotebook import tqdm as notebook_tqdm\n",
      "\u001b[1;38;5;214mCOMET WARNING:\u001b[0m To get all data logged automatically, import comet_ml before the following modules: xgboost, lightgbm, sklearn.\n",
      "\u001b[1;38;5;214mCOMET WARNING:\u001b[0m As you are running in a Jupyter environment, you will need to call `experiment.end()` when finished to ensure all metrics and code are logged before exiting.\n",
      "\u001b[1;38;5;39mCOMET INFO:\u001b[0m Experiment is live on comet.com https://www.comet.com/kobina/divvy-bikes-demand-predictor-public/34428ae078294518b4797548c73ed10d\n",
      "\n"
     ]
    }
   ],
   "source": [
    "import pandas as pd\n",
    "from lightgbm import LGBMRegressor\n",
    "from xgboost import XGBRegressor\n",
    "from sklearn.linear_model import Lasso \n",
    "\n",
    "from src.paths import TRAINING_DATA\n",
    "from src.hyperparameter_tuning import optimise_hyperparams"
   ]
  },
  {
   "cell_type": "markdown",
   "metadata": {},
   "source": [
    "#### Starts"
   ]
  },
  {
   "cell_type": "code",
   "execution_count": null,
   "metadata": {},
   "outputs": [],
   "source": [
    "start_table = pd.read_parquet(TRAINING_DATA/\"start_table.parquet\")"
   ]
  },
  {
   "cell_type": "code",
   "execution_count": null,
   "metadata": {},
   "outputs": [],
   "source": [
    "best_lasso_hyperparams_for_starts = \\\n",
    "  optimise_hyperparams(\n",
    "    model_fn=Lasso, \n",
    "    hyperparam_trials = 5, \n",
    "    scenario = \"start\", \n",
    "    X = start_table.drop(\"trips_next_hour\", axis = 1), \n",
    "    y = start_table[\"trips_next_hour\"]\n",
    ")"
   ]
  },
  {
   "cell_type": "markdown",
   "metadata": {},
   "source": [
    "### Stops"
   ]
  },
  {
   "cell_type": "code",
   "execution_count": 2,
   "metadata": {},
   "outputs": [],
   "source": [
    "stop_table = pd.read_parquet(TRAINING_DATA/\"stop_table.parquet\") "
   ]
  },
  {
   "cell_type": "markdown",
   "metadata": {},
   "source": [
    "#### Lasso"
   ]
  },
  {
   "cell_type": "code",
   "execution_count": null,
   "metadata": {},
   "outputs": [],
   "source": [
    "best_lasso_hyperparams_for_stops = \\\n",
    "  optimise_hyperparams(\n",
    "    model_fn=Lasso, \n",
    "    hyperparam_trials = 5, \n",
    "    scenario = \"stop\", \n",
    "    X = stop_table.drop(\"trips_next_hour\", axis = 1), \n",
    "    y = stop_table[\"trips_next_hour\"]\n",
    ")"
   ]
  },
  {
   "cell_type": "markdown",
   "metadata": {},
   "source": [
    "#### LGBMRegressor"
   ]
  },
  {
   "cell_type": "code",
   "execution_count": 3,
   "metadata": {},
   "outputs": [
    {
     "name": "stderr",
     "output_type": "stream",
     "text": [
      "divvy_trips - INFO - Beginning hyperparameter search\n",
      "[I 2024-02-06 00:57:34,441] A new study created in memory with name: no-name-aa30187f-a3d6-42d1-b3f2-db02a5ec7ce1\n",
      "divvy_trips - INFO - Start Trial 0\n",
      "divvy_trips - INFO - Performing split number 0\n"
     ]
    },
    {
     "name": "stdout",
     "output_type": "stream",
     "text": [
      "\n",
      "\n"
     ]
    },
    {
     "name": "stderr",
     "output_type": "stream",
     "text": [
      "divvy_trips - INFO - Performing split number 1\n",
      "divvy_trips - INFO - Performing split number 2\n",
      "divvy_trips - INFO - Performing split number 3\n",
      "divvy_trips - INFO - Performing split number 4\n",
      "[I 2024-02-06 00:58:10,871] Trial 0 finished with value: 0.20496896371584833 and parameters: {'num_leaves': 50, 'max_depth': 7, 'n_estimators': 52, 'learning_rate': 0.6653855922654952, 'importance_type': 'split', 'subsample': 0, 'feature_fraction': 0.8074421168630138, 'colsample_by_tree': 0.36967134549956615, 'colsample_by_level': 0.24751151073675703, 'colsample_by_node': 0.3286460741051326, 'bagging_fraction': 0.2842090588611806}. Best is trial 0 with value: 0.20496896371584833.\n",
      "divvy_trips - INFO - Start Trial 1\n",
      "divvy_trips - INFO - Performing split number 0\n"
     ]
    },
    {
     "name": "stdout",
     "output_type": "stream",
     "text": [
      "\n",
      "\n"
     ]
    },
    {
     "name": "stderr",
     "output_type": "stream",
     "text": [
      "divvy_trips - INFO - Performing split number 1\n",
      "divvy_trips - INFO - Performing split number 2\n",
      "divvy_trips - INFO - Performing split number 3\n",
      "divvy_trips - INFO - Performing split number 4\n",
      "[I 2024-02-06 00:59:55,709] Trial 1 finished with value: 0.20672365820234306 and parameters: {'num_leaves': 58, 'max_depth': 8, 'n_estimators': 109, 'learning_rate': 0.5263831308238435, 'importance_type': 'gain', 'subsample': 0, 'feature_fraction': 0.5552746530779602, 'colsample_by_tree': 0.19430008653634756, 'colsample_by_level': 0.8855665348277181, 'colsample_by_node': 0.7546481091920707, 'bagging_fraction': 0.614286172764395}. Best is trial 0 with value: 0.20496896371584833.\n",
      "divvy_trips - INFO - Start Trial 2\n",
      "divvy_trips - INFO - Performing split number 0\n"
     ]
    },
    {
     "name": "stdout",
     "output_type": "stream",
     "text": [
      "\n",
      "\n"
     ]
    },
    {
     "name": "stderr",
     "output_type": "stream",
     "text": [
      "divvy_trips - INFO - Performing split number 1\n",
      "divvy_trips - INFO - Performing split number 2\n",
      "divvy_trips - INFO - Performing split number 3\n",
      "divvy_trips - INFO - Performing split number 4\n",
      "[I 2024-02-06 01:02:03,510] Trial 2 finished with value: 0.2044856218795681 and parameters: {'num_leaves': 39, 'max_depth': 9, 'n_estimators': 138, 'learning_rate': 0.5090172649844095, 'importance_type': 'split', 'subsample': 0, 'feature_fraction': 0.5029190019298146, 'colsample_by_tree': 0.2622408641705394, 'colsample_by_level': 0.8916317127138547, 'colsample_by_node': 0.3928637682806727, 'bagging_fraction': 0.5270861842813163}. Best is trial 2 with value: 0.2044856218795681.\n",
      "divvy_trips - INFO - Start Trial 3\n",
      "divvy_trips - INFO - Performing split number 0\n"
     ]
    },
    {
     "name": "stdout",
     "output_type": "stream",
     "text": [
      "\n",
      "\n"
     ]
    },
    {
     "name": "stderr",
     "output_type": "stream",
     "text": [
      "divvy_trips - INFO - Performing split number 1\n",
      "divvy_trips - INFO - Performing split number 2\n",
      "divvy_trips - INFO - Performing split number 3\n",
      "divvy_trips - INFO - Performing split number 4\n",
      "[I 2024-02-06 01:03:23,400] Trial 3 finished with value: 0.208052642421611 and parameters: {'num_leaves': 42, 'max_depth': 9, 'n_estimators': 100, 'learning_rate': 0.6255044339206903, 'importance_type': 'gain', 'subsample': 1, 'feature_fraction': 0.2720517991921456, 'colsample_by_tree': 0.798037114605478, 'colsample_by_level': 0.8809231215865033, 'colsample_by_node': 0.16955840508982306, 'bagging_fraction': 0.5512501653352012}. Best is trial 2 with value: 0.2044856218795681.\n",
      "divvy_trips - INFO - Start Trial 4\n",
      "divvy_trips - INFO - Performing split number 0\n"
     ]
    },
    {
     "name": "stdout",
     "output_type": "stream",
     "text": [
      "\n",
      "\n"
     ]
    },
    {
     "name": "stderr",
     "output_type": "stream",
     "text": [
      "divvy_trips - INFO - Performing split number 1\n",
      "divvy_trips - INFO - Performing split number 2\n",
      "divvy_trips - INFO - Performing split number 3\n",
      "divvy_trips - INFO - Performing split number 4\n",
      "[I 2024-02-06 01:03:56,827] Trial 4 finished with value: 0.19505482761109055 and parameters: {'num_leaves': 9, 'max_depth': 8, 'n_estimators': 35, 'learning_rate': 0.37843940900146955, 'importance_type': 'split', 'subsample': 1, 'feature_fraction': 0.6605753400233634, 'colsample_by_tree': 0.507000070832764, 'colsample_by_level': 0.132989203577089, 'colsample_by_node': 0.7605783005531188, 'bagging_fraction': 0.9012817362748851}. Best is trial 4 with value: 0.19505482761109055.\n",
      "divvy_trips - INFO - The best hyperparameters for <class 'lightgbm.sklearn.LGBMRegressor'> are:\n",
      "divvy_trips - INFO - num_leaves:9\n",
      "divvy_trips - INFO - max_depth:8\n",
      "divvy_trips - INFO - n_estimators:35\n",
      "divvy_trips - INFO - learning_rate:0.37843940900146955\n",
      "divvy_trips - INFO - importance_type:split\n",
      "divvy_trips - INFO - subsample:1\n",
      "divvy_trips - INFO - feature_fraction:0.6605753400233634\n",
      "divvy_trips - INFO - colsample_by_tree:0.507000070832764\n",
      "divvy_trips - INFO - colsample_by_level:0.132989203577089\n",
      "divvy_trips - INFO - colsample_by_node:0.7605783005531188\n",
      "divvy_trips - INFO - bagging_fraction:0.9012817362748851\n",
      "divvy_trips - INFO - Best MAE: 0.19505482761109055\n",
      "\u001b[1;38;5;39mCOMET INFO:\u001b[0m ---------------------------------------------------------------------------------------\n",
      "\u001b[1;38;5;39mCOMET INFO:\u001b[0m Comet.ml Experiment Summary\n",
      "\u001b[1;38;5;39mCOMET INFO:\u001b[0m ---------------------------------------------------------------------------------------\n",
      "\u001b[1;38;5;39mCOMET INFO:\u001b[0m   Data:\n",
      "\u001b[1;38;5;39mCOMET INFO:\u001b[0m     display_summary_level : 1\n",
      "\u001b[1;38;5;39mCOMET INFO:\u001b[0m     url                   : https://www.comet.com/kobina/divvy-bikes-demand-predictor-public/91d9d8fc0a0b42e1b95ec04a2a8e7652\n",
      "\u001b[1;38;5;39mCOMET INFO:\u001b[0m   Metrics:\n",
      "\u001b[1;38;5;39mCOMET INFO:\u001b[0m     Cross validation M.A.E : 0.19505482761109055\n",
      "\u001b[1;38;5;39mCOMET INFO:\u001b[0m   Parameters:\n",
      "\u001b[1;38;5;39mCOMET INFO:\u001b[0m     lgbmregressor__bagging_fraction                  : 0.9012817362748851\n",
      "\u001b[1;38;5;39mCOMET INFO:\u001b[0m     lgbmregressor__boosting_type                     : gbdt\n",
      "\u001b[1;38;5;39mCOMET INFO:\u001b[0m     lgbmregressor__class_weight                      : None\n",
      "\u001b[1;38;5;39mCOMET INFO:\u001b[0m     lgbmregressor__colsample_by_level                : 0.132989203577089\n",
      "\u001b[1;38;5;39mCOMET INFO:\u001b[0m     lgbmregressor__colsample_by_node                 : 0.7605783005531188\n",
      "\u001b[1;38;5;39mCOMET INFO:\u001b[0m     lgbmregressor__colsample_by_tree                 : 0.507000070832764\n",
      "\u001b[1;38;5;39mCOMET INFO:\u001b[0m     lgbmregressor__colsample_bytree                  : 1.0\n",
      "\u001b[1;38;5;39mCOMET INFO:\u001b[0m     lgbmregressor__feature_fraction                  : 0.6605753400233634\n",
      "\u001b[1;38;5;39mCOMET INFO:\u001b[0m     lgbmregressor__importance_type                   : split\n",
      "\u001b[1;38;5;39mCOMET INFO:\u001b[0m     lgbmregressor__learning_rate                     : 0.37843940900146955\n",
      "\u001b[1;38;5;39mCOMET INFO:\u001b[0m     lgbmregressor__max_depth                         : 8\n",
      "\u001b[1;38;5;39mCOMET INFO:\u001b[0m     lgbmregressor__metric                            : mean_absolute_error\n",
      "\u001b[1;38;5;39mCOMET INFO:\u001b[0m     lgbmregressor__min_child_samples                 : 20\n",
      "\u001b[1;38;5;39mCOMET INFO:\u001b[0m     lgbmregressor__min_child_weight                  : 0.001\n",
      "\u001b[1;38;5;39mCOMET INFO:\u001b[0m     lgbmregressor__min_split_gain                    : 0.0\n",
      "\u001b[1;38;5;39mCOMET INFO:\u001b[0m     lgbmregressor__n_estimators                      : 35\n",
      "\u001b[1;38;5;39mCOMET INFO:\u001b[0m     lgbmregressor__n_jobs                            : None\n",
      "\u001b[1;38;5;39mCOMET INFO:\u001b[0m     lgbmregressor__num_leaves                        : 9\n",
      "\u001b[1;38;5;39mCOMET INFO:\u001b[0m     lgbmregressor__objective                         : None\n",
      "\u001b[1;38;5;39mCOMET INFO:\u001b[0m     lgbmregressor__random_state                      : None\n",
      "\u001b[1;38;5;39mCOMET INFO:\u001b[0m     lgbmregressor__reg_alpha                         : 0.0\n",
      "\u001b[1;38;5;39mCOMET INFO:\u001b[0m     lgbmregressor__reg_lambda                        : 0.0\n",
      "\u001b[1;38;5;39mCOMET INFO:\u001b[0m     lgbmregressor__subsample                         : 1\n",
      "\u001b[1;38;5;39mCOMET INFO:\u001b[0m     lgbmregressor__subsample_for_bin                 : 200000\n",
      "\u001b[1;38;5;39mCOMET INFO:\u001b[0m     lgbmregressor__subsample_freq                    : 0\n",
      "\u001b[1;38;5;39mCOMET INFO:\u001b[0m     lgbmregressor__verbose                           : -1\n",
      "\u001b[1;38;5;39mCOMET INFO:\u001b[0m     lgbmregressor_bagging_fraction                   : 0.9012817362748851\n",
      "\u001b[1;38;5;39mCOMET INFO:\u001b[0m     lgbmregressor_boosting_type                      : gbdt\n",
      "\u001b[1;38;5;39mCOMET INFO:\u001b[0m     lgbmregressor_class_weight                       : None\n",
      "\u001b[1;38;5;39mCOMET INFO:\u001b[0m     lgbmregressor_colsample_by_level                 : 0.132989203577089\n",
      "\u001b[1;38;5;39mCOMET INFO:\u001b[0m     lgbmregressor_colsample_by_node                  : 0.7605783005531188\n",
      "\u001b[1;38;5;39mCOMET INFO:\u001b[0m     lgbmregressor_colsample_by_tree                  : 0.507000070832764\n",
      "\u001b[1;38;5;39mCOMET INFO:\u001b[0m     lgbmregressor_colsample_bytree                   : 1.0\n",
      "\u001b[1;38;5;39mCOMET INFO:\u001b[0m     lgbmregressor_feature_fraction                   : 0.6605753400233634\n",
      "\u001b[1;38;5;39mCOMET INFO:\u001b[0m     lgbmregressor_importance_type                    : split\n",
      "\u001b[1;38;5;39mCOMET INFO:\u001b[0m     lgbmregressor_learning_rate                      : 0.37843940900146955\n",
      "\u001b[1;38;5;39mCOMET INFO:\u001b[0m     lgbmregressor_max_depth                          : 8\n",
      "\u001b[1;38;5;39mCOMET INFO:\u001b[0m     lgbmregressor_metric                             : mean_absolute_error\n",
      "\u001b[1;38;5;39mCOMET INFO:\u001b[0m     lgbmregressor_min_child_samples                  : 20\n",
      "\u001b[1;38;5;39mCOMET INFO:\u001b[0m     lgbmregressor_min_child_weight                   : 0.001\n",
      "\u001b[1;38;5;39mCOMET INFO:\u001b[0m     lgbmregressor_min_split_gain                     : 0.0\n",
      "\u001b[1;38;5;39mCOMET INFO:\u001b[0m     lgbmregressor_n_estimators                       : 35\n",
      "\u001b[1;38;5;39mCOMET INFO:\u001b[0m     lgbmregressor_n_jobs                             : None\n",
      "\u001b[1;38;5;39mCOMET INFO:\u001b[0m     lgbmregressor_num_leaves                         : 9\n",
      "\u001b[1;38;5;39mCOMET INFO:\u001b[0m     lgbmregressor_objective                          : None\n",
      "\u001b[1;38;5;39mCOMET INFO:\u001b[0m     lgbmregressor_random_state                       : None\n",
      "\u001b[1;38;5;39mCOMET INFO:\u001b[0m     lgbmregressor_reg_alpha                          : 0.0\n",
      "\u001b[1;38;5;39mCOMET INFO:\u001b[0m     lgbmregressor_reg_lambda                         : 0.0\n",
      "\u001b[1;38;5;39mCOMET INFO:\u001b[0m     lgbmregressor_subsample                          : 1\n",
      "\u001b[1;38;5;39mCOMET INFO:\u001b[0m     lgbmregressor_subsample_for_bin                  : 200000\n",
      "\u001b[1;38;5;39mCOMET INFO:\u001b[0m     lgbmregressor_subsample_freq                     : 0\n",
      "\u001b[1;38;5;39mCOMET INFO:\u001b[0m     lgbmregressor_verbose                            : -1\n",
      "\u001b[1;38;5;39mCOMET INFO:\u001b[0m     memory                                           : None\n",
      "\u001b[1;38;5;39mCOMET INFO:\u001b[0m     pipeline__functiontransformer                    : FunctionTransformer(func=<function average_trips_last_4_weeks at 0x7eff0eb32710>)\n",
      "\u001b[1;38;5;39mCOMET INFO:\u001b[0m     pipeline__functiontransformer__accept_sparse     : False\n",
      "\u001b[1;38;5;39mCOMET INFO:\u001b[0m     pipeline__functiontransformer__check_inverse     : True\n",
      "\u001b[1;38;5;39mCOMET INFO:\u001b[0m     pipeline__functiontransformer__feature_names_out : None\n",
      "\u001b[1;38;5;39mCOMET INFO:\u001b[0m     pipeline__functiontransformer__func              : <function average_trips_last_4_weeks at 0x7eff0eb32710>\n",
      "\u001b[1;38;5;39mCOMET INFO:\u001b[0m     pipeline__functiontransformer__inv_kw_args       : None\n",
      "\u001b[1;38;5;39mCOMET INFO:\u001b[0m     pipeline__functiontransformer__inverse_func      : None\n",
      "\u001b[1;38;5;39mCOMET INFO:\u001b[0m     pipeline__functiontransformer__kw_args           : None\n",
      "\u001b[1;38;5;39mCOMET INFO:\u001b[0m     pipeline__functiontransformer__validate          : False\n",
      "\u001b[1;38;5;39mCOMET INFO:\u001b[0m     pipeline__memory                                 : None\n",
      "\u001b[1;38;5;39mCOMET INFO:\u001b[0m     pipeline__steps                                  : [('functiontransformer', FunctionTransformer(func=<function average_trips_last_4_weeks at 0x7eff0eb32710>)), ('temporalfeatureengineeringstops', TemporalFeatureEngineeringStops())]\n",
      "\u001b[1;38;5;39mCOMET INFO:\u001b[0m     pipeline__temporalfeatureengineeringstops        : TemporalFeatureEngineeringStops()\n",
      "\u001b[1;38;5;39mCOMET INFO:\u001b[0m     pipeline__verbose                                : False\n",
      "\u001b[1;38;5;39mCOMET INFO:\u001b[0m     pipeline_functiontransformer                     : FunctionTransformer(func=<function average_trips_last_4_weeks at 0x7eff0eb32710>)\n",
      "\u001b[1;38;5;39mCOMET INFO:\u001b[0m     pipeline_functiontransformer__accept_sparse      : False\n",
      "\u001b[1;38;5;39mCOMET INFO:\u001b[0m     pipeline_functiontransformer__check_inverse      : True\n",
      "\u001b[1;38;5;39mCOMET INFO:\u001b[0m     pipeline_functiontransformer__feature_names_out  : None\n",
      "\u001b[1;38;5;39mCOMET INFO:\u001b[0m     pipeline_functiontransformer__func               : <function average_trips_last_4_weeks at 0x7eff0eb32710>\n",
      "\u001b[1;38;5;39mCOMET INFO:\u001b[0m     pipeline_functiontransformer__inv_kw_args        : None\n",
      "\u001b[1;38;5;39mCOMET INFO:\u001b[0m     pipeline_functiontransformer__inverse_func       : None\n",
      "\u001b[1;38;5;39mCOMET INFO:\u001b[0m     pipeline_functiontransformer__kw_args            : None\n",
      "\u001b[1;38;5;39mCOMET INFO:\u001b[0m     pipeline_functiontransformer__validate           : False\n",
      "\u001b[1;38;5;39mCOMET INFO:\u001b[0m     pipeline_memory                                  : None\n",
      "\u001b[1;38;5;39mCOMET INFO:\u001b[0m     pipeline_steps                                   : [('functiontransformer', FunctionTransformer(func=<function average_trips_last_4_weeks at 0x7eff0eb32710>)), ('temporalfeatureengineeringstops', TemporalFeatureEngineeringStops())]\n",
      "\u001b[1;38;5;39mCOMET INFO:\u001b[0m     pipeline_temporalfeatureengineeringstops         : TemporalFeatureEngineeringStops()\n",
      "\u001b[1;38;5;39mCOMET INFO:\u001b[0m     pipeline_verbose                                 : False\n",
      "\u001b[1;38;5;39mCOMET INFO:\u001b[0m     verbose                                          : False\n",
      "\u001b[1;38;5;39mCOMET INFO:\u001b[0m   Uploads:\n",
      "\u001b[1;38;5;39mCOMET INFO:\u001b[0m     environment details      : 1\n",
      "\u001b[1;38;5;39mCOMET INFO:\u001b[0m     filename                 : 1\n",
      "\u001b[1;38;5;39mCOMET INFO:\u001b[0m     git metadata             : 1\n",
      "\u001b[1;38;5;39mCOMET INFO:\u001b[0m     git-patch (uncompressed) : 1 (118.07 KB)\n",
      "\u001b[1;38;5;39mCOMET INFO:\u001b[0m     installed packages       : 1\n",
      "\u001b[1;38;5;39mCOMET INFO:\u001b[0m     notebook                 : 1\n",
      "\u001b[1;38;5;39mCOMET INFO:\u001b[0m     os packages              : 1\n",
      "\u001b[1;38;5;39mCOMET INFO:\u001b[0m     source_code              : 1\n",
      "\u001b[1;38;5;39mCOMET INFO:\u001b[0m \n",
      "\u001b[1;38;5;214mCOMET WARNING:\u001b[0m To get all data logged automatically, import comet_ml before the following modules: lightgbm, xgboost, sklearn.\n"
     ]
    }
   ],
   "source": [
    "best_lgb_hyperparams_for_stops = \\\n",
    "  optimise_hyperparams(\n",
    "    model_fn=LGBMRegressor, \n",
    "    hyperparam_trials=5, \n",
    "    scenario = \"stop\", \n",
    "    X=stop_table.drop(\"trips_next_hour\", axis = 1),\n",
    "    y=stop_table[\"trips_next_hour\"]\n",
    ")"
   ]
  },
  {
   "cell_type": "markdown",
   "metadata": {},
   "source": [
    "#### XGBRegressor"
   ]
  },
  {
   "cell_type": "code",
   "execution_count": 3,
   "metadata": {},
   "outputs": [
    {
     "name": "stderr",
     "output_type": "stream",
     "text": [
      "divvy_trips - INFO - Beginning hyperparameter search\n",
      "[I 2024-02-06 01:12:40,371] A new study created in memory with name: no-name-c5e3eea9-5666-4df8-8940-fc34d71b4ed1\n",
      "divvy_trips - INFO - Start Trial 0\n",
      "divvy_trips - INFO - Performing split number 0\n"
     ]
    },
    {
     "name": "stdout",
     "output_type": "stream",
     "text": [
      "\n",
      "\n"
     ]
    },
    {
     "name": "stderr",
     "output_type": "stream",
     "text": [
      "/home/kobina/.cache/pypoetry/virtualenvs/src-Frx8CZzu-py3.10/lib/python3.10/site-packages/xgboost/core.py:160: UserWarning: [01:12:41] WARNING: /workspace/src/learner.cc:742: \n",
      "Parameters: { \"colsample_by_level\", \"colsample_by_node\", \"colsample_by_tree\" } are not used.\n",
      "\n",
      "  warnings.warn(smsg, UserWarning)\n",
      "divvy_trips - INFO - Performing split number 1\n",
      "/home/kobina/.cache/pypoetry/virtualenvs/src-Frx8CZzu-py3.10/lib/python3.10/site-packages/xgboost/core.py:160: UserWarning: [01:12:54] WARNING: /workspace/src/learner.cc:742: \n",
      "Parameters: { \"colsample_by_level\", \"colsample_by_node\", \"colsample_by_tree\" } are not used.\n",
      "\n",
      "  warnings.warn(smsg, UserWarning)\n",
      "divvy_trips - INFO - Performing split number 2\n",
      "/home/kobina/.cache/pypoetry/virtualenvs/src-Frx8CZzu-py3.10/lib/python3.10/site-packages/xgboost/core.py:160: UserWarning: [01:13:16] WARNING: /workspace/src/learner.cc:742: \n",
      "Parameters: { \"colsample_by_level\", \"colsample_by_node\", \"colsample_by_tree\" } are not used.\n",
      "\n",
      "  warnings.warn(smsg, UserWarning)\n",
      "divvy_trips - INFO - Performing split number 3\n",
      "/home/kobina/.cache/pypoetry/virtualenvs/src-Frx8CZzu-py3.10/lib/python3.10/site-packages/xgboost/core.py:160: UserWarning: [01:13:47] WARNING: /workspace/src/learner.cc:742: \n",
      "Parameters: { \"colsample_by_level\", \"colsample_by_node\", \"colsample_by_tree\" } are not used.\n",
      "\n",
      "  warnings.warn(smsg, UserWarning)\n",
      "divvy_trips - INFO - Performing split number 4\n",
      "/home/kobina/.cache/pypoetry/virtualenvs/src-Frx8CZzu-py3.10/lib/python3.10/site-packages/xgboost/core.py:160: UserWarning: [01:14:29] WARNING: /workspace/src/learner.cc:742: \n",
      "Parameters: { \"colsample_by_level\", \"colsample_by_node\", \"colsample_by_tree\" } are not used.\n",
      "\n",
      "  warnings.warn(smsg, UserWarning)\n",
      "[I 2024-02-06 01:15:14,185] Trial 0 finished with value: 0.17087715864181519 and parameters: {'eta': 0.8090089669184578, 'max_depth': 8, 'alpha': 1.627575571737482, 'subsample': 1, 'colsample_by_tree': 0.9728813300435879, 'colsample_by_level': 0.8013045345189957, 'colsample_by_node': 0.5068040975074096}. Best is trial 0 with value: 0.17087715864181519.\n",
      "divvy_trips - INFO - Start Trial 1\n",
      "divvy_trips - INFO - Performing split number 0\n"
     ]
    },
    {
     "name": "stdout",
     "output_type": "stream",
     "text": [
      "\n",
      "\n"
     ]
    },
    {
     "name": "stderr",
     "output_type": "stream",
     "text": [
      "/home/kobina/.cache/pypoetry/virtualenvs/src-Frx8CZzu-py3.10/lib/python3.10/site-packages/xgboost/core.py:160: UserWarning: [01:15:15] WARNING: /workspace/src/learner.cc:742: \n",
      "Parameters: { \"colsample_by_level\", \"colsample_by_node\", \"colsample_by_tree\" } are not used.\n",
      "\n",
      "  warnings.warn(smsg, UserWarning)\n",
      "divvy_trips - INFO - Performing split number 1\n",
      "/home/kobina/.cache/pypoetry/virtualenvs/src-Frx8CZzu-py3.10/lib/python3.10/site-packages/xgboost/core.py:160: UserWarning: [01:15:25] WARNING: /workspace/src/learner.cc:742: \n",
      "Parameters: { \"colsample_by_level\", \"colsample_by_node\", \"colsample_by_tree\" } are not used.\n",
      "\n",
      "  warnings.warn(smsg, UserWarning)\n",
      "divvy_trips - INFO - Performing split number 2\n",
      "/home/kobina/.cache/pypoetry/virtualenvs/src-Frx8CZzu-py3.10/lib/python3.10/site-packages/xgboost/core.py:160: UserWarning: [01:15:43] WARNING: /workspace/src/learner.cc:742: \n",
      "Parameters: { \"colsample_by_level\", \"colsample_by_node\", \"colsample_by_tree\" } are not used.\n",
      "\n",
      "  warnings.warn(smsg, UserWarning)\n",
      "divvy_trips - INFO - Performing split number 3\n",
      "/home/kobina/.cache/pypoetry/virtualenvs/src-Frx8CZzu-py3.10/lib/python3.10/site-packages/xgboost/core.py:160: UserWarning: [01:16:07] WARNING: /workspace/src/learner.cc:742: \n",
      "Parameters: { \"colsample_by_level\", \"colsample_by_node\", \"colsample_by_tree\" } are not used.\n",
      "\n",
      "  warnings.warn(smsg, UserWarning)\n",
      "divvy_trips - INFO - Performing split number 4\n",
      "/home/kobina/.cache/pypoetry/virtualenvs/src-Frx8CZzu-py3.10/lib/python3.10/site-packages/xgboost/core.py:160: UserWarning: [01:16:39] WARNING: /workspace/src/learner.cc:742: \n",
      "Parameters: { \"colsample_by_level\", \"colsample_by_node\", \"colsample_by_tree\" } are not used.\n",
      "\n",
      "  warnings.warn(smsg, UserWarning)\n",
      "[I 2024-02-06 01:17:09,993] Trial 1 finished with value: 0.1558344066143036 and parameters: {'eta': 0.7948236468284198, 'max_depth': 4, 'alpha': 1.240654350931024, 'subsample': 1, 'colsample_by_tree': 0.2058691741415387, 'colsample_by_level': 0.38265257582732504, 'colsample_by_node': 0.395338425887634}. Best is trial 1 with value: 0.1558344066143036.\n",
      "divvy_trips - INFO - Start Trial 2\n",
      "divvy_trips - INFO - Performing split number 0\n"
     ]
    },
    {
     "name": "stdout",
     "output_type": "stream",
     "text": [
      "\n",
      "\n"
     ]
    },
    {
     "name": "stderr",
     "output_type": "stream",
     "text": [
      "/home/kobina/.cache/pypoetry/virtualenvs/src-Frx8CZzu-py3.10/lib/python3.10/site-packages/xgboost/core.py:160: UserWarning: [01:17:11] WARNING: /workspace/src/learner.cc:742: \n",
      "Parameters: { \"colsample_by_level\", \"colsample_by_node\", \"colsample_by_tree\" } are not used.\n",
      "\n",
      "  warnings.warn(smsg, UserWarning)\n",
      "divvy_trips - INFO - Performing split number 1\n",
      "/home/kobina/.cache/pypoetry/virtualenvs/src-Frx8CZzu-py3.10/lib/python3.10/site-packages/xgboost/core.py:160: UserWarning: [01:17:18] WARNING: /workspace/src/learner.cc:742: \n",
      "Parameters: { \"colsample_by_level\", \"colsample_by_node\", \"colsample_by_tree\" } are not used.\n",
      "\n",
      "  warnings.warn(smsg, UserWarning)\n",
      "divvy_trips - INFO - Performing split number 2\n",
      "/home/kobina/.cache/pypoetry/virtualenvs/src-Frx8CZzu-py3.10/lib/python3.10/site-packages/xgboost/core.py:160: UserWarning: [01:17:29] WARNING: /workspace/src/learner.cc:742: \n",
      "Parameters: { \"colsample_by_level\", \"colsample_by_node\", \"colsample_by_tree\" } are not used.\n",
      "\n",
      "  warnings.warn(smsg, UserWarning)\n",
      "divvy_trips - INFO - Performing split number 3\n",
      "/home/kobina/.cache/pypoetry/virtualenvs/src-Frx8CZzu-py3.10/lib/python3.10/site-packages/xgboost/core.py:160: UserWarning: [01:17:44] WARNING: /workspace/src/learner.cc:742: \n",
      "Parameters: { \"colsample_by_level\", \"colsample_by_node\", \"colsample_by_tree\" } are not used.\n",
      "\n",
      "  warnings.warn(smsg, UserWarning)\n",
      "divvy_trips - INFO - Performing split number 4\n",
      "/home/kobina/.cache/pypoetry/virtualenvs/src-Frx8CZzu-py3.10/lib/python3.10/site-packages/xgboost/core.py:160: UserWarning: [01:18:03] WARNING: /workspace/src/learner.cc:742: \n",
      "Parameters: { \"colsample_by_level\", \"colsample_by_node\", \"colsample_by_tree\" } are not used.\n",
      "\n",
      "  warnings.warn(smsg, UserWarning)\n",
      "[I 2024-02-06 01:18:18,535] Trial 2 finished with value: 0.1762741357088089 and parameters: {'eta': 0.8569231169435146, 'max_depth': 6, 'alpha': 0.04772564765031295, 'subsample': 0, 'colsample_by_tree': 0.138729639052558, 'colsample_by_level': 0.7628129154827453, 'colsample_by_node': 0.3672454381320174}. Best is trial 1 with value: 0.1558344066143036.\n",
      "divvy_trips - INFO - Start Trial 3\n",
      "divvy_trips - INFO - Performing split number 0\n"
     ]
    },
    {
     "name": "stdout",
     "output_type": "stream",
     "text": [
      "\n",
      "\n"
     ]
    },
    {
     "name": "stderr",
     "output_type": "stream",
     "text": [
      "/home/kobina/.cache/pypoetry/virtualenvs/src-Frx8CZzu-py3.10/lib/python3.10/site-packages/xgboost/core.py:160: UserWarning: [01:18:20] WARNING: /workspace/src/learner.cc:742: \n",
      "Parameters: { \"colsample_by_level\", \"colsample_by_node\", \"colsample_by_tree\" } are not used.\n",
      "\n",
      "  warnings.warn(smsg, UserWarning)\n",
      "divvy_trips - INFO - Performing split number 1\n",
      "/home/kobina/.cache/pypoetry/virtualenvs/src-Frx8CZzu-py3.10/lib/python3.10/site-packages/xgboost/core.py:160: UserWarning: [01:18:26] WARNING: /workspace/src/learner.cc:742: \n",
      "Parameters: { \"colsample_by_level\", \"colsample_by_node\", \"colsample_by_tree\" } are not used.\n",
      "\n",
      "  warnings.warn(smsg, UserWarning)\n",
      "divvy_trips - INFO - Performing split number 2\n",
      "/home/kobina/.cache/pypoetry/virtualenvs/src-Frx8CZzu-py3.10/lib/python3.10/site-packages/xgboost/core.py:160: UserWarning: [01:18:37] WARNING: /workspace/src/learner.cc:742: \n",
      "Parameters: { \"colsample_by_level\", \"colsample_by_node\", \"colsample_by_tree\" } are not used.\n",
      "\n",
      "  warnings.warn(smsg, UserWarning)\n",
      "divvy_trips - INFO - Performing split number 3\n",
      "/home/kobina/.cache/pypoetry/virtualenvs/src-Frx8CZzu-py3.10/lib/python3.10/site-packages/xgboost/core.py:160: UserWarning: [01:18:52] WARNING: /workspace/src/learner.cc:742: \n",
      "Parameters: { \"colsample_by_level\", \"colsample_by_node\", \"colsample_by_tree\" } are not used.\n",
      "\n",
      "  warnings.warn(smsg, UserWarning)\n",
      "divvy_trips - INFO - Performing split number 4\n",
      "/home/kobina/.cache/pypoetry/virtualenvs/src-Frx8CZzu-py3.10/lib/python3.10/site-packages/xgboost/core.py:160: UserWarning: [01:19:12] WARNING: /workspace/src/learner.cc:742: \n",
      "Parameters: { \"colsample_by_level\", \"colsample_by_node\", \"colsample_by_tree\" } are not used.\n",
      "\n",
      "  warnings.warn(smsg, UserWarning)\n",
      "[I 2024-02-06 01:19:27,263] Trial 3 finished with value: 0.1762741357088089 and parameters: {'eta': 0.8021214104370077, 'max_depth': 10, 'alpha': 0.11111679360871562, 'subsample': 0, 'colsample_by_tree': 0.4374348684623708, 'colsample_by_level': 0.17139307366727918, 'colsample_by_node': 0.17002948767301163}. Best is trial 1 with value: 0.1558344066143036.\n",
      "divvy_trips - INFO - Start Trial 4\n",
      "divvy_trips - INFO - Performing split number 0\n"
     ]
    },
    {
     "name": "stdout",
     "output_type": "stream",
     "text": [
      "\n",
      "\n"
     ]
    },
    {
     "name": "stderr",
     "output_type": "stream",
     "text": [
      "/home/kobina/.cache/pypoetry/virtualenvs/src-Frx8CZzu-py3.10/lib/python3.10/site-packages/xgboost/core.py:160: UserWarning: [01:19:28] WARNING: /workspace/src/learner.cc:742: \n",
      "Parameters: { \"colsample_by_level\", \"colsample_by_node\", \"colsample_by_tree\" } are not used.\n",
      "\n",
      "  warnings.warn(smsg, UserWarning)\n",
      "divvy_trips - INFO - Performing split number 1\n",
      "/home/kobina/.cache/pypoetry/virtualenvs/src-Frx8CZzu-py3.10/lib/python3.10/site-packages/xgboost/core.py:160: UserWarning: [01:19:35] WARNING: /workspace/src/learner.cc:742: \n",
      "Parameters: { \"colsample_by_level\", \"colsample_by_node\", \"colsample_by_tree\" } are not used.\n",
      "\n",
      "  warnings.warn(smsg, UserWarning)\n",
      "divvy_trips - INFO - Performing split number 2\n",
      "/home/kobina/.cache/pypoetry/virtualenvs/src-Frx8CZzu-py3.10/lib/python3.10/site-packages/xgboost/core.py:160: UserWarning: [01:19:46] WARNING: /workspace/src/learner.cc:742: \n",
      "Parameters: { \"colsample_by_level\", \"colsample_by_node\", \"colsample_by_tree\" } are not used.\n",
      "\n",
      "  warnings.warn(smsg, UserWarning)\n",
      "divvy_trips - INFO - Performing split number 3\n",
      "/home/kobina/.cache/pypoetry/virtualenvs/src-Frx8CZzu-py3.10/lib/python3.10/site-packages/xgboost/core.py:160: UserWarning: [01:20:01] WARNING: /workspace/src/learner.cc:742: \n",
      "Parameters: { \"colsample_by_level\", \"colsample_by_node\", \"colsample_by_tree\" } are not used.\n",
      "\n",
      "  warnings.warn(smsg, UserWarning)\n",
      "divvy_trips - INFO - Performing split number 4\n",
      "/home/kobina/.cache/pypoetry/virtualenvs/src-Frx8CZzu-py3.10/lib/python3.10/site-packages/xgboost/core.py:160: UserWarning: [01:20:22] WARNING: /workspace/src/learner.cc:742: \n",
      "Parameters: { \"colsample_by_level\", \"colsample_by_node\", \"colsample_by_tree\" } are not used.\n",
      "\n",
      "  warnings.warn(smsg, UserWarning)\n",
      "[I 2024-02-06 01:20:37,736] Trial 4 finished with value: 0.1762741357088089 and parameters: {'eta': 0.4218364621112167, 'max_depth': 10, 'alpha': 0.17023133295124593, 'subsample': 0, 'colsample_by_tree': 0.2648404355933356, 'colsample_by_level': 0.5936462168148562, 'colsample_by_node': 0.8741963261124106}. Best is trial 1 with value: 0.1558344066143036.\n",
      "divvy_trips - INFO - The best hyperparameters for <class 'xgboost.sklearn.XGBRegressor'> are:\n",
      "divvy_trips - INFO - eta:0.7948236468284198\n",
      "divvy_trips - INFO - max_depth:4\n",
      "divvy_trips - INFO - alpha:1.240654350931024\n",
      "divvy_trips - INFO - subsample:1\n",
      "divvy_trips - INFO - colsample_by_tree:0.2058691741415387\n",
      "divvy_trips - INFO - colsample_by_level:0.38265257582732504\n",
      "divvy_trips - INFO - colsample_by_node:0.395338425887634\n",
      "divvy_trips - INFO - Best MAE: 0.1558344066143036\n",
      "\u001b[1;38;5;39mCOMET INFO:\u001b[0m ---------------------------------------------------------------------------------------\n",
      "\u001b[1;38;5;39mCOMET INFO:\u001b[0m Comet.ml Experiment Summary\n",
      "\u001b[1;38;5;39mCOMET INFO:\u001b[0m ---------------------------------------------------------------------------------------\n",
      "\u001b[1;38;5;39mCOMET INFO:\u001b[0m   Data:\n",
      "\u001b[1;38;5;39mCOMET INFO:\u001b[0m     display_summary_level : 1\n",
      "\u001b[1;38;5;39mCOMET INFO:\u001b[0m     url                   : https://www.comet.com/kobina/divvy-bikes-demand-predictor-public/792bdcbe76024ced996fe835bbef66de\n",
      "\u001b[1;38;5;39mCOMET INFO:\u001b[0m   Metrics:\n",
      "\u001b[1;38;5;39mCOMET INFO:\u001b[0m     Cross validation M.A.E : 0.1558344066143036\n",
      "\u001b[1;38;5;39mCOMET INFO:\u001b[0m   Parameters:\n",
      "\u001b[1;38;5;39mCOMET INFO:\u001b[0m     memory                                           : None\n",
      "\u001b[1;38;5;39mCOMET INFO:\u001b[0m     pipeline__functiontransformer                    : FunctionTransformer(func=<function average_trips_last_4_weeks at 0x7fba1161e710>)\n",
      "\u001b[1;38;5;39mCOMET INFO:\u001b[0m     pipeline__functiontransformer__accept_sparse     : False\n",
      "\u001b[1;38;5;39mCOMET INFO:\u001b[0m     pipeline__functiontransformer__check_inverse     : True\n",
      "\u001b[1;38;5;39mCOMET INFO:\u001b[0m     pipeline__functiontransformer__feature_names_out : None\n",
      "\u001b[1;38;5;39mCOMET INFO:\u001b[0m     pipeline__functiontransformer__func              : <function average_trips_last_4_weeks at 0x7fba1161e710>\n",
      "\u001b[1;38;5;39mCOMET INFO:\u001b[0m     pipeline__functiontransformer__inv_kw_args       : None\n",
      "\u001b[1;38;5;39mCOMET INFO:\u001b[0m     pipeline__functiontransformer__inverse_func      : None\n",
      "\u001b[1;38;5;39mCOMET INFO:\u001b[0m     pipeline__functiontransformer__kw_args           : None\n",
      "\u001b[1;38;5;39mCOMET INFO:\u001b[0m     pipeline__functiontransformer__validate          : False\n",
      "\u001b[1;38;5;39mCOMET INFO:\u001b[0m     pipeline__memory                                 : None\n",
      "\u001b[1;38;5;39mCOMET INFO:\u001b[0m     pipeline__steps                                  : [('functiontransformer', FunctionTransformer(func=<function average_trips_last_4_weeks at 0x7fba1161e710>)), ('temporalfeatureengineeringstops', TemporalFeatureEngineeringStops())]\n",
      "\u001b[1;38;5;39mCOMET INFO:\u001b[0m     pipeline__temporalfeatureengineeringstops        : TemporalFeatureEngineeringStops()\n",
      "\u001b[1;38;5;39mCOMET INFO:\u001b[0m     pipeline__verbose                                : False\n",
      "\u001b[1;38;5;39mCOMET INFO:\u001b[0m     pipeline_functiontransformer                     : FunctionTransformer(func=<function average_trips_last_4_weeks at 0x7fba1161e710>)\n",
      "\u001b[1;38;5;39mCOMET INFO:\u001b[0m     pipeline_functiontransformer__accept_sparse      : False\n",
      "\u001b[1;38;5;39mCOMET INFO:\u001b[0m     pipeline_functiontransformer__check_inverse      : True\n",
      "\u001b[1;38;5;39mCOMET INFO:\u001b[0m     pipeline_functiontransformer__feature_names_out  : None\n",
      "\u001b[1;38;5;39mCOMET INFO:\u001b[0m     pipeline_functiontransformer__func               : <function average_trips_last_4_weeks at 0x7fba1161e710>\n",
      "\u001b[1;38;5;39mCOMET INFO:\u001b[0m     pipeline_functiontransformer__inv_kw_args        : None\n",
      "\u001b[1;38;5;39mCOMET INFO:\u001b[0m     pipeline_functiontransformer__inverse_func       : None\n",
      "\u001b[1;38;5;39mCOMET INFO:\u001b[0m     pipeline_functiontransformer__kw_args            : None\n",
      "\u001b[1;38;5;39mCOMET INFO:\u001b[0m     pipeline_functiontransformer__validate           : False\n",
      "\u001b[1;38;5;39mCOMET INFO:\u001b[0m     pipeline_memory                                  : None\n",
      "\u001b[1;38;5;39mCOMET INFO:\u001b[0m     pipeline_steps                                   : [('functiontransformer', FunctionTransformer(func=<function average_trips_last_4_weeks at 0x7fba1161e710>)), ('temporalfeatureengineeringstops', TemporalFeatureEngineeringStops())]\n",
      "\u001b[1;38;5;39mCOMET INFO:\u001b[0m     pipeline_temporalfeatureengineeringstops         : TemporalFeatureEngineeringStops()\n",
      "\u001b[1;38;5;39mCOMET INFO:\u001b[0m     pipeline_verbose                                 : False\n",
      "\u001b[1;38;5;39mCOMET INFO:\u001b[0m     verbose                                          : False\n",
      "\u001b[1;38;5;39mCOMET INFO:\u001b[0m     xgbregressor__alpha                              : 0.17023133295124593\n",
      "\u001b[1;38;5;39mCOMET INFO:\u001b[0m     xgbregressor__base_score                         : None\n",
      "\u001b[1;38;5;39mCOMET INFO:\u001b[0m     xgbregressor__booster                            : None\n",
      "\u001b[1;38;5;39mCOMET INFO:\u001b[0m     xgbregressor__callbacks                          : None\n",
      "\u001b[1;38;5;39mCOMET INFO:\u001b[0m     xgbregressor__colsample_by_level                 : 0.5936462168148562\n",
      "\u001b[1;38;5;39mCOMET INFO:\u001b[0m     xgbregressor__colsample_by_node                  : 0.8741963261124106\n",
      "\u001b[1;38;5;39mCOMET INFO:\u001b[0m     xgbregressor__colsample_by_tree                  : 0.2648404355933356\n",
      "\u001b[1;38;5;39mCOMET INFO:\u001b[0m     xgbregressor__colsample_bylevel                  : None\n",
      "\u001b[1;38;5;39mCOMET INFO:\u001b[0m     xgbregressor__colsample_bynode                   : None\n",
      "\u001b[1;38;5;39mCOMET INFO:\u001b[0m     xgbregressor__colsample_bytree                   : None\n",
      "\u001b[1;38;5;39mCOMET INFO:\u001b[0m     xgbregressor__device                             : None\n",
      "\u001b[1;38;5;39mCOMET INFO:\u001b[0m     xgbregressor__early_stopping_rounds              : None\n",
      "\u001b[1;38;5;39mCOMET INFO:\u001b[0m     xgbregressor__enable_categorical                 : False\n",
      "\u001b[1;38;5;39mCOMET INFO:\u001b[0m     xgbregressor__eta                                : 0.4218364621112167\n",
      "\u001b[1;38;5;39mCOMET INFO:\u001b[0m     xgbregressor__eval_metric                        : None\n",
      "\u001b[1;38;5;39mCOMET INFO:\u001b[0m     xgbregressor__feature_types                      : None\n",
      "\u001b[1;38;5;39mCOMET INFO:\u001b[0m     xgbregressor__gamma                              : None\n",
      "\u001b[1;38;5;39mCOMET INFO:\u001b[0m     xgbregressor__grow_policy                        : None\n",
      "\u001b[1;38;5;39mCOMET INFO:\u001b[0m     xgbregressor__importance_type                    : None\n",
      "\u001b[1;38;5;39mCOMET INFO:\u001b[0m     xgbregressor__interaction_constraints            : None\n",
      "\u001b[1;38;5;39mCOMET INFO:\u001b[0m     xgbregressor__learning_rate                      : None\n",
      "\u001b[1;38;5;39mCOMET INFO:\u001b[0m     xgbregressor__max_bin                            : None\n",
      "\u001b[1;38;5;39mCOMET INFO:\u001b[0m     xgbregressor__max_cat_threshold                  : None\n",
      "\u001b[1;38;5;39mCOMET INFO:\u001b[0m     xgbregressor__max_cat_to_onehot                  : None\n",
      "\u001b[1;38;5;39mCOMET INFO:\u001b[0m     xgbregressor__max_delta_step                     : None\n",
      "\u001b[1;38;5;39mCOMET INFO:\u001b[0m     xgbregressor__max_depth                          : 10\n",
      "\u001b[1;38;5;39mCOMET INFO:\u001b[0m     xgbregressor__max_leaves                         : None\n",
      "\u001b[1;38;5;39mCOMET INFO:\u001b[0m     xgbregressor__min_child_weight                   : None\n",
      "\u001b[1;38;5;39mCOMET INFO:\u001b[0m     xgbregressor__missing                            : nan\n",
      "\u001b[1;38;5;39mCOMET INFO:\u001b[0m     xgbregressor__monotone_constraints               : None\n",
      "\u001b[1;38;5;39mCOMET INFO:\u001b[0m     xgbregressor__multi_strategy                     : None\n",
      "\u001b[1;38;5;39mCOMET INFO:\u001b[0m     xgbregressor__n_estimators                       : None\n",
      "\u001b[1;38;5;39mCOMET INFO:\u001b[0m     xgbregressor__n_jobs                             : None\n",
      "\u001b[1;38;5;39mCOMET INFO:\u001b[0m     xgbregressor__num_parallel_tree                  : None\n",
      "\u001b[1;38;5;39mCOMET INFO:\u001b[0m     xgbregressor__objective                          : reg:absoluteerror\n",
      "\u001b[1;38;5;39mCOMET INFO:\u001b[0m     xgbregressor__random_state                       : None\n",
      "\u001b[1;38;5;39mCOMET INFO:\u001b[0m     xgbregressor__reg_alpha                          : None\n",
      "\u001b[1;38;5;39mCOMET INFO:\u001b[0m     xgbregressor__reg_lambda                         : None\n",
      "\u001b[1;38;5;39mCOMET INFO:\u001b[0m     xgbregressor__sampling_method                    : None\n",
      "\u001b[1;38;5;39mCOMET INFO:\u001b[0m     xgbregressor__scale_pos_weight                   : None\n",
      "\u001b[1;38;5;39mCOMET INFO:\u001b[0m     xgbregressor__subsample                          : 0\n",
      "\u001b[1;38;5;39mCOMET INFO:\u001b[0m     xgbregressor__tree_method                        : None\n",
      "\u001b[1;38;5;39mCOMET INFO:\u001b[0m     xgbregressor__validate_parameters                : None\n",
      "\u001b[1;38;5;39mCOMET INFO:\u001b[0m     xgbregressor__verbosity                          : None\n",
      "\u001b[1;38;5;39mCOMET INFO:\u001b[0m     xgbregressor_alpha                               : 0.17023133295124593\n",
      "\u001b[1;38;5;39mCOMET INFO:\u001b[0m     xgbregressor_base_score                          : None\n",
      "\u001b[1;38;5;39mCOMET INFO:\u001b[0m     xgbregressor_booster                             : None\n",
      "\u001b[1;38;5;39mCOMET INFO:\u001b[0m     xgbregressor_callbacks                           : None\n",
      "\u001b[1;38;5;39mCOMET INFO:\u001b[0m     xgbregressor_colsample_by_level                  : 0.5936462168148562\n",
      "\u001b[1;38;5;39mCOMET INFO:\u001b[0m     xgbregressor_colsample_by_node                   : 0.8741963261124106\n",
      "\u001b[1;38;5;39mCOMET INFO:\u001b[0m     xgbregressor_colsample_by_tree                   : 0.2648404355933356\n",
      "\u001b[1;38;5;39mCOMET INFO:\u001b[0m     xgbregressor_colsample_bylevel                   : None\n",
      "\u001b[1;38;5;39mCOMET INFO:\u001b[0m     xgbregressor_colsample_bynode                    : None\n",
      "\u001b[1;38;5;39mCOMET INFO:\u001b[0m     xgbregressor_colsample_bytree                    : None\n",
      "\u001b[1;38;5;39mCOMET INFO:\u001b[0m     xgbregressor_device                              : None\n",
      "\u001b[1;38;5;39mCOMET INFO:\u001b[0m     xgbregressor_early_stopping_rounds               : None\n",
      "\u001b[1;38;5;39mCOMET INFO:\u001b[0m     xgbregressor_enable_categorical                  : False\n",
      "\u001b[1;38;5;39mCOMET INFO:\u001b[0m     xgbregressor_eta                                 : 0.4218364621112167\n",
      "\u001b[1;38;5;39mCOMET INFO:\u001b[0m     xgbregressor_eval_metric                         : None\n",
      "\u001b[1;38;5;39mCOMET INFO:\u001b[0m     xgbregressor_feature_types                       : None\n",
      "\u001b[1;38;5;39mCOMET INFO:\u001b[0m     xgbregressor_gamma                               : None\n",
      "\u001b[1;38;5;39mCOMET INFO:\u001b[0m     xgbregressor_grow_policy                         : None\n",
      "\u001b[1;38;5;39mCOMET INFO:\u001b[0m     xgbregressor_importance_type                     : None\n",
      "\u001b[1;38;5;39mCOMET INFO:\u001b[0m     xgbregressor_interaction_constraints             : None\n",
      "\u001b[1;38;5;39mCOMET INFO:\u001b[0m     xgbregressor_learning_rate                       : None\n",
      "\u001b[1;38;5;39mCOMET INFO:\u001b[0m     xgbregressor_max_bin                             : None\n",
      "\u001b[1;38;5;39mCOMET INFO:\u001b[0m     xgbregressor_max_cat_threshold                   : None\n",
      "\u001b[1;38;5;39mCOMET INFO:\u001b[0m     xgbregressor_max_cat_to_onehot                   : None\n",
      "\u001b[1;38;5;39mCOMET INFO:\u001b[0m     xgbregressor_max_delta_step                      : None\n",
      "\u001b[1;38;5;39mCOMET INFO:\u001b[0m     xgbregressor_max_depth                           : 10\n",
      "\u001b[1;38;5;39mCOMET INFO:\u001b[0m     xgbregressor_max_leaves                          : None\n",
      "\u001b[1;38;5;39mCOMET INFO:\u001b[0m     xgbregressor_min_child_weight                    : None\n",
      "\u001b[1;38;5;39mCOMET INFO:\u001b[0m     xgbregressor_missing                             : nan\n",
      "\u001b[1;38;5;39mCOMET INFO:\u001b[0m     xgbregressor_monotone_constraints                : None\n",
      "\u001b[1;38;5;39mCOMET INFO:\u001b[0m     xgbregressor_multi_strategy                      : None\n",
      "\u001b[1;38;5;39mCOMET INFO:\u001b[0m     xgbregressor_n_estimators                        : None\n",
      "\u001b[1;38;5;39mCOMET INFO:\u001b[0m     xgbregressor_n_jobs                              : None\n",
      "\u001b[1;38;5;39mCOMET INFO:\u001b[0m     xgbregressor_num_parallel_tree                   : None\n",
      "\u001b[1;38;5;39mCOMET INFO:\u001b[0m     xgbregressor_objective                           : reg:absoluteerror\n",
      "\u001b[1;38;5;39mCOMET INFO:\u001b[0m     xgbregressor_random_state                        : None\n",
      "\u001b[1;38;5;39mCOMET INFO:\u001b[0m     xgbregressor_reg_alpha                           : None\n",
      "\u001b[1;38;5;39mCOMET INFO:\u001b[0m     xgbregressor_reg_lambda                          : None\n",
      "\u001b[1;38;5;39mCOMET INFO:\u001b[0m     xgbregressor_sampling_method                     : None\n",
      "\u001b[1;38;5;39mCOMET INFO:\u001b[0m     xgbregressor_scale_pos_weight                    : None\n",
      "\u001b[1;38;5;39mCOMET INFO:\u001b[0m     xgbregressor_subsample                           : 0\n",
      "\u001b[1;38;5;39mCOMET INFO:\u001b[0m     xgbregressor_tree_method                         : None\n",
      "\u001b[1;38;5;39mCOMET INFO:\u001b[0m     xgbregressor_validate_parameters                 : None\n",
      "\u001b[1;38;5;39mCOMET INFO:\u001b[0m     xgbregressor_verbosity                           : None\n",
      "\u001b[1;38;5;39mCOMET INFO:\u001b[0m   Uploads:\n",
      "\u001b[1;38;5;39mCOMET INFO:\u001b[0m     environment details      : 1\n",
      "\u001b[1;38;5;39mCOMET INFO:\u001b[0m     filename                 : 1\n",
      "\u001b[1;38;5;39mCOMET INFO:\u001b[0m     git metadata             : 1\n",
      "\u001b[1;38;5;39mCOMET INFO:\u001b[0m     git-patch (uncompressed) : 1 (118.11 KB)\n",
      "\u001b[1;38;5;39mCOMET INFO:\u001b[0m     installed packages       : 1\n",
      "\u001b[1;38;5;39mCOMET INFO:\u001b[0m     notebook                 : 1\n",
      "\u001b[1;38;5;39mCOMET INFO:\u001b[0m     os packages              : 1\n",
      "\u001b[1;38;5;39mCOMET INFO:\u001b[0m     source_code              : 1\n",
      "\u001b[1;38;5;39mCOMET INFO:\u001b[0m \n",
      "\u001b[1;38;5;214mCOMET WARNING:\u001b[0m To get all data logged automatically, import comet_ml before the following modules: xgboost, lightgbm, sklearn.\n",
      "\u001b[1;38;5;39mCOMET INFO:\u001b[0m Using '/home/kobina/Desktop/ML/End-to-End Projects/Actualised/cyclistic-bike-sharing-data/src/.cometml-runs' path as offline directory. Pass 'offline_directory' parameter into constructor or set the 'COMET_OFFLINE_DIRECTORY' environment variable to manually choose where to store offline experiment archives.\n",
      "\u001b[1;38;5;214mCOMET WARNING:\u001b[0m Could not send live data to Comet during experiment runtime. An offline experiment will be available for upload:\n",
      "    comet upload --force-reupload /home/kobina/Desktop/ML/End-to-End Projects/Actualised/cyclistic-bike-sharing-data/src/.cometml-runs/792bdcbe76024ced996fe835bbef66de-PLCPFA.zip\n"
     ]
    }
   ],
   "source": [
    "best_xgb_hyperparams_for_stops = \\\n",
    "  optimise_hyperparams(\n",
    "    model_fn=XGBRegressor, \n",
    "    hyperparam_trials=5, \n",
    "    scenario=\"stop\", \n",
    "    X=stop_table.drop(\"trips_next_hour\", axis = 1),\n",
    "    y=stop_table[\"trips_next_hour\"]\n",
    ")"
   ]
  }
 ],
 "metadata": {
  "kernelspec": {
   "display_name": "src-Frx8CZzu-py3.11",
   "language": "python",
   "name": "python3"
  },
  "language_info": {
   "codemirror_mode": {
    "name": "ipython",
    "version": 3
   },
   "file_extension": ".py",
   "mimetype": "text/x-python",
   "name": "python",
   "nbconvert_exporter": "python",
   "pygments_lexer": "ipython3",
   "version": "3.10.0"
  }
 },
 "nbformat": 4,
 "nbformat_minor": 2
}
