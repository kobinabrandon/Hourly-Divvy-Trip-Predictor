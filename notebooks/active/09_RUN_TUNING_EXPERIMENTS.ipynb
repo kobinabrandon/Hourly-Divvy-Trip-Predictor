{
 "cells": [
  {
   "cell_type": "code",
   "execution_count": 1,
   "metadata": {},
   "outputs": [
    {
     "name": "stderr",
     "output_type": "stream",
     "text": [
      "/home/kobina/.cache/pypoetry/virtualenvs/src-Frx8CZzu-py3.10/lib/python3.10/site-packages/tqdm/auto.py:21: TqdmWarning: IProgress not found. Please update jupyter and ipywidgets. See https://ipywidgets.readthedocs.io/en/stable/user_install.html\n",
      "  from .autonotebook import tqdm as notebook_tqdm\n"
     ]
    }
   ],
   "source": [
    "import pandas as pd\n",
    "from datetime import datetime\n",
    "from lightgbm import LGBMRegressor\n",
    "from xgboost import XGBRegressor\n",
    "from sklearn.linear_model import Lasso \n",
    "  \n",
    "from src.paths import TEMPORARY_DATA, TRAINING_DATA\n",
    "from src.hyperparameter_tuning import optimise_hyperparams"
   ]
  },
  {
   "cell_type": "markdown",
   "metadata": {},
   "source": [
    "## Importing and making some changes to the datasets"
   ]
  },
  {
   "cell_type": "code",
   "execution_count": 2,
   "metadata": {},
   "outputs": [],
   "source": [
    "start_table = pd.read_parquet(TRAINING_DATA/\"mar_to_jan_starts.parquet\").sort_index()\n",
    "stop_table = pd.read_parquet(TRAINING_DATA/\"jan_to_jan_stops.parquet\").sort_index()"
   ]
  },
  {
   "cell_type": "markdown",
   "metadata": {},
   "source": [
    "## Tuning on Starts Data"
   ]
  },
  {
   "cell_type": "markdown",
   "metadata": {},
   "source": [
    "### Changing data types to reduce memory load"
   ]
  },
  {
   "cell_type": "code",
   "execution_count": null,
   "metadata": {},
   "outputs": [],
   "source": [
    "import numpy as np\n",
    "from tqdm import tqdm\n",
    "from src.miscellaneous import change_column_data_type\n",
    "\n",
    "#for dataset in tqdm([start_table, start_past_4_months, stop_table]):\n",
    "  \n",
    "for dataset in [start_table, stop_table]:\n",
    "  for col in dataset.columns:\n",
    "      \n",
    "      if \"trips\" in col:\n",
    "\n",
    "        change_column_data_type(\n",
    "          data=dataset, \n",
    "          columns=col, \n",
    "          to_format=np.int8)"
   ]
  },
  {
   "cell_type": "code",
   "execution_count": null,
   "metadata": {},
   "outputs": [],
   "source": [
    "start_table.to_parquet(TRAINING_DATA/\"integers/mar_to_jan_starts.parquet\")\n",
    "stop_table.to_parquet(TRAINING_DATA/\"integers/jan_to_jan_stops.parquet\")"
   ]
  },
  {
   "cell_type": "markdown",
   "metadata": {},
   "source": [
    "### Choosing how many rows of the data to drop to reduce memory load"
   ]
  },
  {
   "cell_type": "code",
   "execution_count": 4,
   "metadata": {},
   "outputs": [],
   "source": [
    "from datetime import datetime\n",
    "\n",
    "# Restrict the data to the rows after June\n",
    "start_june = start_table[start_table[\"start_hour\"] > datetime(2023,6,1)]"
   ]
  },
  {
   "cell_type": "code",
   "execution_count": 6,
   "metadata": {},
   "outputs": [],
   "source": [
    "start_june.to_parquet(TRAINING_DATA/\"start_june.parquet\")"
   ]
  },
  {
   "cell_type": "code",
   "execution_count": 2,
   "metadata": {},
   "outputs": [],
   "source": [
    "start_june = pd.read_parquet(TRAINING_DATA/\"start_june.parquet\")"
   ]
  },
  {
   "cell_type": "code",
   "execution_count": 4,
   "metadata": {},
   "outputs": [
    {
     "name": "stderr",
     "output_type": "stream",
     "text": [
      "divvy_trips - INFO - Beginning hyperparameter search\n",
      "[I 2024-02-09 14:29:55,220] A new study created in memory with name: no-name-f8550a6d-cf0c-45e4-b896-bac2cfdb7876\n",
      "divvy_trips - INFO - Start Trial 0\n",
      "divvy_trips - INFO - Performing split number 0\n",
      "divvy_trips - INFO - Performing split number 1\n",
      "divvy_trips - INFO - Performing split number 2\n"
     ]
    }
   ],
   "source": [
    "best_lasso_hyperparams_for_starts = \\\n",
    "  optimise_hyperparams(\n",
    "    model_fn=Lasso, \n",
    "    hyperparam_trials = 5, \n",
    "    scenario = \"start\",   \n",
    "    X = start_june.drop(\"trips_next_hour\", axis = 1), \n",
    "    y = start_june[\"trips_next_hour\"]\n",
    ")"
   ]
  },
  {
   "cell_type": "markdown",
   "metadata": {},
   "source": [
    "#### LGBMRegressor"
   ]
  },
  {
   "cell_type": "code",
   "execution_count": null,
   "metadata": {},
   "outputs": [],
   "source": [
    "best_lasso_hyperparams_for_start = \\\n",
    "  optimise_hyperparams(\n",
    "    model_fn=LGBMRegressor, \n",
    "    hyperparam_trials = 5, \n",
    "    scenario = \"start\", \n",
    "    X = start_june.drop(\"trips_next_hour\", axis = 1), \n",
    "    y = start_june[\"trips_next_hour\"]\n",
    ")"
   ]
  },
  {
   "cell_type": "markdown",
   "metadata": {},
   "source": [
    "#### XGBRegressor"
   ]
  },
  {
   "cell_type": "code",
   "execution_count": null,
   "metadata": {},
   "outputs": [],
   "source": [
    "best_xgb_hyperparams_for_stops = \\\n",
    "  optimise_hyperparams(\n",
    "    model_fn=XGBRegressor, \n",
    "    hyperparam_trials=5, \n",
    "    scenario=\"start\", \n",
    "    X=start_june.drop(\"trips_next_hour\", axis = 1),\n",
    "    y=start_june[\"trips_next_hour\"]\n",
    ")"
   ]
  },
  {
   "cell_type": "markdown",
   "metadata": {},
   "source": [
    "## Tuning on Stops Data"
   ]
  },
  {
   "cell_type": "markdown",
   "metadata": {},
   "source": [
    "#### Lasso"
   ]
  },
  {
   "cell_type": "code",
   "execution_count": null,
   "metadata": {},
   "outputs": [],
   "source": [
    "best_lasso_hyperparams_for_stops = \\\n",
    "  optimise_hyperparams(\n",
    "    model_fn=Lasso, \n",
    "    hyperparam_trials = 5, \n",
    "    scenario = \"stop\", \n",
    "    X = stop_table.drop(\"trips_next_hour\", axis = 1), \n",
    "    y = stop_table[\"trips_next_hour\"]\n",
    ")"
   ]
  },
  {
   "cell_type": "markdown",
   "metadata": {},
   "source": [
    "#### LGBMRegressor"
   ]
  },
  {
   "cell_type": "code",
   "execution_count": null,
   "metadata": {},
   "outputs": [],
   "source": [
    "best_lgb_hyperparams_for_stops = \\\n",
    "  optimise_hyperparams(\n",
    "    model_fn=LGBMRegressor, \n",
    "    hyperparam_trials=5, \n",
    "    scenario = \"stop\", \n",
    "    X=stop_table.drop(\"trips_next_hour\", axis = 1),\n",
    "    y=stop_table[\"trips_next_hour\"]\n",
    ")"
   ]
  },
  {
   "cell_type": "markdown",
   "metadata": {},
   "source": [
    "#### XGBRegressor"
   ]
  },
  {
   "cell_type": "code",
   "execution_count": null,
   "metadata": {},
   "outputs": [],
   "source": [
    "best_xgb_hyperparams_for_stops = \\\n",
    "  optimise_hyperparams(\n",
    "    model_fn=XGBRegressor, \n",
    "    hyperparam_trials=5, \n",
    "    scenario=\"stop\", \n",
    "    X=stop_table.drop(\"trips_next_hour\", axis = 1),\n",
    "    y=stop_table[\"trips_next_hour\"]\n",
    ")"
   ]
  }
 ],
 "metadata": {
  "kernelspec": {
   "display_name": "src-Frx8CZzu-py3.11",
   "language": "python",
   "name": "python3"
  },
  "language_info": {
   "codemirror_mode": {
    "name": "ipython",
    "version": 3
   },
   "file_extension": ".py",
   "mimetype": "text/x-python",
   "name": "python",
   "nbconvert_exporter": "python",
   "pygments_lexer": "ipython3",
   "version": "3.10.0"
  }
 },
 "nbformat": 4,
 "nbformat_minor": 2
}
