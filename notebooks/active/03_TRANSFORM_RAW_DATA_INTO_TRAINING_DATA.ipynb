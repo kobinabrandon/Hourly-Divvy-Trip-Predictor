{
 "cells": [
  {
   "cell_type": "code",
   "execution_count": 1,
   "id": "50298266afea005a",
   "metadata": {
    "ExecuteTime": {
     "end_time": "2024-01-05T10:10:32.628304910Z",
     "start_time": "2024-01-05T10:10:32.136001228Z"
    },
    "collapsed": false
   },
   "outputs": [],
   "source": [
    "%reload_ext autoreload\n",
    "%autoreload 2\n",
    "\n",
    "import pandas as pd\n",
    "from src.paths import TEMPORARY_DATA, TRAINING_DATA\n",
    "from src.data_extraction import load_raw_data\n",
    "from src.data_transformations import clean_raw_data, transform_cleaned_data_into_ts_data, transform_ts_into_training_data"
   ]
  },
  {
   "cell_type": "markdown",
   "id": "2cef0ef5ba625e0b",
   "metadata": {
    "collapsed": false
   },
   "source": [
    "## Get the raw data"
   ]
  },
  {
   "cell_type": "code",
   "execution_count": 2,
   "id": "bae5668774d0e5ef",
   "metadata": {
    "ExecuteTime": {
     "end_time": "2024-01-05T10:10:43.504103853Z",
     "start_time": "2024-01-05T10:10:32.631588642Z"
    },
    "collapsed": false
   },
   "outputs": [
    {
     "name": "stdout",
     "output_type": "stream",
     "text": [
      "The file 202301-divvy-tripdata.zip is already in local storage\n",
      "The file 202302-divvy-tripdata.zip is already in local storage\n",
      "The file 202303-divvy-tripdata.zip is already in local storage\n",
      "The file 202304-divvy-tripdata.zip is already in local storage\n",
      "The file 202305-divvy-tripdata.zip is already in local storage\n",
      "The file 202306-divvy-tripdata.zip is already in local storage\n",
      "The file 202307-divvy-tripdata.zip is already in local storage\n",
      "The file 202308-divvy-tripdata.zip is already in local storage\n",
      "The file 202309-divvy-tripdata.zip is already in local storage\n",
      "The file 202310-divvy-tripdata.zip is already in local storage\n",
      "The file 202311-divvy-tripdata.zip is already in local storage\n",
      "The file 202312-divvy-tripdata.zip is already in local storage\n"
     ]
    }
   ],
   "source": [
    "trips_per_month_2023 = list(load_raw_data(year=2023))"
   ]
  },
  {
   "cell_type": "code",
   "execution_count": 3,
   "id": "7ab9eb6196530829",
   "metadata": {
    "ExecuteTime": {
     "start_time": "2024-01-05T10:10:43.508399319Z"
    },
    "collapsed": false
   },
   "outputs": [],
   "source": [
    "# Form a dataframe by concatenating all the available months of 2023\n",
    "trips = pd.concat(trips_per_month_2023)"
   ]
  },
  {
   "cell_type": "markdown",
   "id": "eeb9a7ebbfe49b8c",
   "metadata": {
    "collapsed": false
   },
   "source": [
    "## Clean the data"
   ]
  },
  {
   "cell_type": "code",
   "execution_count": 4,
   "id": "b9507813",
   "metadata": {
    "ExecuteTime": {
     "start_time": "2024-01-05T10:10:43.510826387Z"
    }
   },
   "outputs": [],
   "source": [
    "# Clean the data\n",
    "trips = clean_raw_data(trips)"
   ]
  },
  {
   "cell_type": "code",
   "execution_count": 5,
   "id": "65c51048",
   "metadata": {
    "ExecuteTime": {
     "end_time": "2024-01-05T10:10:43.513711068Z",
     "start_time": "2024-01-05T10:10:43.512501607Z"
    }
   },
   "outputs": [
    {
     "data": {
      "text/html": [
       "<div>\n",
       "<style scoped>\n",
       "    .dataframe tbody tr th:only-of-type {\n",
       "        vertical-align: middle;\n",
       "    }\n",
       "\n",
       "    .dataframe tbody tr th {\n",
       "        vertical-align: top;\n",
       "    }\n",
       "\n",
       "    .dataframe thead th {\n",
       "        text-align: right;\n",
       "    }\n",
       "</style>\n",
       "<table border=\"1\" class=\"dataframe\">\n",
       "  <thead>\n",
       "    <tr style=\"text-align: right;\">\n",
       "      <th></th>\n",
       "      <th>start_time</th>\n",
       "      <th>stop_time</th>\n",
       "      <th>start_latitude</th>\n",
       "      <th>start_longitude</th>\n",
       "      <th>stop_latitude</th>\n",
       "      <th>stop_longitude</th>\n",
       "    </tr>\n",
       "  </thead>\n",
       "  <tbody>\n",
       "    <tr>\n",
       "      <th>0</th>\n",
       "      <td>2023-01-21 20:05:42</td>\n",
       "      <td>2023-01-21 20:16:33</td>\n",
       "      <td>41.924074</td>\n",
       "      <td>-87.646278</td>\n",
       "      <td>41.930000</td>\n",
       "      <td>-87.640000</td>\n",
       "    </tr>\n",
       "    <tr>\n",
       "      <th>1</th>\n",
       "      <td>2023-01-10 15:37:36</td>\n",
       "      <td>2023-01-10 15:46:05</td>\n",
       "      <td>41.799568</td>\n",
       "      <td>-87.594747</td>\n",
       "      <td>41.809835</td>\n",
       "      <td>-87.599383</td>\n",
       "    </tr>\n",
       "    <tr>\n",
       "      <th>2</th>\n",
       "      <td>2023-01-02 07:51:57</td>\n",
       "      <td>2023-01-02 08:05:11</td>\n",
       "      <td>42.008571</td>\n",
       "      <td>-87.690483</td>\n",
       "      <td>42.039742</td>\n",
       "      <td>-87.699413</td>\n",
       "    </tr>\n",
       "    <tr>\n",
       "      <th>3</th>\n",
       "      <td>2023-01-22 10:52:58</td>\n",
       "      <td>2023-01-22 11:01:44</td>\n",
       "      <td>41.799568</td>\n",
       "      <td>-87.594747</td>\n",
       "      <td>41.809835</td>\n",
       "      <td>-87.599383</td>\n",
       "    </tr>\n",
       "    <tr>\n",
       "      <th>4</th>\n",
       "      <td>2023-01-12 13:58:01</td>\n",
       "      <td>2023-01-12 14:13:20</td>\n",
       "      <td>41.799568</td>\n",
       "      <td>-87.594747</td>\n",
       "      <td>41.809835</td>\n",
       "      <td>-87.599383</td>\n",
       "    </tr>\n",
       "    <tr>\n",
       "      <th>...</th>\n",
       "      <td>...</td>\n",
       "      <td>...</td>\n",
       "      <td>...</td>\n",
       "      <td>...</td>\n",
       "      <td>...</td>\n",
       "      <td>...</td>\n",
       "    </tr>\n",
       "    <tr>\n",
       "      <th>224068</th>\n",
       "      <td>2023-12-07 13:15:24</td>\n",
       "      <td>2023-12-07 13:17:37</td>\n",
       "      <td>41.874702</td>\n",
       "      <td>-87.649804</td>\n",
       "      <td>41.874640</td>\n",
       "      <td>-87.657030</td>\n",
       "    </tr>\n",
       "    <tr>\n",
       "      <th>224069</th>\n",
       "      <td>2023-12-08 18:42:21</td>\n",
       "      <td>2023-12-08 18:45:56</td>\n",
       "      <td>41.874754</td>\n",
       "      <td>-87.649807</td>\n",
       "      <td>41.874640</td>\n",
       "      <td>-87.657030</td>\n",
       "    </tr>\n",
       "    <tr>\n",
       "      <th>224070</th>\n",
       "      <td>2023-12-05 14:09:11</td>\n",
       "      <td>2023-12-05 14:13:01</td>\n",
       "      <td>41.874754</td>\n",
       "      <td>-87.649807</td>\n",
       "      <td>41.874640</td>\n",
       "      <td>-87.657030</td>\n",
       "    </tr>\n",
       "    <tr>\n",
       "      <th>224071</th>\n",
       "      <td>2023-12-02 21:36:07</td>\n",
       "      <td>2023-12-02 21:53:45</td>\n",
       "      <td>41.881396</td>\n",
       "      <td>-87.674984</td>\n",
       "      <td>41.885492</td>\n",
       "      <td>-87.652289</td>\n",
       "    </tr>\n",
       "    <tr>\n",
       "      <th>224072</th>\n",
       "      <td>2023-12-11 13:07:46</td>\n",
       "      <td>2023-12-11 13:11:24</td>\n",
       "      <td>41.874754</td>\n",
       "      <td>-87.649807</td>\n",
       "      <td>41.874640</td>\n",
       "      <td>-87.657030</td>\n",
       "    </tr>\n",
       "  </tbody>\n",
       "</table>\n",
       "<p>5712863 rows × 6 columns</p>\n",
       "</div>"
      ],
      "text/plain": [
       "                start_time           stop_time  start_latitude  \\\n",
       "0      2023-01-21 20:05:42 2023-01-21 20:16:33       41.924074   \n",
       "1      2023-01-10 15:37:36 2023-01-10 15:46:05       41.799568   \n",
       "2      2023-01-02 07:51:57 2023-01-02 08:05:11       42.008571   \n",
       "3      2023-01-22 10:52:58 2023-01-22 11:01:44       41.799568   \n",
       "4      2023-01-12 13:58:01 2023-01-12 14:13:20       41.799568   \n",
       "...                    ...                 ...             ...   \n",
       "224068 2023-12-07 13:15:24 2023-12-07 13:17:37       41.874702   \n",
       "224069 2023-12-08 18:42:21 2023-12-08 18:45:56       41.874754   \n",
       "224070 2023-12-05 14:09:11 2023-12-05 14:13:01       41.874754   \n",
       "224071 2023-12-02 21:36:07 2023-12-02 21:53:45       41.881396   \n",
       "224072 2023-12-11 13:07:46 2023-12-11 13:11:24       41.874754   \n",
       "\n",
       "        start_longitude  stop_latitude  stop_longitude  \n",
       "0            -87.646278      41.930000      -87.640000  \n",
       "1            -87.594747      41.809835      -87.599383  \n",
       "2            -87.690483      42.039742      -87.699413  \n",
       "3            -87.594747      41.809835      -87.599383  \n",
       "4            -87.594747      41.809835      -87.599383  \n",
       "...                 ...            ...             ...  \n",
       "224068       -87.649804      41.874640      -87.657030  \n",
       "224069       -87.649807      41.874640      -87.657030  \n",
       "224070       -87.649807      41.874640      -87.657030  \n",
       "224071       -87.674984      41.885492      -87.652289  \n",
       "224072       -87.649807      41.874640      -87.657030  \n",
       "\n",
       "[5712863 rows x 6 columns]"
      ]
     },
     "execution_count": 5,
     "metadata": {},
     "output_type": "execute_result"
    }
   ],
   "source": [
    "trips"
   ]
  },
  {
   "cell_type": "markdown",
   "id": "bf9fbf2304204ea7",
   "metadata": {
    "collapsed": false
   },
   "source": [
    "## Define datasets"
   ]
  },
  {
   "cell_type": "code",
   "execution_count": 6,
   "id": "0f56c19c",
   "metadata": {
    "ExecuteTime": {
     "start_time": "2024-01-05T10:10:43.514354456Z"
    }
   },
   "outputs": [],
   "source": [
    "starts = trips[\n",
    "    [\"start_time\", \"start_latitude\", \"start_longitude\"]\n",
    "]\n",
    "\n",
    "stops = trips[\n",
    "    [\"stop_time\", \"stop_latitude\", \"stop_longitude\"]\n",
    "]"
   ]
  },
  {
   "cell_type": "markdown",
   "id": "3d0900b0e546a6c3",
   "metadata": {
    "collapsed": false
   },
   "source": [
    "## Transform datasets into time series"
   ]
  },
  {
   "cell_type": "code",
   "execution_count": 7,
   "id": "d5f7c386",
   "metadata": {
    "ExecuteTime": {
     "end_time": "2024-01-05T10:02:24.187756704Z",
     "start_time": "2024-01-05T09:58:33.476046924Z"
    }
   },
   "outputs": [
    {
     "name": "stdout",
     "output_type": "stream",
     "text": [
      "This might take a while\n",
      "\n",
      "\n",
      "Computing the hours during which each trip starts\n",
      "Approximating the coordinates of the location at which each trip starts\n"
     ]
    },
    {
     "name": "stderr",
     "output_type": "stream",
     "text": [
      "100%|██████████| 5712863/5712863 [00:31<00:00, 184126.53it/s]\n",
      "100%|██████████| 5712863/5712863 [00:32<00:00, 178237.40it/s]\n"
     ]
    },
    {
     "name": "stdout",
     "output_type": "stream",
     "text": [
      "Matching up approximate locations with generated IDs\n"
     ]
    },
    {
     "name": "stderr",
     "output_type": "stream",
     "text": [
      "10669it [00:00, 1826714.67it/s]\n"
     ]
    },
    {
     "name": "stdout",
     "output_type": "stream",
     "text": [
      "\n",
      "\n",
      "Computing the hours during which each trip stops\n",
      "Approximating the coordinates of the location at which each trip stops\n"
     ]
    },
    {
     "name": "stderr",
     "output_type": "stream",
     "text": [
      "100%|██████████| 5712863/5712863 [00:32<00:00, 176561.37it/s]\n",
      "100%|██████████| 5712863/5712863 [00:29<00:00, 193742.53it/s]\n"
     ]
    },
    {
     "name": "stdout",
     "output_type": "stream",
     "text": [
      "Matching up approximate locations with generated IDs\n"
     ]
    },
    {
     "name": "stderr",
     "output_type": "stream",
     "text": [
      "1264it [00:00, 2221030.69it/s]\n"
     ]
    },
    {
     "name": "stdout",
     "output_type": "stream",
     "text": [
      "\n",
      "\n",
      "Aggregating the final data on trip starts\n"
     ]
    },
    {
     "name": "stderr",
     "output_type": "stream",
     "text": [
      "100%|██████████| 10668/10668 [1:38:41<00:00,  1.80it/s]\n"
     ]
    },
    {
     "name": "stdout",
     "output_type": "stream",
     "text": [
      "Aggregating the final data on trip stops\n"
     ]
    },
    {
     "name": "stderr",
     "output_type": "stream",
     "text": [
      "100%|██████████| 1264/1264 [01:35<00:00, 13.27it/s]\n"
     ]
    }
   ],
   "source": [
    "agg_starts, agg_stops = transform_cleaned_data_into_ts_data(start_df = starts, stop_df = stops)"
   ]
  },
  {
   "cell_type": "code",
   "execution_count": 8,
   "id": "188c7e6d",
   "metadata": {},
   "outputs": [],
   "source": [
    "trimmed_agg_starts = agg_starts.iloc[:,:3]\n",
    "trimmed_agg_stops = agg_stops.iloc[:,:3]\n",
    "\n",
    "trimmed_agg_starts.to_parquet(TEMPORARY_DATA/\"agg_starts.parquet\")\n",
    "trimmed_agg_stops.to_parquet(TEMPORARY_DATA/\"agg_stops.parquet\")"
   ]
  },
  {
   "cell_type": "markdown",
   "id": "424b4b75d41204b7",
   "metadata": {
    "collapsed": false
   },
   "source": [
    "## Transform time series data into training data"
   ]
  },
  {
   "cell_type": "markdown",
   "id": "64770a903526c161",
   "metadata": {
    "collapsed": false
   },
   "source": [
    "### Start data"
   ]
  },
  {
   "cell_type": "code",
   "execution_count": 9,
   "id": "6a09c893b68e96c1",
   "metadata": {
    "ExecuteTime": {
     "end_time": "2024-01-05T10:09:31.847586934Z",
     "start_time": "2024-01-05T10:02:25.420281310Z"
    },
    "collapsed": false
   },
   "outputs": [
    {
     "name": "stderr",
     "output_type": "stream",
     "text": [
      "100%|██████████| 10668/10668 [7:38:33<00:00,  2.58s/it]      \n"
     ]
    },
    {
     "name": "stdout",
     "output_type": "stream",
     "text": [
      "start_features.shape=(3595116, 674)\n",
      "start_target.shape=(3595116,)\n"
     ]
    }
   ],
   "source": [
    "start_features, start_target = transform_ts_into_training_data(\n",
    "    ts_data=trimmed_agg_starts,\n",
    "    start_or_stop=\"start\",\n",
    "    input_seq_len=24*28*1,                                                                                                                                                                                                                                                                                                                                                                                                                                                                                                                                                                                                                                                                                                                                                                                  \n",
    "    step_size=24\n",
    ")                                                                                                                                                                                                                                                                                                                                                                                                                                                                                                                                                                                                                          \n",
    "\n",
    "print(f\"{start_features.shape=}\")\n",
    "print(f\"{start_target.shape=}\")"
   ]
  },
  {
   "cell_type": "code",
   "execution_count": null,
   "id": "5324211b",
   "metadata": {},
   "outputs": [],
   "source": [
    "start_features.to_parquet(TEMPORARY_DATA/\"start_features.parquet\")\n",
    "start_target.to_csv(TEMPORARY_DATA/\"start_target.csv\")"
   ]
  },
  {
   "cell_type": "markdown",
   "id": "228388c7",
   "metadata": {},
   "source": [
    "#### Saving the final tabular dataset"
   ]
  },
  {
   "cell_type": "code",
   "execution_count": 15,
   "id": "a2c3433f",
   "metadata": {},
   "outputs": [],
   "source": [
    "start_table = start_features\n",
    "start_features[\"trips_next_hour\"] = start_target\n",
    "\n",
    "start_table.to_parquet(TRAINING_DATA/\"start_table.parquet\")"
   ]
  },
  {
   "cell_type": "markdown",
   "id": "23034075e5c17baf",
   "metadata": {
    "collapsed": false
   },
   "source": [
    "### Stop data"
   ]
  },
  {
   "cell_type": "code",
   "execution_count": 19,
   "id": "4391dcae",
   "metadata": {},
   "outputs": [
    {
     "name": "stderr",
     "output_type": "stream",
     "text": [
      "100%|██████████| 1264/1264 [05:34<00:00,  3.78it/s]\n"
     ]
    },
    {
     "name": "stdout",
     "output_type": "stream",
     "text": [
      "stop_features.shape=(427232, 674)\n",
      "stop_target.shape=(427232,)\n"
     ]
    }
   ],
   "source": [
    "stop_features, stop_target = transform_ts_into_training_data(\n",
    "    ts_data=trimmed_agg_stops,\n",
    "    start_or_stop=\"stop\",\n",
    "    input_seq_len=24*28*1, \n",
    "    step_size=24\n",
    ")\n",
    "print(f\"{stop_features.shape=}\")\n",
    "print(f\"{stop_target.shape=}\")                                                                                                                                                                                                                                                                                                                                                                                                                                                                                                                                                                                                                                                                                                                                                                                                                                                                                                                                                                                                                                                                                                                                                                                                                                                                                                                                                                                                                                                                                                                                                                                                                                                                                                                                                                                                                                                                                  "
   ]
  },
  {
   "cell_type": "markdown",
   "id": "5b74a3f9",
   "metadata": {},
   "source": [
    "#### Saving the final tabular dataset"
   ]
  },
  {
   "cell_type": "code",
   "execution_count": 21,
   "id": "499e5be4",
   "metadata": {},
   "outputs": [],
   "source": [
    "stop_table = stop_features\n",
    "stop_features[\"trips_next_hour\"] = stop_target\n",
    "\n",
    "stop_table.to_parquet(TRAINING_DATA/\"stop_table.parquet\")"
   ]
  }
 ],
 "metadata": {
  "kernelspec": {
   "display_name": "Python 3",
   "language": "python",
   "name": "python3"
  },
  "language_info": {
   "codemirror_mode": {
    "name": "ipython",
    "version": 3
   },
   "file_extension": ".py",
   "mimetype": "text/x-python",
   "name": "python",
   "nbconvert_exporter": "python",
   "pygments_lexer": "ipython3",
   "version": "3.11.5"
  }
 },
 "nbformat": 4,
 "nbformat_minor": 5
}
