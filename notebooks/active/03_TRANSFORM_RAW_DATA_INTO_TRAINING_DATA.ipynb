{
 "cells": [
  {
   "cell_type": "code",
   "execution_count": 1,
   "id": "50298266afea005a",
   "metadata": {
    "ExecuteTime": {
     "end_time": "2024-01-05T10:10:32.628304910Z",
     "start_time": "2024-01-05T10:10:32.136001228Z"
    },
    "collapsed": false
   },
   "outputs": [],
   "source": [
    "%reload_ext autoreload\n",
    "%autoreload 2\n",
    "\n",
    "import pandas as pd\n",
    "\n",
    "from src.paths import DATA_DIR, RAW_DATA_DIR, TEMPORARY_DATA, TRAINING_DATA, PARENT_DIR\n",
    "from src.data_extraction import load_raw_data\n",
    "from src.data_transformations import (\n",
    "  clean_raw_data, transform_cleaned_data_into_ts_data, transform_ts_into_training_data\n",
    ")"
   ]
  },
  {
   "cell_type": "markdown",
   "id": "2cef0ef5ba625e0b",
   "metadata": {
    "collapsed": false
   },
   "source": [
    "## Get the raw data"
   ]
  },
  {
   "cell_type": "code",
   "execution_count": null,
   "id": "bae5668774d0e5ef",
   "metadata": {
    "ExecuteTime": {
     "end_time": "2024-01-05T10:10:43.504103853Z",
     "start_time": "2024-01-05T10:10:32.631588642Z"
    },
    "collapsed": false
   },
   "outputs": [],
   "source": [
    "trips_per_month_2023 = list(load_raw_data(year=2023))"
   ]
  },
  {
   "cell_type": "code",
   "execution_count": null,
   "id": "7ab9eb6196530829",
   "metadata": {
    "ExecuteTime": {
     "start_time": "2024-01-05T10:10:43.508399319Z"
    },
    "collapsed": false
   },
   "outputs": [],
   "source": [
    "# Form a dataframe by concatenating all the available months of 2023\n",
    "trips = pd.concat(trips_per_month_2023)"
   ]
  },
  {
   "cell_type": "markdown",
   "id": "eeb9a7ebbfe49b8c",
   "metadata": {
    "collapsed": false
   },
   "source": [
    "## Clean the data"
   ]
  },
  {
   "cell_type": "code",
   "execution_count": null,
   "id": "b9507813",
   "metadata": {
    "ExecuteTime": {
     "start_time": "2024-01-05T10:10:43.510826387Z"
    }
   },
   "outputs": [],
   "source": [
    "# Clean the data\n",
    "trips = clean_raw_data(trips)"
   ]
  },
  {
   "cell_type": "code",
   "execution_count": null,
   "id": "65c51048",
   "metadata": {
    "ExecuteTime": {
     "end_time": "2024-01-05T10:10:43.513711068Z",
     "start_time": "2024-01-05T10:10:43.512501607Z"
    }
   },
   "outputs": [],
   "source": [
    "trips"
   ]
  },
  {
   "cell_type": "markdown",
   "id": "bf9fbf2304204ea7",
   "metadata": {
    "collapsed": false
   },
   "source": [
    "## Define datasets"
   ]
  },
  {
   "cell_type": "code",
   "execution_count": null,
   "id": "0f56c19c",
   "metadata": {
    "ExecuteTime": {
     "start_time": "2024-01-05T10:10:43.514354456Z"
    }
   },
   "outputs": [],
   "source": [
    "starts = trips[\n",
    "    [\"start_time\", \"start_latitude\", \"start_longitude\"]\n",
    "]\n",
    "\n",
    "stops = trips[\n",
    "    [\"stop_time\", \"stop_latitude\", \"stop_longitude\"]\n",
    "]"
   ]
  },
  {
   "cell_type": "markdown",
   "id": "3d0900b0e546a6c3",
   "metadata": {
    "collapsed": false
   },
   "source": [
    "## Transform datasets into time series"
   ]
  },
  {
   "cell_type": "code",
   "execution_count": null,
   "id": "d5f7c386",
   "metadata": {
    "ExecuteTime": {
     "end_time": "2024-01-05T10:02:24.187756704Z",
     "start_time": "2024-01-05T09:58:33.476046924Z"
    }
   },
   "outputs": [],
   "source": [
    "agg_starts, agg_stops = transform_cleaned_data_into_ts_data(start_df = starts, stop_df = stops)"
   ]
  },
  {
   "cell_type": "code",
   "execution_count": null,
   "id": "188c7e6d",
   "metadata": {},
   "outputs": [],
   "source": [
    "trimmed_agg_starts = agg_starts.iloc[:,:3]\n",
    "trimmed_agg_stops = agg_stops.iloc[:,:3]\n",
    "\n",
    "trimmed_agg_starts.to_parquet(TEMPORARY_DATA/\"agg_starts.parquet\")\n",
    "trimmed_agg_stops.to_parquet(TEMPORARY_DATA/\"agg_stops.parquet\")"
   ]
  },
  {
   "cell_type": "markdown",
   "id": "424b4b75d41204b7",
   "metadata": {
    "collapsed": false
   },
   "source": [
    "## Transform time series data into training data"
   ]
  },
  {
   "cell_type": "markdown",
   "id": "64770a903526c161",
   "metadata": {
    "collapsed": false
   },
   "source": [
    "### Start data"
   ]
  },
  {
   "cell_type": "code",
   "execution_count": null,
   "id": "6a09c893b68e96c1",
   "metadata": {
    "ExecuteTime": {
     "end_time": "2024-01-05T10:09:31.847586934Z",
     "start_time": "2024-01-05T10:02:25.420281310Z"
    },
    "collapsed": false
   },
   "outputs": [],
   "source": [
    "start_features, start_target = transform_ts_into_training_data(\n",
    "    ts_data=trimmed_agg_starts,\n",
    "    start_or_stop=\"start\",\n",
    "    input_seq_len=24*28*1,                                                                                                                                                                                                                                                                                                                                                                                                                                                                                                                                                                                                                                                                                                                                                                                  \n",
    "    step_size=24\n",
    ")                                                                                                                                                                                                                                                                                                                                                                                                                                                                                                                                                                                                                          \n",
    "\n",
    "print(f\"{start_features.shape=}\")\n",
    "print(f\"{start_target.shape=}\")"
   ]
  },
  {
   "cell_type": "code",
   "execution_count": null,
   "id": "5324211b",
   "metadata": {},
   "outputs": [],
   "source": [
    "start_features.to_parquet(TEMPORARY_DATA/\"start_features.parquet\")\n",
    "start_target.to_csv(TEMPORARY_DATA/\"start_target.csv\")"
   ]
  },
  {
   "cell_type": "markdown",
   "id": "228388c7",
   "metadata": {},
   "source": [
    "#### Saving the final tabular dataset"
   ]
  },
  {
   "cell_type": "code",
   "execution_count": null,
   "id": "a2c3433f",
   "metadata": {},
   "outputs": [],
   "source": [
    "start_table = start_features\n",
    "start_features[\"trips_next_hour\"] = start_target\n",
    "\n",
    "start_table.to_parquet(TRAINING_DATA/\"start_table.parquet\")"
   ]
  },
  {
   "cell_type": "markdown",
   "id": "23034075e5c17baf",
   "metadata": {
    "collapsed": false
   },
   "source": [
    "### Stop data"
   ]
  },
  {
   "cell_type": "code",
   "execution_count": null,
   "id": "4391dcae",
   "metadata": {},
   "outputs": [],
   "source": [
    "stop_features, stop_target = transform_ts_into_training_data(\n",
    "    ts_data=trimmed_agg_stops,\n",
    "    start_or_stop=\"stop\",\n",
    "    input_seq_len=24*28*1, \n",
    "    step_size=24\n",
    ")\n",
    "print(f\"{stop_features.shape=}\")\n",
    "print(f\"{stop_target.shape=}\")                                                                                                                                                                                                                                                                                                                                                                                                                                                                                                                                                                                                                                                                                                                                                                                                                                                                                                                                                                                                                                                                                                                                                                                                                                                                                                                                                                                                                                                                                                                                                                                                                                                                                                                                                                                                                                                                                  "
   ]
  },
  {
   "cell_type": "markdown",
   "id": "5b74a3f9",
   "metadata": {},
   "source": [
    "#### Saving the final tabular dataset"
   ]
  },
  {
   "cell_type": "code",
   "execution_count": null,
   "id": "499e5be4",
   "metadata": {},
   "outputs": [],
   "source": [
    "stop_table = stop_features\n",
    "stop_features[\"trips_next_hour\"] = stop_target\n",
    "\n",
    "stop_table.to_parquet(TRAINING_DATA/\"stop_table.parquet\")"
   ]
  }
 ],
 "metadata": {
  "kernelspec": {
   "display_name": "Python 3",
   "language": "python",
   "name": "python3"
  },
  "language_info": {
   "codemirror_mode": {
    "name": "ipython",
    "version": 3
   },
   "file_extension": ".py",
   "mimetype": "text/x-python",
   "name": "python",
   "nbconvert_exporter": "python",
   "pygments_lexer": "ipython3",
   "version": "3.11.5"
  }
 },
 "nbformat": 4,
 "nbformat_minor": 5
}
