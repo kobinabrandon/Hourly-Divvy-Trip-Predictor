{
 "cells": [
  {
   "cell_type": "code",
   "execution_count": null,
   "metadata": {
    "ExecuteTime": {
     "end_time": "2023-12-23T00:17:53.111557985Z",
     "start_time": "2023-12-23T00:17:53.034295566Z"
    }
   },
   "outputs": [],
   "source": [
    "import pandas as pd\n",
    "from src.data_extraction import load_raw_data\n",
    "from src.paths import ORIGINAL_DATA_TYPES"
   ]
  },
  {
   "cell_type": "markdown",
   "metadata": {},
   "source": [
    "### Loading the Various Dataset & Saving It as a Pickle File"
   ]
  },
  {
   "cell_type": "markdown",
   "metadata": {},
   "source": [
    "#### 2023"
   ]
  },
  {
   "cell_type": "code",
   "execution_count": null,
   "metadata": {
    "ExecuteTime": {
     "end_time": "2023-12-23T00:30:25.456200843Z",
     "start_time": "2023-12-23T00:30:06.729056138Z"
    }
   },
   "outputs": [],
   "source": [
    "# The urrent time (10th December 2023)\n",
    "trips_2023_per_month = list(\n",
    "    load_raw_data(year = 2023)\n",
    ")"
   ]
  },
  {
   "cell_type": "code",
   "execution_count": null,
   "metadata": {},
   "outputs": [],
   "source": [
    "trips_2023 = pd.concat(trips_2023_per_month)"
   ]
  },
  {
   "cell_type": "markdown",
   "metadata": {
    "collapsed": false
   },
   "source": [
    "## Save Parquet File"
   ]
  },
  {
   "cell_type": "code",
   "execution_count": null,
   "metadata": {
    "ExecuteTime": {
     "end_time": "2023-12-23T00:27:03.178501251Z",
     "start_time": "2023-12-23T00:27:02.984009263Z"
    },
    "collapsed": false
   },
   "outputs": [],
   "source": [
    "trips_2023.to_parquet(ORIGINAL_DATA_TYPES/\"trips_2023.parquet\")"
   ]
  }
 ],
 "metadata": {
  "kernelspec": {
   "display_name": ".venv",
   "language": "python",
   "name": "python3"
  },
  "language_info": {
   "codemirror_mode": {
    "name": "ipython",
    "version": 3
   },
   "file_extension": ".py",
   "mimetype": "text/x-python",
   "name": "python",
   "nbconvert_exporter": "python",
   "pygments_lexer": "ipython3",
   "version": "3.10.0"
  },
  "orig_nbformat": 4
 },
 "nbformat": 4,
 "nbformat_minor": 2
}
