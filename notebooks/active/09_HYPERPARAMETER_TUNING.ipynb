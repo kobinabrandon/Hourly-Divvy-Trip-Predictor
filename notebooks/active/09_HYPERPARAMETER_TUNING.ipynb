{
 "cells": [
  {
   "cell_type": "code",
   "execution_count": 1,
   "metadata": {},
   "outputs": [
    {
     "name": "stderr",
     "output_type": "stream",
     "text": [
      "/home/kobina/.cache/pypoetry/virtualenvs/src-Frx8CZzu-py3.11/lib/python3.11/site-packages/tqdm/auto.py:21: TqdmWarning: IProgress not found. Please update jupyter and ipywidgets. See https://ipywidgets.readthedocs.io/en/stable/user_install.html\n",
      "  from .autonotebook import tqdm as notebook_tqdm\n",
      "\u001b[1;38;5;214mCOMET WARNING:\u001b[0m To get all data logged automatically, import comet_ml before the following modules: xgboost, sklearn, lightgbm.\n",
      "\u001b[1;38;5;214mCOMET WARNING:\u001b[0m As you are running in a Jupyter environment, you will need to call `experiment.end()` when finished to ensure all metrics and code are logged before exiting.\n",
      "\u001b[1;38;5;39mCOMET INFO:\u001b[0m Experiment is live on comet.com https://www.comet.com/kobina/divvy-bikes-demand-predictor-public/548d87127e964fab9f6761b37b977cda\n",
      "\n"
     ]
    }
   ],
   "source": [
    "import pandas as pd\n",
    "from sklearn.linear_model import Lasso \n",
    "from lightgbm import LGBMRegressor\n",
    "from xgboost import XGBRegressor\n",
    "\n",
    "from src.paths import TRAINING_DATA\n",
    "from src.hyperparameter_tuning import sampled_hyperparams, optimise_hyperparams"
   ]
  },
  {
   "cell_type": "markdown",
   "metadata": {},
   "source": [
    "#### Starts"
   ]
  },
  {
   "cell_type": "code",
   "execution_count": null,
   "metadata": {},
   "outputs": [],
   "source": [
    "start_table = pd.read_parquet(TRAINING_DATA/\"start_table.parquet\")"
   ]
  },
  {
   "cell_type": "code",
   "execution_count": null,
   "metadata": {},
   "outputs": [],
   "source": [
    "best_lasso_hyperparams_for_starts = \\\n",
    "  optimise_hyperparams(\n",
    "    model_fn=Lasso, \n",
    "    hyperparam_trials = 5, \n",
    "    scenario = \"start\", \n",
    "    X = start_table.drop(\"trips_next_hour\", axis = 1), \n",
    "    y = start_table[\"trips_next_hour\"]\n",
    ")"
   ]
  },
  {
   "cell_type": "markdown",
   "metadata": {},
   "source": [
    "#### Stops"
   ]
  },
  {
   "cell_type": "code",
   "execution_count": 2,
   "metadata": {},
   "outputs": [],
   "source": [
    "stop_table = pd.read_parquet(TRAINING_DATA/\"stop_table.parquet\") "
   ]
  },
  {
   "cell_type": "code",
   "execution_count": null,
   "metadata": {},
   "outputs": [],
   "source": [
    "best_lasso_hyperparams_for_stops = \\\n",
    "  optimise_hyperparams(\n",
    "    model_fn=Lasso, \n",
    "    hyperparam_trials = 5, \n",
    "    scenario = \"stop\", \n",
    "    X = stop_table.drop(\"trips_next_hour\", axis = 1), \n",
    "    y = stop_table[\"trips_next_hour\"]\n",
    ")"
   ]
  },
  {
   "cell_type": "code",
   "execution_count": 3,
   "metadata": {},
   "outputs": [
    {
     "name": "stderr",
     "output_type": "stream",
     "text": [
      "divvy_trips - INFO - Beginning hyperparameter search\n",
      "[I 2024-02-02 22:59:08,833] A new study created in memory with name: no-name-55affa50-7755-41c5-a1fb-eb882377c0d9\n",
      "divvy_trips - INFO - Start Trial 0\n",
      "divvy_trips - INFO - Performing split number 0\n"
     ]
    },
    {
     "name": "stdout",
     "output_type": "stream",
     "text": [
      "\n",
      "\n"
     ]
    },
    {
     "name": "stderr",
     "output_type": "stream",
     "text": [
      "divvy_trips - INFO - Performing split number 1\n",
      "divvy_trips - INFO - Performing split number 2\n",
      "divvy_trips - INFO - Performing split number 3\n",
      "divvy_trips - INFO - Performing split number 4\n",
      "[W 2024-02-02 22:59:33,078] Trial 0 failed with parameters: {'num_leaves': 41, 'max_depth': 10, 'n_estimators': 56, 'learning_rate': 0.3338234425574758, 'importance_type': 'split', 'subsample': 1, 'feature_fraction': 0.7046809091267887, 'colsample_by_tree': 0.9094897531510422, 'colsample_by_node': 0.4862166221670621} because of the following error: KeyboardInterrupt().\n",
      "Traceback (most recent call last):\n",
      "  File \"/home/kobina/.cache/pypoetry/virtualenvs/src-Frx8CZzu-py3.11/lib/python3.11/site-packages/optuna/study/_optimize.py\", line 200, in _run_trial\n",
      "    value_or_values = func(trial)\n",
      "                      ^^^^^^^^^^^\n",
      "  File \"/home/kobina/Desktop/ML/End-to-End Projects/Actualised/cyclistic-bike-sharing-data/src/hyperparameter_tuning.py\", line 140, in objective\n",
      "    pipeline.fit(X.iloc[train_indices], y.iloc[train_indices])\n",
      "  File \"/home/kobina/.cache/pypoetry/virtualenvs/src-Frx8CZzu-py3.11/lib/python3.11/site-packages/comet_ml/monkey_patching.py\", line 288, in wrapper\n",
      "    return_value = original(*args, **kwargs)\n",
      "                   ^^^^^^^^^^^^^^^^^^^^^^^^^\n",
      "  File \"/home/kobina/.cache/pypoetry/virtualenvs/src-Frx8CZzu-py3.11/lib/python3.11/site-packages/sklearn/base.py\", line 1152, in wrapper\n",
      "    return fit_method(estimator, *args, **kwargs)\n",
      "           ^^^^^^^^^^^^^^^^^^^^^^^^^^^^^^^^^^^^^^\n",
      "  File \"/home/kobina/.cache/pypoetry/virtualenvs/src-Frx8CZzu-py3.11/lib/python3.11/site-packages/sklearn/pipeline.py\", line 427, in fit\n",
      "    self._final_estimator.fit(Xt, y, **fit_params_last_step)\n",
      "  File \"/home/kobina/.cache/pypoetry/virtualenvs/src-Frx8CZzu-py3.11/lib/python3.11/site-packages/lightgbm/sklearn.py\", line 1092, in fit\n",
      "    super().fit(\n",
      "  File \"/home/kobina/.cache/pypoetry/virtualenvs/src-Frx8CZzu-py3.11/lib/python3.11/site-packages/lightgbm/sklearn.py\", line 885, in fit\n",
      "    self._Booster = train(\n",
      "                    ^^^^^^\n",
      "  File \"/home/kobina/.cache/pypoetry/virtualenvs/src-Frx8CZzu-py3.11/lib/python3.11/site-packages/lightgbm/engine.py\", line 255, in train\n",
      "    booster = Booster(params=params, train_set=train_set)\n",
      "              ^^^^^^^^^^^^^^^^^^^^^^^^^^^^^^^^^^^^^^^^^^^\n",
      "  File \"/home/kobina/.cache/pypoetry/virtualenvs/src-Frx8CZzu-py3.11/lib/python3.11/site-packages/lightgbm/basic.py\", line 3433, in __init__\n",
      "    train_set.construct()\n",
      "  File \"/home/kobina/.cache/pypoetry/virtualenvs/src-Frx8CZzu-py3.11/lib/python3.11/site-packages/lightgbm/basic.py\", line 2462, in construct\n",
      "    self._lazy_init(data=self.data, label=self.label, reference=None,\n",
      "  File \"/home/kobina/.cache/pypoetry/virtualenvs/src-Frx8CZzu-py3.11/lib/python3.11/site-packages/lightgbm/basic.py\", line 2079, in _lazy_init\n",
      "    self.__init_from_np2d(data, params_str, ref_dataset)\n",
      "  File \"/home/kobina/.cache/pypoetry/virtualenvs/src-Frx8CZzu-py3.11/lib/python3.11/site-packages/lightgbm/basic.py\", line 2213, in __init_from_np2d\n",
      "    data = np.array(mat.reshape(mat.size), dtype=mat.dtype, copy=False)\n",
      "                    ^^^^^^^^^^^^^^^^^^^^^\n",
      "KeyboardInterrupt\n",
      "[W 2024-02-02 22:59:33,083] Trial 0 failed with value None.\n"
     ]
    },
    {
     "ename": "KeyboardInterrupt",
     "evalue": "",
     "output_type": "error",
     "traceback": [
      "\u001b[0;31m---------------------------------------------------------------------------\u001b[0m",
      "\u001b[0;31mKeyboardInterrupt\u001b[0m                         Traceback (most recent call last)",
      "\u001b[1;32m/home/kobina/Desktop/ML/End-to-End Projects/Actualised/cyclistic-bike-sharing-data/notebooks/active/09_HYPERPARAMETER_TUNING.ipynb Cell 8\u001b[0m line \u001b[0;36m2\n\u001b[1;32m      <a href='vscode-notebook-cell:/home/kobina/Desktop/ML/End-to-End%20Projects/Actualised/cyclistic-bike-sharing-data/notebooks/active/09_HYPERPARAMETER_TUNING.ipynb#X10sZmlsZQ%3D%3D?line=0'>1</a>\u001b[0m best_lgb_hyperparams_for_stops \u001b[39m=\u001b[39m \\\n\u001b[0;32m----> <a href='vscode-notebook-cell:/home/kobina/Desktop/ML/End-to-End%20Projects/Actualised/cyclistic-bike-sharing-data/notebooks/active/09_HYPERPARAMETER_TUNING.ipynb#X10sZmlsZQ%3D%3D?line=1'>2</a>\u001b[0m   optimise_hyperparams(\n\u001b[1;32m      <a href='vscode-notebook-cell:/home/kobina/Desktop/ML/End-to-End%20Projects/Actualised/cyclistic-bike-sharing-data/notebooks/active/09_HYPERPARAMETER_TUNING.ipynb#X10sZmlsZQ%3D%3D?line=2'>3</a>\u001b[0m     model_fn\u001b[39m=\u001b[39;49mLGBMRegressor, \n\u001b[1;32m      <a href='vscode-notebook-cell:/home/kobina/Desktop/ML/End-to-End%20Projects/Actualised/cyclistic-bike-sharing-data/notebooks/active/09_HYPERPARAMETER_TUNING.ipynb#X10sZmlsZQ%3D%3D?line=3'>4</a>\u001b[0m     hyperparam_trials \u001b[39m=\u001b[39;49m \u001b[39m5\u001b[39;49m, \n\u001b[1;32m      <a href='vscode-notebook-cell:/home/kobina/Desktop/ML/End-to-End%20Projects/Actualised/cyclistic-bike-sharing-data/notebooks/active/09_HYPERPARAMETER_TUNING.ipynb#X10sZmlsZQ%3D%3D?line=4'>5</a>\u001b[0m     scenario \u001b[39m=\u001b[39;49m \u001b[39m\"\u001b[39;49m\u001b[39mstop\u001b[39;49m\u001b[39m\"\u001b[39;49m, \n\u001b[1;32m      <a href='vscode-notebook-cell:/home/kobina/Desktop/ML/End-to-End%20Projects/Actualised/cyclistic-bike-sharing-data/notebooks/active/09_HYPERPARAMETER_TUNING.ipynb#X10sZmlsZQ%3D%3D?line=5'>6</a>\u001b[0m     X \u001b[39m=\u001b[39;49m stop_table\u001b[39m.\u001b[39;49mdrop(\u001b[39m\"\u001b[39;49m\u001b[39mtrips_next_hour\u001b[39;49m\u001b[39m\"\u001b[39;49m, axis \u001b[39m=\u001b[39;49m \u001b[39m1\u001b[39;49m), \n\u001b[1;32m      <a href='vscode-notebook-cell:/home/kobina/Desktop/ML/End-to-End%20Projects/Actualised/cyclistic-bike-sharing-data/notebooks/active/09_HYPERPARAMETER_TUNING.ipynb#X10sZmlsZQ%3D%3D?line=6'>7</a>\u001b[0m     y \u001b[39m=\u001b[39;49m stop_table[\u001b[39m\"\u001b[39;49m\u001b[39mtrips_next_hour\u001b[39;49m\u001b[39m\"\u001b[39;49m]\n\u001b[1;32m      <a href='vscode-notebook-cell:/home/kobina/Desktop/ML/End-to-End%20Projects/Actualised/cyclistic-bike-sharing-data/notebooks/active/09_HYPERPARAMETER_TUNING.ipynb#X10sZmlsZQ%3D%3D?line=7'>8</a>\u001b[0m )\n",
      "File \u001b[0;32m~/Desktop/ML/End-to-End Projects/Actualised/cyclistic-bike-sharing-data/src/hyperparameter_tuning.py:153\u001b[0m, in \u001b[0;36moptimise_hyperparams\u001b[0;34m(model_fn, hyperparam_trials, scenario, X, y, experiment)\u001b[0m\n\u001b[1;32m    150\u001b[0m logger\u001b[39m.\u001b[39minfo(\u001b[39m\"\u001b[39m\u001b[39mBeginning hyperparameter search\u001b[39m\u001b[39m\"\u001b[39m)\n\u001b[1;32m    152\u001b[0m study \u001b[39m=\u001b[39m optuna\u001b[39m.\u001b[39mcreate_study(direction\u001b[39m=\u001b[39m\u001b[39m\"\u001b[39m\u001b[39mminimize\u001b[39m\u001b[39m\"\u001b[39m)\n\u001b[0;32m--> 153\u001b[0m study\u001b[39m.\u001b[39;49moptimize(func\u001b[39m=\u001b[39;49mobjective, n_trials\u001b[39m=\u001b[39;49mhyperparam_trials)\n\u001b[1;32m    155\u001b[0m \u001b[39m# Get the dictionary of the best hyperparameters and the error that they produce\u001b[39;00m\n\u001b[1;32m    156\u001b[0m best_hyperparams \u001b[39m=\u001b[39m study\u001b[39m.\u001b[39mbest_params\n",
      "File \u001b[0;32m~/.cache/pypoetry/virtualenvs/src-Frx8CZzu-py3.11/lib/python3.11/site-packages/optuna/study/study.py:451\u001b[0m, in \u001b[0;36mStudy.optimize\u001b[0;34m(self, func, n_trials, timeout, n_jobs, catch, callbacks, gc_after_trial, show_progress_bar)\u001b[0m\n\u001b[1;32m    348\u001b[0m \u001b[39mdef\u001b[39;00m \u001b[39moptimize\u001b[39m(\n\u001b[1;32m    349\u001b[0m     \u001b[39mself\u001b[39m,\n\u001b[1;32m    350\u001b[0m     func: ObjectiveFuncType,\n\u001b[0;32m   (...)\u001b[0m\n\u001b[1;32m    357\u001b[0m     show_progress_bar: \u001b[39mbool\u001b[39m \u001b[39m=\u001b[39m \u001b[39mFalse\u001b[39;00m,\n\u001b[1;32m    358\u001b[0m ) \u001b[39m-\u001b[39m\u001b[39m>\u001b[39m \u001b[39mNone\u001b[39;00m:\n\u001b[1;32m    359\u001b[0m \u001b[39m    \u001b[39m\u001b[39m\"\"\"Optimize an objective function.\u001b[39;00m\n\u001b[1;32m    360\u001b[0m \n\u001b[1;32m    361\u001b[0m \u001b[39m    Optimization is done by choosing a suitable set of hyperparameter values from a given\u001b[39;00m\n\u001b[0;32m   (...)\u001b[0m\n\u001b[1;32m    449\u001b[0m \u001b[39m            If nested invocation of this method occurs.\u001b[39;00m\n\u001b[1;32m    450\u001b[0m \u001b[39m    \"\"\"\u001b[39;00m\n\u001b[0;32m--> 451\u001b[0m     _optimize(\n\u001b[1;32m    452\u001b[0m         study\u001b[39m=\u001b[39;49m\u001b[39mself\u001b[39;49m,\n\u001b[1;32m    453\u001b[0m         func\u001b[39m=\u001b[39;49mfunc,\n\u001b[1;32m    454\u001b[0m         n_trials\u001b[39m=\u001b[39;49mn_trials,\n\u001b[1;32m    455\u001b[0m         timeout\u001b[39m=\u001b[39;49mtimeout,\n\u001b[1;32m    456\u001b[0m         n_jobs\u001b[39m=\u001b[39;49mn_jobs,\n\u001b[1;32m    457\u001b[0m         catch\u001b[39m=\u001b[39;49m\u001b[39mtuple\u001b[39;49m(catch) \u001b[39mif\u001b[39;49;00m \u001b[39misinstance\u001b[39;49m(catch, Iterable) \u001b[39melse\u001b[39;49;00m (catch,),\n\u001b[1;32m    458\u001b[0m         callbacks\u001b[39m=\u001b[39;49mcallbacks,\n\u001b[1;32m    459\u001b[0m         gc_after_trial\u001b[39m=\u001b[39;49mgc_after_trial,\n\u001b[1;32m    460\u001b[0m         show_progress_bar\u001b[39m=\u001b[39;49mshow_progress_bar,\n\u001b[1;32m    461\u001b[0m     )\n",
      "File \u001b[0;32m~/.cache/pypoetry/virtualenvs/src-Frx8CZzu-py3.11/lib/python3.11/site-packages/optuna/study/_optimize.py:66\u001b[0m, in \u001b[0;36m_optimize\u001b[0;34m(study, func, n_trials, timeout, n_jobs, catch, callbacks, gc_after_trial, show_progress_bar)\u001b[0m\n\u001b[1;32m     64\u001b[0m \u001b[39mtry\u001b[39;00m:\n\u001b[1;32m     65\u001b[0m     \u001b[39mif\u001b[39;00m n_jobs \u001b[39m==\u001b[39m \u001b[39m1\u001b[39m:\n\u001b[0;32m---> 66\u001b[0m         _optimize_sequential(\n\u001b[1;32m     67\u001b[0m             study,\n\u001b[1;32m     68\u001b[0m             func,\n\u001b[1;32m     69\u001b[0m             n_trials,\n\u001b[1;32m     70\u001b[0m             timeout,\n\u001b[1;32m     71\u001b[0m             catch,\n\u001b[1;32m     72\u001b[0m             callbacks,\n\u001b[1;32m     73\u001b[0m             gc_after_trial,\n\u001b[1;32m     74\u001b[0m             reseed_sampler_rng\u001b[39m=\u001b[39;49m\u001b[39mFalse\u001b[39;49;00m,\n\u001b[1;32m     75\u001b[0m             time_start\u001b[39m=\u001b[39;49m\u001b[39mNone\u001b[39;49;00m,\n\u001b[1;32m     76\u001b[0m             progress_bar\u001b[39m=\u001b[39;49mprogress_bar,\n\u001b[1;32m     77\u001b[0m         )\n\u001b[1;32m     78\u001b[0m     \u001b[39melse\u001b[39;00m:\n\u001b[1;32m     79\u001b[0m         \u001b[39mif\u001b[39;00m n_jobs \u001b[39m==\u001b[39m \u001b[39m-\u001b[39m\u001b[39m1\u001b[39m:\n",
      "File \u001b[0;32m~/.cache/pypoetry/virtualenvs/src-Frx8CZzu-py3.11/lib/python3.11/site-packages/optuna/study/_optimize.py:163\u001b[0m, in \u001b[0;36m_optimize_sequential\u001b[0;34m(study, func, n_trials, timeout, catch, callbacks, gc_after_trial, reseed_sampler_rng, time_start, progress_bar)\u001b[0m\n\u001b[1;32m    160\u001b[0m         \u001b[39mbreak\u001b[39;00m\n\u001b[1;32m    162\u001b[0m \u001b[39mtry\u001b[39;00m:\n\u001b[0;32m--> 163\u001b[0m     frozen_trial \u001b[39m=\u001b[39m _run_trial(study, func, catch)\n\u001b[1;32m    164\u001b[0m \u001b[39mfinally\u001b[39;00m:\n\u001b[1;32m    165\u001b[0m     \u001b[39m# The following line mitigates memory problems that can be occurred in some\u001b[39;00m\n\u001b[1;32m    166\u001b[0m     \u001b[39m# environments (e.g., services that use computing containers such as GitHub Actions).\u001b[39;00m\n\u001b[1;32m    167\u001b[0m     \u001b[39m# Please refer to the following PR for further details:\u001b[39;00m\n\u001b[1;32m    168\u001b[0m     \u001b[39m# https://github.com/optuna/optuna/pull/325.\u001b[39;00m\n\u001b[1;32m    169\u001b[0m     \u001b[39mif\u001b[39;00m gc_after_trial:\n",
      "File \u001b[0;32m~/.cache/pypoetry/virtualenvs/src-Frx8CZzu-py3.11/lib/python3.11/site-packages/optuna/study/_optimize.py:251\u001b[0m, in \u001b[0;36m_run_trial\u001b[0;34m(study, func, catch)\u001b[0m\n\u001b[1;32m    244\u001b[0m         \u001b[39massert\u001b[39;00m \u001b[39mFalse\u001b[39;00m, \u001b[39m\"\u001b[39m\u001b[39mShould not reach.\u001b[39m\u001b[39m\"\u001b[39m\n\u001b[1;32m    246\u001b[0m \u001b[39mif\u001b[39;00m (\n\u001b[1;32m    247\u001b[0m     frozen_trial\u001b[39m.\u001b[39mstate \u001b[39m==\u001b[39m TrialState\u001b[39m.\u001b[39mFAIL\n\u001b[1;32m    248\u001b[0m     \u001b[39mand\u001b[39;00m func_err \u001b[39mis\u001b[39;00m \u001b[39mnot\u001b[39;00m \u001b[39mNone\u001b[39;00m\n\u001b[1;32m    249\u001b[0m     \u001b[39mand\u001b[39;00m \u001b[39mnot\u001b[39;00m \u001b[39misinstance\u001b[39m(func_err, catch)\n\u001b[1;32m    250\u001b[0m ):\n\u001b[0;32m--> 251\u001b[0m     \u001b[39mraise\u001b[39;00m func_err\n\u001b[1;32m    252\u001b[0m \u001b[39mreturn\u001b[39;00m frozen_trial\n",
      "File \u001b[0;32m~/.cache/pypoetry/virtualenvs/src-Frx8CZzu-py3.11/lib/python3.11/site-packages/optuna/study/_optimize.py:200\u001b[0m, in \u001b[0;36m_run_trial\u001b[0;34m(study, func, catch)\u001b[0m\n\u001b[1;32m    198\u001b[0m \u001b[39mwith\u001b[39;00m get_heartbeat_thread(trial\u001b[39m.\u001b[39m_trial_id, study\u001b[39m.\u001b[39m_storage):\n\u001b[1;32m    199\u001b[0m     \u001b[39mtry\u001b[39;00m:\n\u001b[0;32m--> 200\u001b[0m         value_or_values \u001b[39m=\u001b[39m func(trial)\n\u001b[1;32m    201\u001b[0m     \u001b[39mexcept\u001b[39;00m exceptions\u001b[39m.\u001b[39mTrialPruned \u001b[39mas\u001b[39;00m e:\n\u001b[1;32m    202\u001b[0m         \u001b[39m# TODO(mamu): Handle multi-objective cases.\u001b[39;00m\n\u001b[1;32m    203\u001b[0m         state \u001b[39m=\u001b[39m TrialState\u001b[39m.\u001b[39mPRUNED\n",
      "File \u001b[0;32m~/Desktop/ML/End-to-End Projects/Actualised/cyclistic-bike-sharing-data/src/hyperparameter_tuning.py:140\u001b[0m, in \u001b[0;36moptimise_hyperparams.<locals>.objective\u001b[0;34m(trial)\u001b[0m\n\u001b[1;32m    133\u001b[0m \u001b[39mif\u001b[39;00m scenario \u001b[39m==\u001b[39m \u001b[39m\"\u001b[39m\u001b[39mstop\u001b[39m\u001b[39m\"\u001b[39m \u001b[39mand\u001b[39;00m \u001b[39m\"\u001b[39m\u001b[39mstop_station_id\u001b[39m\u001b[39m\"\u001b[39m \u001b[39min\u001b[39;00m X\u001b[39m.\u001b[39mcolumns:\n\u001b[1;32m    135\u001b[0m   pipeline \u001b[39m=\u001b[39m make_pipeline(\n\u001b[1;32m    136\u001b[0m     get_stop_pipeline(),\n\u001b[1;32m    137\u001b[0m     model_fn(\u001b[39m*\u001b[39m\u001b[39m*\u001b[39mhyperparams)\n\u001b[1;32m    138\u001b[0m   )\n\u001b[0;32m--> 140\u001b[0m pipeline\u001b[39m.\u001b[39;49mfit(X\u001b[39m.\u001b[39;49miloc[train_indices], y\u001b[39m.\u001b[39;49miloc[train_indices])\n\u001b[1;32m    142\u001b[0m y_pred \u001b[39m=\u001b[39m pipeline\u001b[39m.\u001b[39mpredict(X\u001b[39m.\u001b[39miloc[val_indices])\n\u001b[1;32m    143\u001b[0m error \u001b[39m=\u001b[39m mean_absolute_error(y\u001b[39m.\u001b[39miloc[val_indices], y_pred)\n",
      "File \u001b[0;32m~/.cache/pypoetry/virtualenvs/src-Frx8CZzu-py3.11/lib/python3.11/site-packages/comet_ml/monkey_patching.py:288\u001b[0m, in \u001b[0;36mEntrypoint.<locals>.wrapper\u001b[0;34m(*args, **kwargs)\u001b[0m\n\u001b[1;32m    286\u001b[0m exception_raised \u001b[39m=\u001b[39m \u001b[39mNone\u001b[39;00m\n\u001b[1;32m    287\u001b[0m \u001b[39mtry\u001b[39;00m:\n\u001b[0;32m--> 288\u001b[0m     return_value \u001b[39m=\u001b[39m original(\u001b[39m*\u001b[39;49margs, \u001b[39m*\u001b[39;49m\u001b[39m*\u001b[39;49mkwargs)\n\u001b[1;32m    289\u001b[0m \u001b[39mexcept\u001b[39;00m \u001b[39mException\u001b[39;00m \u001b[39mas\u001b[39;00m exception:\n\u001b[1;32m    290\u001b[0m     exception_raised \u001b[39m=\u001b[39m exception\n",
      "File \u001b[0;32m~/.cache/pypoetry/virtualenvs/src-Frx8CZzu-py3.11/lib/python3.11/site-packages/sklearn/base.py:1152\u001b[0m, in \u001b[0;36m_fit_context.<locals>.decorator.<locals>.wrapper\u001b[0;34m(estimator, *args, **kwargs)\u001b[0m\n\u001b[1;32m   1145\u001b[0m     estimator\u001b[39m.\u001b[39m_validate_params()\n\u001b[1;32m   1147\u001b[0m \u001b[39mwith\u001b[39;00m config_context(\n\u001b[1;32m   1148\u001b[0m     skip_parameter_validation\u001b[39m=\u001b[39m(\n\u001b[1;32m   1149\u001b[0m         prefer_skip_nested_validation \u001b[39mor\u001b[39;00m global_skip_validation\n\u001b[1;32m   1150\u001b[0m     )\n\u001b[1;32m   1151\u001b[0m ):\n\u001b[0;32m-> 1152\u001b[0m     \u001b[39mreturn\u001b[39;00m fit_method(estimator, \u001b[39m*\u001b[39;49margs, \u001b[39m*\u001b[39;49m\u001b[39m*\u001b[39;49mkwargs)\n",
      "File \u001b[0;32m~/.cache/pypoetry/virtualenvs/src-Frx8CZzu-py3.11/lib/python3.11/site-packages/sklearn/pipeline.py:427\u001b[0m, in \u001b[0;36mPipeline.fit\u001b[0;34m(self, X, y, **fit_params)\u001b[0m\n\u001b[1;32m    425\u001b[0m     \u001b[39mif\u001b[39;00m \u001b[39mself\u001b[39m\u001b[39m.\u001b[39m_final_estimator \u001b[39m!=\u001b[39m \u001b[39m\"\u001b[39m\u001b[39mpassthrough\u001b[39m\u001b[39m\"\u001b[39m:\n\u001b[1;32m    426\u001b[0m         fit_params_last_step \u001b[39m=\u001b[39m fit_params_steps[\u001b[39mself\u001b[39m\u001b[39m.\u001b[39msteps[\u001b[39m-\u001b[39m\u001b[39m1\u001b[39m][\u001b[39m0\u001b[39m]]\n\u001b[0;32m--> 427\u001b[0m         \u001b[39mself\u001b[39;49m\u001b[39m.\u001b[39;49m_final_estimator\u001b[39m.\u001b[39;49mfit(Xt, y, \u001b[39m*\u001b[39;49m\u001b[39m*\u001b[39;49mfit_params_last_step)\n\u001b[1;32m    429\u001b[0m \u001b[39mreturn\u001b[39;00m \u001b[39mself\u001b[39m\n",
      "File \u001b[0;32m~/.cache/pypoetry/virtualenvs/src-Frx8CZzu-py3.11/lib/python3.11/site-packages/lightgbm/sklearn.py:1092\u001b[0m, in \u001b[0;36mLGBMRegressor.fit\u001b[0;34m(self, X, y, sample_weight, init_score, eval_set, eval_names, eval_sample_weight, eval_init_score, eval_metric, feature_name, categorical_feature, callbacks, init_model)\u001b[0m\n\u001b[1;32m   1075\u001b[0m \u001b[39mdef\u001b[39;00m \u001b[39mfit\u001b[39m(  \u001b[39m# type: ignore[override]\u001b[39;00m\n\u001b[1;32m   1076\u001b[0m     \u001b[39mself\u001b[39m,\n\u001b[1;32m   1077\u001b[0m     X: _LGBM_ScikitMatrixLike,\n\u001b[0;32m   (...)\u001b[0m\n\u001b[1;32m   1089\u001b[0m     init_model: Optional[Union[\u001b[39mstr\u001b[39m, Path, Booster, LGBMModel]] \u001b[39m=\u001b[39m \u001b[39mNone\u001b[39;00m\n\u001b[1;32m   1090\u001b[0m ) \u001b[39m-\u001b[39m\u001b[39m>\u001b[39m \u001b[39m\"\u001b[39m\u001b[39mLGBMRegressor\u001b[39m\u001b[39m\"\u001b[39m:\n\u001b[1;32m   1091\u001b[0m \u001b[39m    \u001b[39m\u001b[39m\"\"\"Docstring is inherited from the LGBMModel.\"\"\"\u001b[39;00m\n\u001b[0;32m-> 1092\u001b[0m     \u001b[39msuper\u001b[39;49m()\u001b[39m.\u001b[39;49mfit(\n\u001b[1;32m   1093\u001b[0m         X,\n\u001b[1;32m   1094\u001b[0m         y,\n\u001b[1;32m   1095\u001b[0m         sample_weight\u001b[39m=\u001b[39;49msample_weight,\n\u001b[1;32m   1096\u001b[0m         init_score\u001b[39m=\u001b[39;49minit_score,\n\u001b[1;32m   1097\u001b[0m         eval_set\u001b[39m=\u001b[39;49meval_set,\n\u001b[1;32m   1098\u001b[0m         eval_names\u001b[39m=\u001b[39;49meval_names,\n\u001b[1;32m   1099\u001b[0m         eval_sample_weight\u001b[39m=\u001b[39;49meval_sample_weight,\n\u001b[1;32m   1100\u001b[0m         eval_init_score\u001b[39m=\u001b[39;49meval_init_score,\n\u001b[1;32m   1101\u001b[0m         eval_metric\u001b[39m=\u001b[39;49meval_metric,\n\u001b[1;32m   1102\u001b[0m         feature_name\u001b[39m=\u001b[39;49mfeature_name,\n\u001b[1;32m   1103\u001b[0m         categorical_feature\u001b[39m=\u001b[39;49mcategorical_feature,\n\u001b[1;32m   1104\u001b[0m         callbacks\u001b[39m=\u001b[39;49mcallbacks,\n\u001b[1;32m   1105\u001b[0m         init_model\u001b[39m=\u001b[39;49minit_model\n\u001b[1;32m   1106\u001b[0m     )\n\u001b[1;32m   1107\u001b[0m     \u001b[39mreturn\u001b[39;00m \u001b[39mself\u001b[39m\n",
      "File \u001b[0;32m~/.cache/pypoetry/virtualenvs/src-Frx8CZzu-py3.11/lib/python3.11/site-packages/lightgbm/sklearn.py:885\u001b[0m, in \u001b[0;36mLGBMModel.fit\u001b[0;34m(self, X, y, sample_weight, init_score, group, eval_set, eval_names, eval_sample_weight, eval_class_weight, eval_init_score, eval_group, eval_metric, feature_name, categorical_feature, callbacks, init_model)\u001b[0m\n\u001b[1;32m    882\u001b[0m evals_result: _EvalResultDict \u001b[39m=\u001b[39m {}\n\u001b[1;32m    883\u001b[0m callbacks\u001b[39m.\u001b[39mappend(record_evaluation(evals_result))\n\u001b[0;32m--> 885\u001b[0m \u001b[39mself\u001b[39m\u001b[39m.\u001b[39m_Booster \u001b[39m=\u001b[39m train(\n\u001b[1;32m    886\u001b[0m     params\u001b[39m=\u001b[39;49mparams,\n\u001b[1;32m    887\u001b[0m     train_set\u001b[39m=\u001b[39;49mtrain_set,\n\u001b[1;32m    888\u001b[0m     num_boost_round\u001b[39m=\u001b[39;49m\u001b[39mself\u001b[39;49m\u001b[39m.\u001b[39;49mn_estimators,\n\u001b[1;32m    889\u001b[0m     valid_sets\u001b[39m=\u001b[39;49mvalid_sets,\n\u001b[1;32m    890\u001b[0m     valid_names\u001b[39m=\u001b[39;49meval_names,\n\u001b[1;32m    891\u001b[0m     feval\u001b[39m=\u001b[39;49meval_metrics_callable,  \u001b[39m# type: ignore[arg-type]\u001b[39;49;00m\n\u001b[1;32m    892\u001b[0m     init_model\u001b[39m=\u001b[39;49minit_model,\n\u001b[1;32m    893\u001b[0m     feature_name\u001b[39m=\u001b[39;49mfeature_name,\n\u001b[1;32m    894\u001b[0m     callbacks\u001b[39m=\u001b[39;49mcallbacks\n\u001b[1;32m    895\u001b[0m )\n\u001b[1;32m    897\u001b[0m \u001b[39mself\u001b[39m\u001b[39m.\u001b[39m_evals_result \u001b[39m=\u001b[39m evals_result\n\u001b[1;32m    898\u001b[0m \u001b[39mself\u001b[39m\u001b[39m.\u001b[39m_best_iteration \u001b[39m=\u001b[39m \u001b[39mself\u001b[39m\u001b[39m.\u001b[39m_Booster\u001b[39m.\u001b[39mbest_iteration\n",
      "File \u001b[0;32m~/.cache/pypoetry/virtualenvs/src-Frx8CZzu-py3.11/lib/python3.11/site-packages/lightgbm/engine.py:255\u001b[0m, in \u001b[0;36mtrain\u001b[0;34m(params, train_set, num_boost_round, valid_sets, valid_names, feval, init_model, feature_name, categorical_feature, keep_training_booster, callbacks)\u001b[0m\n\u001b[1;32m    253\u001b[0m \u001b[39m# construct booster\u001b[39;00m\n\u001b[1;32m    254\u001b[0m \u001b[39mtry\u001b[39;00m:\n\u001b[0;32m--> 255\u001b[0m     booster \u001b[39m=\u001b[39m Booster(params\u001b[39m=\u001b[39;49mparams, train_set\u001b[39m=\u001b[39;49mtrain_set)\n\u001b[1;32m    256\u001b[0m     \u001b[39mif\u001b[39;00m is_valid_contain_train:\n\u001b[1;32m    257\u001b[0m         booster\u001b[39m.\u001b[39mset_train_data_name(train_data_name)\n",
      "File \u001b[0;32m~/.cache/pypoetry/virtualenvs/src-Frx8CZzu-py3.11/lib/python3.11/site-packages/lightgbm/basic.py:3433\u001b[0m, in \u001b[0;36mBooster.__init__\u001b[0;34m(self, params, train_set, model_file, model_str)\u001b[0m\n\u001b[1;32m   3426\u001b[0m     \u001b[39mself\u001b[39m\u001b[39m.\u001b[39mset_network(\n\u001b[1;32m   3427\u001b[0m         machines\u001b[39m=\u001b[39mmachines,\n\u001b[1;32m   3428\u001b[0m         local_listen_port\u001b[39m=\u001b[39mparams[\u001b[39m\"\u001b[39m\u001b[39mlocal_listen_port\u001b[39m\u001b[39m\"\u001b[39m],\n\u001b[1;32m   3429\u001b[0m         listen_time_out\u001b[39m=\u001b[39mparams\u001b[39m.\u001b[39mget(\u001b[39m\"\u001b[39m\u001b[39mtime_out\u001b[39m\u001b[39m\"\u001b[39m, \u001b[39m120\u001b[39m),\n\u001b[1;32m   3430\u001b[0m         num_machines\u001b[39m=\u001b[39mparams[\u001b[39m\"\u001b[39m\u001b[39mnum_machines\u001b[39m\u001b[39m\"\u001b[39m]\n\u001b[1;32m   3431\u001b[0m     )\n\u001b[1;32m   3432\u001b[0m \u001b[39m# construct booster object\u001b[39;00m\n\u001b[0;32m-> 3433\u001b[0m train_set\u001b[39m.\u001b[39;49mconstruct()\n\u001b[1;32m   3434\u001b[0m \u001b[39m# copy the parameters from train_set\u001b[39;00m\n\u001b[1;32m   3435\u001b[0m params\u001b[39m.\u001b[39mupdate(train_set\u001b[39m.\u001b[39mget_params())\n",
      "File \u001b[0;32m~/.cache/pypoetry/virtualenvs/src-Frx8CZzu-py3.11/lib/python3.11/site-packages/lightgbm/basic.py:2462\u001b[0m, in \u001b[0;36mDataset.construct\u001b[0;34m(self)\u001b[0m\n\u001b[1;32m   2455\u001b[0m             \u001b[39mself\u001b[39m\u001b[39m.\u001b[39m_set_init_score_by_predictor(\n\u001b[1;32m   2456\u001b[0m                 predictor\u001b[39m=\u001b[39m\u001b[39mself\u001b[39m\u001b[39m.\u001b[39m_predictor,\n\u001b[1;32m   2457\u001b[0m                 data\u001b[39m=\u001b[39m\u001b[39mself\u001b[39m\u001b[39m.\u001b[39mdata,\n\u001b[1;32m   2458\u001b[0m                 used_indices\u001b[39m=\u001b[39mused_indices\n\u001b[1;32m   2459\u001b[0m             )\n\u001b[1;32m   2460\u001b[0m \u001b[39melse\u001b[39;00m:\n\u001b[1;32m   2461\u001b[0m     \u001b[39m# create train\u001b[39;00m\n\u001b[0;32m-> 2462\u001b[0m     \u001b[39mself\u001b[39;49m\u001b[39m.\u001b[39;49m_lazy_init(data\u001b[39m=\u001b[39;49m\u001b[39mself\u001b[39;49m\u001b[39m.\u001b[39;49mdata, label\u001b[39m=\u001b[39;49m\u001b[39mself\u001b[39;49m\u001b[39m.\u001b[39;49mlabel, reference\u001b[39m=\u001b[39;49m\u001b[39mNone\u001b[39;49;00m,\n\u001b[1;32m   2463\u001b[0m                     weight\u001b[39m=\u001b[39;49m\u001b[39mself\u001b[39;49m\u001b[39m.\u001b[39;49mweight, group\u001b[39m=\u001b[39;49m\u001b[39mself\u001b[39;49m\u001b[39m.\u001b[39;49mgroup,\n\u001b[1;32m   2464\u001b[0m                     init_score\u001b[39m=\u001b[39;49m\u001b[39mself\u001b[39;49m\u001b[39m.\u001b[39;49minit_score, predictor\u001b[39m=\u001b[39;49m\u001b[39mself\u001b[39;49m\u001b[39m.\u001b[39;49m_predictor,\n\u001b[1;32m   2465\u001b[0m                     feature_name\u001b[39m=\u001b[39;49m\u001b[39mself\u001b[39;49m\u001b[39m.\u001b[39;49mfeature_name, categorical_feature\u001b[39m=\u001b[39;49m\u001b[39mself\u001b[39;49m\u001b[39m.\u001b[39;49mcategorical_feature,\n\u001b[1;32m   2466\u001b[0m                     params\u001b[39m=\u001b[39;49m\u001b[39mself\u001b[39;49m\u001b[39m.\u001b[39;49mparams, position\u001b[39m=\u001b[39;49m\u001b[39mself\u001b[39;49m\u001b[39m.\u001b[39;49mposition)\n\u001b[1;32m   2467\u001b[0m \u001b[39mif\u001b[39;00m \u001b[39mself\u001b[39m\u001b[39m.\u001b[39mfree_raw_data:\n\u001b[1;32m   2468\u001b[0m     \u001b[39mself\u001b[39m\u001b[39m.\u001b[39mdata \u001b[39m=\u001b[39m \u001b[39mNone\u001b[39;00m\n",
      "File \u001b[0;32m~/.cache/pypoetry/virtualenvs/src-Frx8CZzu-py3.11/lib/python3.11/site-packages/lightgbm/basic.py:2079\u001b[0m, in \u001b[0;36mDataset._lazy_init\u001b[0;34m(self, data, label, reference, weight, group, init_score, predictor, feature_name, categorical_feature, params, position)\u001b[0m\n\u001b[1;32m   2077\u001b[0m     \u001b[39mself\u001b[39m\u001b[39m.\u001b[39m__init_from_csc(data, params_str, ref_dataset)\n\u001b[1;32m   2078\u001b[0m \u001b[39melif\u001b[39;00m \u001b[39misinstance\u001b[39m(data, np\u001b[39m.\u001b[39mndarray):\n\u001b[0;32m-> 2079\u001b[0m     \u001b[39mself\u001b[39;49m\u001b[39m.\u001b[39;49m__init_from_np2d(data, params_str, ref_dataset)\n\u001b[1;32m   2080\u001b[0m \u001b[39melif\u001b[39;00m _is_pyarrow_table(data):\n\u001b[1;32m   2081\u001b[0m     \u001b[39mself\u001b[39m\u001b[39m.\u001b[39m__init_from_pyarrow_table(data, params_str, ref_dataset)\n",
      "File \u001b[0;32m~/.cache/pypoetry/virtualenvs/src-Frx8CZzu-py3.11/lib/python3.11/site-packages/lightgbm/basic.py:2213\u001b[0m, in \u001b[0;36mDataset.__init_from_np2d\u001b[0;34m(self, mat, params_str, ref_dataset)\u001b[0m\n\u001b[1;32m   2211\u001b[0m \u001b[39mself\u001b[39m\u001b[39m.\u001b[39m_handle \u001b[39m=\u001b[39m ctypes\u001b[39m.\u001b[39mc_void_p()\n\u001b[1;32m   2212\u001b[0m \u001b[39mif\u001b[39;00m mat\u001b[39m.\u001b[39mdtype \u001b[39m==\u001b[39m np\u001b[39m.\u001b[39mfloat32 \u001b[39mor\u001b[39;00m mat\u001b[39m.\u001b[39mdtype \u001b[39m==\u001b[39m np\u001b[39m.\u001b[39mfloat64:\n\u001b[0;32m-> 2213\u001b[0m     data \u001b[39m=\u001b[39m np\u001b[39m.\u001b[39marray(mat\u001b[39m.\u001b[39;49mreshape(mat\u001b[39m.\u001b[39;49msize), dtype\u001b[39m=\u001b[39mmat\u001b[39m.\u001b[39mdtype, copy\u001b[39m=\u001b[39m\u001b[39mFalse\u001b[39;00m)\n\u001b[1;32m   2214\u001b[0m \u001b[39melse\u001b[39;00m:  \u001b[39m# change non-float data to float data, need to copy\u001b[39;00m\n\u001b[1;32m   2215\u001b[0m     data \u001b[39m=\u001b[39m np\u001b[39m.\u001b[39marray(mat\u001b[39m.\u001b[39mreshape(mat\u001b[39m.\u001b[39msize), dtype\u001b[39m=\u001b[39mnp\u001b[39m.\u001b[39mfloat32)\n",
      "\u001b[0;31mKeyboardInterrupt\u001b[0m: "
     ]
    }
   ],
   "source": [
    "best_lgb_hyperparams_for_stops = \\\n",
    "  optimise_hyperparams(\n",
    "    model_fn=LGBMRegressor, \n",
    "    hyperparam_trials = 5, \n",
    "    scenario = \"stop\", \n",
    "    X = stop_table.drop(\"trips_next_hour\", axis = 1), \n",
    "    y = stop_table[\"trips_next_hour\"]\n",
    ")"
   ]
  }
 ],
 "metadata": {
  "kernelspec": {
   "display_name": "src-Frx8CZzu-py3.11",
   "language": "python",
   "name": "python3"
  },
  "language_info": {
   "codemirror_mode": {
    "name": "ipython",
    "version": 3
   },
   "file_extension": ".py",
   "mimetype": "text/x-python",
   "name": "python",
   "nbconvert_exporter": "python",
   "pygments_lexer": "ipython3",
   "version": "3.11.5"
  }
 },
 "nbformat": 4,
 "nbformat_minor": 2
}
