{
 "cells": [
  {
   "cell_type": "code",
   "execution_count": 1,
   "id": "50298266afea005a",
   "metadata": {
    "collapsed": false,
    "ExecuteTime": {
     "end_time": "2024-01-04T00:54:29.497990690Z",
     "start_time": "2024-01-04T00:54:29.116688987Z"
    }
   },
   "outputs": [],
   "source": [
    "%reload_ext autoreload\n",
    "%autoreload 2\n",
    "\n",
    "import pandas as pd\n",
    "from src.paths import TRANSFORMED_DATA\n",
    "from src.data_extraction import load_raw_data\n",
    "from src.data_transformations import clean_raw_data, transform_cleaned_data_into_ts_data, transform_ts_into_training_data"
   ]
  },
  {
   "cell_type": "markdown",
   "source": [
    "## Get the raw data"
   ],
   "metadata": {
    "collapsed": false
   },
   "id": "2cef0ef5ba625e0b"
  },
  {
   "cell_type": "code",
   "execution_count": 2,
   "id": "bae5668774d0e5ef",
   "metadata": {
    "collapsed": false,
    "ExecuteTime": {
     "end_time": "2024-01-03T22:43:58.189438441Z",
     "start_time": "2024-01-03T22:43:43.449762257Z"
    }
   },
   "outputs": [
    {
     "name": "stdout",
     "output_type": "stream",
     "text": [
      "The file 202301-divvy-tripdata.zip is already in local storage\n",
      "The file 202302-divvy-tripdata.zip is already in local storage\n",
      "The file 202303-divvy-tripdata.zip is already in local storage\n",
      "The file 202304-divvy-tripdata.zip is already in local storage\n",
      "The file 202305-divvy-tripdata.zip is already in local storage\n",
      "The file 202306-divvy-tripdata.zip is already in local storage\n",
      "The file 202307-divvy-tripdata.zip is already in local storage\n",
      "The file 202308-divvy-tripdata.zip is already in local storage\n",
      "The file 202309-divvy-tripdata.zip is already in local storage\n",
      "The file 202310-divvy-tripdata.zip is already in local storage\n",
      "The file 202311-divvy-tripdata.zip is already in local storage\n"
     ]
    }
   ],
   "source": [
    "trips_2023 = list(\n",
    "        load_raw_data(\n",
    "            year=2023, months = list(range(1,12))\n",
    "        )\n",
    ")"
   ]
  },
  {
   "cell_type": "code",
   "execution_count": 3,
   "id": "7ab9eb6196530829",
   "metadata": {
    "collapsed": false,
    "ExecuteTime": {
     "end_time": "2024-01-03T22:43:58.520779344Z",
     "start_time": "2024-01-03T22:43:58.191075265Z"
    }
   },
   "outputs": [],
   "source": [
    "# Form a dataframe by concatenating all the available months of 2023\n",
    "trips = pd.concat(trips_2023)"
   ]
  },
  {
   "cell_type": "markdown",
   "source": [],
   "metadata": {
    "collapsed": false
   },
   "id": "c1a2dc67da1cae4c"
  },
  {
   "cell_type": "markdown",
   "source": [
    "## Clean the data"
   ],
   "metadata": {
    "collapsed": false
   },
   "id": "eeb9a7ebbfe49b8c"
  },
  {
   "cell_type": "code",
   "execution_count": 4,
   "id": "b9507813",
   "metadata": {
    "ExecuteTime": {
     "end_time": "2024-01-03T22:44:06.339730047Z",
     "start_time": "2024-01-03T22:43:58.522104956Z"
    }
   },
   "outputs": [],
   "source": [
    "# Clean the data\n",
    "trips = clean_raw_data(trips)"
   ]
  },
  {
   "cell_type": "code",
   "execution_count": 5,
   "id": "65c51048",
   "metadata": {
    "ExecuteTime": {
     "end_time": "2024-01-03T22:44:06.365744017Z",
     "start_time": "2024-01-03T22:44:06.342286879Z"
    }
   },
   "outputs": [
    {
     "data": {
      "text/plain": "                start_time           stop_time  start_latitude  \\\n0      2023-01-21 20:05:42 2023-01-21 20:16:33       41.924074   \n1      2023-01-10 15:37:36 2023-01-10 15:46:05       41.799568   \n2      2023-01-02 07:51:57 2023-01-02 08:05:11       42.008571   \n3      2023-01-22 10:52:58 2023-01-22 11:01:44       41.799568   \n4      2023-01-12 13:58:01 2023-01-12 14:13:20       41.799568   \n...                    ...                 ...             ...   \n362513 2023-11-24 08:39:27 2023-11-24 08:47:03       41.936497   \n362514 2023-11-06 09:07:20 2023-11-06 09:10:00       41.877726   \n362515 2023-11-10 19:35:30 2023-11-10 19:44:28       41.943687   \n362516 2023-11-27 09:11:23 2023-11-27 09:13:23       41.877726   \n362517 2023-11-20 16:16:03 2023-11-20 16:17:43       41.877869   \n\n        start_longitude  stop_latitude  stop_longitude  \n0            -87.646278      41.930000      -87.640000  \n1            -87.594747      41.809835      -87.599383  \n2            -87.690483      42.039742      -87.699413  \n3            -87.594747      41.809835      -87.599383  \n4            -87.594747      41.809835      -87.599383  \n...                 ...            ...             ...  \n362513       -87.647539      41.935775      -87.663600  \n362514       -87.654787      41.877642      -87.649618  \n362515       -87.648855      41.935775      -87.663600  \n362516       -87.654787      41.877642      -87.649618  \n362517       -87.654898      41.877642      -87.649618  \n\n[5489029 rows x 6 columns]",
      "text/html": "<div>\n<style scoped>\n    .dataframe tbody tr th:only-of-type {\n        vertical-align: middle;\n    }\n\n    .dataframe tbody tr th {\n        vertical-align: top;\n    }\n\n    .dataframe thead th {\n        text-align: right;\n    }\n</style>\n<table border=\"1\" class=\"dataframe\">\n  <thead>\n    <tr style=\"text-align: right;\">\n      <th></th>\n      <th>start_time</th>\n      <th>stop_time</th>\n      <th>start_latitude</th>\n      <th>start_longitude</th>\n      <th>stop_latitude</th>\n      <th>stop_longitude</th>\n    </tr>\n  </thead>\n  <tbody>\n    <tr>\n      <th>0</th>\n      <td>2023-01-21 20:05:42</td>\n      <td>2023-01-21 20:16:33</td>\n      <td>41.924074</td>\n      <td>-87.646278</td>\n      <td>41.930000</td>\n      <td>-87.640000</td>\n    </tr>\n    <tr>\n      <th>1</th>\n      <td>2023-01-10 15:37:36</td>\n      <td>2023-01-10 15:46:05</td>\n      <td>41.799568</td>\n      <td>-87.594747</td>\n      <td>41.809835</td>\n      <td>-87.599383</td>\n    </tr>\n    <tr>\n      <th>2</th>\n      <td>2023-01-02 07:51:57</td>\n      <td>2023-01-02 08:05:11</td>\n      <td>42.008571</td>\n      <td>-87.690483</td>\n      <td>42.039742</td>\n      <td>-87.699413</td>\n    </tr>\n    <tr>\n      <th>3</th>\n      <td>2023-01-22 10:52:58</td>\n      <td>2023-01-22 11:01:44</td>\n      <td>41.799568</td>\n      <td>-87.594747</td>\n      <td>41.809835</td>\n      <td>-87.599383</td>\n    </tr>\n    <tr>\n      <th>4</th>\n      <td>2023-01-12 13:58:01</td>\n      <td>2023-01-12 14:13:20</td>\n      <td>41.799568</td>\n      <td>-87.594747</td>\n      <td>41.809835</td>\n      <td>-87.599383</td>\n    </tr>\n    <tr>\n      <th>...</th>\n      <td>...</td>\n      <td>...</td>\n      <td>...</td>\n      <td>...</td>\n      <td>...</td>\n      <td>...</td>\n    </tr>\n    <tr>\n      <th>362513</th>\n      <td>2023-11-24 08:39:27</td>\n      <td>2023-11-24 08:47:03</td>\n      <td>41.936497</td>\n      <td>-87.647539</td>\n      <td>41.935775</td>\n      <td>-87.663600</td>\n    </tr>\n    <tr>\n      <th>362514</th>\n      <td>2023-11-06 09:07:20</td>\n      <td>2023-11-06 09:10:00</td>\n      <td>41.877726</td>\n      <td>-87.654787</td>\n      <td>41.877642</td>\n      <td>-87.649618</td>\n    </tr>\n    <tr>\n      <th>362515</th>\n      <td>2023-11-10 19:35:30</td>\n      <td>2023-11-10 19:44:28</td>\n      <td>41.943687</td>\n      <td>-87.648855</td>\n      <td>41.935775</td>\n      <td>-87.663600</td>\n    </tr>\n    <tr>\n      <th>362516</th>\n      <td>2023-11-27 09:11:23</td>\n      <td>2023-11-27 09:13:23</td>\n      <td>41.877726</td>\n      <td>-87.654787</td>\n      <td>41.877642</td>\n      <td>-87.649618</td>\n    </tr>\n    <tr>\n      <th>362517</th>\n      <td>2023-11-20 16:16:03</td>\n      <td>2023-11-20 16:17:43</td>\n      <td>41.877869</td>\n      <td>-87.654898</td>\n      <td>41.877642</td>\n      <td>-87.649618</td>\n    </tr>\n  </tbody>\n</table>\n<p>5489029 rows × 6 columns</p>\n</div>"
     },
     "execution_count": 5,
     "metadata": {},
     "output_type": "execute_result"
    }
   ],
   "source": [
    "trips"
   ]
  },
  {
   "cell_type": "markdown",
   "source": [
    "## Define datasets"
   ],
   "metadata": {
    "collapsed": false
   },
   "id": "bf9fbf2304204ea7"
  },
  {
   "cell_type": "code",
   "execution_count": 6,
   "id": "0f56c19c",
   "metadata": {
    "ExecuteTime": {
     "end_time": "2024-01-03T22:44:06.450470419Z",
     "start_time": "2024-01-03T22:44:06.364142301Z"
    }
   },
   "outputs": [],
   "source": [
    "starts = trips[\n",
    "    [\"start_time\", \"start_latitude\", \"start_longitude\"]\n",
    "]\n",
    "\n",
    "stops = trips[\n",
    "    [\"stop_time\", \"stop_latitude\", \"stop_longitude\"]\n",
    "]"
   ]
  },
  {
   "cell_type": "markdown",
   "source": [],
   "metadata": {
    "collapsed": false
   },
   "id": "9d8038efdc03cae8"
  },
  {
   "cell_type": "markdown",
   "source": [
    "## Transform datasets into time series"
   ],
   "metadata": {
    "collapsed": false
   },
   "id": "3d0900b0e546a6c3"
  },
  {
   "cell_type": "code",
   "execution_count": 7,
   "id": "d5f7c386",
   "metadata": {
    "ExecuteTime": {
     "end_time": "2024-01-03T22:47:02.860450274Z",
     "start_time": "2024-01-03T22:44:06.426170556Z"
    }
   },
   "outputs": [
    {
     "name": "stderr",
     "output_type": "stream",
     "text": [
      "/home/kobina/Desktop/ML/End-to-End Projects/Actualised/cyclistic-bike-sharing-data/src/data_transformations.py:117: SettingWithCopyWarning: \n",
      "A value is trying to be set on a copy of a slice from a DataFrame.\n",
      "Try using .loc[row_indexer,col_indexer] = value instead\n",
      "\n",
      "See the caveats in the documentation: https://pandas.pydata.org/pandas-docs/stable/user_guide/indexing.html#returning-a-view-versus-a-copy\n",
      "  data[f\"{scenario}_hour\"] = data.loc[:, f\"{scenario}_time\"].dt.floor(\"H\")\n"
     ]
    },
    {
     "name": "stdout",
     "output_type": "stream",
     "text": [
      "This might take a moment. Doing some preliminary setup\n"
     ]
    },
    {
     "name": "stderr",
     "output_type": "stream",
     "text": [
      "100%|██████████| 5489029/5489029 [00:25<00:00, 212619.68it/s]\n",
      "100%|██████████| 5489029/5489029 [00:26<00:00, 206505.53it/s]\n"
     ]
    },
    {
     "name": "stdout",
     "output_type": "stream",
     "text": [
      "Matching up approximate locations with generated IDs\n"
     ]
    },
    {
     "name": "stderr",
     "output_type": "stream",
     "text": [
      "1832it [00:00, 1750333.70it/s]\n",
      "/home/kobina/Desktop/ML/End-to-End Projects/Actualised/cyclistic-bike-sharing-data/src/data_transformations.py:117: SettingWithCopyWarning: \n",
      "A value is trying to be set on a copy of a slice from a DataFrame.\n",
      "Try using .loc[row_indexer,col_indexer] = value instead\n",
      "\n",
      "See the caveats in the documentation: https://pandas.pydata.org/pandas-docs/stable/user_guide/indexing.html#returning-a-view-versus-a-copy\n",
      "  data[f\"{scenario}_hour\"] = data.loc[:, f\"{scenario}_time\"].dt.floor(\"H\")\n"
     ]
    },
    {
     "name": "stdout",
     "output_type": "stream",
     "text": [
      "This might take a moment. Doing some preliminary setup\n"
     ]
    },
    {
     "name": "stderr",
     "output_type": "stream",
     "text": [
      "100%|██████████| 5489029/5489029 [00:25<00:00, 214593.63it/s]\n",
      "100%|██████████| 5489029/5489029 [00:25<00:00, 216705.54it/s]\n"
     ]
    },
    {
     "name": "stdout",
     "output_type": "stream",
     "text": [
      "Matching up approximate locations with generated IDs\n"
     ]
    },
    {
     "name": "stderr",
     "output_type": "stream",
     "text": [
      "1240it [00:00, 2006534.32it/s]\n",
      "100%|██████████| 1372/1372 [00:32<00:00, 42.46it/s]\n",
      "100%|██████████| 1199/1199 [00:24<00:00, 49.49it/s]\n"
     ]
    }
   ],
   "source": [
    "agg_starts, agg_stops = transform_cleaned_data_into_ts_data(start_df = starts, stop_df = stops)"
   ]
  },
  {
   "cell_type": "code",
   "execution_count": 13,
   "outputs": [],
   "source": [
    "agg_stops.to_parquet(path = TRANSFORMED_DATA/\"agg_stops.parquet\")\n",
    "agg_starts.to_parquet(path =TRANSFORMED_DATA/\"agg_starts.parquet\")"
   ],
   "metadata": {
    "collapsed": false,
    "ExecuteTime": {
     "end_time": "2024-01-04T00:31:53.212307897Z",
     "start_time": "2024-01-04T00:31:51.708742646Z"
    }
   },
   "id": "7fdf82df16f27234"
  },
  {
   "cell_type": "markdown",
   "source": [
    "## Transform time series data into training data"
   ],
   "metadata": {
    "collapsed": false
   },
   "id": "424b4b75d41204b7"
  },
  {
   "cell_type": "markdown",
   "source": [
    "### Start data"
   ],
   "metadata": {
    "collapsed": false
   },
   "id": "64770a903526c161"
  },
  {
   "cell_type": "code",
   "execution_count": 2,
   "outputs": [],
   "source": [
    "agg_starts = pd.read_parquet(path=TRANSFORMED_DATA/\"agg_starts.parquet\")"
   ],
   "metadata": {
    "collapsed": false,
    "ExecuteTime": {
     "end_time": "2024-01-04T00:54:33.128748553Z",
     "start_time": "2024-01-04T00:54:32.969060175Z"
    }
   },
   "id": "93d43c44ebf5451"
  },
  {
   "cell_type": "code",
   "execution_count": 3,
   "outputs": [
    {
     "name": "stderr",
     "output_type": "stream",
     "text": [
      "100%|██████████| 1372/1372 [04:47<00:00,  4.78it/s]\n"
     ]
    },
    {
     "name": "stdout",
     "output_type": "stream",
     "text": [
      "start_features.shape=(419832, 674)\n",
      "start_target.shape=(419832,)\n"
     ]
    }
   ],
   "source": [
    "start_features, start_target = transform_ts_into_training_data(\n",
    "    ts_data=agg_starts,\n",
    "    start_or_stop=\"start\",\n",
    "    input_seq_len=24*28*1, \n",
    "    step_size=24\n",
    ")\n",
    "\n",
    "print(f\"{start_features.shape=}\")\n",
    "print(f\"{start_target.shape=}\")"
   ],
   "metadata": {
    "collapsed": false,
    "ExecuteTime": {
     "end_time": "2024-01-04T00:59:24.968474920Z",
     "start_time": "2024-01-04T00:54:34.499959361Z"
    }
   },
   "id": "6a09c893b68e96c1"
  },
  {
   "cell_type": "markdown",
   "source": [
    "### Stop data"
   ],
   "metadata": {
    "collapsed": false
   },
   "id": "23034075e5c17baf"
  }
 ],
 "metadata": {
  "kernelspec": {
   "display_name": "Python 3",
   "language": "python",
   "name": "python3"
  },
  "language_info": {
   "codemirror_mode": {
    "name": "ipython",
    "version": 3
   },
   "file_extension": ".py",
   "mimetype": "text/x-python",
   "name": "python",
   "nbconvert_exporter": "python",
   "pygments_lexer": "ipython3",
   "version": "3.11.4"
  }
 },
 "nbformat": 4,
 "nbformat_minor": 5
}
