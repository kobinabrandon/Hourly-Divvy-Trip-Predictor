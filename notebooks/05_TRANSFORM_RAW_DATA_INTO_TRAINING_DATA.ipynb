{
 "cells": [
  {
   "cell_type": "code",
   "execution_count": 1,
   "id": "50298266afea005a",
   "metadata": {
    "ExecuteTime": {
     "end_time": "2024-01-05T10:10:32.628304910Z",
     "start_time": "2024-01-05T10:10:32.136001228Z"
    },
    "collapsed": false
   },
   "outputs": [],
   "source": [
    "%reload_ext autoreload\n",
    "%autoreload 2\n",
    "\n",
    "import pandas as pd\n",
    "from src.paths import TRANSFORMED_DATA\n",
    "from src.data_extraction import load_raw_data\n",
    "from src.data_transformations import clean_raw_data, transform_cleaned_data_into_ts_data, transform_ts_into_training_data"
   ]
  },
  {
   "cell_type": "markdown",
   "id": "2cef0ef5ba625e0b",
   "metadata": {
    "collapsed": false
   },
   "source": [
    "## Get the raw data"
   ]
  },
  {
   "cell_type": "code",
   "execution_count": 2,
   "id": "bae5668774d0e5ef",
   "metadata": {
    "ExecuteTime": {
     "end_time": "2024-01-05T10:10:43.504103853Z",
     "start_time": "2024-01-05T10:10:32.631588642Z"
    },
    "collapsed": false
   },
   "outputs": [
    {
     "name": "stdout",
     "output_type": "stream",
     "text": [
      "The file 202301-divvy-tripdata.zip is already in local storage\n",
      "The file 202302-divvy-tripdata.zip is already in local storage\n",
      "The file 202303-divvy-tripdata.zip is already in local storage\n",
      "The file 202304-divvy-tripdata.zip is already in local storage\n",
      "The file 202305-divvy-tripdata.zip is already in local storage\n",
      "The file 202306-divvy-tripdata.zip is already in local storage\n",
      "The file 202307-divvy-tripdata.zip is already in local storage\n",
      "The file 202308-divvy-tripdata.zip is already in local storage\n",
      "The file 202309-divvy-tripdata.zip is already in local storage\n",
      "The file 202310-divvy-tripdata.zip is already in local storage\n",
      "The file 202311-divvy-tripdata.zip is already in local storage\n"
     ]
    }
   ],
   "source": [
    "trips_2023 = list(\n",
    "        load_raw_data(\n",
    "            year=2023, months = list(range(1,12))\n",
    "        )\n",
    ")"
   ]
  },
  {
   "cell_type": "code",
   "execution_count": 3,
   "id": "7ab9eb6196530829",
   "metadata": {
    "ExecuteTime": {
     "start_time": "2024-01-05T10:10:43.508399319Z"
    },
    "collapsed": false
   },
   "outputs": [],
   "source": [
    "# Form a dataframe by concatenating all the available months of 2023\n",
    "trips = pd.concat(trips_2023)"
   ]
  },
  {
   "cell_type": "markdown",
   "id": "c1a2dc67da1cae4c",
   "metadata": {
    "collapsed": false
   },
   "source": []
  },
  {
   "cell_type": "markdown",
   "id": "eeb9a7ebbfe49b8c",
   "metadata": {
    "collapsed": false
   },
   "source": [
    "## Clean the data"
   ]
  },
  {
   "cell_type": "code",
   "execution_count": 4,
   "id": "b9507813",
   "metadata": {
    "ExecuteTime": {
     "start_time": "2024-01-05T10:10:43.510826387Z"
    }
   },
   "outputs": [],
   "source": [
    "# Clean the data\n",
    "trips = clean_raw_data(trips)"
   ]
  },
  {
   "cell_type": "code",
   "execution_count": 5,
   "id": "65c51048",
   "metadata": {
    "ExecuteTime": {
     "end_time": "2024-01-05T10:10:43.513711068Z",
     "start_time": "2024-01-05T10:10:43.512501607Z"
    }
   },
   "outputs": [
    {
     "data": {
      "text/html": [
       "<div>\n",
       "<style scoped>\n",
       "    .dataframe tbody tr th:only-of-type {\n",
       "        vertical-align: middle;\n",
       "    }\n",
       "\n",
       "    .dataframe tbody tr th {\n",
       "        vertical-align: top;\n",
       "    }\n",
       "\n",
       "    .dataframe thead th {\n",
       "        text-align: right;\n",
       "    }\n",
       "</style>\n",
       "<table border=\"1\" class=\"dataframe\">\n",
       "  <thead>\n",
       "    <tr style=\"text-align: right;\">\n",
       "      <th></th>\n",
       "      <th>start_time</th>\n",
       "      <th>stop_time</th>\n",
       "      <th>start_latitude</th>\n",
       "      <th>start_longitude</th>\n",
       "      <th>stop_latitude</th>\n",
       "      <th>stop_longitude</th>\n",
       "    </tr>\n",
       "  </thead>\n",
       "  <tbody>\n",
       "    <tr>\n",
       "      <th>0</th>\n",
       "      <td>2023-01-21 20:05:42</td>\n",
       "      <td>2023-01-21 20:16:33</td>\n",
       "      <td>41.924074</td>\n",
       "      <td>-87.646278</td>\n",
       "      <td>41.930000</td>\n",
       "      <td>-87.640000</td>\n",
       "    </tr>\n",
       "    <tr>\n",
       "      <th>1</th>\n",
       "      <td>2023-01-10 15:37:36</td>\n",
       "      <td>2023-01-10 15:46:05</td>\n",
       "      <td>41.799568</td>\n",
       "      <td>-87.594747</td>\n",
       "      <td>41.809835</td>\n",
       "      <td>-87.599383</td>\n",
       "    </tr>\n",
       "    <tr>\n",
       "      <th>2</th>\n",
       "      <td>2023-01-02 07:51:57</td>\n",
       "      <td>2023-01-02 08:05:11</td>\n",
       "      <td>42.008571</td>\n",
       "      <td>-87.690483</td>\n",
       "      <td>42.039742</td>\n",
       "      <td>-87.699413</td>\n",
       "    </tr>\n",
       "    <tr>\n",
       "      <th>3</th>\n",
       "      <td>2023-01-22 10:52:58</td>\n",
       "      <td>2023-01-22 11:01:44</td>\n",
       "      <td>41.799568</td>\n",
       "      <td>-87.594747</td>\n",
       "      <td>41.809835</td>\n",
       "      <td>-87.599383</td>\n",
       "    </tr>\n",
       "    <tr>\n",
       "      <th>4</th>\n",
       "      <td>2023-01-12 13:58:01</td>\n",
       "      <td>2023-01-12 14:13:20</td>\n",
       "      <td>41.799568</td>\n",
       "      <td>-87.594747</td>\n",
       "      <td>41.809835</td>\n",
       "      <td>-87.599383</td>\n",
       "    </tr>\n",
       "    <tr>\n",
       "      <th>...</th>\n",
       "      <td>...</td>\n",
       "      <td>...</td>\n",
       "      <td>...</td>\n",
       "      <td>...</td>\n",
       "      <td>...</td>\n",
       "      <td>...</td>\n",
       "    </tr>\n",
       "    <tr>\n",
       "      <th>362513</th>\n",
       "      <td>2023-11-24 08:39:27</td>\n",
       "      <td>2023-11-24 08:47:03</td>\n",
       "      <td>41.936497</td>\n",
       "      <td>-87.647539</td>\n",
       "      <td>41.935775</td>\n",
       "      <td>-87.663600</td>\n",
       "    </tr>\n",
       "    <tr>\n",
       "      <th>362514</th>\n",
       "      <td>2023-11-06 09:07:20</td>\n",
       "      <td>2023-11-06 09:10:00</td>\n",
       "      <td>41.877726</td>\n",
       "      <td>-87.654787</td>\n",
       "      <td>41.877642</td>\n",
       "      <td>-87.649618</td>\n",
       "    </tr>\n",
       "    <tr>\n",
       "      <th>362515</th>\n",
       "      <td>2023-11-10 19:35:30</td>\n",
       "      <td>2023-11-10 19:44:28</td>\n",
       "      <td>41.943687</td>\n",
       "      <td>-87.648855</td>\n",
       "      <td>41.935775</td>\n",
       "      <td>-87.663600</td>\n",
       "    </tr>\n",
       "    <tr>\n",
       "      <th>362516</th>\n",
       "      <td>2023-11-27 09:11:23</td>\n",
       "      <td>2023-11-27 09:13:23</td>\n",
       "      <td>41.877726</td>\n",
       "      <td>-87.654787</td>\n",
       "      <td>41.877642</td>\n",
       "      <td>-87.649618</td>\n",
       "    </tr>\n",
       "    <tr>\n",
       "      <th>362517</th>\n",
       "      <td>2023-11-20 16:16:03</td>\n",
       "      <td>2023-11-20 16:17:43</td>\n",
       "      <td>41.877869</td>\n",
       "      <td>-87.654898</td>\n",
       "      <td>41.877642</td>\n",
       "      <td>-87.649618</td>\n",
       "    </tr>\n",
       "  </tbody>\n",
       "</table>\n",
       "<p>5489029 rows × 6 columns</p>\n",
       "</div>"
      ],
      "text/plain": [
       "                start_time           stop_time  start_latitude  \\\n",
       "0      2023-01-21 20:05:42 2023-01-21 20:16:33       41.924074   \n",
       "1      2023-01-10 15:37:36 2023-01-10 15:46:05       41.799568   \n",
       "2      2023-01-02 07:51:57 2023-01-02 08:05:11       42.008571   \n",
       "3      2023-01-22 10:52:58 2023-01-22 11:01:44       41.799568   \n",
       "4      2023-01-12 13:58:01 2023-01-12 14:13:20       41.799568   \n",
       "...                    ...                 ...             ...   \n",
       "362513 2023-11-24 08:39:27 2023-11-24 08:47:03       41.936497   \n",
       "362514 2023-11-06 09:07:20 2023-11-06 09:10:00       41.877726   \n",
       "362515 2023-11-10 19:35:30 2023-11-10 19:44:28       41.943687   \n",
       "362516 2023-11-27 09:11:23 2023-11-27 09:13:23       41.877726   \n",
       "362517 2023-11-20 16:16:03 2023-11-20 16:17:43       41.877869   \n",
       "\n",
       "        start_longitude  stop_latitude  stop_longitude  \n",
       "0            -87.646278      41.930000      -87.640000  \n",
       "1            -87.594747      41.809835      -87.599383  \n",
       "2            -87.690483      42.039742      -87.699413  \n",
       "3            -87.594747      41.809835      -87.599383  \n",
       "4            -87.594747      41.809835      -87.599383  \n",
       "...                 ...            ...             ...  \n",
       "362513       -87.647539      41.935775      -87.663600  \n",
       "362514       -87.654787      41.877642      -87.649618  \n",
       "362515       -87.648855      41.935775      -87.663600  \n",
       "362516       -87.654787      41.877642      -87.649618  \n",
       "362517       -87.654898      41.877642      -87.649618  \n",
       "\n",
       "[5489029 rows x 6 columns]"
      ]
     },
     "execution_count": 5,
     "metadata": {},
     "output_type": "execute_result"
    }
   ],
   "source": [
    "trips"
   ]
  },
  {
   "cell_type": "markdown",
   "id": "bf9fbf2304204ea7",
   "metadata": {
    "collapsed": false
   },
   "source": [
    "## Define datasets"
   ]
  },
  {
   "cell_type": "code",
   "execution_count": 6,
   "id": "0f56c19c",
   "metadata": {
    "ExecuteTime": {
     "start_time": "2024-01-05T10:10:43.514354456Z"
    }
   },
   "outputs": [],
   "source": [
    "starts = trips[\n",
    "    [\"start_time\", \"start_latitude\", \"start_longitude\"]\n",
    "]\n",
    "\n",
    "stops = trips[\n",
    "    [\"stop_time\", \"stop_latitude\", \"stop_longitude\"]\n",
    "]"
   ]
  },
  {
   "cell_type": "markdown",
   "id": "3d0900b0e546a6c3",
   "metadata": {
    "collapsed": false
   },
   "source": [
    "## Transform datasets into time series"
   ]
  },
  {
   "cell_type": "code",
   "execution_count": 7,
   "id": "d5f7c386",
   "metadata": {
    "ExecuteTime": {
     "end_time": "2024-01-05T10:02:24.187756704Z",
     "start_time": "2024-01-05T09:58:33.476046924Z"
    }
   },
   "outputs": [
    {
     "name": "stdout",
     "output_type": "stream",
     "text": [
      "This might take a moment\n",
      "Computing the hours during which each trip starts\n",
      "Approximating the coordinates of the start of each trip\n"
     ]
    },
    {
     "name": "stderr",
     "output_type": "stream",
     "text": [
      "100%|██████████| 5489029/5489029 [00:30<00:00, 180689.24it/s]\n",
      "100%|██████████| 5489029/5489029 [00:28<00:00, 189767.24it/s]\n"
     ]
    },
    {
     "name": "stdout",
     "output_type": "stream",
     "text": [
      "Matching up approximate locations with generated IDs\n"
     ]
    },
    {
     "name": "stderr",
     "output_type": "stream",
     "text": [
      "1832it [00:00, 1483104.60it/s]\n"
     ]
    },
    {
     "name": "stdout",
     "output_type": "stream",
     "text": [
      "Computing the hours during which each trip stops\n",
      "Approximating the coordinates of the stop of each trip\n"
     ]
    },
    {
     "name": "stderr",
     "output_type": "stream",
     "text": [
      "100%|██████████| 5489029/5489029 [00:29<00:00, 184389.89it/s]\n",
      "100%|██████████| 5489029/5489029 [00:28<00:00, 189887.87it/s]\n"
     ]
    },
    {
     "name": "stdout",
     "output_type": "stream",
     "text": [
      "Matching up approximate locations with generated IDs\n"
     ]
    },
    {
     "name": "stderr",
     "output_type": "stream",
     "text": [
      "1240it [00:00, 1426868.85it/s]\n"
     ]
    },
    {
     "name": "stdout",
     "output_type": "stream",
     "text": [
      "Aggregating the final data on trip starts\n"
     ]
    },
    {
     "name": "stderr",
     "output_type": "stream",
     "text": [
      "100%|██████████| 1830/1830 [01:17<00:00, 23.63it/s]\n"
     ]
    },
    {
     "name": "stdout",
     "output_type": "stream",
     "text": [
      "\n",
      "\n",
      "\n",
      "\n",
      "Aggregating the final data on trip stops\n"
     ]
    },
    {
     "name": "stderr",
     "output_type": "stream",
     "text": [
      "100%|██████████| 1240/1240 [00:40<00:00, 30.56it/s]\n"
     ]
    },
    {
     "name": "stdout",
     "output_type": "stream",
     "text": [
      "\n",
      "\n",
      "\n",
      "\n"
     ]
    }
   ],
   "source": [
    "agg_starts, agg_stops = transform_cleaned_data_into_ts_data(start_df = starts, stop_df = stops)"
   ]
  },
  {
   "cell_type": "code",
   "execution_count": 8,
   "id": "7fdf82df16f27234",
   "metadata": {
    "ExecuteTime": {
     "end_time": "2024-01-05T10:02:25.418977242Z",
     "start_time": "2024-01-05T10:02:24.235175312Z"
    },
    "collapsed": false
   },
   "outputs": [],
   "source": [
    "agg_stops.to_parquet(path = TRANSFORMED_DATA/\"agg_stops.parquet\")\n",
    "agg_starts.to_parquet(path =TRANSFORMED_DATA/\"agg_starts.parquet\")"
   ]
  },
  {
   "cell_type": "markdown",
   "id": "424b4b75d41204b7",
   "metadata": {
    "collapsed": false
   },
   "source": [
    "## Transform time series data into training data"
   ]
  },
  {
   "cell_type": "markdown",
   "id": "64770a903526c161",
   "metadata": {
    "collapsed": false
   },
   "source": [
    "### Start data"
   ]
  },
  {
   "cell_type": "code",
   "execution_count": 9,
   "id": "6a09c893b68e96c1",
   "metadata": {
    "ExecuteTime": {
     "end_time": "2024-01-05T10:09:31.847586934Z",
     "start_time": "2024-01-05T10:02:25.420281310Z"
    },
    "collapsed": false
   },
   "outputs": [
    {
     "name": "stderr",
     "output_type": "stream",
     "text": [
      "100%|██████████| 1830/1830 [08:11<00:00,  3.72it/s]  \n"
     ]
    },
    {
     "name": "stdout",
     "output_type": "stream",
     "text": [
      "start_features.shape=(559980, 674)\n",
      "start_target.shape=(559980,)\n"
     ]
    }
   ],
   "source": [
    "start_features, start_target = transform_ts_into_training_data(\n",
    "    ts_data=agg_starts,\n",
    "    start_or_stop=\"start\",\n",
    "    input_seq_len=24*28*1, \n",
    "    step_size=24\n",
    ")\n",
    "\n",
    "print(f\"{start_features.shape=}\")\n",
    "print(f\"{start_target.shape=}\")"
   ]
  },
  {
   "cell_type": "markdown",
   "id": "23034075e5c17baf",
   "metadata": {
    "collapsed": false
   },
   "source": [
    "### Stop data"
   ]
  },
  {
   "cell_type": "code",
   "execution_count": 10,
   "id": "2b51d2c7b0c3ab71",
   "metadata": {
    "ExecuteTime": {
     "end_time": "2024-01-05T10:09:39.747479366Z",
     "start_time": "2024-01-05T10:09:31.845065969Z"
    },
    "collapsed": false
   },
   "outputs": [
    {
     "name": "stderr",
     "output_type": "stream",
     "text": [
      "100%|██████████| 1240/1240 [03:38<00:00,  5.66it/s]\n"
     ]
    },
    {
     "name": "stdout",
     "output_type": "stream",
     "text": [
      "stop_features.shape=(380680, 674)\n",
      "stop_target.shape=(380680,)\n"
     ]
    }
   ],
   "source": [
    "stop_features, stop_target = transform_ts_into_training_data(\n",
    "    ts_data=agg_stops,\n",
    "    start_or_stop=\"stop\",\n",
    "    input_seq_len=24*28*1, \n",
    "    step_size=24\n",
    ")\n",
    "\n",
    "print(f\"{stop_features.shape=}\")\n",
    "print(f\"{stop_target.shape=}\")"
   ]
  },
  {
   "cell_type": "markdown",
   "id": "e28548519b479284",
   "metadata": {
    "collapsed": false
   },
   "source": [
    "## Saving the final tabular datasets"
   ]
  },
  {
   "cell_type": "markdown",
   "id": "ff0498acbac48e4f",
   "metadata": {
    "collapsed": false
   },
   "source": [
    "### Starts"
   ]
  },
  {
   "cell_type": "code",
   "execution_count": 11,
   "id": "9d78438ab547aa7d",
   "metadata": {
    "ExecuteTime": {
     "end_time": "2024-01-05T10:09:55.583433404Z",
     "start_time": "2024-01-05T10:09:48.036331390Z"
    },
    "collapsed": false
   },
   "outputs": [],
   "source": [
    "start_table = start_features\n",
    "start_features[\"trips_next_hour\"] = start_target\n",
    "\n",
    "start_table.to_parquet(TRANSFORMED_DATA/\"start_table.parquet\")"
   ]
  },
  {
   "cell_type": "markdown",
   "id": "d5065b67d9a2e0d1",
   "metadata": {
    "collapsed": false
   },
   "source": [
    "### Stops"
   ]
  },
  {
   "cell_type": "code",
   "execution_count": 12,
   "id": "73790128219ced10",
   "metadata": {
    "ExecuteTime": {
     "start_time": "2024-01-05T10:09:39.781231572Z"
    },
    "collapsed": false
   },
   "outputs": [],
   "source": [
    "stop_table = stop_features\n",
    "stop_features[\"trips_next_hour\"] = stop_target\n",
    "\n",
    "stop_table.to_parquet(TRANSFORMED_DATA/\"stop_table.parquet\")"
   ]
  }
 ],
 "metadata": {
  "kernelspec": {
   "display_name": "Python 3",
   "language": "python",
   "name": "python3"
  },
  "language_info": {
   "codemirror_mode": {
    "name": "ipython",
    "version": 3
   },
   "file_extension": ".py",
   "mimetype": "text/x-python",
   "name": "python",
   "nbconvert_exporter": "python",
   "pygments_lexer": "ipython3",
   "version": "3.11.4"
  }
 },
 "nbformat": 4,
 "nbformat_minor": 5
}
