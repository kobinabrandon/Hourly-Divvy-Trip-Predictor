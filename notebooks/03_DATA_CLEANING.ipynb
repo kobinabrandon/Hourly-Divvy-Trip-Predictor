{
 "cells": [
  {
   "cell_type": "markdown",
   "metadata": {},
   "source": [
    "# Data Cleaning"
   ]
  },
  {
   "cell_type": "code",
   "execution_count": 46,
   "metadata": {},
   "outputs": [],
   "source": [
    "import pandas as pd\n",
    "from src.core.paths import RAW_DATA_DIR, ALTERED_DATA_PICKLES, CLEANED_DATA\n",
    "from src.core.data import save_as_pkl, find_first_nan, change_column_data_type"
   ]
  },
  {
   "cell_type": "markdown",
   "metadata": {},
   "source": [
    "## 2014 - 2017"
   ]
  },
  {
   "cell_type": "code",
   "execution_count": 47,
   "metadata": {},
   "outputs": [],
   "source": [
    "trips_2014 = pd.read_pickle(ALTERED_DATA_PICKLES/\"2014 - 2017/0.pkl\")\n",
    "trips_2015 = pd.read_pickle(ALTERED_DATA_PICKLES/\"2014 - 2017/1.pkl\")\n",
    "trips_2016 = pd.read_pickle(ALTERED_DATA_PICKLES/\"2014 - 2017/2.pkl\")\n",
    "trips_2017 = pd.read_pickle(ALTERED_DATA_PICKLES/\"2014 - 2017/3.pkl\")\n",
    "\n",
    "pre_2018 = [trips_2014, trips_2015, trips_2016, trips_2017]"
   ]
  },
  {
   "cell_type": "markdown",
   "metadata": {},
   "source": [
    "##### Dropping Irrelevant Columns"
   ]
  },
  {
   "cell_type": "markdown",
   "metadata": {},
   "source": [
    "###### All four of these dataframes have the same column names. I am removing the station IDs (for the station at the beginning of each trip) because I will be more interested in deriving the latitudes and longitudes of each station"
   ]
  },
  {
   "cell_type": "code",
   "execution_count": 48,
   "metadata": {},
   "outputs": [],
   "source": [
    "# Removing said columns\n",
    "for dataset in pre_2018:\n",
    "\n",
    "    dataset.drop(\n",
    "        columns = [\"trip_id\", \"bikeid\", \"from_station_id\", \"to_station_id\", \"birthyear\", \"gender\"],\n",
    "        inplace = True\n",
    "    )"
   ]
  },
  {
   "cell_type": "markdown",
   "metadata": {},
   "source": [
    "##### Renaming certain columns"
   ]
  },
  {
   "cell_type": "code",
   "execution_count": 49,
   "metadata": {},
   "outputs": [],
   "source": [
    "for dataset in pre_2018:\n",
    "\n",
    "    # Rename some of the columns\n",
    "    dataset.rename(\n",
    "        columns = {\n",
    "            \"tripduration\" : \"trip_duration (seconds)\",\n",
    "            \"usertype\" : \"user_type\",\n",
    "            \"birthyear\" : \"birth_year\",\n",
    "            \"starttime\" : \"start_time\",\n",
    "            \"stoptime\" : \"stop_time\"\n",
    "        }, inplace = True\n",
    "    )"
   ]
  },
  {
   "cell_type": "markdown",
   "metadata": {},
   "source": [
    "##### Checking for Missing Values"
   ]
  },
  {
   "cell_type": "code",
   "execution_count": 50,
   "metadata": {},
   "outputs": [
    {
     "name": "stdout",
     "output_type": "stream",
     "text": [
      "######################\n",
      "######################\n",
      "######################\n",
      "######################\n"
     ]
    }
   ],
   "source": [
    "for dataset in pre_2018:\n",
    "\n",
    "    dataset.isna().sum() \n",
    "    print(\"######################\")"
   ]
  },
  {
   "cell_type": "markdown",
   "metadata": {},
   "source": [
    "##### Checking for Duplicates"
   ]
  },
  {
   "cell_type": "code",
   "execution_count": 51,
   "metadata": {},
   "outputs": [
    {
     "data": {
      "text/plain": [
       "[3132, 3583, 799353, 5152]"
      ]
     },
     "execution_count": 51,
     "metadata": {},
     "output_type": "execute_result"
    }
   ],
   "source": [
    "# Use a list comprehension to view the number of duplicated observations in each dataset\n",
    "[\n",
    "    dataset[dataset.duplicated(keep = \"last\") == True].shape[0] for dataset in pre_2018\n",
    "]"
   ]
  },
  {
   "cell_type": "markdown",
   "metadata": {},
   "source": [
    "###### All four datasets from 2014 - 2017 contain duplicated observations, so we remove them in the next step"
   ]
  },
  {
   "cell_type": "code",
   "execution_count": 52,
   "metadata": {},
   "outputs": [],
   "source": [
    "for dataset in pre_2018:\n",
    "\n",
    "    dataset.drop_duplicates(inplace = True)"
   ]
  },
  {
   "cell_type": "markdown",
   "metadata": {},
   "source": [
    "## 2018 - 2019"
   ]
  },
  {
   "cell_type": "markdown",
   "metadata": {},
   "source": [
    "### 2018"
   ]
  },
  {
   "cell_type": "code",
   "execution_count": 53,
   "metadata": {},
   "outputs": [
    {
     "data": {
      "text/plain": [
       "Index(['01 - Rental Details Rental ID', '01 - Rental Details Local Start Time',\n",
       "       '01 - Rental Details Local End Time', '01 - Rental Details Bike ID',\n",
       "       '01 - Rental Details Duration In Seconds Uncapped',\n",
       "       '03 - Rental Start Station ID', '03 - Rental Start Station Name',\n",
       "       '02 - Rental End Station ID', '02 - Rental End Station Name',\n",
       "       'User Type', 'Member Gender',\n",
       "       '05 - Member Details Member Birthday Year', 'trip_id', 'start_time',\n",
       "       'end_time', 'bikeid', 'tripduration', 'from_station_id',\n",
       "       'from_station_name', 'to_station_id', 'to_station_name', 'usertype',\n",
       "       'gender', 'birthyear'],\n",
       "      dtype='object')"
      ]
     },
     "execution_count": 53,
     "metadata": {},
     "output_type": "execute_result"
    }
   ],
   "source": [
    "trips_2018 = pd.read_pickle(ALTERED_DATA_PICKLES/\"2018 - 2019/0.pkl\")\n",
    "trips_2018.columns"
   ]
  },
  {
   "cell_type": "code",
   "execution_count": 54,
   "metadata": {},
   "outputs": [],
   "source": [
    "trips_2018.drop(\n",
    "    columns = [\"Member Gender\", \"05 - Member Details Member Birthday Year\", \"trip_id\", \"from_station_id\", \"to_station_id\",\n",
    "               \"birthyear\", \"gender\", \"01 - Rental Details Rental ID\", \"03 - Rental Start Station ID\", \"02 - Rental End Station ID\"], \n",
    "    inplace = True\n",
    "    )"
   ]
  },
  {
   "cell_type": "markdown",
   "metadata": {},
   "source": [
    "#### Viewing the Data"
   ]
  },
  {
   "cell_type": "code",
   "execution_count": 55,
   "metadata": {},
   "outputs": [
    {
     "data": {
      "text/html": [
       "<div>\n",
       "<style scoped>\n",
       "    .dataframe tbody tr th:only-of-type {\n",
       "        vertical-align: middle;\n",
       "    }\n",
       "\n",
       "    .dataframe tbody tr th {\n",
       "        vertical-align: top;\n",
       "    }\n",
       "\n",
       "    .dataframe thead th {\n",
       "        text-align: right;\n",
       "    }\n",
       "</style>\n",
       "<table border=\"1\" class=\"dataframe\">\n",
       "  <thead>\n",
       "    <tr style=\"text-align: right;\">\n",
       "      <th></th>\n",
       "      <th>01 - Rental Details Local Start Time</th>\n",
       "      <th>01 - Rental Details Local End Time</th>\n",
       "      <th>01 - Rental Details Bike ID</th>\n",
       "      <th>01 - Rental Details Duration In Seconds Uncapped</th>\n",
       "      <th>03 - Rental Start Station Name</th>\n",
       "      <th>02 - Rental End Station Name</th>\n",
       "      <th>User Type</th>\n",
       "      <th>start_time</th>\n",
       "      <th>end_time</th>\n",
       "      <th>bikeid</th>\n",
       "      <th>tripduration</th>\n",
       "      <th>from_station_name</th>\n",
       "      <th>to_station_name</th>\n",
       "      <th>usertype</th>\n",
       "    </tr>\n",
       "  </thead>\n",
       "  <tbody>\n",
       "    <tr>\n",
       "      <th>0</th>\n",
       "      <td>2018-01-01 00:12:00</td>\n",
       "      <td>2018-01-01 00:17:23</td>\n",
       "      <td>3304.0</td>\n",
       "      <td>323.0</td>\n",
       "      <td>Damen Ave &amp; Pierce Ave</td>\n",
       "      <td>Claremont Ave &amp; Hirsch St</td>\n",
       "      <td>Subscriber</td>\n",
       "      <td>NaT</td>\n",
       "      <td>NaT</td>\n",
       "      <td>NaN</td>\n",
       "      <td>NaN</td>\n",
       "      <td>NaN</td>\n",
       "      <td>NaN</td>\n",
       "      <td>NaN</td>\n",
       "    </tr>\n",
       "    <tr>\n",
       "      <th>1</th>\n",
       "      <td>2018-01-01 00:41:35</td>\n",
       "      <td>2018-01-01 00:47:52</td>\n",
       "      <td>5367.0</td>\n",
       "      <td>377.0</td>\n",
       "      <td>Winthrop Ave &amp; Lawrence Ave</td>\n",
       "      <td>Clark St &amp; Winnemac Ave (Temp)</td>\n",
       "      <td>Subscriber</td>\n",
       "      <td>NaT</td>\n",
       "      <td>NaT</td>\n",
       "      <td>NaN</td>\n",
       "      <td>NaN</td>\n",
       "      <td>NaN</td>\n",
       "      <td>NaN</td>\n",
       "      <td>NaN</td>\n",
       "    </tr>\n",
       "    <tr>\n",
       "      <th>2</th>\n",
       "      <td>2018-01-01 00:44:46</td>\n",
       "      <td>2018-01-01 01:33:10</td>\n",
       "      <td>4599.0</td>\n",
       "      <td>2,904.0</td>\n",
       "      <td>LaSalle St &amp; Washington St</td>\n",
       "      <td>Troy St &amp; North Ave</td>\n",
       "      <td>Subscriber</td>\n",
       "      <td>NaT</td>\n",
       "      <td>NaT</td>\n",
       "      <td>NaN</td>\n",
       "      <td>NaN</td>\n",
       "      <td>NaN</td>\n",
       "      <td>NaN</td>\n",
       "      <td>NaN</td>\n",
       "    </tr>\n",
       "    <tr>\n",
       "      <th>3</th>\n",
       "      <td>2018-01-01 00:53:10</td>\n",
       "      <td>2018-01-01 01:05:37</td>\n",
       "      <td>2302.0</td>\n",
       "      <td>747.0</td>\n",
       "      <td>Rush St &amp; Hubbard St</td>\n",
       "      <td>Larrabee St &amp; Oak St</td>\n",
       "      <td>Subscriber</td>\n",
       "      <td>NaT</td>\n",
       "      <td>NaT</td>\n",
       "      <td>NaN</td>\n",
       "      <td>NaN</td>\n",
       "      <td>NaN</td>\n",
       "      <td>NaN</td>\n",
       "      <td>NaN</td>\n",
       "    </tr>\n",
       "    <tr>\n",
       "      <th>4</th>\n",
       "      <td>2018-01-01 00:53:37</td>\n",
       "      <td>2018-01-01 00:56:40</td>\n",
       "      <td>3696.0</td>\n",
       "      <td>183.0</td>\n",
       "      <td>Blue Island Ave &amp; 18th St</td>\n",
       "      <td>Paulina St &amp; 18th St</td>\n",
       "      <td>Subscriber</td>\n",
       "      <td>NaT</td>\n",
       "      <td>NaT</td>\n",
       "      <td>NaN</td>\n",
       "      <td>NaN</td>\n",
       "      <td>NaN</td>\n",
       "      <td>NaN</td>\n",
       "      <td>NaN</td>\n",
       "    </tr>\n",
       "    <tr>\n",
       "      <th>...</th>\n",
       "      <td>...</td>\n",
       "      <td>...</td>\n",
       "      <td>...</td>\n",
       "      <td>...</td>\n",
       "      <td>...</td>\n",
       "      <td>...</td>\n",
       "      <td>...</td>\n",
       "      <td>...</td>\n",
       "      <td>...</td>\n",
       "      <td>...</td>\n",
       "      <td>...</td>\n",
       "      <td>...</td>\n",
       "      <td>...</td>\n",
       "      <td>...</td>\n",
       "    </tr>\n",
       "    <tr>\n",
       "      <th>642681</th>\n",
       "      <td>NaT</td>\n",
       "      <td>NaT</td>\n",
       "      <td>NaN</td>\n",
       "      <td>NaN</td>\n",
       "      <td>NaN</td>\n",
       "      <td>NaN</td>\n",
       "      <td>NaN</td>\n",
       "      <td>2018-12-31 23:45:17</td>\n",
       "      <td>2018-12-31 23:50:05</td>\n",
       "      <td>2931.0</td>\n",
       "      <td>288.0</td>\n",
       "      <td>Dearborn St &amp; Monroe St</td>\n",
       "      <td>Franklin St &amp; Lake St</td>\n",
       "      <td>Subscriber</td>\n",
       "    </tr>\n",
       "    <tr>\n",
       "      <th>642682</th>\n",
       "      <td>NaT</td>\n",
       "      <td>NaT</td>\n",
       "      <td>NaN</td>\n",
       "      <td>NaN</td>\n",
       "      <td>NaN</td>\n",
       "      <td>NaN</td>\n",
       "      <td>NaN</td>\n",
       "      <td>2018-12-31 23:48:48</td>\n",
       "      <td>2018-12-31 23:57:22</td>\n",
       "      <td>4386.0</td>\n",
       "      <td>514.0</td>\n",
       "      <td>Dearborn St &amp; Van Buren St (*)</td>\n",
       "      <td>State St &amp; Randolph St</td>\n",
       "      <td>Subscriber</td>\n",
       "    </tr>\n",
       "    <tr>\n",
       "      <th>642683</th>\n",
       "      <td>NaT</td>\n",
       "      <td>NaT</td>\n",
       "      <td>NaN</td>\n",
       "      <td>NaN</td>\n",
       "      <td>NaN</td>\n",
       "      <td>NaN</td>\n",
       "      <td>NaN</td>\n",
       "      <td>2018-12-31 23:50:09</td>\n",
       "      <td>2018-12-31 23:57:16</td>\n",
       "      <td>4927.0</td>\n",
       "      <td>427.0</td>\n",
       "      <td>Federal St &amp; Polk St</td>\n",
       "      <td>Michigan Ave &amp; Lake St</td>\n",
       "      <td>Subscriber</td>\n",
       "    </tr>\n",
       "    <tr>\n",
       "      <th>642684</th>\n",
       "      <td>NaT</td>\n",
       "      <td>NaT</td>\n",
       "      <td>NaN</td>\n",
       "      <td>NaN</td>\n",
       "      <td>NaN</td>\n",
       "      <td>NaN</td>\n",
       "      <td>NaN</td>\n",
       "      <td>2018-12-31 23:55:04</td>\n",
       "      <td>2018-12-31 23:58:24</td>\n",
       "      <td>1350.0</td>\n",
       "      <td>200.0</td>\n",
       "      <td>Clark St &amp; Lincoln Ave</td>\n",
       "      <td>Sedgwick St &amp; North Ave</td>\n",
       "      <td>Subscriber</td>\n",
       "    </tr>\n",
       "    <tr>\n",
       "      <th>642685</th>\n",
       "      <td>NaT</td>\n",
       "      <td>NaT</td>\n",
       "      <td>NaN</td>\n",
       "      <td>NaN</td>\n",
       "      <td>NaN</td>\n",
       "      <td>NaN</td>\n",
       "      <td>NaN</td>\n",
       "      <td>2018-12-31 23:59:18</td>\n",
       "      <td>2019-01-01 00:20:43</td>\n",
       "      <td>2006.0</td>\n",
       "      <td>1,285.0</td>\n",
       "      <td>Kedzie Ave &amp; Milwaukee Ave</td>\n",
       "      <td>Ashland Ave &amp; Wrightwood Ave</td>\n",
       "      <td>Subscriber</td>\n",
       "    </tr>\n",
       "  </tbody>\n",
       "</table>\n",
       "<p>3603082 rows × 14 columns</p>\n",
       "</div>"
      ],
      "text/plain": [
       "       01 - Rental Details Local Start Time  \\\n",
       "0                       2018-01-01 00:12:00   \n",
       "1                       2018-01-01 00:41:35   \n",
       "2                       2018-01-01 00:44:46   \n",
       "3                       2018-01-01 00:53:10   \n",
       "4                       2018-01-01 00:53:37   \n",
       "...                                     ...   \n",
       "642681                                  NaT   \n",
       "642682                                  NaT   \n",
       "642683                                  NaT   \n",
       "642684                                  NaT   \n",
       "642685                                  NaT   \n",
       "\n",
       "       01 - Rental Details Local End Time  01 - Rental Details Bike ID  \\\n",
       "0                     2018-01-01 00:17:23                       3304.0   \n",
       "1                     2018-01-01 00:47:52                       5367.0   \n",
       "2                     2018-01-01 01:33:10                       4599.0   \n",
       "3                     2018-01-01 01:05:37                       2302.0   \n",
       "4                     2018-01-01 00:56:40                       3696.0   \n",
       "...                                   ...                          ...   \n",
       "642681                                NaT                          NaN   \n",
       "642682                                NaT                          NaN   \n",
       "642683                                NaT                          NaN   \n",
       "642684                                NaT                          NaN   \n",
       "642685                                NaT                          NaN   \n",
       "\n",
       "       01 - Rental Details Duration In Seconds Uncapped  \\\n",
       "0                                                 323.0   \n",
       "1                                                 377.0   \n",
       "2                                               2,904.0   \n",
       "3                                                 747.0   \n",
       "4                                                 183.0   \n",
       "...                                                 ...   \n",
       "642681                                              NaN   \n",
       "642682                                              NaN   \n",
       "642683                                              NaN   \n",
       "642684                                              NaN   \n",
       "642685                                              NaN   \n",
       "\n",
       "       03 - Rental Start Station Name    02 - Rental End Station Name  \\\n",
       "0              Damen Ave & Pierce Ave       Claremont Ave & Hirsch St   \n",
       "1         Winthrop Ave & Lawrence Ave  Clark St & Winnemac Ave (Temp)   \n",
       "2          LaSalle St & Washington St             Troy St & North Ave   \n",
       "3                Rush St & Hubbard St            Larrabee St & Oak St   \n",
       "4           Blue Island Ave & 18th St            Paulina St & 18th St   \n",
       "...                               ...                             ...   \n",
       "642681                            NaN                             NaN   \n",
       "642682                            NaN                             NaN   \n",
       "642683                            NaN                             NaN   \n",
       "642684                            NaN                             NaN   \n",
       "642685                            NaN                             NaN   \n",
       "\n",
       "         User Type          start_time            end_time  bikeid  \\\n",
       "0       Subscriber                 NaT                 NaT     NaN   \n",
       "1       Subscriber                 NaT                 NaT     NaN   \n",
       "2       Subscriber                 NaT                 NaT     NaN   \n",
       "3       Subscriber                 NaT                 NaT     NaN   \n",
       "4       Subscriber                 NaT                 NaT     NaN   \n",
       "...            ...                 ...                 ...     ...   \n",
       "642681         NaN 2018-12-31 23:45:17 2018-12-31 23:50:05  2931.0   \n",
       "642682         NaN 2018-12-31 23:48:48 2018-12-31 23:57:22  4386.0   \n",
       "642683         NaN 2018-12-31 23:50:09 2018-12-31 23:57:16  4927.0   \n",
       "642684         NaN 2018-12-31 23:55:04 2018-12-31 23:58:24  1350.0   \n",
       "642685         NaN 2018-12-31 23:59:18 2019-01-01 00:20:43  2006.0   \n",
       "\n",
       "       tripduration               from_station_name  \\\n",
       "0               NaN                             NaN   \n",
       "1               NaN                             NaN   \n",
       "2               NaN                             NaN   \n",
       "3               NaN                             NaN   \n",
       "4               NaN                             NaN   \n",
       "...             ...                             ...   \n",
       "642681        288.0         Dearborn St & Monroe St   \n",
       "642682        514.0  Dearborn St & Van Buren St (*)   \n",
       "642683        427.0            Federal St & Polk St   \n",
       "642684        200.0          Clark St & Lincoln Ave   \n",
       "642685      1,285.0      Kedzie Ave & Milwaukee Ave   \n",
       "\n",
       "                     to_station_name    usertype  \n",
       "0                                NaN         NaN  \n",
       "1                                NaN         NaN  \n",
       "2                                NaN         NaN  \n",
       "3                                NaN         NaN  \n",
       "4                                NaN         NaN  \n",
       "...                              ...         ...  \n",
       "642681         Franklin St & Lake St  Subscriber  \n",
       "642682        State St & Randolph St  Subscriber  \n",
       "642683        Michigan Ave & Lake St  Subscriber  \n",
       "642684       Sedgwick St & North Ave  Subscriber  \n",
       "642685  Ashland Ave & Wrightwood Ave  Subscriber  \n",
       "\n",
       "[3603082 rows x 14 columns]"
      ]
     },
     "execution_count": 55,
     "metadata": {},
     "output_type": "execute_result"
    }
   ],
   "source": [
    "trips_2018"
   ]
  },
  {
   "cell_type": "markdown",
   "metadata": {},
   "source": [
    "###### Looking at the structure of 2018's dataframe, it would appear that this dataframe it is a diagonal matrix. It has 3,603,082 rows. Let us consider how many missing values there are in the \"lower right\" section of what appears to be a diagonal matrix above."
   ]
  },
  {
   "cell_type": "code",
   "execution_count": 56,
   "metadata": {},
   "outputs": [
    {
     "data": {
      "text/plain": [
       "start_time           387145\n",
       "end_time             387145\n",
       "bikeid               387145\n",
       "tripduration         387145\n",
       "from_station_name    387145\n",
       "to_station_name      387145\n",
       "usertype             387145\n",
       "dtype: int64"
      ]
     },
     "execution_count": 56,
     "metadata": {},
     "output_type": "execute_result"
    }
   ],
   "source": [
    "trips_2018.iloc[:,7:].isna().sum()"
   ]
  },
  {
   "cell_type": "markdown",
   "metadata": {},
   "source": [
    "###### As stated, I suspect that this is a diagonal matrix. To confirm this, I have to investigate the number of missing values before and after the line that divides the data into two vertical sections. We see for instance that there are 387,145 missing values in each of the rows of this \"lower right\" section of the matrix.\n",
    "\n",
    "###### Let us check how many missing values there are on the \"upper left\" section of the matrix"
   ]
  },
  {
   "cell_type": "code",
   "execution_count": 57,
   "metadata": {},
   "outputs": [
    {
     "data": {
      "text/plain": [
       "01 - Rental Details Local Start Time                3215937\n",
       "01 - Rental Details Local End Time                  3215937\n",
       "01 - Rental Details Bike ID                         3215937\n",
       "01 - Rental Details Duration In Seconds Uncapped    3215937\n",
       "03 - Rental Start Station Name                      3215937\n",
       "02 - Rental End Station Name                        3215937\n",
       "User Type                                           3215937\n",
       "dtype: int64"
      ]
     },
     "execution_count": 57,
     "metadata": {},
     "output_type": "execute_result"
    }
   ],
   "source": [
    "trips_2018.iloc[:,:7].isna().sum()"
   ]
  },
  {
   "cell_type": "markdown",
   "metadata": {},
   "source": [
    "###### Notice that we would have a major piece of supporting evidence (in favour of my suspicion) if the sum of the number of missing values from the two sections equalled the total number of missing values in the whole matrix. This is exactly the case, since 3,215,937 + 387,145 = 3,603,082.\n",
    "\n",
    "###### We need to find out on which row (of the \"lower left\" dataframe) the missing values start, so that we can see where this empty block of data begins. It would be a mistake to assume that the missing values on the \"lower left\" start at the half-way point (row-wise). "
   ]
  },
  {
   "cell_type": "code",
   "execution_count": 58,
   "metadata": {},
   "outputs": [
    {
     "name": "stdout",
     "output_type": "stream",
     "text": [
      "387145\n"
     ]
    }
   ],
   "source": [
    "# Find the first row where a missing value occurs\n",
    "find_first_nan(data = trips_2018, missing = True, just_reveal = True)"
   ]
  },
  {
   "cell_type": "markdown",
   "metadata": {},
   "source": [
    "###### The first missing value occurs on row #387,145. And for further confirmation, let us check whether there are any non-missing values after this row."
   ]
  },
  {
   "cell_type": "code",
   "execution_count": 59,
   "metadata": {},
   "outputs": [],
   "source": [
    "find_first_nan(\n",
    "    data = trips_2018.iloc[387145:,:],\n",
    "    missing = False,\n",
    "    just_reveal = True\n",
    ")"
   ]
  },
  {
   "cell_type": "markdown",
   "metadata": {},
   "source": [
    "###### Just to be thorough, let's see when the missing values on the \"top left\" end"
   ]
  },
  {
   "cell_type": "code",
   "execution_count": 60,
   "metadata": {},
   "outputs": [
    {
     "data": {
      "text/plain": [
       "[387145, 387145, 387145, 387145, 387145, 387145, 387145]"
      ]
     },
     "execution_count": 60,
     "metadata": {},
     "output_type": "execute_result"
    }
   ],
   "source": [
    "# Find the first row where a missing value occurs\n",
    "right_half_2018 = [find_first_nan(data = trips_2018.iloc[:,i:], missing = False, just_reveal = False) for i in range(7,14)]\n",
    "right_half_2018"
   ]
  },
  {
   "cell_type": "markdown",
   "metadata": {},
   "source": [
    "###### They end at the same place where they begin on the \"top right\""
   ]
  },
  {
   "cell_type": "markdown",
   "metadata": {},
   "source": [
    "##### Forming the Final 2018 Dataset"
   ]
  },
  {
   "cell_type": "code",
   "execution_count": 61,
   "metadata": {},
   "outputs": [],
   "source": [
    "top_left_2018 = trips_2018.iloc[:387145, :7]\n",
    "bottom_right_2018 = trips_2018.iloc[387145:, 7:]\n",
    "\n",
    "# Final Renaming of columns\n",
    "top_left_2018.rename(columns = {\n",
    "                    \"01 - Rental Details Local Start Time\": \"start_time\",\n",
    "                    \"01 - Rental Details Local End Time\": \"end_time\",\n",
    "                    \"01 - Rental Details Bike ID\": \"bike_id\",\n",
    "                    \"01 - Rental Details Duration In Seconds Uncapped\": \"trip_duration (seconds)\",\n",
    "                    \"03 - Rental Start Station Name\": \"from_station_name\",\n",
    "                    \"02 - Rental End Station Name\": \"to_station_name\",\n",
    "                    \"User Type\": \"user_type\"}, inplace = True)\n",
    "\n",
    "\n",
    "bottom_right_2018.rename(columns = {\n",
    "                        \"bikeid\": \"bike_id\",\n",
    "                        \"tripduration\": \"trip_duration (seconds)\",\n",
    "                        \"usertype\": \"user_type\"}, inplace = True)\n"
   ]
  },
  {
   "cell_type": "code",
   "execution_count": 62,
   "metadata": {},
   "outputs": [],
   "source": [
    "trips_2018 = pd.concat([top_left_2018, bottom_right_2018], axis = 0, ignore_index = True)"
   ]
  },
  {
   "cell_type": "markdown",
   "metadata": {},
   "source": [
    "### 2019"
   ]
  },
  {
   "cell_type": "markdown",
   "metadata": {},
   "source": [
    "#### Viewing the Data"
   ]
  },
  {
   "cell_type": "code",
   "execution_count": 63,
   "metadata": {},
   "outputs": [
    {
     "data": {
      "text/plain": [
       "Index(['trip_id', 'start_time', 'end_time', 'bikeid', 'tripduration',\n",
       "       'from_station_id', 'from_station_name', 'to_station_id',\n",
       "       'to_station_name', 'usertype', 'gender', 'birthyear',\n",
       "       '01 - Rental Details Rental ID', '01 - Rental Details Local Start Time',\n",
       "       '01 - Rental Details Local End Time', '01 - Rental Details Bike ID',\n",
       "       '01 - Rental Details Duration In Seconds Uncapped',\n",
       "       '03 - Rental Start Station ID', '03 - Rental Start Station Name',\n",
       "       '02 - Rental End Station ID', '02 - Rental End Station Name',\n",
       "       'User Type', 'Member Gender',\n",
       "       '05 - Member Details Member Birthday Year'],\n",
       "      dtype='object')"
      ]
     },
     "execution_count": 63,
     "metadata": {},
     "output_type": "execute_result"
    }
   ],
   "source": [
    "trips_2019 = pd.read_pickle(ALTERED_DATA_PICKLES/\"2018 - 2019/1.pkl\")\n",
    "trips_2019.columns"
   ]
  },
  {
   "cell_type": "code",
   "execution_count": 64,
   "metadata": {},
   "outputs": [
    {
     "data": {
      "text/plain": [
       "Index(['index', 'trip_id', 'start_time', 'end_time', 'bikeid', 'tripduration',\n",
       "       'from_station_id', 'from_station_name', 'to_station_id',\n",
       "       'to_station_name', 'usertype', 'gender', 'birthyear',\n",
       "       '01 - Rental Details Rental ID', '01 - Rental Details Local Start Time',\n",
       "       '01 - Rental Details Local End Time', '01 - Rental Details Bike ID',\n",
       "       '01 - Rental Details Duration In Seconds Uncapped',\n",
       "       '03 - Rental Start Station ID', '03 - Rental Start Station Name',\n",
       "       '02 - Rental End Station ID', '02 - Rental End Station Name',\n",
       "       'User Type', 'Member Gender',\n",
       "       '05 - Member Details Member Birthday Year'],\n",
       "      dtype='object')"
      ]
     },
     "execution_count": 64,
     "metadata": {},
     "output_type": "execute_result"
    }
   ],
   "source": [
    "trips_2019.reset_index(inplace = True)\n",
    "trips_2019.columns"
   ]
  },
  {
   "cell_type": "markdown",
   "metadata": {},
   "source": [
    "###### Let us remove the columns that we are not going to use"
   ]
  },
  {
   "cell_type": "code",
   "execution_count": 65,
   "metadata": {},
   "outputs": [],
   "source": [
    "trips_2019.drop(\n",
    "    columns = [\n",
    "        \"trip_id\", \"gender\", \"birthyear\", \"01 - Rental Details Rental ID\", \"01 - Rental Details Bike ID\",\n",
    "        \"03 - Rental Start Station ID\", \"02 - Rental End Station ID\", \"Member Gender\", \"bikeid\",\n",
    "        \"05 - Member Details Member Birthday Year\", \"to_station_id\", \"from_station_id\", \"index\"\n",
    "    ], inplace = True\n",
    ")"
   ]
  },
  {
   "cell_type": "markdown",
   "metadata": {},
   "source": [
    "##### Dealing With Missing Values"
   ]
  },
  {
   "cell_type": "markdown",
   "metadata": {},
   "source": [
    "###### The 2019 dataframe has 3,818,004 rows. Let us check for the number of missing values "
   ]
  },
  {
   "cell_type": "code",
   "execution_count": 66,
   "metadata": {},
   "outputs": [
    {
     "data": {
      "text/plain": [
       "start_time                                          1108163\n",
       "end_time                                            1108163\n",
       "tripduration                                        1108163\n",
       "from_station_name                                   1108163\n",
       "to_station_name                                     1108163\n",
       "usertype                                            1108163\n",
       "01 - Rental Details Local Start Time                2709841\n",
       "01 - Rental Details Local End Time                  2709841\n",
       "01 - Rental Details Duration In Seconds Uncapped    2709841\n",
       "03 - Rental Start Station Name                      2709841\n",
       "02 - Rental End Station Name                        2709841\n",
       "User Type                                           2709841\n",
       "dtype: int64"
      ]
     },
     "execution_count": 66,
     "metadata": {},
     "output_type": "execute_result"
    }
   ],
   "source": [
    "trips_2019.isna().sum()"
   ]
  },
  {
   "cell_type": "markdown",
   "metadata": {},
   "source": [
    "###### As with the 2018 data, there are (in reality) only 6 columns here, but those columns have been duplicated under different names. The number of rows has been divided in the following manner: in the first 6 columns, 1,108,163 of the values are missing values. The second set of 6 columns (which I consider to be a duplicate of the first set) there are 2,709,841 missing values.\n",
    "\n",
    "###### Let us have a look at the exact structure of these blocks of missing values is."
   ]
  },
  {
   "cell_type": "code",
   "execution_count": 67,
   "metadata": {},
   "outputs": [],
   "source": [
    "# Produce a list consisting of the row index on which a NaN first occurs for each column\n",
    "first_nan_locations_2019 = [\n",
    "    find_first_nan(data = trips_2019.iloc[:,i:], missing = True, just_reveal = False) for i in range(0,12)\n",
    "]"
   ]
  },
  {
   "cell_type": "code",
   "execution_count": 68,
   "metadata": {},
   "outputs": [
    {
     "data": {
      "text/plain": [
       "[365069, 365069, 365069, 365069, 365069, 365069, 0, 0, 0, 0, 0, 0]"
      ]
     },
     "execution_count": 68,
     "metadata": {},
     "output_type": "execute_result"
    }
   ],
   "source": [
    "# View said list \n",
    "first_nan_locations_2019"
   ]
  },
  {
   "cell_type": "markdown",
   "metadata": {},
   "source": [
    "###### The missing values in the first set of 6 columns begin on row #356,069. Those in the second set of 6 columns start from the beginning. So let us invert the question by asking when the non-missing values in the data start?"
   ]
  },
  {
   "cell_type": "code",
   "execution_count": 69,
   "metadata": {},
   "outputs": [],
   "source": [
    "# Produce a list consisting of the row index on which a non-NaN first occurs for each column\n",
    "first_non_nan_locations_2019 = [\n",
    "    find_first_nan(data = trips_2019.iloc[:,i:], missing = False, just_reveal = False) for i in range(0,12)\n",
    "] "
   ]
  },
  {
   "cell_type": "code",
   "execution_count": 70,
   "metadata": {},
   "outputs": [
    {
     "data": {
      "text/plain": [
       "[0, 0, 0, 0, 0, 0, 365069, 365069, 365069, 365069, 365069, 365069]"
      ]
     },
     "execution_count": 70,
     "metadata": {},
     "output_type": "execute_result"
    }
   ],
   "source": [
    "# Again, view said list\n",
    "first_non_nan_locations_2019"
   ]
  },
  {
   "cell_type": "markdown",
   "metadata": {},
   "source": [
    "###### The non-missing values in the second set of 6 columns also begin on row #356,069. This suggests that the missing values in one set of 6 columns are possibly present in the other set. If true, this would mean that, as a result of the evident duplication of columns, there are in fact no missing values in the data.\n",
    "\n",
    "###### Let us check whether the number of missing values remains constant for every row. This would lend some credence to our budding theory."
   ]
  },
  {
   "cell_type": "code",
   "execution_count": 71,
   "metadata": {},
   "outputs": [
    {
     "name": "stdout",
     "output_type": "stream",
     "text": [
      "There are 6 missing values on row #365069\n",
      "There are 6 missing values on row #365069\n",
      "There are 6 missing values on row #365069\n",
      "There are 6 missing values on row #365069\n",
      "There are 6 missing values on row #365069\n",
      "There are 6 missing values on row #365069\n"
     ]
    }
   ],
   "source": [
    "for i in first_nan_locations_2019[:6]:\n",
    "\n",
    "    row_nan_count = 0\n",
    "    \n",
    "    for j in range(0,12):\n",
    "\n",
    "        if pd.isnull(trips_2019.iloc[i,j]) == True:\n",
    "\n",
    "            row_nan_count += 1\n",
    "\n",
    "    print(f\"There are {row_nan_count} missing values on row #{i}\")"
   ]
  },
  {
   "cell_type": "markdown",
   "metadata": {},
   "source": [
    "###### Every row that contains missing values contains exactly 6 of them. Let us go one step further to confirm the theory. I will begin to isolate the values in the left half of the dataset, and check whether they are all missing. We have already seen that there are 1,108,163 missing values in the left half of the data, and we have seen that the missing values start from row #365069 for its 6 columns. What we want to confirm now is whether or not these 1,108,163 missing values all occur exactly one after the other in a single unbroken sequence."
   ]
  },
  {
   "cell_type": "code",
   "execution_count": 72,
   "metadata": {},
   "outputs": [
    {
     "data": {
      "text/plain": [
       "start_time           1108163\n",
       "end_time             1108163\n",
       "tripduration         1108163\n",
       "from_station_name    1108163\n",
       "to_station_name      1108163\n",
       "usertype             1108163\n",
       "dtype: int64"
      ]
     },
     "execution_count": 72,
     "metadata": {},
     "output_type": "execute_result"
    }
   ],
   "source": [
    "# Isolate the missing values in the left half of the dataset\n",
    "trips_2019.iloc[365069: 365069 + 1108163, :6].isna().sum()"
   ]
  },
  {
   "cell_type": "markdown",
   "metadata": {},
   "source": [
    "###### Indeed they do. \n",
    "\n",
    "###### Let us investigate the missing values in the second half of the data. To begin with, we know that the first 365,069 values are missing. But we also know that there are 2,709,841 missing values in each column of the second half of the data. We know that 365,070 is not a missing value. But where are the remaining 2,344,772 values (per column)?"
   ]
  },
  {
   "cell_type": "code",
   "execution_count": 73,
   "metadata": {},
   "outputs": [
    {
     "data": {
      "text/plain": [
       "01 - Rental Details Local Start Time                365069\n",
       "01 - Rental Details Local End Time                  365069\n",
       "01 - Rental Details Duration In Seconds Uncapped    365069\n",
       "03 - Rental Start Station Name                      365069\n",
       "02 - Rental End Station Name                        365069\n",
       "User Type                                           365069\n",
       "dtype: int64"
      ]
     },
     "execution_count": 73,
     "metadata": {},
     "output_type": "execute_result"
    }
   ],
   "source": [
    "trips_2019.iloc[:365069, 6:12].isna().sum()"
   ]
  },
  {
   "cell_type": "code",
   "execution_count": 74,
   "metadata": {},
   "outputs": [
    {
     "name": "stdout",
     "output_type": "stream",
     "text": [
      "1108163\n"
     ]
    }
   ],
   "source": [
    "# Produce a list consisting of the row index on which a NaN first occurs for each column\n",
    "find_first_nan(data = trips_2019.iloc[365069:, 6:12], missing = True, just_reveal = True)"
   ]
  },
  {
   "cell_type": "code",
   "execution_count": 75,
   "metadata": {},
   "outputs": [
    {
     "name": "stdout",
     "output_type": "stream",
     "text": [
      "365069\n"
     ]
    }
   ],
   "source": [
    "find_first_nan(data = trips_2019.iloc[1108163:, 6:12], missing = True, just_reveal = True)"
   ]
  },
  {
   "cell_type": "markdown",
   "metadata": {},
   "source": [
    "###### We have found the remaining 2,344,772 missing values"
   ]
  },
  {
   "cell_type": "code",
   "execution_count": 76,
   "metadata": {},
   "outputs": [
    {
     "data": {
      "text/plain": [
       "01 - Rental Details Local Start Time                2344772\n",
       "01 - Rental Details Local End Time                  2344772\n",
       "01 - Rental Details Duration In Seconds Uncapped    2344772\n",
       "03 - Rental Start Station Name                      2344772\n",
       "02 - Rental End Station Name                        2344772\n",
       "User Type                                           2344772\n",
       "dtype: int64"
      ]
     },
     "execution_count": 76,
     "metadata": {},
     "output_type": "execute_result"
    }
   ],
   "source": [
    "trips_2019.iloc[365069+1108163:, 6:12].isna().sum()"
   ]
  },
  {
   "cell_type": "markdown",
   "metadata": {},
   "source": [
    "###### Below, we see that these values are present in the same rows and in the preceding six columns."
   ]
  },
  {
   "cell_type": "code",
   "execution_count": 77,
   "metadata": {},
   "outputs": [
    {
     "data": {
      "text/plain": [
       "start_time           0\n",
       "end_time             0\n",
       "tripduration         0\n",
       "from_station_name    0\n",
       "to_station_name      0\n",
       "usertype             0\n",
       "dtype: int64"
      ]
     },
     "execution_count": 77,
     "metadata": {},
     "output_type": "execute_result"
    }
   ],
   "source": [
    "trips_2019.iloc[365069+1108163:, :6].isna().sum()"
   ]
  },
  {
   "cell_type": "markdown",
   "metadata": {},
   "source": [
    "##### Forming the Final 2019 Dataset"
   ]
  },
  {
   "cell_type": "code",
   "execution_count": 78,
   "metadata": {},
   "outputs": [],
   "source": [
    "trips_2019.rename(columns = {\"tripduration\": \"trip_duration (seconds)\", \"usertype\": \"user_type\"}, inplace = True)"
   ]
  },
  {
   "cell_type": "code",
   "execution_count": 79,
   "metadata": {},
   "outputs": [],
   "source": [
    "top_left_2019 = trips_2019.iloc[:365069,:6]\n",
    "bottom_left_2019 = trips_2019.iloc[365069+1108163:,:6]\n",
    "right_side_2019 = trips_2019.iloc[365069:365069+1108163,6:]"
   ]
  },
  {
   "cell_type": "code",
   "execution_count": 91,
   "metadata": {},
   "outputs": [
    {
     "data": {
      "text/plain": [
       "Index(['start_time', 'stop_time', 'trip_duration (seconds)',\n",
       "       'from_station_name', 'to_station_name', 'user_type'],\n",
       "      dtype='object')"
      ]
     },
     "execution_count": 91,
     "metadata": {},
     "output_type": "execute_result"
    }
   ],
   "source": [
    "right_side_2019.columns"
   ]
  },
  {
   "cell_type": "markdown",
   "metadata": {},
   "source": [
    "###### We need to rename the columns "
   ]
  },
  {
   "cell_type": "code",
   "execution_count": 80,
   "metadata": {},
   "outputs": [],
   "source": [
    "right_side_2019.rename(\n",
    "    columns = {\"01 - Rental Details Local Start Time\": \"start_time\", \"01 - Rental Details Local End Time\": \"stop_time\", \n",
    "               \"01 - Rental Details Duration In Seconds Uncapped\": \"trip_duration (seconds)\", \n",
    "               \"03 - Rental Start Station Name\": \"from_station_name\", \"02 - Rental End Station Name\": \"to_station_name\",\n",
    "               \"User Type\": \"user_type\" \n",
    "               }, \n",
    "\n",
    "    inplace = True\n",
    ")"
   ]
  },
  {
   "cell_type": "markdown",
   "metadata": {},
   "source": [
    "###### We attach these components together"
   ]
  },
  {
   "cell_type": "code",
   "execution_count": 81,
   "metadata": {},
   "outputs": [],
   "source": [
    "trips_2019 = pd.concat(\n",
    "    [\n",
    "        top_left_2019, bottom_left_2019, right_side_2019\n",
    "    ], axis = 0\n",
    ")"
   ]
  },
  {
   "cell_type": "code",
   "execution_count": 82,
   "metadata": {},
   "outputs": [
    {
     "data": {
      "text/html": [
       "<div>\n",
       "<style scoped>\n",
       "    .dataframe tbody tr th:only-of-type {\n",
       "        vertical-align: middle;\n",
       "    }\n",
       "\n",
       "    .dataframe tbody tr th {\n",
       "        vertical-align: top;\n",
       "    }\n",
       "\n",
       "    .dataframe thead th {\n",
       "        text-align: right;\n",
       "    }\n",
       "</style>\n",
       "<table border=\"1\" class=\"dataframe\">\n",
       "  <thead>\n",
       "    <tr style=\"text-align: right;\">\n",
       "      <th></th>\n",
       "      <th>start_time</th>\n",
       "      <th>end_time</th>\n",
       "      <th>trip_duration (seconds)</th>\n",
       "      <th>from_station_name</th>\n",
       "      <th>to_station_name</th>\n",
       "      <th>user_type</th>\n",
       "      <th>stop_time</th>\n",
       "    </tr>\n",
       "  </thead>\n",
       "  <tbody>\n",
       "    <tr>\n",
       "      <th>0</th>\n",
       "      <td>2019-01-01 00:04:37</td>\n",
       "      <td>2019-01-01 00:11:07</td>\n",
       "      <td>390.0</td>\n",
       "      <td>Wabash Ave &amp; Grand Ave</td>\n",
       "      <td>Milwaukee Ave &amp; Grand Ave</td>\n",
       "      <td>Subscriber</td>\n",
       "      <td>NaT</td>\n",
       "    </tr>\n",
       "    <tr>\n",
       "      <th>1</th>\n",
       "      <td>2019-01-01 00:08:13</td>\n",
       "      <td>2019-01-01 00:15:34</td>\n",
       "      <td>441.0</td>\n",
       "      <td>State St &amp; Randolph St</td>\n",
       "      <td>Dearborn St &amp; Van Buren St (*)</td>\n",
       "      <td>Subscriber</td>\n",
       "      <td>NaT</td>\n",
       "    </tr>\n",
       "    <tr>\n",
       "      <th>2</th>\n",
       "      <td>2019-01-01 00:13:23</td>\n",
       "      <td>2019-01-01 00:27:12</td>\n",
       "      <td>829.0</td>\n",
       "      <td>Racine Ave &amp; 18th St</td>\n",
       "      <td>Western Ave &amp; Fillmore St (*)</td>\n",
       "      <td>Subscriber</td>\n",
       "      <td>NaT</td>\n",
       "    </tr>\n",
       "    <tr>\n",
       "      <th>3</th>\n",
       "      <td>2019-01-01 00:13:45</td>\n",
       "      <td>2019-01-01 00:43:28</td>\n",
       "      <td>1,783.0</td>\n",
       "      <td>California Ave &amp; Milwaukee Ave</td>\n",
       "      <td>Clark St &amp; Elm St</td>\n",
       "      <td>Subscriber</td>\n",
       "      <td>NaT</td>\n",
       "    </tr>\n",
       "    <tr>\n",
       "      <th>4</th>\n",
       "      <td>2019-01-01 00:14:52</td>\n",
       "      <td>2019-01-01 00:20:56</td>\n",
       "      <td>364.0</td>\n",
       "      <td>Mies van der Rohe Way &amp; Chicago Ave</td>\n",
       "      <td>Streeter Dr &amp; Grand Ave</td>\n",
       "      <td>Subscriber</td>\n",
       "      <td>NaT</td>\n",
       "    </tr>\n",
       "    <tr>\n",
       "      <th>...</th>\n",
       "      <td>...</td>\n",
       "      <td>...</td>\n",
       "      <td>...</td>\n",
       "      <td>...</td>\n",
       "      <td>...</td>\n",
       "      <td>...</td>\n",
       "      <td>...</td>\n",
       "    </tr>\n",
       "    <tr>\n",
       "      <th>1473227</th>\n",
       "      <td>2019-06-30 23:58:00</td>\n",
       "      <td>NaT</td>\n",
       "      <td>1,342.0</td>\n",
       "      <td>Halsted St &amp; Archer Ave</td>\n",
       "      <td>Halsted St &amp; Archer Ave</td>\n",
       "      <td>Customer</td>\n",
       "      <td>2019-07-01 00:20:22</td>\n",
       "    </tr>\n",
       "    <tr>\n",
       "      <th>1473228</th>\n",
       "      <td>2019-06-30 23:58:04</td>\n",
       "      <td>NaT</td>\n",
       "      <td>973.0</td>\n",
       "      <td>Wabash Ave &amp; Grand Ave</td>\n",
       "      <td>Calumet Ave &amp; 18th St</td>\n",
       "      <td>Subscriber</td>\n",
       "      <td>2019-07-01 00:14:17</td>\n",
       "    </tr>\n",
       "    <tr>\n",
       "      <th>1473229</th>\n",
       "      <td>2019-06-30 23:58:20</td>\n",
       "      <td>NaT</td>\n",
       "      <td>1,651.0</td>\n",
       "      <td>Greenview Ave &amp; Diversey Pkwy</td>\n",
       "      <td>Clark St &amp; Chicago Ave</td>\n",
       "      <td>Subscriber</td>\n",
       "      <td>2019-07-01 00:25:51</td>\n",
       "    </tr>\n",
       "    <tr>\n",
       "      <th>1473230</th>\n",
       "      <td>2019-06-30 23:58:52</td>\n",
       "      <td>NaT</td>\n",
       "      <td>752.0</td>\n",
       "      <td>Racine Ave &amp; Belmont Ave</td>\n",
       "      <td>Broadway &amp; Barry Ave</td>\n",
       "      <td>Subscriber</td>\n",
       "      <td>2019-07-01 00:11:24</td>\n",
       "    </tr>\n",
       "    <tr>\n",
       "      <th>1473231</th>\n",
       "      <td>2019-06-30 23:59:05</td>\n",
       "      <td>NaT</td>\n",
       "      <td>1,629.0</td>\n",
       "      <td>Michigan Ave &amp; Oak St</td>\n",
       "      <td>Montrose Harbor</td>\n",
       "      <td>Subscriber</td>\n",
       "      <td>2019-07-01 00:26:14</td>\n",
       "    </tr>\n",
       "  </tbody>\n",
       "</table>\n",
       "<p>3818004 rows × 7 columns</p>\n",
       "</div>"
      ],
      "text/plain": [
       "                 start_time            end_time trip_duration (seconds)  \\\n",
       "0       2019-01-01 00:04:37 2019-01-01 00:11:07                   390.0   \n",
       "1       2019-01-01 00:08:13 2019-01-01 00:15:34                   441.0   \n",
       "2       2019-01-01 00:13:23 2019-01-01 00:27:12                   829.0   \n",
       "3       2019-01-01 00:13:45 2019-01-01 00:43:28                 1,783.0   \n",
       "4       2019-01-01 00:14:52 2019-01-01 00:20:56                   364.0   \n",
       "...                     ...                 ...                     ...   \n",
       "1473227 2019-06-30 23:58:00                 NaT                 1,342.0   \n",
       "1473228 2019-06-30 23:58:04                 NaT                   973.0   \n",
       "1473229 2019-06-30 23:58:20                 NaT                 1,651.0   \n",
       "1473230 2019-06-30 23:58:52                 NaT                   752.0   \n",
       "1473231 2019-06-30 23:59:05                 NaT                 1,629.0   \n",
       "\n",
       "                           from_station_name                 to_station_name  \\\n",
       "0                     Wabash Ave & Grand Ave       Milwaukee Ave & Grand Ave   \n",
       "1                     State St & Randolph St  Dearborn St & Van Buren St (*)   \n",
       "2                       Racine Ave & 18th St   Western Ave & Fillmore St (*)   \n",
       "3             California Ave & Milwaukee Ave               Clark St & Elm St   \n",
       "4        Mies van der Rohe Way & Chicago Ave         Streeter Dr & Grand Ave   \n",
       "...                                      ...                             ...   \n",
       "1473227              Halsted St & Archer Ave         Halsted St & Archer Ave   \n",
       "1473228               Wabash Ave & Grand Ave           Calumet Ave & 18th St   \n",
       "1473229        Greenview Ave & Diversey Pkwy          Clark St & Chicago Ave   \n",
       "1473230             Racine Ave & Belmont Ave            Broadway & Barry Ave   \n",
       "1473231                Michigan Ave & Oak St                 Montrose Harbor   \n",
       "\n",
       "          user_type           stop_time  \n",
       "0        Subscriber                 NaT  \n",
       "1        Subscriber                 NaT  \n",
       "2        Subscriber                 NaT  \n",
       "3        Subscriber                 NaT  \n",
       "4        Subscriber                 NaT  \n",
       "...             ...                 ...  \n",
       "1473227    Customer 2019-07-01 00:20:22  \n",
       "1473228  Subscriber 2019-07-01 00:14:17  \n",
       "1473229  Subscriber 2019-07-01 00:25:51  \n",
       "1473230  Subscriber 2019-07-01 00:11:24  \n",
       "1473231  Subscriber 2019-07-01 00:26:14  \n",
       "\n",
       "[3818004 rows x 7 columns]"
      ]
     },
     "execution_count": 82,
     "metadata": {},
     "output_type": "execute_result"
    }
   ],
   "source": [
    "trips_2019"
   ]
  },
  {
   "cell_type": "markdown",
   "metadata": {},
   "source": [
    "###### That \"stop_time\" column has a bunch of missing values. Let us find out where the first non-NaNs start"
   ]
  },
  {
   "cell_type": "code",
   "execution_count": 83,
   "metadata": {},
   "outputs": [
    {
     "name": "stdout",
     "output_type": "stream",
     "text": [
      "2709841\n"
     ]
    }
   ],
   "source": [
    "for i in range(trips_2019.shape[0]):\n",
    "\n",
    "    if pd.isnull(trips_2019.iloc[i,6]) == False:\n",
    "\n",
    "        print(i)\n",
    "        break"
   ]
  },
  {
   "cell_type": "markdown",
   "metadata": {},
   "source": [
    "###### That \"end_time\" column has a bunch of missing values, and their positions may mirror the non-NaNs. Let us find out where these NaNs start."
   ]
  },
  {
   "cell_type": "code",
   "execution_count": 84,
   "metadata": {},
   "outputs": [
    {
     "name": "stdout",
     "output_type": "stream",
     "text": [
      "2709841\n"
     ]
    }
   ],
   "source": [
    "for i in range(trips_2019.shape[0]):\n",
    "\n",
    "    if pd.isnull(trips_2019.iloc[i,1]) == True:\n",
    "\n",
    "        print(i)\n",
    "        break"
   ]
  },
  {
   "cell_type": "markdown",
   "metadata": {},
   "source": [
    "###### It's seems to be an exact match. We will merge these values and place them in the \"end_time\" column, and delete \"stop_time\""
   ]
  },
  {
   "cell_type": "code",
   "execution_count": 85,
   "metadata": {},
   "outputs": [],
   "source": [
    "trips_2019[\"end_time\"] = pd.concat([trips_2019.iloc[:2709841,1], trips_2019.iloc[2709841:, 6]], axis = 0).values\n",
    "trips_2019.drop(\"stop_time\", axis = 1, inplace = True)"
   ]
  },
  {
   "cell_type": "markdown",
   "metadata": {},
   "source": [
    "###### I almost forgot to remove duplicate values"
   ]
  },
  {
   "cell_type": "code",
   "execution_count": 86,
   "metadata": {},
   "outputs": [
    {
     "data": {
      "text/html": [
       "<div>\n",
       "<style scoped>\n",
       "    .dataframe tbody tr th:only-of-type {\n",
       "        vertical-align: middle;\n",
       "    }\n",
       "\n",
       "    .dataframe tbody tr th {\n",
       "        vertical-align: top;\n",
       "    }\n",
       "\n",
       "    .dataframe thead th {\n",
       "        text-align: right;\n",
       "    }\n",
       "</style>\n",
       "<table border=\"1\" class=\"dataframe\">\n",
       "  <thead>\n",
       "    <tr style=\"text-align: right;\">\n",
       "      <th></th>\n",
       "      <th>start_time</th>\n",
       "      <th>end_time</th>\n",
       "      <th>trip_duration (seconds)</th>\n",
       "      <th>from_station_name</th>\n",
       "      <th>to_station_name</th>\n",
       "      <th>user_type</th>\n",
       "    </tr>\n",
       "  </thead>\n",
       "  <tbody>\n",
       "    <tr>\n",
       "      <th>441</th>\n",
       "      <td>2019-01-01 11:55:20</td>\n",
       "      <td>2019-01-01 12:24:44</td>\n",
       "      <td>1,764.0</td>\n",
       "      <td>Michigan Ave &amp; Pearson St</td>\n",
       "      <td>Pine Grove Ave &amp; Waveland Ave</td>\n",
       "      <td>Subscriber</td>\n",
       "    </tr>\n",
       "    <tr>\n",
       "      <th>516</th>\n",
       "      <td>2019-01-01 12:44:38</td>\n",
       "      <td>2019-01-01 12:50:10</td>\n",
       "      <td>332.0</td>\n",
       "      <td>Clinton St &amp; Roosevelt Rd</td>\n",
       "      <td>Wabash Ave &amp; Roosevelt Rd</td>\n",
       "      <td>Subscriber</td>\n",
       "    </tr>\n",
       "    <tr>\n",
       "      <th>610</th>\n",
       "      <td>2019-01-01 13:40:29</td>\n",
       "      <td>2019-01-01 13:50:07</td>\n",
       "      <td>578.0</td>\n",
       "      <td>Ashland Ave &amp; Wrightwood Ave</td>\n",
       "      <td>Sheffield Ave &amp; Willow St</td>\n",
       "      <td>Subscriber</td>\n",
       "    </tr>\n",
       "    <tr>\n",
       "      <th>1463</th>\n",
       "      <td>2019-01-02 06:19:14</td>\n",
       "      <td>2019-01-02 06:22:27</td>\n",
       "      <td>193.0</td>\n",
       "      <td>Clark St &amp; Ida B Wells Dr</td>\n",
       "      <td>Franklin St &amp; Jackson Blvd</td>\n",
       "      <td>Subscriber</td>\n",
       "    </tr>\n",
       "    <tr>\n",
       "      <th>3407</th>\n",
       "      <td>2019-01-02 13:57:27</td>\n",
       "      <td>2019-01-02 14:04:33</td>\n",
       "      <td>426.0</td>\n",
       "      <td>Desplaines St &amp; Jackson Blvd</td>\n",
       "      <td>Wells St &amp; Polk St</td>\n",
       "      <td>Subscriber</td>\n",
       "    </tr>\n",
       "    <tr>\n",
       "      <th>...</th>\n",
       "      <td>...</td>\n",
       "      <td>...</td>\n",
       "      <td>...</td>\n",
       "      <td>...</td>\n",
       "      <td>...</td>\n",
       "      <td>...</td>\n",
       "    </tr>\n",
       "    <tr>\n",
       "      <th>1471192</th>\n",
       "      <td>2019-06-30 18:58:34</td>\n",
       "      <td>2019-06-30 19:13:53</td>\n",
       "      <td>919.0</td>\n",
       "      <td>Wentworth Ave &amp; 35th St</td>\n",
       "      <td>Wabash Ave &amp; 16th St</td>\n",
       "      <td>Subscriber</td>\n",
       "    </tr>\n",
       "    <tr>\n",
       "      <th>1471213</th>\n",
       "      <td>2019-06-30 19:00:39</td>\n",
       "      <td>2019-06-30 19:31:15</td>\n",
       "      <td>1,836.0</td>\n",
       "      <td>Washtenaw Ave &amp; Lawrence Ave</td>\n",
       "      <td>Winchester (Ravenswood) Ave &amp; Balmoral Ave</td>\n",
       "      <td>Subscriber</td>\n",
       "    </tr>\n",
       "    <tr>\n",
       "      <th>1471641</th>\n",
       "      <td>2019-06-30 19:35:48</td>\n",
       "      <td>2019-06-30 19:49:25</td>\n",
       "      <td>817.0</td>\n",
       "      <td>Loomis St &amp; Lexington St</td>\n",
       "      <td>Green St &amp; Madison St</td>\n",
       "      <td>Subscriber</td>\n",
       "    </tr>\n",
       "    <tr>\n",
       "      <th>1472635</th>\n",
       "      <td>2019-06-30 21:26:03</td>\n",
       "      <td>2019-06-30 21:38:06</td>\n",
       "      <td>723.0</td>\n",
       "      <td>Halsted St &amp; Clybourn Ave (*)</td>\n",
       "      <td>Desplaines St &amp; Kinzie St</td>\n",
       "      <td>Subscriber</td>\n",
       "    </tr>\n",
       "    <tr>\n",
       "      <th>1472915</th>\n",
       "      <td>2019-06-30 22:16:38</td>\n",
       "      <td>2019-06-30 22:24:18</td>\n",
       "      <td>460.0</td>\n",
       "      <td>Halsted St &amp; Maxwell St</td>\n",
       "      <td>Loomis St &amp; Taylor St (*)</td>\n",
       "      <td>Subscriber</td>\n",
       "    </tr>\n",
       "  </tbody>\n",
       "</table>\n",
       "<p>3055 rows × 6 columns</p>\n",
       "</div>"
      ],
      "text/plain": [
       "                 start_time            end_time trip_duration (seconds)  \\\n",
       "441     2019-01-01 11:55:20 2019-01-01 12:24:44                 1,764.0   \n",
       "516     2019-01-01 12:44:38 2019-01-01 12:50:10                   332.0   \n",
       "610     2019-01-01 13:40:29 2019-01-01 13:50:07                   578.0   \n",
       "1463    2019-01-02 06:19:14 2019-01-02 06:22:27                   193.0   \n",
       "3407    2019-01-02 13:57:27 2019-01-02 14:04:33                   426.0   \n",
       "...                     ...                 ...                     ...   \n",
       "1471192 2019-06-30 18:58:34 2019-06-30 19:13:53                   919.0   \n",
       "1471213 2019-06-30 19:00:39 2019-06-30 19:31:15                 1,836.0   \n",
       "1471641 2019-06-30 19:35:48 2019-06-30 19:49:25                   817.0   \n",
       "1472635 2019-06-30 21:26:03 2019-06-30 21:38:06                   723.0   \n",
       "1472915 2019-06-30 22:16:38 2019-06-30 22:24:18                   460.0   \n",
       "\n",
       "                     from_station_name  \\\n",
       "441          Michigan Ave & Pearson St   \n",
       "516          Clinton St & Roosevelt Rd   \n",
       "610       Ashland Ave & Wrightwood Ave   \n",
       "1463         Clark St & Ida B Wells Dr   \n",
       "3407      Desplaines St & Jackson Blvd   \n",
       "...                                ...   \n",
       "1471192        Wentworth Ave & 35th St   \n",
       "1471213   Washtenaw Ave & Lawrence Ave   \n",
       "1471641       Loomis St & Lexington St   \n",
       "1472635  Halsted St & Clybourn Ave (*)   \n",
       "1472915        Halsted St & Maxwell St   \n",
       "\n",
       "                                    to_station_name   user_type  \n",
       "441                   Pine Grove Ave & Waveland Ave  Subscriber  \n",
       "516                       Wabash Ave & Roosevelt Rd  Subscriber  \n",
       "610                       Sheffield Ave & Willow St  Subscriber  \n",
       "1463                     Franklin St & Jackson Blvd  Subscriber  \n",
       "3407                             Wells St & Polk St  Subscriber  \n",
       "...                                             ...         ...  \n",
       "1471192                        Wabash Ave & 16th St  Subscriber  \n",
       "1471213  Winchester (Ravenswood) Ave & Balmoral Ave  Subscriber  \n",
       "1471641                       Green St & Madison St  Subscriber  \n",
       "1472635                   Desplaines St & Kinzie St  Subscriber  \n",
       "1472915                   Loomis St & Taylor St (*)  Subscriber  \n",
       "\n",
       "[3055 rows x 6 columns]"
      ]
     },
     "execution_count": 86,
     "metadata": {},
     "output_type": "execute_result"
    }
   ],
   "source": [
    "# View the duplicate values\n",
    "trips_2019[trips_2019.duplicated(keep = \"first\") == True]"
   ]
  },
  {
   "cell_type": "code",
   "execution_count": 87,
   "metadata": {},
   "outputs": [],
   "source": [
    "trips_2019.drop_duplicates(inplace = True)"
   ]
  },
  {
   "cell_type": "markdown",
   "metadata": {},
   "source": [
    "###### We need to make \"trip_duration\" a column of floats."
   ]
  },
  {
   "cell_type": "code",
   "execution_count": 43,
   "metadata": {},
   "outputs": [],
   "source": [
    "# Pandas' \".astype\" method wasn't working, as it viewed the contents of the column as strings.\n",
    "trips_2019[\"trip_duration (seconds)\"] = trips_2019[\"trip_duration (seconds)\"].apply(lambda x: float(x.split()[0].replace(',', '')))"
   ]
  },
  {
   "cell_type": "markdown",
   "metadata": {},
   "source": [
    "### Geocoding the data from 2014 - 2019"
   ]
  },
  {
   "cell_type": "code",
   "execution_count": 101,
   "metadata": {},
   "outputs": [],
   "source": [
    "pre_2020 = [trips_2014, trips_2015, trips_2016, trips_2017, trips_2018, trips_2019]\n",
    "trips_pre_2020 = pd.concat(pre_2020, axis = 0)\n",
    "\n",
    "origins = list(trips_pre_2020[\"from_station_name\"].unique())"
   ]
  },
  {
   "cell_type": "markdown",
   "metadata": {},
   "source": [
    "##### Obtain the Coordinates for Each Point of Origin "
   ]
  },
  {
   "cell_type": "code",
   "execution_count": 104,
   "metadata": {},
   "outputs": [
    {
     "data": {
      "text/plain": [
       "Location(Lincoln Ave, Belmont, California, 94002, (37.518965164186, -122.308262778663, 0.0))"
      ]
     },
     "execution_count": 104,
     "metadata": {},
     "output_type": "execute_result"
    }
   ],
   "source": [
    "from geopy.geocoders import ArcGIS\n",
    "\n",
    "geolocator = ArcGIS()origins_with_points\n",
    "origins_with_points = []\n",
    "\n",
    "# Get the ArcGis geocoder to obtain the coordinates for each place\n",
    "for zone in origins[:len(origins)]:\n",
    "\n",
    "    origins_with_points.append(geolocator.geocode(zone, timeout = None))\n",
    "\n",
    "\n",
    "# View an element of the list\n",
    "origins_with_points[0]"
   ]
  },
  {
   "cell_type": "code",
   "execution_count": 108,
   "metadata": {},
   "outputs": [
    {
     "data": {
      "text/plain": [
       "[Location(Lincoln Ave, Belmont, California, 94002, (37.518965164186, -122.308262778663, 0.0)),\n",
       " Location(Maxwell Street Express, (41.681652, -87.642383, 0.0)),\n",
       " Location(Sheffield Dr, Sylva, North Carolina, 28779, (35.349064425149, -83.211726045728, 0.0)),\n",
       " Location(Jackson St, Quapaw, Oklahoma, 74363, (36.958959992956, -94.78611499294, 0.0)),\n",
       " Location(Lexington Cir, Loomis, California, 95650, (38.795820785478, -121.129912635553, 0.0)),\n",
       " None,\n",
       " Location(Canal Rd, Madison, New York, 13402, (42.907764679069, -75.527052108737, 0.0)),\n",
       " Location(Grand St, Wabash, Indiana, 46992, (40.80038252922, -85.854300613052, 0.0)),\n",
       " None,\n",
       " Location(Ravenswood Ct, Montrose, Melbourne, Victoria, 3765, (-37.806213675303, 145.349073443124, 0.0)),\n",
       " Location(State, (25.44764, 81.78619, 0.0)),\n",
       " Location(Canal St, Missouri Valley, Iowa, 51555, (41.549860743524, -95.897406579417, 0.0)),\n",
       " Location(Merchandise Mart, (41.88843, -87.63678, 0.0)),\n",
       " Location(Park Ave, Middletown, California, 95461, (38.754552728047, -122.621626882404, 0.0)),\n",
       " Location(Museum Campus, Chicago, Illinois, (41.85915, -87.61248, 0.0)),\n",
       " Location(Congress Ct, Jeffersonville, Indiana, 47130, (38.319341566557, -85.696144501178, 0.0)),\n",
       " Location(Division St, Ashland, Kentucky, 41101, (38.449450531579, -82.631920094454, 0.0)),\n",
       " Location(Madison St, Aberdeen, Mississippi, 39730, (33.822000300628, -88.545124982757, 0.0)),\n",
       " Location(N Franklin St, Chicago, Illinois, 60606, (41.884926116964, -87.635391550594, 0.0)),\n",
       " Location(Belmont Ave, Racine, Wisconsin, 53405, (42.724219982028, -87.813790342118, 0.0)),\n",
       " Location(Illinois St, La Salle, Illinois, 61301, (41.342270025029, -89.097567357977, 0.0)),\n",
       " Location(N Concord St, Minneapolis, Kansas, 67467, (39.127310117307, -97.708294281247, 0.0)),\n",
       " Location(Congress St, Niles, Michigan, 49120, (41.773489993891, -86.260754999826, 0.0)),\n",
       " Location(McClurg Court, (41.89449, -87.61773, 0.0)),\n",
       " Location(Pearson St, Elberta, Michigan, 49628, (44.618189220715, -86.22699279012, 0.0)),\n",
       " Location(N Mies van der Rohe Way, Chicago, Illinois, 60611, (41.89842493495, -87.621850071027, 0.0)),\n",
       " Location(Augusta Ct, Ashland, Oregon, 97520, (42.176841095466, -122.656035028156, 0.0)),\n",
       " Location(Shaw Festival Theatre, (43.25251, -79.06665, 0.0)),\n",
       " Location(Carrer Gran, 08310, Argentona, Barcelona, Catalunya, (41.555470030732, 2.400582007678, 0.0)),\n",
       " Location(Franklin, Biała Rawska, Rawski, Łódzkie, (51.82122121, 20.527151231, 0.0)),\n",
       " Location(S Irving St, Englewood, Colorado, 80110, (39.628983401675, -105.029639995205, 0.0)),\n",
       " Location(Evergreen Dr, Wells, Maine, 04090, (43.355596664541, -70.650754398146, 0.0)),\n",
       " Location(Kingsbury Dr, North Ridgeville, Ohio, 44039, (41.352226418313, -82.053046758866, 0.0)),\n",
       " Location(Storegade & Storegade, 6670, Holsted Stationsby, Vejen, Syddanmark, (55.480579997171, 8.910259962506, 0.0)),\n",
       " None,\n",
       " Location(Avenue A & E Jackson Ave, Flint, Michigan, 48505, (43.041069997959, -83.696569969736, 0.0)),\n",
       " Location(Michigan Ave, Washington, Pennsylvania, 15301, (40.18823121833, -80.256271133496, 0.0)),\n",
       " Location(Clark St, Lincoln, Maine, 04457, (45.359361364653, -68.503271638066, 0.0)),\n",
       " Location(South St, Roscoe, Missouri, 64781, (37.974637574438, -93.812060083138, 0.0)),\n",
       " Location(W Webster St, Wichita, Kansas, 67215, (37.631689944314, -97.414839965019, 0.0)),\n",
       " Location(Kingsbury Ln, Tonawanda, New York, 14150, (42.999150917938, -78.841644896071, 0.0)),\n",
       " Location(Southwater Street, Horsham, West Sussex, England, (51.034774032, -0.344565022, 0.0)),\n",
       " Location(Kingsbury, Nevada, (38.97593, -119.90616, 0.0)),\n",
       " Location(State St, Biloxi, Mississippi, 39531, (30.401431374075, -88.941277656707, 0.0)),\n",
       " Location(Sheffield Pl, Fullerton, California, 92835, (33.899905038468, -117.879328376432, 0.0)),\n",
       " Location(Wright Ave, Stockton, California, 95204, (37.988474975005, -121.292608857511, 0.0)),\n",
       " Location(Charleston, South Carolina, (32.78115, -79.9316, 0.0)),\n",
       " Location(May St, Tilden, Illinois, 62292, (38.215829844111, -89.685061209315, 0.0)),\n",
       " Location(Avenue G & Lake St, Dollar Bay, Michigan, 49922, (47.117930011413, -88.504310021412, 0.0)),\n",
       " Location(Millennium Park, Dindoli, Surat, Gujarat, (21.14615, 72.87625, 0.0)),\n",
       " Location(Lake St, Fort Morgan, Colorado, 80701, (40.251585990253, -103.796754747846, 0.0)),\n",
       " Location(Franklin St, Jackson, Georgia, 30233, (33.289765489648, -83.959690571756, 0.0)),\n",
       " Location(Pearson, Georgia, (31.29744, -82.85268, 0.0)),\n",
       " Location(Polk St, Trenton, Illinois, 62293, (38.608683456257, -89.695892801162, 0.0)),\n",
       " Location(Brightwood Dr, Las Vegas, Nevada, 89123, (36.051430757579, -115.14934493943, 0.0)),\n",
       " Location(Western Ave, Rockford, Illinois, 61101, (42.319535969717, -89.140033502812, 0.0)),\n",
       " Location(State St, Randolph, Massachusetts, 02368, (42.188475101216, -71.03181734825, 0.0)),\n",
       " Location(Washington St, La Salle, Illinois, 61301, (41.350934995036, -89.093894976701, 0.0)),\n",
       " Location(Clinton, Maryland, (38.76156, -76.9146, 0.0)),\n",
       " None,\n",
       " Location(N Taylor St, Mitchell, South Dakota, 57301, (43.711089962158, -98.004494993407, 0.0)),\n",
       " Location(Des Plaines, Illinois, (42.0423, -87.88921, 0.0)),\n",
       " Location(Halsted Rd, Rockford, Illinois, 61101, (42.310115274268, -89.114689173036, 0.0)),\n",
       " Location(N Clark St, Chicago, Illinois, 60660, (41.993040745689, -87.669998883848, 0.0)),\n",
       " Location(Wellington Avenue, Anston, Sheffield, South Yorkshire, England, S25 4, (53.360637088957, -1.221296589422, 0.0)),\n",
       " Location(Monroe St, Dearborn, Michigan, 48124, (42.296578729968, -83.246623110984, 0.0)),\n",
       " None,\n",
       " Location(Erie St, Port Huron, Michigan, 48060, (42.981121437348, -82.427440146638, 0.0)),\n",
       " Location(Leavitt Ln, Lincoln, Nebraska, 68510, (40.807422592925, -96.607027197743, 0.0)),\n",
       " Location(La Salle St, Jackson, Michigan, 49203, (42.20644500675, -84.401680014283, 0.0)),\n",
       " Location(Broadway Plaza, (41.977683, -87.659027, 0.0)),\n",
       " Location(Clark St, Khandallah, Wellington, 6035, (-41.243546985781, 174.787803111462, 0.0)),\n",
       " Location(Armitage Ave, Las Vegas, Nevada, 89144, (36.175370000384, -115.332069995502, 0.0)),\n",
       " Location(Belmont Ave, Seattle, Washington, 98122, (47.615900008014, -122.32456632472, 0.0)),\n",
       " Location(Hubbard Ln, Wells, Maine, 04090, (43.325073761127, -70.618107607247, 0.0)),\n",
       " Location(Lakeshore, City of Willoughby, Ohio, (41.69541, -81.40663, 0.0)),\n",
       " Location(Broadway, Freeport, Michigan, 49325, (42.76619154912, -85.29095655134, 0.0)),\n",
       " Location(Centre Plaza, (38.647559, -77.340137, 0.0)),\n",
       " Location(Wolcott Ave, Des Moines, Iowa, 50315, (41.550914756705, -93.628119982109, 0.0)),\n",
       " Location(Roosevelt, (41.87634, -87.62602, 0.0)),\n",
       " Location(Wentworth, (52.15598, 1.60326, 0.0)),\n",
       " Location(E 8th St, Mount Carmel, Illinois, 62863, (38.415639082878, -87.760682454146, 0.0)),\n",
       " Location(Northaven Dr, Jeffersonville, Indiana, 47130, (38.313434357359, -85.726227811136, 0.0)),\n",
       " Location(Wrightwood, California, (34.36075, -117.63226, 0.0)),\n",
       " Location(May Ct, Taylors, South Carolina, 29687, (34.902552470515, -82.330789122772, 0.0)),\n",
       " Location(Division St, Parkersburg, West Virginia, 26101, (39.252453291884, -81.554126114469, 0.0)),\n",
       " Location(Washington Blvd, Centralia, Illinois, 62801, (38.528489991337, -89.146860013319, 0.0)),\n",
       " Location(Halstead St, Waterloo, Iowa, 50703, (42.504964198381, -92.325234102256, 0.0)),\n",
       " Location(Broadway St, Sheridan, Wyoming, 82801, (44.806577938405, -106.953337810176, 0.0)),\n",
       " Location(N Madison St, La Grange, Texas, 78945, (29.912306826124, -96.87834069414, 0.0)),\n",
       " Location(Michigan Ave, Madison, Wisconsin, 53704, (43.123909943118, -89.335013346545, 0.0)),\n",
       " Location(Southport Ct, Wellington, Florida, 33414, (26.664592788559, -80.245324888456, 0.0)),\n",
       " Location(Waveland Ave, Winchester, Kentucky, 40391, (38.001274798576, -84.192160581958, 0.0)),\n",
       " Location(Chicago Ave, Kahoka, Missouri, 63445, (40.434843176144, -91.775378057464, 0.0)),\n",
       " Location(Randolph Dr, Columbus, Mississippi, 39702, (33.527357997933, -88.345900205867, 0.0)),\n",
       " Location(Dearborn St, Berne, Indiana, 46711, (40.653047594626, -84.952600839165, 0.0)),\n",
       " Location(Irving, Pine Grove, Pennsylvania, (40.53287, -76.43885, 0.0)),\n",
       " Location(Kinzigweg, 06217, Merseburg, Sachsen-Anhalt, (51.350756910308, 11.980338953717, 0.0)),\n",
       " Location(South St, Waveland, Mississippi, 39576, (30.275109287193, -89.393798663655, 0.0)),\n",
       " Location(Wells St, Erie, Colorado, 80516, (40.050241101278, -105.049394932356, 0.0)),\n",
       " None,\n",
       " Location(State Street, (42.373795, -71.124621, 0.0)),\n",
       " Location(E State St, Athens, Ohio, 45701, (39.336689464039, -82.066531660738, 0.0)),\n",
       " Location(N Delaware St, Dearborn, Missouri, 64439, (39.522415001189, -94.770680011609, 0.0)),\n",
       " Location(Lake St, Franklin, Massachusetts, 02038, (42.062165002368, -71.454980006188, 0.0)),\n",
       " Location(Grand Ave, Stuart, Oklahoma, 74570, (34.90081984879, -96.100540028932, 0.0)),\n",
       " Location(Storegade 21, 6670, Holsted Stationsby, Vejen, Syddanmark, (55.479611176563, 8.909496058767, 0.0)),\n",
       " Location(Stäte, 99706, Sondershausen, Oberspier, Thüringen, (51.311735008523, 10.852759988444, 0.0)),\n",
       " Location(State St, Van Buren, Maine, 04785, (47.145005917372, -67.942927286028, 0.0)),\n",
       " Location(Wilton, Wiltshire, England, (51.079972903, -1.863768181, 0.0)),\n",
       " Location(Pine St, Waveland, Mississippi, 39576, (30.279961935375, -89.386473118743, 0.0)),\n",
       " Location(Streetzer Weg, 06861, Dessau-Roßlau, Sachsen-Anhalt, (51.901128360133, 12.233394236689, 0.0)),\n",
       " None,\n",
       " Location(Canal St, Washtucna, Washington, 99371, (46.755894837704, -118.312995651969, 0.0)),\n",
       " Location(Ellas, (39.0, 22.0, 0.0)),\n",
       " Location(Clinton St, Madison, Indiana, 47250, (38.765389935295, -85.426162645106, 0.0)),\n",
       " Location(Larrabee Rd, Webster, Wisconsin, 54893, (45.830452314437, -92.162457522506, 0.0)),\n",
       " Location(Lake St, Clinton, Minnesota, 56225, (45.459112121647, -96.435436965725, 0.0)),\n",
       " Location(Drivel, 48282, Emsdetten, Nordrhein-Westfalen, (52.172812813505, 7.549976953728, 0.0)),\n",
       " Location(Shore Acres Dr & E North Blvd, Leesburg, Florida, 34748, (28.813809980086, -81.865420007084, 0.0)),\n",
       " Location(Division Street, (51.73055, -3.13325, 0.0)),\n",
       " Location(Roosevelt Rd, Clinton, North Carolina, 28328, (34.970757439688, -78.326807140703, 0.0)),\n",
       " Location(Willow St, Sheffield, Pennsylvania, 16347, (41.709426585321, -79.039531567342, 0.0)),\n",
       " Location(N Lincoln Ave, Fullerton, California, 92831, (33.881865418551, -117.91110387674, 0.0)),\n",
       " Location(Green St, Randolph, Massachusetts, 02368, (42.179365016051, -71.0456535698, 0.0)),\n",
       " Location(Schiller St, Springfield, Ohio, 45505, (39.906329248953, -83.782898615447, 0.0)),\n",
       " Location(NE 29th St, Oklahoma City, Oklahoma, 73111, (35.49946436449, -97.477819995348, 0.0)),\n",
       " Location(Elm St, Clark, New Jersey, 07066, (40.628115015863, -74.287179994531, 0.0)),\n",
       " Location(14th Ave SE, Decatur, Alabama, 35601, (34.592430661832, -86.969995099305, 0.0)),\n",
       " Location(City Front Plaza, (41.890621, -87.635005, 0.0)),\n",
       " Location(Belmont Ave, Indianapolis, Indiana, 46217, (39.674864320669, -86.196530007849, 0.0)),\n",
       " Location(Armitage Avenue, Rastrick, Brighouse, West Yorkshire, England, HD6 3, (53.690974687174, -1.778491331556, 0.0)),\n",
       " Location(Wilton Avenue, Hereford, Herefordshire, England, HR2 7, (52.039087248688, -2.734777127697, 0.0)),\n",
       " Location(Wood St, Perry, Florida, 32348, (30.075434405805, -83.560748609568, 0.0)),\n",
       " Location(Willow Way, Halstead, Essex, England, CO9 1, (51.939464999335, 0.628670021253, 0.0)),\n",
       " None,\n",
       " Location(Wells St, Winter Haven, Florida, 33884, (28.007413060163, -81.662984321322, 0.0)),\n",
       " Location(Lakeview Ave, La Habra, California, 90631, (33.915252176379, -117.93973996208, 0.0)),\n",
       " Location(W Ave W & 14th St S, Schoolcraft, Michigan, 49087, (42.114099986904, -85.627310017882, 0.0)),\n",
       " Location(McCormick Place, (41.85527, -87.61685, 0.0)),\n",
       " Location(Clark St, Randolph, Maine, 04346, (44.237166373289, -69.766657890082, 0.0)),\n",
       " Location(State St, Erie, Colorado, 80516, (40.041239738597, -105.009391987035, 0.0)),\n",
       " Location(N Noble Ct, Canby, Oregon, 97013, (45.270665157469, -122.684779193317, 0.0)),\n",
       " Location(North Ave, Dayton, Ohio, 45406, (39.768800018248, -84.211150009283, 0.0)),\n",
       " Location(18th St, Hubbell, Michigan, 49934, (47.17753435346, -88.427032478183, 0.0)),\n",
       " Location(Des Hampden, Cape Town, Western Cape, (-33.92975, 18.67327, 0.0)),\n",
       " Location(Morgenstraße, 29410, Salzwedel, Sachsen-Anhalt, (52.851319987258, 11.173675023566, 0.0)),\n",
       " Location(Ellington Ct, Ashland, Kentucky, 41101, (38.484939990325, -82.669454991198, 0.0)),\n",
       " Location(Boulevard, Logan, Utah, 84321, (41.734744121092, -111.824391823942, 0.0)),\n",
       " Location(Addison Square, Dinnington, Sheffield, South Yorkshire, England, S25 2, (53.369914223932, -1.204538101946, 0.0)),\n",
       " Location(Wolcott Ave, Lawrence, Massachusetts, 01843, (42.693492289627, -71.173897741454, 0.0)),\n",
       " Location(Canal St, Tavernier, Florida, 33070, (25.023852909879, -80.49704985114, 0.0)),\n",
       " Location(BROADWAY, (22.31964, 114.17026, 0.0)),\n",
       " Location(Sheffield, South Yorkshire, England, (53.382525584, -1.468535662, 0.0)),\n",
       " Location(Cannon Dr, Garden Grove, California, 92840, (33.780934396008, -117.904844965785, 0.0)),\n",
       " None,\n",
       " Location(Roscoe's, (41.943446, -87.649597, 0.0)),\n",
       " Location(Avenue M & Avenue N, San Francisco, California, 94130, (37.820890018633, -122.364010038955, 0.0)),\n",
       " Location(Aberdeen St, Jackson, Mississippi, 39209, (32.298159832711, -90.223417866787, 0.0)),\n",
       " Location(55th St N, Birmingham, Alabama, 35212, (33.542879388446, -86.753469675664, 0.0)),\n",
       " Location(Eckhart Park, (41.8962, -87.6612, 0.0)),\n",
       " Location(N Avenue E, Valley Center, Kansas, 67147, (37.879190010894, -97.212519975012, 0.0)),\n",
       " Location(Lincoln, Nebraska, (40.81362, -96.7073, 0.0)),\n",
       " Location(Menomonee, Wisconsin, (43.1789, -88.11731, 0.0)),\n",
       " Location(18th Ave SE, Decatur, Alabama, 35601, (34.594344370868, -86.964737857123, 0.0)),\n",
       " Location(Jefferson St, Clarendon, Arkansas, 72029, (34.693673357068, -91.309950101554, 0.0)),\n",
       " Location(Milwaukee, Wisconsin, (43.04223, -87.9069, 0.0)),\n",
       " Location(Oak St, Hubbard Lake, Michigan, 49747, (44.819552001334, -83.553841942261, 0.0)),\n",
       " Location(Park Ave, Middletown, California, 95461, (38.754552728047, -122.621626882404, 0.0)),\n",
       " Location(Canal St, Jackson, Mississippi, 39203, (32.298114168633, -90.199405110719, 0.0)),\n",
       " Location(Portland Street, (53.20257, -1.21236, 0.0)),\n",
       " None,\n",
       " Location(Ave, (41.476734, -87.046332, 0.0)),\n",
       " Location(Wells St, Walton, New York, 13856, (42.175995019346, -75.129230010849, 0.0)),\n",
       " Location(Ave, (41.529774, -87.336425, 0.0)),\n",
       " None,\n",
       " None,\n",
       " None,\n",
       " Location(Racine, Wisconsin, (42.72564, -87.78955, 0.0)),\n",
       " Location(Milwaukee Ave, Los Angeles, California, 90042, (34.119930107551, -118.191897732469, 0.0)),\n",
       " Location(Lincoln Dr, Bay Saint Louis, Mississippi, 39520, (30.312355303181, -89.363108096819, 0.0)),\n",
       " Location(Garfield Ave N, Terry, Montana, 59349, (46.79524999894, -105.314584972949, 0.0)),\n",
       " None,\n",
       " Location(Eastwood Cir, Lincoln, Alabama, 35096, (33.629192220095, -86.127602068547, 0.0)),\n",
       " None,\n",
       " Location(Storegade & Storegade, 6670, Holsted Stationsby, Vejen, Syddanmark, (55.480579997171, 8.910259962506, 0.0)),\n",
       " Location(Wood Ave, Milwaukee, Wisconsin, 53214, (43.026664937238, -87.974684408524, 0.0)),\n",
       " Location(May Ave, Caroga Lake, New York, 12032, (43.137405013264, -74.482024961376, 0.0)),\n",
       " Location(18th St, Racine, Wisconsin, 53403, (42.709100441055, -87.789190099711, 0.0)),\n",
       " Location(E Plane St, Ashland, Pennsylvania, 17921, (40.749298377141, -76.341232295332, 0.0)),\n",
       " None,\n",
       " Location(W Ogden Ave, Chicago, Illinois, 60623, (41.854527168711, -87.715059302222, 0.0)),\n",
       " Location(Lincoln, Nebraska, (40.81362, -96.7073, 0.0)),\n",
       " Location(Park Road, Southport, Merseyside, England, PR9 9, (53.653503914964, -2.987608020219, 0.0)),\n",
       " Location(Carpenter Ln, Eight Mile, Alabama, 36613, (30.800458531431, -88.232915040991, 0.0)),\n",
       " Location(Blue Island, Illinois, (41.65533, -87.68006, 0.0)),\n",
       " Location(Westertor, 39326, Niedere Börde, Dahlenwarsleben, Sachsen-Anhalt, (52.194495620784, 11.532668853935, 0.0)),\n",
       " Location(North Ave, Wisconsin Rapids, Wisconsin, 54495, (44.421995398491, -89.817582340932, 0.0)),\n",
       " Location(Júnior, Campeche, (18.19387, -91.37519, 0.0)),\n",
       " Location(Washington St, New Berlin, Illinois, 62670, (39.753270243292, -89.901931836675, 0.0)),\n",
       " Location(Clendon Cir, Leland, North Carolina, 28451, (34.176752842759, -78.041438276622, 0.0)),\n",
       " None,\n",
       " Location(Gordon Rd, Summerton, South Carolina, 29148, (33.513826763506, -80.428301388649, 0.0)),\n",
       " Location(Fort Dearborn, (34.369308, -84.040159, 0.0)),\n",
       " Location(Cortlandt, New York, (41.22952, -73.90851, 0.0)),\n",
       " Location(Montrose Harbor, (41.96308, -87.63885, 0.0)),\n",
       " Location(Harrison St, Wellsford, 0900, (-36.295822368326, 174.523764855552, 0.0)),\n",
       " Location(Sheridan, Ohio, (38.48653, -82.56818, 0.0)),\n",
       " Location(Milwaukee St, Belleville, Wisconsin, 53508, (42.829070429079, -89.504864363481, 0.0)),\n",
       " Location(Clifton Ct, Lawrence, Kansas, 66046, (38.947745480536, -95.254176315232, 0.0)),\n",
       " None,\n",
       " Location(S Blackstone Ave, Chicago, Illinois, 60637, (41.791109738518, -87.590255462853, 0.0)),\n",
       " Location(Broadway, Wilson, Texas, 79381, (33.32698786128, -101.914280038977, 0.0)),\n",
       " Location(Greenview Pl, Fullerton, California, 92835, (33.902310623454, -117.873017523265, 0.0)),\n",
       " Location(S Damen Ave, Chicago, Illinois, 60620, (41.746884364322, -87.673057401724, 0.0)),\n",
       " Location(Ashland Ave, Leesburg, Florida, 34748, (28.806479984804, -81.851009964874, 0.0)),\n",
       " Location(Schiller Ave, Syracuse, New York, 13203, (43.071420010213, -76.140444980068, 0.0)),\n",
       " Location(Grand Avenue, Jackson, Mississippi, (32.30397, -90.20615, 0.0)),\n",
       " Location(LA-18, Vacherie, Louisiana, 70090, (30.008331850743, -90.727674532793, 0.0)),\n",
       " Location(N Lincoln St, Belle Plaine, Kansas, 67013, (37.394160014142, -97.278490037321, 0.0)),\n",
       " Location(Damon Ave, Melrose, Massachusetts, 02176, (42.470855445497, -71.056824854503, 0.0)),\n",
       " None,\n",
       " Location(Parkway Ln, Saint Louis, Missouri, 63123, (38.57776410415, -90.310368589355, 0.0)),\n",
       " Location(Sheridan Rd, Montrose, Michigan, 48457, (43.153881213482, -83.929883711664, 0.0)),\n",
       " None,\n",
       " Location(Franklin St, Quincy, Massachusetts, 02169, (42.237536495094, -71.00248063893, 0.0)),\n",
       " Location(Lake Shore Dr, Belmont, North Carolina, 28012, (35.18573701251, -81.051069304316, 0.0)),\n",
       " Location(Wrightwood, California, (34.36075, -117.63226, 0.0)),\n",
       " Location(North Avenue, Prem Nagar, Patiala, Punjab, (30.36305, 76.36988, 0.0)),\n",
       " Location(Ashland Ave, Riverdale, Illinois, 60827, (41.65711501565, -87.660683251965, 0.0)),\n",
       " Location(Damon Rd, Madison, Wisconsin, 53713, (43.035503596516, -89.407248051964, 0.0)),\n",
       " Location(Avenue A & Division St, Rosamond, California, 93560, (34.820709985132, -118.130790022263, 0.0)),\n",
       " Location(Green View Avenue, (23.07332, 72.52073, 0.0)),\n",
       " Location(W Ave W & 18th St S, Schoolcraft, Michigan, 49087, (42.114029998013, -85.588380017126, 0.0)),\n",
       " Location(Loomis St, Jackson, Michigan, 49202, (42.258560134883, -84.392781855945, 0.0)),\n",
       " Location(N Ave, Larrabee, Iowa, 51029, (42.895559976511, -95.603319270132, 0.0)),\n",
       " Location(State St, Marne, Michigan, 49435, (43.034451366156, -85.826740067108, 0.0)),\n",
       " Location(Lake Shore Dr, Wellington, Florida, 33414, (26.652219159145, -80.213412075326, 0.0)),\n",
       " Location(Wellington, (-41.284893524, 174.776100466, 0.0)),\n",
       " Location(Grace St, Ashland, Kentucky, 41102, (38.451174533223, -82.661385218783, 0.0)),\n",
       " Location(North Ave, Campbell, Missouri, 63933, (36.496319988042, -90.081570085477, 0.0)),\n",
       " Location(Adler Planetarium, (41.86633, -87.60734, 0.0)),\n",
       " Location(Polk St, Hermitage, Missouri, 65668, (37.940618617245, -93.317004877901, 0.0)),\n",
       " Location(13th St, Racine, Wisconsin, 53406, (42.71696199739, -87.84002018142, 0.0)),\n",
       " Location(Ogden Rd, West Salem, Ohio, 44287, (40.867949891257, -82.083992954083, 0.0)),\n",
       " Location(15th St, Racine, Wisconsin, 53403, (42.714030012821, -87.785329861701, 0.0)),\n",
       " None,\n",
       " Location(18th St, Carlyle, Illinois, 62231, (38.613119682104, -89.380600028383, 0.0)),\n",
       " Location(Elm St, Orleans, Michigan, 48865, (43.087159988045, -85.073314823439, 0.0)),\n",
       " Location(Stäte, 99706, Sondershausen, Oberspier, Thüringen, (51.311735008523, 10.852759988444, 0.0)),\n",
       " Location(Ravenswood Ct, Bailey, Colorado, 80421, (39.437092119141, -105.478755861137, 0.0)),\n",
       " Location(Western Avenue, Buckshaw Village, Chorley, Lancashire, England, PR7 7, (53.685460422394, -2.669131718671, 0.0)),\n",
       " Location(W Berteau Ave, Chicago, Illinois, 60641, (41.957250198068, -87.731765334162, 0.0)),\n",
       " Location(21st St, Ashland, Kentucky, 41101, (38.475791041392, -82.633927502691, 0.0)),\n",
       " Location(Congress St, Burlington, Wisconsin, 53105, (42.682457776925, -88.270946442176, 0.0)),\n",
       " Location(Grace Ave, Ogden, Utah, 84404, (41.253097528679, -111.981388220266, 0.0)),\n",
       " Location(Washington St, Minneapolis, Kansas, 67467, (39.14071029549, -97.550337724006, 0.0)),\n",
       " None,\n",
       " Location(Milwaukee, Wisconsin, (43.04223, -87.9069, 0.0)),\n",
       " Location(Clark St, Montrose, Michigan, 48457, (43.179360397466, -83.898564837556, 0.0)),\n",
       " Location(Ashland Ave, Cedar Falls, Iowa, 50613, (42.517417649642, -92.42482042397, 0.0)),\n",
       " Location(Plaça de la Palmera, 17600, Figueres, Girona, Catalunya, (42.267352278781, 2.964148897485, 0.0)),\n",
       " Location(N Shore Dr & Monroe St, Wauconda, Illinois, 60084, (42.273780020081, -88.128319973186, 0.0)),\n",
       " Location(Claremont, California, (34.09641, -117.7164, 0.0)),\n",
       " Location(19th St, Harvey, North Dakota, 58341, (47.68783000423, -99.740599999083, 0.0)),\n",
       " Location(Wright Ave, Racine, Wisconsin, 53406, (42.715063876079, -87.841909698337, 0.0)),\n",
       " None,\n",
       " Location(Grand Ave, Winnsboro, Texas, 75494, (32.950076405522, -95.292367671538, 0.0)),\n",
       " Location(Storegade & Storegade, 6670, Holsted Stationsby, Vejen, Syddanmark, (55.480579997171, 8.910259962506, 0.0)),\n",
       " Location(Rhoden, Osterwieck, Sachsen-Anhalt, (52.01476, 10.65661, 0.0)),\n",
       " Location(Leland Dr, Springfield, Ohio, 45505, (39.912090688948, -83.772658225421, 0.0)),\n",
       " Location(SW 31st St, Lincoln, Nebraska, 68522, (40.811713085004, -96.764717826801, 0.0)),\n",
       " Location(NW 28th St, Lincoln, Nebraska, 68528, (40.814828739976, -96.760669973102, 0.0)),\n",
       " Location(Damsendorf, 39356, Flechtingen, Sachsen-Anhalt, (52.35004498981, 11.167169886047, 0.0)),\n",
       " Location(Stäte, 99706, Sondershausen, Oberspier, Thüringen, (51.311735008523, 10.852759988444, 0.0)),\n",
       " Location(Ash Rd, Wrightwood, California, 92397, (34.348818973135, -117.623341924395, 0.0)),\n",
       " Location(N Lincoln Ave, Addison, Illinois, 60101, (41.938384802339, -87.995360022409, 0.0)),\n",
       " Location(Avenue P Rd & St Francis Ave, Adelanto, California, 92301, (34.596240019703, -117.664780010313, 0.0)),\n",
       " Location(26th St, Columbus, Indiana, 47203, (39.224253919413, -85.887600799287, 0.0)),\n",
       " Location(SE 47th St, Snoqualmie, Washington, 98065, (47.559595592875, -121.829665311521, 0.0)),\n",
       " None,\n",
       " Location(Clark Rd, Panama City, Florida, 32409, (30.277510585977, -85.625780569519, 0.0)),\n",
       " Location(W Avenue M & 21st St W, Palmdale, California, 93551, (34.645760010297, -118.167750024315, 0.0)),\n",
       " Location(Wallace Ave/W, (40.0188, -75.70213, 0.0)),\n",
       " Location(Normal Dr, Springfield, Illinois, 62707, (39.836684865357, -89.573918031207, 0.0)),\n",
       " Location(40th St, Highland, Indiana, 46322, (41.546573503491, -87.463364560081, 0.0)),\n",
       " Location(47th St, Fall River, Kansas, 67047, (37.67475780363, -96.077727145204, 0.0)),\n",
       " Location(31st St, Columbus, Indiana, 47203, (39.229452312486, -85.879715424961, 0.0)),\n",
       " None,\n",
       " Location(Cottage Grove, Minnesota, (44.83366, -92.95297, 0.0)),\n",
       " Location(Oakwood Dr, Cottage Grove, Wisconsin, 53527, (43.051511685986, -89.215460023477, 0.0)),\n",
       " Location(Westernstraße, 39397, Gröningen, Sachsen-Anhalt, (51.934600017003, 11.194935730841, 0.0)),\n",
       " Location(Westernstraße, 39397, Gröningen, Sachsen-Anhalt, (51.934600017003, 11.194935730841, 0.0)),\n",
       " Location(13th St, Ashland, Kentucky, 41102, (38.453867602273, -82.672613869756, 0.0)),\n",
       " Location(Storegade & Storegade, 6670, Holsted Stationsby, Vejen, Syddanmark, (55.480579997171, 8.910259962506, 0.0)),\n",
       " Location(Cottage Grove, Minnesota, (44.83366, -92.95297, 0.0)),\n",
       " Location(Dr Martin Luther King Jr, Dayton, Ohio, 45402, (39.759195398771, -84.19384490183, 0.0)),\n",
       " Location(E 35th St, Griffith, Indiana, 46319, (41.55523500012, -87.414639977466, 0.0)),\n",
       " Location(Cottage Grove, Minnesota, (44.83366, -92.95297, 0.0)),\n",
       " Location(Coulters, Pennsylvania, (40.29725, -79.8023, 0.0)),\n",
       " Location(St Lawrence, (36.04861, 14.19778, 0.0)),\n",
       " Location(Grace St, Las Vegas, Nevada, 89121, (36.113870746544, -115.077362842824, 0.0)),\n",
       " Location(Grand Ave, Anna, Illinois, 62906, (37.458105056413, -89.237724065023, 0.0)),\n",
       " Location(City Front Plaza, (41.890621, -87.635005, 0.0)),\n",
       " Location(W Lawrence Ave, Chicago, Illinois, 60625, (41.96849943285, -87.703613806412, 0.0)),\n",
       " None,\n",
       " Location(19th St, Racine, Wisconsin, 53403, (42.707919982592, -87.812240906845, 0.0)),\n",
       " Location(E 29th St, Austin, Texas, 78722, (30.286322723135, -97.721857482622, 0.0)),\n",
       " None,\n",
       " None,\n",
       " Location(Dr Martin Luther King Jr, Dayton, Ohio, 45402, (39.759195398771, -84.19384490183, 0.0)),\n",
       " Location(E Broadway, Havana, Arkansas, 72842, (35.108738422934, -93.525718465982, 0.0)),\n",
       " Location(Dearborn St, Buffalo, New York, 14207, (42.937027538675, -78.902425997022, 0.0)),\n",
       " Location(Harrison St, Wellsford, 0900, (-36.295822368326, 174.523764855552, 0.0)),\n",
       " Location(Erie St, Port Huron, Michigan, 48060, (42.981121437348, -82.427440146638, 0.0)),\n",
       " Location(W Ave W & 16th St S, Schoolcraft, Michigan, 49087, (42.114060005226, -85.607919993628, 0.0)),\n",
       " Location(Wallace Street, (42.100708, -87.779669, 0.0)),\n",
       " None,\n",
       " Location(31st St, Princeton, Minnesota, 55371, (45.590822370277, -93.653924184252, 0.0)),\n",
       " Location(Adams St, Wabash, Indiana, 46992, (40.785529769001, -85.833191962877, 0.0)),\n",
       " Location(Superior Street, (41.89474, -87.69545, 0.0)),\n",
       " Location(Clinton St, Auburndale, Florida, 33823, (28.064784940034, -81.782360040481, 0.0)),\n",
       " Location(Randolph's, Randolph, Tennessee, (35.51647, -89.8887, 0.0)),\n",
       " Location(Hubbards, Arkansas, (35.45842, -90.2626, 0.0)),\n",
       " Location(Damon, Foster, Michigan, (44.47752, -84.22834, 0.0)),\n",
       " Location(Harrison St, Ashland, Kentucky, 41101, (38.475559305461, -82.659998408494, 0.0)),\n",
       " Location(Adams St, Ottawa, Illinois, 61350, (41.436499788162, -88.773465618365, 0.0)),\n",
       " Location(Kimball Avenue, (44.562276, -70.547709, 0.0)),\n",
       " Location(Western Ave, Butner, North Carolina, 27509, (36.129571553057, -78.758161714482, 0.0)),\n",
       " Location(E Drake Ave, Addison, Illinois, 60101, (41.922509189186, -87.979351224435, 0.0)),\n",
       " Location(Fester, (20.6418, -105.22103, 0.0)),\n",
       " Location(N Monticello Ave, Chicago, Illinois, 60618, (41.954545027739, -87.719049899327, 0.0)),\n",
       " Location(Schrieber St, Las Vegas, Nevada, 89110, (36.170704989308, -115.014574986424, 0.0)),\n",
       " Location(Federal, Entre Ríos, (-30.95553, -58.77954, 0.0)),\n",
       " None,\n",
       " Location(Leland Ln, New Castle, Delaware, 19720, (39.674211999306, -75.594743282392, 0.0)),\n",
       " Location(Campbell Ave, La Habra, California, 90631, (33.9260199824, -117.974641106609, 0.0)),\n",
       " Location(Glenwood Rd, Moree, New South Wales, 2400, (-29.256536772996, 149.958657802, 0.0)),\n",
       " Location(Humboldt Cir, Minneapolis, Minnesota, 55419, (44.902760011564, -93.298399976128, 0.0)),\n",
       " Location(Clark St, Leesburg, Florida, 34788, (28.848167363064, -81.805770732136, 0.0)),\n",
       " Location(Albany Ave & Bloomingdale Ave, Cranford, New Jersey, 07016, (40.664959997248, -74.290569971451, 0.0)),\n",
       " Location(N Montrose Ave, Fort Thomas, Kentucky, 41075, (39.083494232743, -84.452141273447, 0.0)),\n",
       " Location(Westertor, 39326, Niedere Börde, Dahlenwarsleben, Sachsen-Anhalt, (52.194495620784, 11.532668853935, 0.0)),\n",
       " Location(University Ave/S, (44.52531, -87.93629, 0.0)),\n",
       " Location(Pershing, Indiana, (39.81328, -85.1355, 0.0)),\n",
       " Location(Peterson Rd, Sturgeon Bay, Wisconsin, 54235, (44.869589895333, -87.361654399079, 0.0)),\n",
       " Location(Harbor, Oregon, (42.05409, -124.26444, 0.0)),\n",
       " Location(Peterson, (-44.55, 170.81667, 0.0)),\n",
       " Location(Avenue, (42.272315, -84.959215, 0.0)),\n",
       " Location(Broadway & Thorndale, (41.98945, -87.65957, 0.0)),\n",
       " Location(Wentworth, (52.15598, 1.60326, 0.0)),\n",
       " Location(Berwyn Cir, Las Vegas, Nevada, 89122, (36.093710000205, -115.051175027644, 0.0)),\n",
       " Location(Burnham Harbor, (41.86049, -87.61276, 0.0)),\n",
       " None,\n",
       " Location(Chestnut Street, Swale, Kent, England, (51.341600337, 0.68565352, 0.0)),\n",
       " Location(Feldstraße & Südstraße, 38820, Halberstadt, Sachsen-Anhalt, (51.887170012056, 11.047490039397, 0.0)),\n",
       " Location(Armitage Close, Holbeach, Spalding, Lincolnshire, England, PE12 7, (52.805200010913, 0.029449265224, 0.0)),\n",
       " Location(Shedd Aquarium, (41.86762, -87.6138, 0.0)),\n",
       " Location(W 55th St, Hays, Kansas, 67601, (38.914479985328, -99.326729479266, 0.0)),\n",
       " Location(Bryn Mawr Ave, Las Vegas, Nevada, 89102, (36.149566495529, -115.172372409339, 0.0)),\n",
       " Location(Winchester Dr, Elkton, Maryland, 21921, (39.657753418202, -75.805061410489, 0.0)),\n",
       " Location(W Balmoral Ave, Chicago, Illinois, 60640, (41.979899439521, -87.664809772375, 0.0)),\n",
       " Location(Division Street, (51.73055, -3.13325, 0.0)),\n",
       " Location(North Branch, Minnesota, (45.51144, -92.9799, 0.0)),\n",
       " Location(Elm St, Warren, Indiana, 46792, (40.649586924995, -85.333899616915, 0.0)),\n",
       " Location(N Sawyer Ave, Chicago, Illinois, 60618, (41.951255385591, -87.709146853502, 0.0)),\n",
       " None,\n",
       " Location(21st St, Hubbell, Michigan, 49934, (47.179161399844, -88.426774505022, 0.0)),\n",
       " Location(Westertor, 39326, Niedere Börde, Dahlenwarsleben, Sachsen-Anhalt, (52.194495620784, 11.532668853935, 0.0)),\n",
       " Location(Lawrence Ave, Ypsilanti, Michigan, 48197, (42.166002918476, -83.651092143476, 0.0)),\n",
       " None,\n",
       " None,\n",
       " None,\n",
       " Location(Ellas, (39.0, 22.0, 0.0)),\n",
       " Location(Lake Street, San Francisco, California, (37.78512, -122.46352, 0.0)),\n",
       " None,\n",
       " Location(McClure Ct, Erie, Colorado, 80516, (40.033946362174, -105.067845046317, 0.0)),\n",
       " Location(Lawrence Dr, Newark, Delaware, 19702, (39.665352669383, -75.669339275224, 0.0)),\n",
       " Location(Addison, Illinois, (41.93405, -87.99345, 0.0)),\n",
       " Location(Washington St, Walker, Iowa, 52352, (42.28612346741, -91.781964969379, 0.0)),\n",
       " Location(Greenlaw Ave, Franklinton, Louisiana, 70438, (30.857833614438, -90.132288348601, 0.0)),\n",
       " Location(Belmont, (50.85628, 4.35427, 0.0)),\n",
       " Location(67th St S, Cottage Grove, Minnesota, 55016, (44.853133641681, -92.949981560311, 0.0)),\n",
       " Location(Elmdale Pl, Las Vegas, Nevada, 89103, (36.109382462205, -115.240924333779, 0.0)),\n",
       " Location(Avenue, (37.74292, -122.42161, 0.0)),\n",
       " Location(Cedar St, Liebenthal, Kansas, 67553, (38.652325004177, -99.318105014655, 0.0)),\n",
       " Location(HF Financial, (35.154077, -80.837868, 0.0)),\n",
       " Location(Harper Weg, 39619, Arendsee (Altmark), Sachsen-Anhalt, (52.892225087376, 11.505376656732, 0.0)),\n",
       " Location(Stony Island, Chicago, Illinois, (41.72253, -87.57231, 0.0)),\n",
       " None,\n",
       " Location(L St Cir, Omaha, Nebraska, 68135, (41.211929994734, -96.207345005221, 0.0)),\n",
       " Location(Park Ave, Middletown, California, 95461, (38.754552728047, -122.621626882404, 0.0)),\n",
       " None,\n",
       " Location(Ave D, Troy, Texas, 76579, (31.196119990757, -97.349570001173, 0.0)),\n",
       " Location(W Avenue M & 23rd St W, Palmdale, California, 93551, (34.645769984762, -118.172129987819, 0.0)),\n",
       " None,\n",
       " None,\n",
       " Location(Clark Street, (34.074163, -118.323869, 0.0)),\n",
       " Location(E Broadway, Granville, Ohio, 43023, (40.067731643087, -82.515967553587, 0.0)),\n",
       " Location(Sheridan St, Los Altos, California, 94022, (37.37223527529, -122.116371706257, 0.0)),\n",
       " Location(Kosciuszko Park, (41.03749, -73.53975, 0.0)),\n",
       " Location(Western Ave, Monroe, Michigan, 48161, (41.918267579486, -83.426964059899, 0.0)),\n",
       " Location(Connecticut, (41.66704, -72.66648, 0.0)),\n",
       " None,\n",
       " None,\n",
       " Location(Stony Island, Chicago, Illinois, (41.72253, -87.57231, 0.0)),\n",
       " Location(Balmoral Dr, Saint Louis, Missouri, 63137, (38.755244600317, -90.201321014515, 0.0)),\n",
       " Location(Eastwood Dr, Rockwall, Texas, 75032, (32.899602983702, -96.440782236482, 0.0)),\n",
       " None,\n",
       " None,\n",
       " Location(Lincoln St, Winona, Minnesota, 55987, (44.050650051859, -91.656008309347, 0.0)),\n",
       " Location(Ellas, (39.0, 22.0, 0.0)),\n",
       " Location(63rd St S, Cottage Grove, Minnesota, 55016, (44.858735354326, -92.910926574932, 0.0)),\n",
       " Location(Ogden Ave, Omaha, Nebraska, 68104, (41.308669336882, -95.982494210984, 0.0)),\n",
       " Location(N Keeler Ave, Chicago, Illinois, 60641, (41.949970083563, -87.732369723685, 0.0)),\n",
       " Location(Jackson St, Des Plaines, Illinois, 60018, (42.014516018324, -87.934670014276, 0.0)),\n",
       " Location(The Ridge, (37.834978, -122.248628, 0.0)),\n",
       " Location(Museum of Science and Industry, (34.01612, -118.28563, 0.0)),\n",
       " Location(S Cornell Ave, Chicago, Illinois, 60637, (41.788956462631, -87.585057703673, 0.0)),\n",
       " Location(Park Road, Oakley, Bedford, Bedfordshire, England, MK43 7, (52.162629986258, -0.534926408475, 0.0)),\n",
       " Location(Western Avenue, Sainik Farm, New Delhi, South, Delhi, (28.50251, 77.21407, 0.0)),\n",
       " Location(Addison, Illinois, (41.93405, -87.99345, 0.0)),\n",
       " Location(Northaven Ave & August St, San Diego, California, 92110, (32.782340013786, -117.191080021295, 0.0)),\n",
       " Location(Central Dr, Eldridge, Iowa, 52748, (41.655607327053, -90.586157318196, 0.0)),\n",
       " Location(63rd Street Beach, (41.78064, -87.57409, 0.0)),\n",
       " Location(McCain Park, (41.18361, -93.72788, 0.0)),\n",
       " Location(Drake Ave, Fullerton, California, 92832, (33.875965253271, -117.935375185958, 0.0)),\n",
       " Location(E 71st St, Chicago, Illinois, 60649, (41.766191353258, -87.579140064705, 0.0)),\n",
       " Location(Lake St, California, Missouri, 65018, (38.620292172115, -92.568069709337, 0.0)),\n",
       " Location(Halsted St/N, (41.5793, -87.62863, 0.0)),\n",
       " Location(Dorchester, Dorset, England, (50.715311613, -2.43813234, 0.0)),\n",
       " Location(E Avenue F & 26th St E, Lancaster, California, 93535, (34.748170019476, -118.083699987309, 0.0)),\n",
       " Location(Ave, (41.476734, -87.046332, 0.0)),\n",
       " Location(E 74th St, Chicago, Illinois, 60649, (41.760734508166, -87.571590571016, 0.0)),\n",
       " Location(Richmond, California, (37.93784, -122.34293, 0.0)),\n",
       " Location(Avenue M & Avenue N, West Palm Beach, Florida, 33404, (26.771374930658, -80.07124226582, 0.0)),\n",
       " Location(35th St, Beaver Falls, Pennsylvania, 15010, (40.776000805037, -80.326327931168, 0.0)),\n",
       " Location(Roosevelt Rd, Anaheim, California, 92808, (33.865860824564, -117.746015561451, 0.0)),\n",
       " Location(Clark St, Columbia, Alabama, 36319, (31.29651031851, -85.107967111433, 0.0)),\n",
       " None,\n",
       " Location(KeyStore, (56.7147, -2.46534, 0.0)),\n",
       " Location(S Kedzie Ave, Chicago, Illinois, 60655, (41.670330007679, -87.700034321236, 0.0)),\n",
       " None,\n",
       " Location(Princeton St, Chino, California, 91710, (33.989148564052, -117.669249978242, 0.0)),\n",
       " Location(Kenworth, (53.299249, -110.035046, 0.0)),\n",
       " Location(W 51st Pl, Gary, Indiana, 46408, (41.525689496004, -87.376975023834, 0.0)),\n",
       " Location(Dorchester, Dorset, England, (50.715311613, -2.43813234, 0.0)),\n",
       " Location(Warren Way, Burlington, New Jersey, 08016, (40.076188333899, -74.82096386627, 0.0)),\n",
       " None,\n",
       " None,\n",
       " None,\n",
       " Location(Fletcher St, Pittsburg, California, 94565, (38.03168499285, -121.980949981129, 0.0)),\n",
       " Location(Ave, (41.476734, -87.046332, 0.0)),\n",
       " None,\n",
       " Location(Park Blvd W & E 35th St, Griffith, Indiana, 46319, (41.555230012888, -87.415729960155, 0.0)),\n",
       " Location(Wood St, South Park, Pennsylvania, 15129, (40.289002663892, -80.01201091813, 0.0)),\n",
       " Location(Stony Island, Chicago, Illinois, (41.72253, -87.57231, 0.0)),\n",
       " Location(Eddy Ln, Little Rock, Arkansas, 72209, (34.666316083906, -92.356819969301, 0.0)),\n",
       " Location(SW 42nd St, Lake Butler, Florida, 32054, (29.938734049367, -82.436347109169, 0.0)),\n",
       " Location(County Rd 47, Brant, Ontario, N0J, (43.179329477899, -80.436912280115, 0.0)),\n",
       " None,\n",
       " Location(Western Avenue, (28.52356, 77.23343, 0.0)),\n",
       " Location(35th St, Parkersburg, West Virginia, 26104, (39.289196722709, -81.536394746347, 0.0)),\n",
       " Location(E 67th St, Chicago, Illinois, 60649, (41.773409590259, -87.578944509065, 0.0)),\n",
       " None,\n",
       " Location(W Princeton Ave, Enid, Oklahoma, 73701, (36.42362914366, -97.883885073819, 0.0)),\n",
       " Location(US-71, Jeffers, Minnesota, 56145, (44.057580620378, -95.120101515456, 0.0)),\n",
       " Location(26th St, Watervliet, New York, 12189, (42.736211004305, -73.702156046718, 0.0)),\n",
       " Location(Ashland, Kentucky, (38.48087, -82.64393, 0.0)),\n",
       " Location(Franklin Blvd, Sacramento, California, 95824, (38.507274569913, -121.465388224799, 0.0)),\n",
       " Location(43rd Ave, Shields, North Dakota, 58569, (46.244610749355, -101.271345041905, 0.0)),\n",
       " Location(Westernstraße, 39397, Gröningen, Sachsen-Anhalt, (51.934600017003, 11.194935730841, 0.0)),\n",
       " Location(Woodlawn Ave, Newport, Vermont, 05855, (45.002568169265, -72.203446427103, 0.0)),\n",
       " Location(Stony Island, Chicago, Illinois, (41.72253, -87.57231, 0.0)),\n",
       " Location(Storegade & Storegade, 6670, Holsted Stationsby, Vejen, Syddanmark, (55.480579997171, 8.910259962506, 0.0)),\n",
       " Location(71st St S, Cottage Grove, Minnesota, 55016, (44.847336529147, -92.942256530488, 0.0)),\n",
       " Location(Calumet, (48.191285, -93.803012, 0.0)),\n",
       " Location(Harrisons, Town of Waterford, Connecticut, (41.38555, -72.10262, 0.0)),\n",
       " Location(I-69 E, Perry, Michigan, 48872, (42.823035009419, -84.266698330637, 0.0)),\n",
       " Location(Storegade & Storegade, 6670, Holsted Stationsby, Vejen, Syddanmark, (55.480579997171, 8.910259962506, 0.0)),\n",
       " Location(Saginaw, Michigan, (43.4194, -83.94652, 0.0)),\n",
       " Location(Rainbow Beach, Queensland, (-25.90224, 153.09194, 0.0)),\n",
       " None,\n",
       " Location(Storegade 51, 6670, Holsted Stationsby, Vejen, Syddanmark, (55.483169599172, 8.911746731096, 0.0)),\n",
       " Location(Storegade & Storegade, 6670, Holsted Stationsby, Vejen, Syddanmark, (55.480579997171, 8.910259962506, 0.0)),\n",
       " Location(23rd St, Manhattan Beach, California, 90266, (33.893137884328, -118.411858440363, 0.0)),\n",
       " None,\n",
       " Location(Franklin St, Monroe, Louisiana, 71203, (32.524345013091, -92.079810016826, 0.0)),\n",
       " Location(Marienstraße, 29410, Salzwedel, Sachsen-Anhalt, (52.849123611757, 11.167561984172, 0.0)),\n",
       " Location(N Concord St, Minneapolis, Kansas, 67467, (39.127310117307, -97.708294281247, 0.0)),\n",
       " Location(Green St, Westminster, South Carolina, 29693, (34.662021726959, -83.093339385478, 0.0)),\n",
       " Location(ND-31, Shields, North Dakota, 58569, (46.133519180153, -101.333502155356, 0.0)),\n",
       " Location(Wood St, Paullina, Iowa, 51046, (42.982399986583, -95.680694983192, 0.0)),\n",
       " Location(Buckingham Fountain, (41.87559, -87.61894, 0.0)),\n",
       " Location(Canal Rd, Perry, Florida, 32347, (30.084317787023, -83.874150660597, 0.0)),\n",
       " Location(S Cornell Ave, Chicago, Illinois, 60637, (41.788956462631, -87.585057703673, 0.0)),\n",
       " Location(Madison St, Aberdeen, Mississippi, 39730, (33.822000300628, -88.545124982757, 0.0)),\n",
       " Location(Luis Munoz Marin, Hato Barrio, San Lorenzo, (18.1919, -65.97183, 0.0)),\n",
       " Location(State St, Wabash, Indiana, 46992, (40.808449235927, -85.812334714164, 0.0)),\n",
       " Location(E Avenue J & Byron St, Lancaster, California, 93535, (34.690010004998, -118.090865005781, 0.0)),\n",
       " Location(Avenue Road & Avenue Road, Freshwater, Isle of Wight, England, PO40 9, (50.684229987992, -1.529670004514, 0.0)),\n",
       " Location(California Ave, Montrose, Missouri, 64770, (38.259615456673, -93.985910435538, 0.0)),\n",
       " Location(Roosevelt, New York, (40.67855, -73.58896, 0.0)),\n",
       " Location(Museum, Palayam, Thiruvananthapuram, Kerala, (8.50997, 76.95516, 0.0)),\n",
       " Location(Roosevelt Rd, Westport, Connecticut, 06880, (41.108295012316, -73.355030009223, 0.0)),\n",
       " Location(Eddy Ln, Little Rock, Arkansas, 72209, (34.666316083906, -92.356819969301, 0.0)),\n",
       " Location(9th St, Grayson, Louisiana, 71435, (32.034935011545, -92.138359999349, 0.0)),\n",
       " Location(Well St, Ubly, Michigan, 48475, (43.702640671766, -82.940628349544, 0.0)),\n",
       " Location(Green St, Westminster, South Carolina, 29693, (34.662021726959, -83.093339385478, 0.0)),\n",
       " Location(Ohio St, Medina, New York, 14103, (43.221939302298, -78.397031992147, 0.0)),\n",
       " Location(Halstead St, Waterloo, Iowa, 50703, (42.504964198381, -92.325234102256, 0.0)),\n",
       " Location(Elm St, Orleans, Michigan, 48865, (43.087159988045, -85.073314823439, 0.0)),\n",
       " Location(Ravenswood Ct, Montrose, Melbourne, Victoria, 3765, (-37.806213675303, 145.349073443124, 0.0)),\n",
       " Location(Streeter Ave, Riverside, California, 92504, (33.959585953131, -117.418650033613, 0.0)),\n",
       " None,\n",
       " Location(Aberdeen St, Rochester, New York, 14619, (43.139359679184, -77.640704489536, 0.0)),\n",
       " Location(Canal St, Tavernier, Florida, 33070, (25.023852909879, -80.49704985114, 0.0)),\n",
       " Location(N Taylor St, Mitchell, South Dakota, 57301, (43.711089962158, -98.004494993407, 0.0)),\n",
       " Location(Clinton St, Auburndale, Florida, 33823, (28.064784940034, -81.782360040481, 0.0)),\n",
       " Location(N Ave, Larrabee, Iowa, 51029, (42.895559976511, -95.603319270132, 0.0)),\n",
       " Location(Washington St, New Berlin, Illinois, 62670, (39.753270243292, -89.901931836675, 0.0)),\n",
       " Location(16th St, Pittsburgh, Pennsylvania, 15215, (40.495569334406, -79.925388686093, 0.0)),\n",
       " None,\n",
       " Location(Storegade & Storegade, 6670, Holsted Stationsby, Vejen, Syddanmark, (55.480579997171, 8.910259962506, 0.0)),\n",
       " None,\n",
       " Location(Church St, Benson, Illinois, 61516, (40.851961105642, -89.121860683705, 0.0)),\n",
       " Location(Central Ave, Madison, Indiana, 47250, (38.734775334412, -85.381397865663, 0.0)),\n",
       " Location(Harrison St, Oak Park, Illinois, 60304, (41.872539563123, -87.789105478124, 0.0)),\n",
       " Location(N Washington St, Chicago, Illinois, 60631, (41.981135006985, -87.826749993408, 0.0)),\n",
       " Location(Laramie Ave & Kinzie St, Chatsworth, California, 91311, (34.248109992709, -118.573969993076, 0.0)),\n",
       " Location(Pershing, Indiana, (39.81328, -85.1355, 0.0)),\n",
       " Location(East Ave, Rifle, Colorado, 81650, (39.533599773531, -107.782051928254, 0.0)),\n",
       " Location(Ashland, Kentucky, (38.48087, -82.64393, 0.0)),\n",
       " Location(Austin Dr, Middletown, California, 95461, (38.794037945694, -122.700272703631, 0.0)),\n",
       " Location(Forest Ave, Lake, Michigan, 48632, (43.961895900962, -84.941362225317, 0.0)),\n",
       " Location(Cicero, Illinois, (41.85119, -87.74678, 0.0)),\n",
       " Location(South Blvd, Oak Park, Illinois, 60302, (41.886925670075, -87.789899591467, 0.0)),\n",
       " Location(Kösener Straße, 06618, Naumburg (Saale), Sachsen-Anhalt, (51.152213987535, 11.787390464539, 0.0)),\n",
       " Location(East Ave, Madison, Georgia, 30650, (33.596088053373, -83.459647006701, 0.0)),\n",
       " Location(S Street Ct & South St, Flippin, Arkansas, 72634, (36.275780003646, -92.588699959493, 0.0)),\n",
       " Location(N Garfield St, Lombard, Illinois, 60148, (41.895959581669, -88.014644327314, 0.0)),\n",
       " Location(Madison St, Little Rock, Arkansas, 72204, (34.724369982595, -92.327880026925, 0.0)),\n",
       " Location(Church St, Dodge, North Dakota, 58625, (47.306003255097, -102.206852457338, 0.0)),\n",
       " Location(McDowell St, Ashland, Kentucky, 41102, (38.45568999809, -82.653720021552, 0.0)),\n",
       " None,\n",
       " Location(Flournoy St, Oak Park, Illinois, 60304, (41.871761969619, -87.780490647106, 0.0)),\n",
       " Location(Madison St, Kenton, Ohio, 43326, (40.643390354645, -83.596785212708, 0.0)),\n",
       " Location(Kösener Straße, 06618, Naumburg (Saale), Sachsen-Anhalt, (51.152213987535, 11.787390464539, 0.0)),\n",
       " Location(The Conservatory Bar, (-16.92503, 145.77841, 0.0)),\n",
       " Location(Madison St, Laramie, Wyoming, 82070, (41.317639980147, -105.620282516481, 0.0)),\n",
       " Location(Madison St, Mason, Illinois, 62443, (38.950454988028, -88.623720038973, 0.0)),\n",
       " Location(NE-63, Ashland, Nebraska, 68003, (41.007772522171, -96.387822750011, 0.0)),\n",
       " Location(Damsendorf, 39356, Flechtingen, Sachsen-Anhalt, (52.35004498981, 11.167169886047, 0.0)),\n",
       " Location(48th St, Lubbock, Texas, 79414, (33.550705752946, -101.930384699668, 0.0)),\n",
       " Location(Metra-Central St Station, (42.06428, -87.69805, 0.0)),\n",
       " Location(Ashland, Kentucky, (38.48087, -82.64393, 0.0)),\n",
       " Location(Hermann-Heyne-Straße, 06295, Eisleben, Bischofrode, Sachsen-Anhalt, (51.487272465014, 11.532016954387, 0.0)),\n",
       " Location(NE-66, Ashland, Nebraska, 68003, (41.088660005987, -96.374277845422, 0.0)),\n",
       " Location(Wisconsin Ave, Madison, Wisconsin, 53703, (43.077134479545, -89.38740527972, 0.0)),\n",
       " Location(Ashland, Kentucky, (38.48087, -82.64393, 0.0)),\n",
       " Location(Madison St, Lombard, Illinois, 60148, (41.874309997947, -88.031089243764, 0.0)),\n",
       " Location(Park St & W 5th St, Center, Colorado, 81125, (37.751331195802, -106.116221602921, 0.0)),\n",
       " Location(Damsendorf, 39356, Flechtingen, Sachsen-Anhalt, (52.35004498981, 11.167169886047, 0.0)),\n",
       " Location(Pershing St, Hartselle, Alabama, 35640, (34.433890039273, -86.930714200837, 0.0)),\n",
       " Location(Central Ave, Harrison, Arkansas, 72601, (36.229364380714, -93.103597328065, 0.0)),\n",
       " Location(Cicero, Illinois, (41.85119, -87.74678, 0.0)),\n",
       " Location(Marshfield, Wisconsin, (44.66698, -90.17363, 0.0)),\n",
       " Location(Lake St, Pulaski, New York, 13142, (43.572622075971, -76.164792946734, 0.0)),\n",
       " Location(Elisabethring, 06249, Mücheln (Geiseltal), Stöbnitz, Sachsen-Anhalt, (51.32455346829, 11.802351156549, 0.0)),\n",
       " Location(Garfield Ave, Ashland, Kentucky, 41102, (38.460049776178, -82.656451440561, 0.0)),\n",
       " Location(72nd Ave SE, Noble, Oklahoma, 73068, (35.155725165709, -97.335385232318, 0.0)),\n",
       " Location(N Street Rd & N Street Rd, Weedsport, New York, 13166, (43.002740015743, -76.566390039663, 0.0)),\n",
       " Location(State Street, (42.373795, -71.124621, 0.0)),\n",
       " Location(Laramie, Wyoming, (41.31339, -105.59072, 0.0)),\n",
       " Location(Garfield St, Racine, Wisconsin, 53404, (42.732405009555, -87.797894998359, 0.0)),\n",
       " Location(Montrose Rd, Berkeley, California, 94707, (37.896093620661, -122.270168628065, 0.0)),\n",
       " Location(I-79 N, Flatwoods, West Virginia, 26621, (38.746257905929, -80.676043445337, 0.0)),\n",
       " Location(Green View Avenue, (23.07332, 72.52073, 0.0)),\n",
       " Location(Oakley, California, (37.99638, -121.71304, 0.0)),\n",
       " Location(Center St, Girard, Illinois, 62640, (39.352267386035, -89.786574997627, 0.0)),\n",
       " Location(Clark St, Barbourville, Kentucky, 40906, (36.864767258394, -83.890245680397, 0.0)),\n",
       " Location(Rogers Ave Beach and Park, (42.02103, -87.66509, 0.0)),\n",
       " None,\n",
       " Location(NU, (-19.052283098, -169.858459469, 0.0)),\n",
       " Location(University Library, (30.4417, -84.28014, 0.0)),\n",
       " Location(CTA-Howard, (42.01839, -87.67302, 0.0)),\n",
       " Location(Montrose Rd, Knoxville, Tennessee, 37918, (36.028853469875, -83.946071461445, 0.0)),\n",
       " Location(Ridgeland Ave, Fox Lake, Illinois, 60020, (42.392398736858, -88.17367113558, 0.0)),\n",
       " Location(Field Museum, (41.86504, -87.61689, 0.0)),\n",
       " Location(Keystone Ave & Fullerton Ave, Whitehall, Pennsylvania, 18052, (40.628229994619, -75.469780031345, 0.0)),\n",
       " Location(Chestnut St, New Orleans, Louisiana, 70118, (29.924370643984, -90.122242775973, 0.0)),\n",
       " Location(Kenworth, (46.885498, -96.837381, 0.0)),\n",
       " Location(Sheridan Rd, Chicago, Illinois, 60626, (42.022895010665, -87.665414995358, 0.0)),\n",
       " Location(St Augusta, Minnesota, (45.48115, -94.15356, 0.0)),\n",
       " Location(W Kilbourn Ave, Milwaukee, Wisconsin, 53233, (43.041638173889, -87.936745718442, 0.0)),\n",
       " Location(Milwaukee Ave, Camp Douglas, Wisconsin, 54618, (43.932173691449, -90.262521970558, 0.0)),\n",
       " Location(Stony Island, Chicago, Illinois, (41.72253, -87.57231, 0.0)),\n",
       " Location(N Kilbourn Ave, Chicago, Illinois, 60641, (41.942584961311, -87.739589848224, 0.0)),\n",
       " Location(S Forest Ave, Chicago, Illinois, 60628, (41.704529930629, -87.6161299352, 0.0)),\n",
       " None,\n",
       " Location(Humphrey Cir, Algoma, Ontario, P0S 1E0, (46.846012187584, -84.470260452698, 0.0)),\n",
       " None,\n",
       " Location(N Austin Blvd, Chicago, Illinois, 60651, (41.901976178748, -87.775349135522, 0.0)),\n",
       " Location(N Avondale Ave, Chicago, Illinois, 60641, (41.952242768414, -87.729863045697, 0.0)),\n",
       " Location(Ridge Rd, Kokomo, Indiana, 46901, (40.495016820771, -86.064405715575, 0.0)),\n",
       " Location(Elmwood Pl, Austin, Texas, 78705, (30.290679987655, -97.733700008939, 0.0)),\n",
       " Location(83rd St S, Cottage Grove, Minnesota, 55016, (44.828437809617, -92.939846811227, 0.0)),\n",
       " Location(I-79 N, Gassaway, West Virginia, 26624, (38.645353786233, -80.729214748714, 0.0)),\n",
       " Location(S Central Ave, Chicago, Illinois, 60638, (41.760369784839, -87.761090019607, 0.0)),\n",
       " Location(State Street, (42.373795, -71.124621, 0.0)),\n",
       " Location(Western Ave, Green Bay, Wisconsin, 54303, (44.524609571894, -88.057354169111, 0.0)),\n",
       " Location(Ellas, (39.0, 22.0, 0.0)),\n",
       " Location(78th St S, Cottage Grove, Minnesota, 55016, (44.835972503077, -92.904876215375, 0.0)),\n",
       " Location(Valli Produce, (42.038709, -87.700416, 0.0)),\n",
       " None,\n",
       " Location(S Stony Island Ave, Chicago, Illinois, 60617, (41.736927683253, -87.585640022338, 0.0)),\n",
       " Location(County Road 75, Vernon, Texas, 76384, (34.02892326703, -99.449074251857, 0.0)),\n",
       " Location(Commercial Ave/N, (40.31103, -80.61658, 0.0)),\n",
       " Location(I-44 E, Marshfield, Missouri, 65706, (37.376428399033, -92.904601791979, 0.0)),\n",
       " Location(83rd St E, Buckley, Washington, 98321, (47.181918997208, -122.065186362902, 0.0)),\n",
       " Location(Phillips Ave, (-33.91354, 151.11455, 0.0)),\n",
       " Location(E 83rd St, Chicago, Illinois, 60617, (41.744563285033, -87.558018755225, 0.0)),\n",
       " Location(Karl-May-Straße, 06847, Dessau-Roßlau, Kochstedt, Sachsen-Anhalt, (51.800948518351, 12.185505890846, 0.0)),\n",
       " Location(SR-79 N, Vernon, Florida, 32462, (30.565852782312, -85.807811491219, 0.0)),\n",
       " Location(75th Ave, Greeley, Colorado, 80634, (40.40296281777, -104.802186988796, 0.0)),\n",
       " Location(Central Ave, Paisley, Florida, 32767, (29.034954987061, -81.467929527492, 0.0)),\n",
       " Location(Phillips Ave, (-33.91354, 151.11455, 0.0)),\n",
       " None,\n",
       " Location(65th Dr, Union Grove, Wisconsin, 53182, (42.744259996221, -88.032310008086, 0.0)),\n",
       " Location(NW 79th St, Seattle, Washington, 98117, (47.686225051783, -122.361970009918, 0.0)),\n",
       " None,\n",
       " Location(Boulevard, Garfield, New Jersey, 07026, (40.892294538968, -74.109622626064, 0.0)),\n",
       " Location(Storegade & Storegade, 6670, Holsted Stationsby, Vejen, Syddanmark, (55.480579997171, 8.910259962506, 0.0)),\n",
       " Location(61st Dr, Union Grove, Wisconsin, 53182, (42.718810208443, -88.022452394652, 0.0)),\n",
       " Location(Wood Ave, Hubbard, Ohio, 44425, (41.140914270296, -80.589034402276, 0.0)),\n",
       " Location(Sheffield Ave & Waveland Ave, Mesa, Arizona, 85201, (33.432780016881, -111.880340032224, 0.0)),\n",
       " Location(Jackson Blvd, Goose Lake, Iowa, 52750, (41.967803132632, -90.3810341724, 0.0)),\n",
       " Location(Grand Pkwy, Milwaukee, Wisconsin, 53213, (43.038231934242, -88.006285328764, 0.0)),\n",
       " Location(Randolph St, Racine, Wisconsin, 53404, (42.72859081552, -87.798069970588, 0.0)),\n",
       " Location(May St, Racine, Wisconsin, 53404, (42.7324049886, -87.799560021516, 0.0)),\n",
       " Location(Oakley, California, (37.99638, -121.71304, 0.0)),\n",
       " Location(Roost, (41.029763, -73.927835, 0.0)),\n",
       " Location(Boulevard, Garfield, New Jersey, 07026, (40.892294538968, -74.109622626064, 0.0)),\n",
       " Location(CO-79, Bennett, Colorado, 80102, (39.873872679888, -104.413983577602, 0.0)),\n",
       " Location(Cortez St, Hayward, California, 94544, (37.629910899735, -122.076580663622, 0.0)),\n",
       " Location(W Ave W & 8th St S, Schoolcraft, Michigan, 49087, (42.113379981422, -85.685619984607, 0.0)),\n",
       " Location(Damsendorf, 39356, Flechtingen, Sachsen-Anhalt, (52.35004498981, 11.167169886047, 0.0)),\n",
       " Location(Huron St, LaSalle, Ontario, N9J, (42.228546492862, -83.061978050071, 0.0)),\n",
       " Location(W 9th St, Mount Carmel, Illinois, 62863, (38.410106462177, -87.781549127654, 0.0)),\n",
       " Location(St Honore Boulangerie, (45.504951, -122.630636, 0.0)),\n",
       " None,\n",
       " Location(Montrose Ave, Hillcrest, eThekwini, Kwazulu Natal, 3610, (-29.776653147481, 30.759422842163, 0.0)),\n",
       " Location(Dearborn, Michigan, (42.32207, -83.17629, 0.0)),\n",
       " Location(Chicago Ave & Dempster St, Evanston, Illinois, 60202, (42.041190002133, -87.680559962839, 0.0)),\n",
       " None,\n",
       " Location(Austin Dr, Westminster, South Carolina, 29693, (34.56098983922, -83.012098947305, 0.0)),\n",
       " Location(Delano Ln, Barronett, Wisconsin, 54813, (45.661756317251, -92.090215363299, 0.0)),\n",
       " Location(Winthrop Ave, Lawrence, Massachusetts, 01843, (42.690016551807, -71.149509003208, 0.0)),\n",
       " Location(Ravens Wood, (50.884964121, -1.196916835, 0.0)),\n",
       " None,\n",
       " Location(N Clark St, Chicago, Illinois, 60660, (41.993040745689, -87.669998883848, 0.0)),\n",
       " Location(Thomastraße, 86179, Augsburg, Haunstetten, Bayern, (48.307081834152, 10.907148155902, 0.0)),\n",
       " Location(Temp, Rtishchevskiy rayon, Saratovskaya oblast', (52.26439, 43.885, 0.0)),\n",
       " Location(Temp, Rtishchevskiy rayon, Saratovskaya oblast', (52.26439, 43.885, 0.0)),\n",
       " Location(Temp, Rtishchevskiy rayon, Saratovskaya oblast', (52.26439, 43.885, 0.0)),\n",
       " Location(Wisconsin Ave, Madison, Wisconsin, 53703, (43.077134479545, -89.38740527972, 0.0)),\n",
       " Location(Temp, Rtishchevskiy rayon, Saratovskaya oblast', (52.26439, 43.885, 0.0)),\n",
       " Location(Clark St, Montreal, Quebec, H2X, (45.509091606058, -73.563428693243, 0.0)),\n",
       " Location(Ashland Ave, Leesburg, Florida, 34748, (28.806479984804, -81.851009964874, 0.0)),\n",
       " Location(Pershing Dr, Austin, Texas, 78723, (30.28632944984, -97.699795405288, 0.0)),\n",
       " Location(Ravenswood Ct, Montrose, Melbourne, Victoria, 3765, (-37.806213675303, 145.349073443124, 0.0)),\n",
       " Location(Ave C & 24th St, Dickinson, Texas, 77539, (29.475309988239, -95.062450037833, 0.0)),\n",
       " Location(Station, Haparanda, (66.02966, 23.51008, 0.0)),\n",
       " Location(testing, Cairo, (30.12191, 31.40551, 0.0)),\n",
       " Location(testing, Cairo, (30.12191, 31.40551, 0.0)),\n",
       " Location(Huron St, LaSalle, Ontario, N9J, (42.228546492862, -83.061978050071, 0.0)),\n",
       " Location(Madison, Wisconsin, (43.07313, -89.38644, 0.0)),\n",
       " Location(Randolph St, Aberdeen, Washington, 98520, (46.983433358412, -123.800312217908, 0.0)),\n",
       " Location(Mobile Station, (40.856962, -81.427811, 0.0)),\n",
       " Location(Phillips Ave, (-33.91354, 151.11455, 0.0)),\n",
       " Location(Lincoln Ave, Sunnyside, Washington, 98944, (46.316919993291, -119.984519993879, 0.0)),\n",
       " Location(Malcolm X College, (41.87754, -87.67403, 0.0)),\n",
       " None,\n",
       " Location(S Leavitt St, Chicago, Illinois, 60609, (41.802090733988, -87.679080048796, 0.0)),\n",
       " Location(Wood St, Augusta, Georgia, 30904, (33.491342081072, -82.001027213902, 0.0)),\n",
       " Location(Walsh Park, (30.64446, -88.08659, 0.0)),\n",
       " None,\n",
       " Location(Hubbard Ave, Barton, Vermont, 05822, (44.749119966247, -72.174651593359, 0.0)),\n",
       " Location(Fairbanks, Alaska, (64.84527, -147.72213, 0.0)),\n",
       " Location(Jackson Blvd, Goose Lake, Iowa, 52750, (41.967803132632, -90.3810341724, 0.0)),\n",
       " Location(Chicago Ave, North Baltimore, Ohio, 45872, (41.184135298135, -83.671281674029, 0.0)),\n",
       " Location(Smith Park, (38.20139, -105.64639, 0.0)),\n",
       " Location(Stäte, 99706, Sondershausen, Oberspier, Thüringen, (51.311735008523, 10.852759988444, 0.0)),\n",
       " Location(Central Ave, Bloomingdale, Georgia, 31302, (32.148345526623, -81.385845495285, 0.0)),\n",
       " Location(Balmoral Ave, (41.97286, -87.86927, 0.0)),\n",
       " Location(Sheridan Dr, Columbia, South Carolina, 29223, (34.1251410865, -80.908080172121, 0.0)),\n",
       " Location(Fillmore St, Eugene, Oregon, 97405, (44.021287562379, -123.11562296401, 0.0)),\n",
       " Location(Bernhardstraße, 06333, Hettstedt, Sachsen-Anhalt, (51.644627378241, 11.506722594796, 0.0)),\n",
       " Location(Washington Ave, Racine, Wisconsin, 53403, (42.7182220304, -87.795174256662, 0.0)),\n",
       " Location(CR-63, Stewart, Mississippi, 39767, (33.498919867719, -89.455976840472, 0.0)),\n",
       " Location(Eggleston, (36.85816, -76.242712, 0.0)),\n",
       " Location(Walnut Lakes, Florida, (26.04808, -81.66739, 0.0)),\n",
       " Location(Division Street, (51.73055, -3.13325, 0.0)),\n",
       " Location(Carpenter Street, (1.55808, 110.34653, 0.0)),\n",
       " Location(Dodge Ave & Mulford St, Evanston, Illinois, 60202, (42.022989998582, -87.699529969925, 0.0)),\n",
       " Location(Evanston Civic Center, (42.0566, -87.68663, 0.0)),\n",
       " Location(N Central Ave, Lincolnwood, Illinois, 60712, (42.003162346415, -87.761873043423, 0.0)),\n",
       " Location(Clark St, Newport, Kentucky, 41076, (39.042889987604, -84.450253725441, 0.0)),\n",
       " Location(71st St, South Haven, Michigan, 49090, (42.453640053802, -86.235708899459, 0.0)),\n",
       " Location(Leavitt Rd, Belmont, New Hampshire, 03220, (43.490794204992, -71.452514819418, 0.0)),\n",
       " None,\n",
       " Location(Flournoys, Alabama, (32.38495, -85.00032, 0.0)),\n",
       " Location(Clark St, Wells, Minnesota, 56097, (43.733100157167, -93.729465739445, 0.0)),\n",
       " Location(Temp, Rtishchevskiy rayon, Saratovskaya oblast', (52.26439, 43.885, 0.0)),\n",
       " Location(Wells Rd, Petersburg, Michigan, 49270, (41.873250531112, -83.650796810565, 0.0)),\n",
       " Location(Buckingham Fountain, (41.87559, -87.61894, 0.0)),\n",
       " Location(Damsendorf, 39356, Flechtingen, Sachsen-Anhalt, (52.35004498981, 11.167169886047, 0.0)),\n",
       " Location(Elisabethring, 06249, Mücheln (Geiseltal), Stöbnitz, Sachsen-Anhalt, (51.32455346829, 11.802351156549, 0.0)),\n",
       " Location(S Elliott Ave, Chicago, Illinois, 60617, (41.746819293907, -87.580927272481, 0.0)),\n",
       " Location(Dearborn, Michigan, (42.32207, -83.17629, 0.0)),\n",
       " None,\n",
       " Location(Huron St, LaSalle, Ontario, N9J, (42.228546492862, -83.061978050071, 0.0)),\n",
       " Location(Fairbanks, Alaska, (64.84527, -147.72213, 0.0)),\n",
       " Location(N Franklin St, Chicago, Illinois, 60606, (41.884926116964, -87.635391550594, 0.0)),\n",
       " Location(Adams St, Franklin, Louisiana, 70538, (29.793929766209, -91.503621242523, 0.0)),\n",
       " Location(Taylor Street, Fort Wayne, Indiana, (41.06807, -85.17641, 0.0)),\n",
       " Location(Ida, Plateau, (9.3371, 8.86734, 0.0)),\n",
       " Location(Damsendorf, 39356, Flechtingen, Sachsen-Anhalt, (52.35004498981, 11.167169886047, 0.0)),\n",
       " Location(Hubbard Ave, Barton, Vermont, 05822, (44.749119966247, -72.174651593359, 0.0)),\n",
       " Location(Ravenswood Ct, Montrose, Melbourne, Victoria, 3765, (-37.806213675303, 145.349073443124, 0.0)),\n",
       " Location(Fulton St, Elizabethport, New Jersey, 07206, (40.652884040489, -74.193418030159, 0.0)),\n",
       " Location(Wentworth St, Tempe, Sydney, New South Wales, 2044, (-33.925603325094, 151.161817338688, 0.0)),\n",
       " None,\n",
       " Location(S Latrobe Ave, Chicago, Illinois, 60638, (41.801634690453, -87.753999547731, 0.0)),\n",
       " Location(Vincennes, Val-de-Marne, Île-de-France, (48.847666706, 2.439772378, 0.0)),\n",
       " Location(Test, Alcalá la Real, Jaén, Andalucía, (37.43561, -3.86169, 0.0)),\n",
       " Location(Rhoden, Osterwieck, Sachsen-Anhalt, (52.01476, 10.65661, 0.0)),\n",
       " Location(Blackhawk State Bank, (41.921938, -89.066099, 0.0)),\n",
       " Location(N Illinois St, Belleville, Illinois, 62220, (38.519170360736, -89.984220019534, 0.0)),\n",
       " Location(Lincoln Park Conservatory, (41.92378, -87.63564, 0.0)),\n",
       " Location(Francis, California, (36.73993, -118.08065, 0.0)),\n",
       " Location(Special Events, (37.70664, -121.708717, 0.0)),\n",
       " Location(A Magne, Salavan, (16.46517, 106.82442, 0.0))]"
      ]
     },
     "execution_count": 108,
     "metadata": {},
     "output_type": "execute_result"
    }
   ],
   "source": [
    "origins_with_points"
   ]
  },
  {
   "cell_type": "markdown",
   "metadata": {},
   "source": [
    "## 2020 - 2023"
   ]
  },
  {
   "cell_type": "code",
   "execution_count": 86,
   "metadata": {},
   "outputs": [],
   "source": [
    "trips_2020 = pd.read_pickle(ALTERED_DATA_PICKLES/\"2020 - 2023/0.pkl\")\n",
    "trips_2021 = pd.read_pickle(ALTERED_DATA_PICKLES/\"2020 - 2023/1.pkl\")\n",
    "trips_2022 = pd.read_pickle(ALTERED_DATA_PICKLES/\"2020 - 2023/2.pkl\")\n",
    "trips_2023 = pd.read_pickle(ALTERED_DATA_PICKLES/\"2020 - 2023/3.pkl\")"
   ]
  },
  {
   "cell_type": "code",
   "execution_count": null,
   "metadata": {},
   "outputs": [],
   "source": [
    "post_2020 = [trips_2020, trips_2021, trips_2022, trips_2023]\n",
    "\n",
    "for dataset in post_2020:\n",
    "\n",
    "    dataset.drop(columns = [\"ride_id\", \"rideable_type\"], inplace = True)\n",
    "\n",
    "    dataset.rename(\n",
    "        columns = {\n",
    "            \"started_at\": \"start_time\", \n",
    "            \"ended_at\" : \"stop_time\",\n",
    "            \"member_casual\" : \"user_type\"\n",
    "            },\n",
    "        inplace = True\n",
    "    )"
   ]
  },
  {
   "cell_type": "code",
   "execution_count": null,
   "metadata": {},
   "outputs": [
    {
     "name": "stdout",
     "output_type": "stream",
     "text": [
      "start_time    0\n",
      "stop_time     0\n",
      "start_lat     0\n",
      "start_lng     0\n",
      "end_lat       0\n",
      "end_lng       0\n",
      "user_type     0\n",
      "dtype: int64\n",
      "\n",
      "\n",
      "#############################\n",
      "\n",
      "\n",
      "start_time    0\n",
      "stop_time     0\n",
      "start_lat     0\n",
      "start_lng     0\n",
      "end_lat       0\n",
      "end_lng       0\n",
      "user_type     0\n",
      "dtype: int64\n",
      "\n",
      "\n",
      "#############################\n",
      "\n",
      "\n",
      "start_time    0\n",
      "stop_time     0\n",
      "start_lat     0\n",
      "start_lng     0\n",
      "end_lat       0\n",
      "end_lng       0\n",
      "user_type     0\n",
      "dtype: int64\n",
      "\n",
      "\n",
      "#############################\n",
      "\n",
      "\n",
      "start_time    0\n",
      "stop_time     0\n",
      "start_lat     0\n",
      "start_lng     0\n",
      "end_lat       0\n",
      "end_lng       0\n",
      "user_type     0\n",
      "dtype: int64\n",
      "\n",
      "\n",
      "#############################\n",
      "\n",
      "\n"
     ]
    }
   ],
   "source": [
    "for dataset in post_2020:\n",
    "\n",
    "    print(dataset.isna().sum())\n",
    "    \n",
    "    print(\"\\n\")\n",
    "    print(\"############################\")\n",
    "    print(\"\\n\")"
   ]
  },
  {
   "cell_type": "markdown",
   "metadata": {},
   "source": [
    "###### For each year, there are a couple of thousand trips for which the destination's coordinates and names are unknown."
   ]
  },
  {
   "cell_type": "code",
   "execution_count": null,
   "metadata": {},
   "outputs": [],
   "source": [
    "for dataset in post_2020:    \n",
    "    \n",
    "    dataset.drop(\n",
    "        dataset[pd.isnull(dataset[\"end_lat\"]) == True].index,\n",
    "        inplace = True\n",
    "    )"
   ]
  },
  {
   "cell_type": "code",
   "execution_count": null,
   "metadata": {},
   "outputs": [
    {
     "name": "stdout",
     "output_type": "stream",
     "text": [
      "start_time                 0\n",
      "stop_time                  0\n",
      "start_station_name     93953\n",
      "end_station_name      105860\n",
      "start_lat                  0\n",
      "start_lng                  0\n",
      "end_lat                    0\n",
      "end_lng                    0\n",
      "user_type                  0\n",
      "dtype: int64\n",
      "#############################\n",
      "\n",
      "\n",
      "start_time                 0\n",
      "stop_time                  0\n",
      "start_station_name    687681\n",
      "end_station_name      731601\n",
      "start_lat                  0\n",
      "start_lng                  0\n",
      "end_lat                    0\n",
      "end_lng                    0\n",
      "user_type                  0\n",
      "dtype: int64\n",
      "#############################\n",
      "\n",
      "\n",
      "start_time                 0\n",
      "stop_time                  0\n",
      "start_station_name    828073\n",
      "end_station_name      882455\n",
      "start_lat                  0\n",
      "start_lng                  0\n",
      "end_lat                    0\n",
      "end_lng                    0\n",
      "user_type                  0\n",
      "dtype: int64\n",
      "#############################\n",
      "\n",
      "\n",
      "start_time                 0\n",
      "stop_time                  0\n",
      "start_station_name    834388\n",
      "end_station_name      877709\n",
      "start_lat                  0\n",
      "start_lng                  0\n",
      "end_lat                    0\n",
      "end_lng                    0\n",
      "user_type                  0\n",
      "dtype: int64\n",
      "#############################\n",
      "\n",
      "\n"
     ]
    }
   ],
   "source": [
    "for dataset in post_2020:\n",
    "\n",
    "    print(dataset.isna().sum())\n",
    "\n",
    "    print(\"############################\")\n",
    "    print(\"\\n\")"
   ]
  },
  {
   "cell_type": "markdown",
   "metadata": {},
   "source": [
    "###### Since the remaining rows all feature latitudes and longitudes, I no longer need the station names"
   ]
  },
  {
   "cell_type": "code",
   "execution_count": null,
   "metadata": {},
   "outputs": [],
   "source": [
    "for dataset in post_2020:\n",
    "\n",
    "    dataset.drop(\n",
    "        columns = [\"start_station_name\", \"end_station_name\"], \n",
    "        inplace = True\n",
    "    )"
   ]
  },
  {
   "cell_type": "markdown",
   "metadata": {},
   "source": [
    "##### Duplicate Values"
   ]
  },
  {
   "cell_type": "code",
   "execution_count": null,
   "metadata": {},
   "outputs": [],
   "source": [
    "for dataset in post_2020:    \n",
    "    dataset.drop_duplicates(inplace = True)"
   ]
  }
 ],
 "metadata": {
  "kernelspec": {
   "display_name": "src-Frx8CZzu-py3.11",
   "language": "python",
   "name": "python3"
  },
  "language_info": {
   "codemirror_mode": {
    "name": "ipython",
    "version": 3
   },
   "file_extension": ".py",
   "mimetype": "text/x-python",
   "name": "python",
   "nbconvert_exporter": "python",
   "pygments_lexer": "ipython3",
   "version": "3.11.4"
  },
  "orig_nbformat": 4
 },
 "nbformat": 4,
 "nbformat_minor": 2
}
