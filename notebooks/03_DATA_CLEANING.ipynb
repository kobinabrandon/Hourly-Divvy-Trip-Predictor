{
 "cells": [
  {
   "cell_type": "markdown",
   "metadata": {},
   "source": [
    "# Data Cleaning"
   ]
  },
  {
   "cell_type": "code",
   "execution_count": 1,
   "metadata": {
    "ExecuteTime": {
     "end_time": "2023-12-29T14:09:13.599896664Z",
     "start_time": "2023-12-29T14:09:13.191738865Z"
    },
    "collapsed": false
   },
   "outputs": [],
   "source": [
    "import pandas as pd\n",
    "from src.paths import ALTERED_DATA_TYPES, TEMPORARY_DATA, CLEANED_DATA"
   ]
  },
  {
   "cell_type": "code",
   "execution_count": 2,
   "metadata": {
    "ExecuteTime": {
     "end_time": "2023-12-29T14:09:18.216936435Z",
     "start_time": "2023-12-29T14:09:13.599463881Z"
    }
   },
   "outputs": [],
   "source": [
    "trips_2023 = pd.read_parquet(ALTERED_DATA_TYPES/\"2020 - 2023/trips_2023.parquet\")"
   ]
  },
  {
   "cell_type": "code",
   "execution_count": 3,
   "metadata": {
    "ExecuteTime": {
     "end_time": "2023-12-29T14:09:19.280867460Z",
     "start_time": "2023-12-29T14:09:19.212235584Z"
    },
    "collapsed": false
   },
   "outputs": [
    {
     "data": {
      "text/plain": [
       "ride_id                    0\n",
       "rideable_type              0\n",
       "started_at                 0\n",
       "ended_at                   0\n",
       "start_station_name    840006\n",
       "start_station_id      840138\n",
       "end_station_name      891278\n",
       "end_station_id        891419\n",
       "start_lat                  0\n",
       "start_lng                  0\n",
       "end_lat                 6751\n",
       "end_lng                 6751\n",
       "member_casual              0\n",
       "dtype: int64"
      ]
     },
     "execution_count": 3,
     "metadata": {},
     "output_type": "execute_result"
    }
   ],
   "source": [
    "trips_2023.isna().sum()"
   ]
  },
  {
   "cell_type": "markdown",
   "metadata": {
    "collapsed": false
   },
   "source": [
    "### Removing some unnecessary features, and renaming others"
   ]
  },
  {
   "cell_type": "code",
   "execution_count": 4,
   "metadata": {
    "ExecuteTime": {
     "end_time": "2023-12-29T14:09:19.680658455Z",
     "start_time": "2023-12-29T14:09:19.425494672Z"
    },
    "collapsed": false
   },
   "outputs": [],
   "source": [
    "trips_2023.drop(\n",
    "    columns = [\n",
    "        \"ride_id\", \"rideable_type\", \"member_casual\", \"start_station_id\", \"end_station_id\"\n",
    "    ], inplace = True)\n",
    "\n",
    "trips_2023.rename(\n",
    "        columns = {\n",
    "            \"started_at\": \"start_time\", \n",
    "            \"ended_at\" : \"stop_time\",\n",
    "            \"start_station_name\" : \"from_station_name\",\n",
    "            \"end_station_name\" : \"to_station_name\", \n",
    "            \"start_lat\" : \"start_latitude\",\n",
    "            \"start_lng\" : \"start_longitude\",\n",
    "            \"end_lat\" : \"stop_latitude\",\n",
    "            \"end_lng\" : \"stop_longitude\",\n",
    "            },\n",
    "        inplace = True\n",
    "    )"
   ]
  },
  {
   "cell_type": "markdown",
   "metadata": {
    "collapsed": false
   },
   "source": [
    "#### Checking out the missing values"
   ]
  },
  {
   "cell_type": "code",
   "execution_count": 5,
   "metadata": {
    "ExecuteTime": {
     "end_time": "2023-12-29T14:09:20.260427724Z",
     "start_time": "2023-12-29T14:09:20.209140540Z"
    },
    "collapsed": false
   },
   "outputs": [
    {
     "data": {
      "text/plain": [
       "start_time                0\n",
       "stop_time                 0\n",
       "from_station_name    840006\n",
       "to_station_name      891278\n",
       "start_latitude            0\n",
       "start_longitude           0\n",
       "stop_latitude          6751\n",
       "stop_longitude         6751\n",
       "dtype: int64"
      ]
     },
     "execution_count": 5,
     "metadata": {},
     "output_type": "execute_result"
    }
   ],
   "source": [
    "trips_2023.isna().sum()"
   ]
  },
  {
   "cell_type": "markdown",
   "metadata": {},
   "source": [
    "###### For each year, there are a couple of thousand trips for which the destination's coordinates and names are unknown."
   ]
  },
  {
   "cell_type": "code",
   "execution_count": 6,
   "metadata": {
    "ExecuteTime": {
     "end_time": "2023-12-29T14:09:20.294213604Z",
     "start_time": "2023-12-29T14:09:20.260206346Z"
    },
    "collapsed": false
   },
   "outputs": [
    {
     "data": {
      "text/html": [
       "<div>\n",
       "<style scoped>\n",
       "    .dataframe tbody tr th:only-of-type {\n",
       "        vertical-align: middle;\n",
       "    }\n",
       "\n",
       "    .dataframe tbody tr th {\n",
       "        vertical-align: top;\n",
       "    }\n",
       "\n",
       "    .dataframe thead th {\n",
       "        text-align: right;\n",
       "    }\n",
       "</style>\n",
       "<table border=\"1\" class=\"dataframe\">\n",
       "  <thead>\n",
       "    <tr style=\"text-align: right;\">\n",
       "      <th></th>\n",
       "      <th>start_time</th>\n",
       "      <th>stop_time</th>\n",
       "      <th>from_station_name</th>\n",
       "      <th>to_station_name</th>\n",
       "      <th>start_latitude</th>\n",
       "      <th>start_longitude</th>\n",
       "      <th>stop_latitude</th>\n",
       "      <th>stop_longitude</th>\n",
       "    </tr>\n",
       "  </thead>\n",
       "  <tbody>\n",
       "    <tr>\n",
       "      <th>69506</th>\n",
       "      <td>2023-01-01 04:45:39</td>\n",
       "      <td>2023-01-02 05:45:28</td>\n",
       "      <td>State St &amp; Van Buren St</td>\n",
       "      <td>NaN</td>\n",
       "      <td>41.877181</td>\n",
       "      <td>-87.627844</td>\n",
       "      <td>NaN</td>\n",
       "      <td>NaN</td>\n",
       "    </tr>\n",
       "    <tr>\n",
       "      <th>69523</th>\n",
       "      <td>2023-01-09 14:20:41</td>\n",
       "      <td>2023-01-15 04:19:09</td>\n",
       "      <td>Indiana Ave &amp; Roosevelt Rd</td>\n",
       "      <td>NaN</td>\n",
       "      <td>41.867888</td>\n",
       "      <td>-87.623041</td>\n",
       "      <td>NaN</td>\n",
       "      <td>NaN</td>\n",
       "    </tr>\n",
       "    <tr>\n",
       "      <th>69531</th>\n",
       "      <td>2023-01-30 13:24:22</td>\n",
       "      <td>2023-01-31 14:24:09</td>\n",
       "      <td>State St &amp; 19th St</td>\n",
       "      <td>NaN</td>\n",
       "      <td>41.856594</td>\n",
       "      <td>-87.627542</td>\n",
       "      <td>NaN</td>\n",
       "      <td>NaN</td>\n",
       "    </tr>\n",
       "    <tr>\n",
       "      <th>69952</th>\n",
       "      <td>2023-01-31 09:21:10</td>\n",
       "      <td>2023-02-01 10:21:02</td>\n",
       "      <td>Halsted St &amp; Maxwell St</td>\n",
       "      <td>NaN</td>\n",
       "      <td>41.864883</td>\n",
       "      <td>-87.647071</td>\n",
       "      <td>NaN</td>\n",
       "      <td>NaN</td>\n",
       "    </tr>\n",
       "    <tr>\n",
       "      <th>70167</th>\n",
       "      <td>2023-01-07 12:52:32</td>\n",
       "      <td>2023-01-08 06:47:21</td>\n",
       "      <td>New St &amp; Illinois St</td>\n",
       "      <td>NaN</td>\n",
       "      <td>41.890847</td>\n",
       "      <td>-87.618617</td>\n",
       "      <td>NaN</td>\n",
       "      <td>NaN</td>\n",
       "    </tr>\n",
       "    <tr>\n",
       "      <th>...</th>\n",
       "      <td>...</td>\n",
       "      <td>...</td>\n",
       "      <td>...</td>\n",
       "      <td>...</td>\n",
       "      <td>...</td>\n",
       "      <td>...</td>\n",
       "      <td>...</td>\n",
       "      <td>...</td>\n",
       "    </tr>\n",
       "    <tr>\n",
       "      <th>356624</th>\n",
       "      <td>2023-11-23 19:51:43</td>\n",
       "      <td>2023-11-24 20:51:39</td>\n",
       "      <td>Clark St &amp; Armitage Ave</td>\n",
       "      <td>NaN</td>\n",
       "      <td>41.918306</td>\n",
       "      <td>-87.636282</td>\n",
       "      <td>NaN</td>\n",
       "      <td>NaN</td>\n",
       "    </tr>\n",
       "    <tr>\n",
       "      <th>356625</th>\n",
       "      <td>2023-11-23 19:49:48</td>\n",
       "      <td>2023-11-24 20:49:42</td>\n",
       "      <td>Clark St &amp; Armitage Ave</td>\n",
       "      <td>NaN</td>\n",
       "      <td>41.918306</td>\n",
       "      <td>-87.636282</td>\n",
       "      <td>NaN</td>\n",
       "      <td>NaN</td>\n",
       "    </tr>\n",
       "    <tr>\n",
       "      <th>356661</th>\n",
       "      <td>2023-11-09 15:37:23</td>\n",
       "      <td>2023-11-10 16:37:19</td>\n",
       "      <td>Clark St &amp; Jarvis Ave</td>\n",
       "      <td>NaN</td>\n",
       "      <td>42.015963</td>\n",
       "      <td>-87.675005</td>\n",
       "      <td>NaN</td>\n",
       "      <td>NaN</td>\n",
       "    </tr>\n",
       "    <tr>\n",
       "      <th>356677</th>\n",
       "      <td>2023-11-16 08:05:05</td>\n",
       "      <td>2023-11-17 09:04:58</td>\n",
       "      <td>Clark St &amp; Wellington Ave</td>\n",
       "      <td>NaN</td>\n",
       "      <td>41.936497</td>\n",
       "      <td>-87.647539</td>\n",
       "      <td>NaN</td>\n",
       "      <td>NaN</td>\n",
       "    </tr>\n",
       "    <tr>\n",
       "      <th>356698</th>\n",
       "      <td>2023-11-19 03:46:08</td>\n",
       "      <td>2023-11-20 04:46:02</td>\n",
       "      <td>Rush St &amp; Hubbard St</td>\n",
       "      <td>NaN</td>\n",
       "      <td>41.890173</td>\n",
       "      <td>-87.626185</td>\n",
       "      <td>NaN</td>\n",
       "      <td>NaN</td>\n",
       "    </tr>\n",
       "  </tbody>\n",
       "</table>\n",
       "<p>6751 rows × 8 columns</p>\n",
       "</div>"
      ],
      "text/plain": [
       "                start_time           stop_time           from_station_name  \\\n",
       "69506  2023-01-01 04:45:39 2023-01-02 05:45:28     State St & Van Buren St   \n",
       "69523  2023-01-09 14:20:41 2023-01-15 04:19:09  Indiana Ave & Roosevelt Rd   \n",
       "69531  2023-01-30 13:24:22 2023-01-31 14:24:09          State St & 19th St   \n",
       "69952  2023-01-31 09:21:10 2023-02-01 10:21:02     Halsted St & Maxwell St   \n",
       "70167  2023-01-07 12:52:32 2023-01-08 06:47:21        New St & Illinois St   \n",
       "...                    ...                 ...                         ...   \n",
       "356624 2023-11-23 19:51:43 2023-11-24 20:51:39     Clark St & Armitage Ave   \n",
       "356625 2023-11-23 19:49:48 2023-11-24 20:49:42     Clark St & Armitage Ave   \n",
       "356661 2023-11-09 15:37:23 2023-11-10 16:37:19       Clark St & Jarvis Ave   \n",
       "356677 2023-11-16 08:05:05 2023-11-17 09:04:58   Clark St & Wellington Ave   \n",
       "356698 2023-11-19 03:46:08 2023-11-20 04:46:02        Rush St & Hubbard St   \n",
       "\n",
       "       to_station_name  start_latitude  start_longitude  stop_latitude  \\\n",
       "69506              NaN       41.877181       -87.627844            NaN   \n",
       "69523              NaN       41.867888       -87.623041            NaN   \n",
       "69531              NaN       41.856594       -87.627542            NaN   \n",
       "69952              NaN       41.864883       -87.647071            NaN   \n",
       "70167              NaN       41.890847       -87.618617            NaN   \n",
       "...                ...             ...              ...            ...   \n",
       "356624             NaN       41.918306       -87.636282            NaN   \n",
       "356625             NaN       41.918306       -87.636282            NaN   \n",
       "356661             NaN       42.015963       -87.675005            NaN   \n",
       "356677             NaN       41.936497       -87.647539            NaN   \n",
       "356698             NaN       41.890173       -87.626185            NaN   \n",
       "\n",
       "        stop_longitude  \n",
       "69506              NaN  \n",
       "69523              NaN  \n",
       "69531              NaN  \n",
       "69952              NaN  \n",
       "70167              NaN  \n",
       "...                ...  \n",
       "356624             NaN  \n",
       "356625             NaN  \n",
       "356661             NaN  \n",
       "356677             NaN  \n",
       "356698             NaN  \n",
       "\n",
       "[6751 rows x 8 columns]"
      ]
     },
     "execution_count": 6,
     "metadata": {},
     "output_type": "execute_result"
    }
   ],
   "source": [
    "trips_2023[pd.isnull(trips_2023[\"stop_latitude\"])]"
   ]
  },
  {
   "cell_type": "code",
   "execution_count": 7,
   "metadata": {
    "ExecuteTime": {
     "end_time": "2023-12-29T14:09:20.576453925Z",
     "start_time": "2023-12-29T14:09:20.442612120Z"
    }
   },
   "outputs": [],
   "source": [
    "trips_2023.drop(\n",
    "        columns = [\"from_station_name\", \"to_station_name\"],\n",
    "        inplace = True\n",
    "    )"
   ]
  },
  {
   "cell_type": "code",
   "execution_count": 8,
   "metadata": {
    "ExecuteTime": {
     "end_time": "2023-12-29T14:09:21.353005816Z",
     "start_time": "2023-12-29T14:09:21.094947341Z"
    },
    "collapsed": false
   },
   "outputs": [
    {
     "data": {
      "text/html": [
       "<div>\n",
       "<style scoped>\n",
       "    .dataframe tbody tr th:only-of-type {\n",
       "        vertical-align: middle;\n",
       "    }\n",
       "\n",
       "    .dataframe tbody tr th {\n",
       "        vertical-align: top;\n",
       "    }\n",
       "\n",
       "    .dataframe thead th {\n",
       "        text-align: right;\n",
       "    }\n",
       "</style>\n",
       "<table border=\"1\" class=\"dataframe\">\n",
       "  <thead>\n",
       "    <tr style=\"text-align: right;\">\n",
       "      <th></th>\n",
       "      <th>start_time</th>\n",
       "      <th>stop_time</th>\n",
       "      <th>start_latitude</th>\n",
       "      <th>start_longitude</th>\n",
       "      <th>stop_latitude</th>\n",
       "      <th>stop_longitude</th>\n",
       "    </tr>\n",
       "  </thead>\n",
       "  <tbody>\n",
       "    <tr>\n",
       "      <th>0</th>\n",
       "      <td>2023-01-21 20:05:42</td>\n",
       "      <td>2023-01-21 20:16:33</td>\n",
       "      <td>41.924074</td>\n",
       "      <td>-87.646278</td>\n",
       "      <td>41.930000</td>\n",
       "      <td>-87.640000</td>\n",
       "    </tr>\n",
       "    <tr>\n",
       "      <th>1</th>\n",
       "      <td>2023-01-10 15:37:36</td>\n",
       "      <td>2023-01-10 15:46:05</td>\n",
       "      <td>41.799568</td>\n",
       "      <td>-87.594747</td>\n",
       "      <td>41.809835</td>\n",
       "      <td>-87.599383</td>\n",
       "    </tr>\n",
       "    <tr>\n",
       "      <th>2</th>\n",
       "      <td>2023-01-02 07:51:57</td>\n",
       "      <td>2023-01-02 08:05:11</td>\n",
       "      <td>42.008571</td>\n",
       "      <td>-87.690483</td>\n",
       "      <td>42.039742</td>\n",
       "      <td>-87.699413</td>\n",
       "    </tr>\n",
       "    <tr>\n",
       "      <th>3</th>\n",
       "      <td>2023-01-22 10:52:58</td>\n",
       "      <td>2023-01-22 11:01:44</td>\n",
       "      <td>41.799568</td>\n",
       "      <td>-87.594747</td>\n",
       "      <td>41.809835</td>\n",
       "      <td>-87.599383</td>\n",
       "    </tr>\n",
       "    <tr>\n",
       "      <th>4</th>\n",
       "      <td>2023-01-12 13:58:01</td>\n",
       "      <td>2023-01-12 14:13:20</td>\n",
       "      <td>41.799568</td>\n",
       "      <td>-87.594747</td>\n",
       "      <td>41.809835</td>\n",
       "      <td>-87.599383</td>\n",
       "    </tr>\n",
       "    <tr>\n",
       "      <th>...</th>\n",
       "      <td>...</td>\n",
       "      <td>...</td>\n",
       "      <td>...</td>\n",
       "      <td>...</td>\n",
       "      <td>...</td>\n",
       "      <td>...</td>\n",
       "    </tr>\n",
       "    <tr>\n",
       "      <th>362513</th>\n",
       "      <td>2023-11-24 08:39:27</td>\n",
       "      <td>2023-11-24 08:47:03</td>\n",
       "      <td>41.936497</td>\n",
       "      <td>-87.647539</td>\n",
       "      <td>41.935775</td>\n",
       "      <td>-87.663600</td>\n",
       "    </tr>\n",
       "    <tr>\n",
       "      <th>362514</th>\n",
       "      <td>2023-11-06 09:07:20</td>\n",
       "      <td>2023-11-06 09:10:00</td>\n",
       "      <td>41.877726</td>\n",
       "      <td>-87.654787</td>\n",
       "      <td>41.877642</td>\n",
       "      <td>-87.649618</td>\n",
       "    </tr>\n",
       "    <tr>\n",
       "      <th>362515</th>\n",
       "      <td>2023-11-10 19:35:30</td>\n",
       "      <td>2023-11-10 19:44:28</td>\n",
       "      <td>41.943687</td>\n",
       "      <td>-87.648855</td>\n",
       "      <td>41.935775</td>\n",
       "      <td>-87.663600</td>\n",
       "    </tr>\n",
       "    <tr>\n",
       "      <th>362516</th>\n",
       "      <td>2023-11-27 09:11:23</td>\n",
       "      <td>2023-11-27 09:13:23</td>\n",
       "      <td>41.877726</td>\n",
       "      <td>-87.654787</td>\n",
       "      <td>41.877642</td>\n",
       "      <td>-87.649618</td>\n",
       "    </tr>\n",
       "    <tr>\n",
       "      <th>362517</th>\n",
       "      <td>2023-11-20 16:16:03</td>\n",
       "      <td>2023-11-20 16:17:43</td>\n",
       "      <td>41.877869</td>\n",
       "      <td>-87.654898</td>\n",
       "      <td>41.877642</td>\n",
       "      <td>-87.649618</td>\n",
       "    </tr>\n",
       "  </tbody>\n",
       "</table>\n",
       "<p>5489053 rows × 6 columns</p>\n",
       "</div>"
      ],
      "text/plain": [
       "                start_time           stop_time  start_latitude  \\\n",
       "0      2023-01-21 20:05:42 2023-01-21 20:16:33       41.924074   \n",
       "1      2023-01-10 15:37:36 2023-01-10 15:46:05       41.799568   \n",
       "2      2023-01-02 07:51:57 2023-01-02 08:05:11       42.008571   \n",
       "3      2023-01-22 10:52:58 2023-01-22 11:01:44       41.799568   \n",
       "4      2023-01-12 13:58:01 2023-01-12 14:13:20       41.799568   \n",
       "...                    ...                 ...             ...   \n",
       "362513 2023-11-24 08:39:27 2023-11-24 08:47:03       41.936497   \n",
       "362514 2023-11-06 09:07:20 2023-11-06 09:10:00       41.877726   \n",
       "362515 2023-11-10 19:35:30 2023-11-10 19:44:28       41.943687   \n",
       "362516 2023-11-27 09:11:23 2023-11-27 09:13:23       41.877726   \n",
       "362517 2023-11-20 16:16:03 2023-11-20 16:17:43       41.877869   \n",
       "\n",
       "        start_longitude  stop_latitude  stop_longitude  \n",
       "0            -87.646278      41.930000      -87.640000  \n",
       "1            -87.594747      41.809835      -87.599383  \n",
       "2            -87.690483      42.039742      -87.699413  \n",
       "3            -87.594747      41.809835      -87.599383  \n",
       "4            -87.594747      41.809835      -87.599383  \n",
       "...                 ...            ...             ...  \n",
       "362513       -87.647539      41.935775      -87.663600  \n",
       "362514       -87.654787      41.877642      -87.649618  \n",
       "362515       -87.648855      41.935775      -87.663600  \n",
       "362516       -87.654787      41.877642      -87.649618  \n",
       "362517       -87.654898      41.877642      -87.649618  \n",
       "\n",
       "[5489053 rows x 6 columns]"
      ]
     },
     "execution_count": 8,
     "metadata": {},
     "output_type": "execute_result"
    }
   ],
   "source": [
    "trips_2023.dropna()"
   ]
  },
  {
   "cell_type": "markdown",
   "metadata": {},
   "source": [
    "##### Duplicate Values"
   ]
  },
  {
   "cell_type": "code",
   "execution_count": 9,
   "metadata": {
    "ExecuteTime": {
     "end_time": "2023-12-29T14:09:28.722155968Z",
     "start_time": "2023-12-29T14:09:21.651000298Z"
    }
   },
   "outputs": [],
   "source": [
    "trips_2023.drop_duplicates(inplace = True)"
   ]
  },
  {
   "cell_type": "markdown",
   "metadata": {
    "collapsed": false
   },
   "source": [
    "## Final Data"
   ]
  },
  {
   "cell_type": "code",
   "execution_count": 10,
   "metadata": {
    "ExecuteTime": {
     "end_time": "2023-12-29T14:09:31.374473993Z",
     "start_time": "2023-12-29T14:09:28.724822858Z"
    }
   },
   "outputs": [],
   "source": [
    "trips_2023.to_parquet(path = CLEANED_DATA/\"final.parquet\")"
   ]
  },
  {
   "cell_type": "code",
   "execution_count": 11,
   "metadata": {
    "ExecuteTime": {
     "end_time": "2023-12-29T14:09:31.385796621Z",
     "start_time": "2023-12-29T14:09:31.381186857Z"
    }
   },
   "outputs": [
    {
     "data": {
      "text/html": [
       "<div>\n",
       "<style scoped>\n",
       "    .dataframe tbody tr th:only-of-type {\n",
       "        vertical-align: middle;\n",
       "    }\n",
       "\n",
       "    .dataframe tbody tr th {\n",
       "        vertical-align: top;\n",
       "    }\n",
       "\n",
       "    .dataframe thead th {\n",
       "        text-align: right;\n",
       "    }\n",
       "</style>\n",
       "<table border=\"1\" class=\"dataframe\">\n",
       "  <thead>\n",
       "    <tr style=\"text-align: right;\">\n",
       "      <th></th>\n",
       "      <th>start_time</th>\n",
       "      <th>stop_time</th>\n",
       "      <th>start_latitude</th>\n",
       "      <th>start_longitude</th>\n",
       "      <th>stop_latitude</th>\n",
       "      <th>stop_longitude</th>\n",
       "    </tr>\n",
       "  </thead>\n",
       "  <tbody>\n",
       "    <tr>\n",
       "      <th>0</th>\n",
       "      <td>2023-01-21 20:05:42</td>\n",
       "      <td>2023-01-21 20:16:33</td>\n",
       "      <td>41.924074</td>\n",
       "      <td>-87.646278</td>\n",
       "      <td>41.930000</td>\n",
       "      <td>-87.640000</td>\n",
       "    </tr>\n",
       "    <tr>\n",
       "      <th>1</th>\n",
       "      <td>2023-01-10 15:37:36</td>\n",
       "      <td>2023-01-10 15:46:05</td>\n",
       "      <td>41.799568</td>\n",
       "      <td>-87.594747</td>\n",
       "      <td>41.809835</td>\n",
       "      <td>-87.599383</td>\n",
       "    </tr>\n",
       "    <tr>\n",
       "      <th>2</th>\n",
       "      <td>2023-01-02 07:51:57</td>\n",
       "      <td>2023-01-02 08:05:11</td>\n",
       "      <td>42.008571</td>\n",
       "      <td>-87.690483</td>\n",
       "      <td>42.039742</td>\n",
       "      <td>-87.699413</td>\n",
       "    </tr>\n",
       "    <tr>\n",
       "      <th>3</th>\n",
       "      <td>2023-01-22 10:52:58</td>\n",
       "      <td>2023-01-22 11:01:44</td>\n",
       "      <td>41.799568</td>\n",
       "      <td>-87.594747</td>\n",
       "      <td>41.809835</td>\n",
       "      <td>-87.599383</td>\n",
       "    </tr>\n",
       "    <tr>\n",
       "      <th>4</th>\n",
       "      <td>2023-01-12 13:58:01</td>\n",
       "      <td>2023-01-12 14:13:20</td>\n",
       "      <td>41.799568</td>\n",
       "      <td>-87.594747</td>\n",
       "      <td>41.809835</td>\n",
       "      <td>-87.599383</td>\n",
       "    </tr>\n",
       "  </tbody>\n",
       "</table>\n",
       "</div>"
      ],
      "text/plain": [
       "           start_time           stop_time  start_latitude  start_longitude  \\\n",
       "0 2023-01-21 20:05:42 2023-01-21 20:16:33       41.924074       -87.646278   \n",
       "1 2023-01-10 15:37:36 2023-01-10 15:46:05       41.799568       -87.594747   \n",
       "2 2023-01-02 07:51:57 2023-01-02 08:05:11       42.008571       -87.690483   \n",
       "3 2023-01-22 10:52:58 2023-01-22 11:01:44       41.799568       -87.594747   \n",
       "4 2023-01-12 13:58:01 2023-01-12 14:13:20       41.799568       -87.594747   \n",
       "\n",
       "   stop_latitude  stop_longitude  \n",
       "0      41.930000      -87.640000  \n",
       "1      41.809835      -87.599383  \n",
       "2      42.039742      -87.699413  \n",
       "3      41.809835      -87.599383  \n",
       "4      41.809835      -87.599383  "
      ]
     },
     "execution_count": 11,
     "metadata": {},
     "output_type": "execute_result"
    }
   ],
   "source": [
    "trips_2023.head()"
   ]
  }
 ],
 "metadata": {
  "kernelspec": {
   "display_name": "src-Frx8CZzu-py3.11",
   "language": "python",
   "name": "python3"
  },
  "language_info": {
   "codemirror_mode": {
    "name": "ipython",
    "version": 3
   },
   "file_extension": ".py",
   "mimetype": "text/x-python",
   "name": "python",
   "nbconvert_exporter": "python",
   "pygments_lexer": "ipython3",
   "version": "3.11.4"
  },
  "orig_nbformat": 4
 },
 "nbformat": 4,
 "nbformat_minor": 2
}
