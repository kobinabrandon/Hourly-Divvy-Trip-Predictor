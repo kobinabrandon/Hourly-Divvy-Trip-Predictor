{
 "cells": [
  {
   "cell_type": "code",
   "execution_count": 2,
   "metadata": {},
   "outputs": [],
   "source": [
    "import pandas as pd\n",
    "from src.core.paths import RAW_DATA_DIR\n",
    "from src.core.data import load_raw_data, concat_and_pickle"
   ]
  },
  {
   "cell_type": "markdown",
   "metadata": {},
   "source": [
    "### Loading the Various Datasets & Saving Them as Pickle Files"
   ]
  },
  {
   "cell_type": "markdown",
   "metadata": {},
   "source": [
    "#### 2014"
   ]
  },
  {
   "cell_type": "code",
   "execution_count": 2,
   "metadata": {},
   "outputs": [
    {
     "name": "stdout",
     "output_type": "stream",
     "text": [
      "Divvy_Trips_2014_Q1Q2 is already in local storage\n",
      "Downloading and extracting Divvy_Trips_2014-Q3-07.zip\n",
      "Downloading and extracting Divvy_Trips_2014-Q3-0809.zip\n",
      "Downloading and extracting Divvy_Trips_2014-Q4.zip\n"
     ]
    }
   ],
   "source": [
    "trips_2014 = list(load_raw_data(year = 2014, quarters = [1,2,3,4])) "
   ]
  },
  {
   "cell_type": "code",
   "execution_count": 3,
   "metadata": {},
   "outputs": [],
   "source": [
    "concat_and_pickle(df_list = trips_2014, pickle_name = \"trips_2014\")"
   ]
  },
  {
   "cell_type": "markdown",
   "metadata": {},
   "source": [
    "#### 2015"
   ]
  },
  {
   "cell_type": "code",
   "execution_count": 4,
   "metadata": {},
   "outputs": [
    {
     "name": "stdout",
     "output_type": "stream",
     "text": [
      "Divvy_Trips_2015-Q1Q2 is already in local storage\n",
      "Divvy_Trips_2015_Q3Q4 is already in local storage\n"
     ]
    }
   ],
   "source": [
    "trips_2015 = list(load_raw_data(year = 2015, quarters = [1,2,3,4]))"
   ]
  },
  {
   "cell_type": "code",
   "execution_count": 5,
   "metadata": {},
   "outputs": [],
   "source": [
    "concat_and_pickle(df_list = trips_2015, pickle_name = \"trips_2015\")"
   ]
  },
  {
   "cell_type": "markdown",
   "metadata": {},
   "source": [
    "#### 2016"
   ]
  },
  {
   "cell_type": "code",
   "execution_count": 6,
   "metadata": {},
   "outputs": [
    {
     "name": "stdout",
     "output_type": "stream",
     "text": [
      "Divvy_Trips_2016_Q1Q2 is already in local storage\n",
      "Divvy_Trips_2016_Q3Q4 is already in local storage\n"
     ]
    }
   ],
   "source": [
    "trips_2016 = list(load_raw_data(year = 2016))"
   ]
  },
  {
   "cell_type": "code",
   "execution_count": 7,
   "metadata": {},
   "outputs": [],
   "source": [
    "concat_and_pickle(df_list = trips_2016, pickle_name = \"trips_2016\")"
   ]
  },
  {
   "cell_type": "markdown",
   "metadata": {},
   "source": [
    "#### 2017"
   ]
  },
  {
   "cell_type": "code",
   "execution_count": 8,
   "metadata": {},
   "outputs": [
    {
     "name": "stdout",
     "output_type": "stream",
     "text": [
      "Divvy_Trips_2017_Q1Q2 is already in local storage\n",
      "Divvy_Trips_2017_Q3Q4 is already in local storage\n"
     ]
    }
   ],
   "source": [
    "trips_2017 = list(load_raw_data(year = 2017, quarters = [1,2,3,4]))"
   ]
  },
  {
   "cell_type": "code",
   "execution_count": 9,
   "metadata": {},
   "outputs": [],
   "source": [
    "concat_and_pickle(df_list = trips_2017, pickle_name = \"trips_2017\")"
   ]
  },
  {
   "cell_type": "markdown",
   "metadata": {},
   "source": [
    "#### 2018"
   ]
  },
  {
   "cell_type": "code",
   "execution_count": 10,
   "metadata": {},
   "outputs": [
    {
     "name": "stdout",
     "output_type": "stream",
     "text": [
      "Divvy_Trips_2018_Q1 is already in local storage\n",
      "Divvy_Trips_2018_Q2 is already in local storage\n",
      "Divvy_Trips_2018_Q3 is already in local storage\n",
      "Divvy_Trips_2018_Q4 is already in local storage\n"
     ]
    }
   ],
   "source": [
    "trips_2018 = list(load_raw_data(year = 2018, quarters = [1,2,3,4]))"
   ]
  },
  {
   "cell_type": "code",
   "execution_count": 11,
   "metadata": {},
   "outputs": [],
   "source": [
    "concat_and_pickle(df_list = trips_2018, pickle_name = \"trips_2018\")"
   ]
  },
  {
   "cell_type": "markdown",
   "metadata": {},
   "source": [
    "#### 2019"
   ]
  },
  {
   "cell_type": "code",
   "execution_count": 12,
   "metadata": {},
   "outputs": [
    {
     "name": "stdout",
     "output_type": "stream",
     "text": [
      "Divvy_Trips_2019_Q1 is already in local storage\n",
      "Divvy_Trips_2019_Q2 is already in local storage\n",
      "Divvy_Trips_2019_Q3 is already in local storage\n",
      "Divvy_Trips_2019_Q4 is already in local storage\n"
     ]
    }
   ],
   "source": [
    "trips_2019 = list(load_raw_data(year = 2019, quarters = [1,2,3,4]))"
   ]
  },
  {
   "cell_type": "code",
   "execution_count": 13,
   "metadata": {},
   "outputs": [],
   "source": [
    "concat_and_pickle(df_list = trips_2019, pickle_name = \"trips_2019\")"
   ]
  },
  {
   "cell_type": "markdown",
   "metadata": {},
   "source": [
    "#### 2020"
   ]
  },
  {
   "cell_type": "markdown",
   "metadata": {},
   "source": [
    "##### Q1"
   ]
  },
  {
   "cell_type": "code",
   "execution_count": 14,
   "metadata": {},
   "outputs": [
    {
     "name": "stdout",
     "output_type": "stream",
     "text": [
      "Divvy_Trips_2020_Q1 is already in local storage\n"
     ]
    }
   ],
   "source": [
    "Q1_2020 = list(load_raw_data(year = 2020, quarters = [1]))"
   ]
  },
  {
   "cell_type": "markdown",
   "metadata": {},
   "source": [
    "##### Rest of 2020"
   ]
  },
  {
   "cell_type": "code",
   "execution_count": 15,
   "metadata": {},
   "outputs": [
    {
     "name": "stdout",
     "output_type": "stream",
     "text": [
      "The file 202004-divvy-tripdata.zip is already in local storage\n",
      "The file 202005-divvy-tripdata.zip is already in local storage\n",
      "The file 202006-divvy-tripdata.zip is already in local storage\n",
      "The file 202007-divvy-tripdata.zip is already in local storage\n",
      "The file 202008-divvy-tripdata.zip is already in local storage\n",
      "The file 202009-divvy-tripdata.zip is already in local storage\n",
      "The file 202010-divvy-tripdata.zip is already in local storage\n",
      "The file 202011-divvy-tripdata.zip is already in local storage\n",
      "The file 202012-divvy-tripdata.zip is already in local storage\n"
     ]
    }
   ],
   "source": [
    "rest_of_2020 = list(load_raw_data(year = 2020))"
   ]
  },
  {
   "cell_type": "code",
   "execution_count": 16,
   "metadata": {},
   "outputs": [],
   "source": [
    "for df in rest_of_2020:\n",
    "    Q1_2020.append(df)\n",
    "\n",
    "concat_and_pickle(df_list = Q1_2020, pickle_name = \"trips_2020\")"
   ]
  },
  {
   "cell_type": "markdown",
   "metadata": {},
   "source": [
    "#### 2021"
   ]
  },
  {
   "cell_type": "code",
   "execution_count": 17,
   "metadata": {},
   "outputs": [
    {
     "name": "stdout",
     "output_type": "stream",
     "text": [
      "The file 202101-divvy-tripdata.zip is already in local storage\n",
      "The file 202102-divvy-tripdata.zip is already in local storage\n",
      "The file 202103-divvy-tripdata.zip is already in local storage\n",
      "The file 202104-divvy-tripdata.zip is already in local storage\n",
      "The file 202105-divvy-tripdata.zip is already in local storage\n",
      "The file 202106-divvy-tripdata.zip is already in local storage\n",
      "The file 202107-divvy-tripdata.zip is already in local storage\n",
      "The file 202108-divvy-tripdata.zip is already in local storage\n",
      "The file 202109-divvy-tripdata.zip is already in local storage\n",
      "The file 202110-divvy-tripdata.zip is already in local storage\n",
      "The file 202111-divvy-tripdata.zip is already in local storage\n",
      "The file 202112-divvy-tripdata.zip is already in local storage\n"
     ]
    }
   ],
   "source": [
    "trips_2021 = list(load_raw_data(year = 2021))"
   ]
  },
  {
   "cell_type": "code",
   "execution_count": 18,
   "metadata": {},
   "outputs": [],
   "source": [
    "concat_and_pickle(df_list = trips_2021, pickle_name = \"trips_2021\")"
   ]
  },
  {
   "cell_type": "markdown",
   "metadata": {},
   "source": [
    "#### 2022"
   ]
  },
  {
   "cell_type": "code",
   "execution_count": 19,
   "metadata": {},
   "outputs": [
    {
     "name": "stdout",
     "output_type": "stream",
     "text": [
      "The file 202201-divvy-tripdata.zip is already in local storage\n",
      "The file 202202-divvy-tripdata.zip is already in local storage\n",
      "The file 202203-divvy-tripdata.zip is already in local storage\n",
      "The file 202204-divvy-tripdata.zip is already in local storage\n",
      "The file 202205-divvy-tripdata.zip is already in local storage\n",
      "The file 202206-divvy-tripdata.zip is already in local storage\n",
      "The file 202207-divvy-tripdata.zip is already in local storage\n",
      "The file 202208-divvy-tripdata.zip is already in local storage\n",
      "The file 202209-divvy-tripdata.zip is already in local storage\n",
      "The file 202210-divvy-tripdata.zip is already in local storage\n",
      "The file 202211-divvy-tripdata.zip is already in local storage\n",
      "The file 202212-divvy-tripdata.zip is already in local storage\n"
     ]
    }
   ],
   "source": [
    "trips_2022 = list(load_raw_data(year = 2022))"
   ]
  },
  {
   "cell_type": "code",
   "execution_count": 20,
   "metadata": {},
   "outputs": [],
   "source": [
    "concat_and_pickle(df_list = trips_2022, pickle_name = \"trips_2022\") "
   ]
  },
  {
   "cell_type": "markdown",
   "metadata": {},
   "source": [
    "#### 2023"
   ]
  },
  {
   "cell_type": "code",
   "execution_count": 3,
   "metadata": {},
   "outputs": [
    {
     "name": "stdout",
     "output_type": "stream",
     "text": [
      "The file 202301-divvy-tripdata.zip is already in local storage\n",
      "The file 202302-divvy-tripdata.zip is already in local storage\n",
      "The file 202303-divvy-tripdata.zip is already in local storage\n",
      "The file 202304-divvy-tripdata.zip is already in local storage\n",
      "The file 202305-divvy-tripdata.zip is already in local storage\n",
      "The file 202306-divvy-tripdata.zip is already in local storage\n",
      "The file 202307-divvy-tripdata.zip is already in local storage\n",
      "The file 202308-divvy-tripdata.zip is already in local storage\n",
      "The file 202309-divvy-tripdata.zip is already in local storage\n",
      "The file 202310-divvy-tripdata.zip is already in local storage\n",
      "The file 202311-divvy-tripdata.zip is already in local storage\n"
     ]
    }
   ],
   "source": [
    "# The urrent time (10th December 2023)\n",
    "trips_2023 = list(load_raw_data(year = 2023, months = list(range(1,12))))"
   ]
  },
  {
   "cell_type": "code",
   "execution_count": 4,
   "metadata": {},
   "outputs": [],
   "source": [
    "concat_and_pickle(df_list = trips_2023, pickle_name = \"trips_2023\")"
   ]
  }
 ],
 "metadata": {
  "kernelspec": {
   "display_name": ".venv",
   "language": "python",
   "name": "python3"
  },
  "language_info": {
   "codemirror_mode": {
    "name": "ipython",
    "version": 3
   },
   "file_extension": ".py",
   "mimetype": "text/x-python",
   "name": "python",
   "nbconvert_exporter": "python",
   "pygments_lexer": "ipython3",
   "version": "3.11.4"
  },
  "orig_nbformat": 4
 },
 "nbformat": 4,
 "nbformat_minor": 2
}
