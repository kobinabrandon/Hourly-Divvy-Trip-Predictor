{
 "cells": [
  {
   "cell_type": "code",
   "execution_count": 1,
   "id": "initial_id",
   "metadata": {
    "ExecuteTime": {
     "end_time": "2024-01-05T18:57:36.607293598Z",
     "start_time": "2024-01-05T18:57:35.874616377Z"
    },
    "collapsed": true
   },
   "outputs": [],
   "source": [
    "import pandas as pd\n",
    "from src.paths import TRANSFORMED_DATA"
   ]
  },
  {
   "cell_type": "markdown",
   "id": "9c01807dd7896120",
   "metadata": {
    "collapsed": false
   },
   "source": [
    "# Starts"
   ]
  },
  {
   "cell_type": "markdown",
   "id": "2bf679d84053785e",
   "metadata": {
    "collapsed": false
   },
   "source": [
    "## Train-test split on starting data"
   ]
  },
  {
   "cell_type": "code",
   "execution_count": 2,
   "id": "b561f2bff4d06f1b",
   "metadata": {
    "ExecuteTime": {
     "end_time": "2024-01-05T18:57:37.590698701Z",
     "start_time": "2024-01-05T18:57:36.607868139Z"
    },
    "collapsed": false
   },
   "outputs": [],
   "source": [
    "start_table = pd.read_parquet(path = TRANSFORMED_DATA/\"start_table.parquet\")"
   ]
  },
  {
   "cell_type": "code",
   "execution_count": 3,
   "id": "e3e818e59567ffaf",
   "metadata": {
    "ExecuteTime": {
     "end_time": "2024-01-05T18:57:45.661170384Z",
     "start_time": "2024-01-05T18:57:44.322120022Z"
    },
    "collapsed": false
   },
   "outputs": [
    {
     "name": "stdout",
     "output_type": "stream",
     "text": [
      "x_train.shape = (225090, 674)\n",
      "y_train.shape = (225090,)\n",
      "x_test.shape = (333060, 674)\n",
      "y_test.shape = (333060,)\n"
     ]
    }
   ],
   "source": [
    "from datetime import datetime\n",
    "from src.data_splitting import train_test_split\n",
    "\n",
    "x_train, y_train, x_test, y_test = train_test_split(\n",
    "    data=start_table,\n",
    "    scenario=\"start\",\n",
    "    cutoff_date=datetime(2023,6,1,0,0,0),\n",
    "    target_column=\"trips_next_hour\"\n",
    ")\n",
    "\n",
    "#for data in [x_train, y_train, x_test, y_test]:\n",
    "\n",
    "print(f\"{x_train.shape = }\")\n",
    "print(f\"{y_train.shape = }\")\n",
    "print(f\"{x_test.shape = }\")\n",
    "print(f\"{y_test.shape = }\")"
   ]
  },
  {
   "cell_type": "markdown",
   "id": "bf464442",
   "metadata": {},
   "source": [
    "### Defining the base model"
   ]
  },
  {
   "cell_type": "code",
   "execution_count": 4,
   "id": "9203cc70442759f9",
   "metadata": {
    "ExecuteTime": {
     "end_time": "2024-01-05T18:57:49.296449930Z",
     "start_time": "2024-01-05T18:57:49.293536199Z"
    },
    "collapsed": false
   },
   "outputs": [],
   "source": [
    "import numpy as np \n",
    "\n",
    "class BaselineModel:\n",
    "    \n",
    "    def fit(self, x_train: pd.DataFrame, y_train: pd.Series):\n",
    "        pass \n",
    "    \n",
    "    def predict(self, x_test: pd.DataFrame) -> np.array:\n",
    "        \n",
    "        return x_test[\"trips_previous_1_hour\"]"
   ]
  },
  {
   "cell_type": "markdown",
   "id": "59bdae58dc4b221f",
   "metadata": {
    "collapsed": false
   },
   "source": [
    "### Base Model Predictions "
   ]
  },
  {
   "cell_type": "code",
   "execution_count": 6,
   "id": "6d01868b2115fa6f",
   "metadata": {
    "ExecuteTime": {
     "end_time": "2024-01-05T18:58:30.451140145Z",
     "start_time": "2024-01-05T18:58:30.430527401Z"
    },
    "collapsed": false
   },
   "outputs": [],
   "source": [
    "model = BaselineModel()\n",
    "predictions = model.predict(x_test)"
   ]
  },
  {
   "cell_type": "markdown",
   "id": "e75f93fb4cf7f137",
   "metadata": {
    "collapsed": false
   },
   "source": [
    "### Mean absolute error"
   ]
  },
  {
   "cell_type": "code",
   "execution_count": 11,
   "id": "bc53adbf",
   "metadata": {
    "ExecuteTime": {
     "end_time": "2024-01-05T19:00:31.855704855Z",
     "start_time": "2024-01-05T19:00:31.147824057Z"
    }
   },
   "outputs": [],
   "source": [
    "from sklearn.metrics import mean_absolute_error\n",
    "\n",
    "start_test_mae = mean_absolute_error(y_test, predictions)"
   ]
  },
  {
   "cell_type": "code",
   "execution_count": 12,
   "id": "e7785ee16f900aee",
   "metadata": {
    "ExecuteTime": {
     "end_time": "2024-01-05T19:00:33.840317755Z",
     "start_time": "2024-01-05T19:00:33.834553045Z"
    },
    "collapsed": false
   },
   "outputs": [
    {
     "data": {
      "text/plain": [
       "0.22374947"
      ]
     },
     "execution_count": 12,
     "metadata": {},
     "output_type": "execute_result"
    }
   ],
   "source": [
    "start_test_mae"
   ]
  },
  {
   "cell_type": "markdown",
   "id": "3ce8d395b8bf9ae",
   "metadata": {
    "collapsed": false
   },
   "source": [
    "# Stops"
   ]
  }
 ],
 "metadata": {
  "kernelspec": {
   "display_name": "Python 3",
   "language": "python",
   "name": "python3"
  },
  "language_info": {
   "codemirror_mode": {
    "name": "ipython",
    "version": 3
   },
   "file_extension": ".py",
   "mimetype": "text/x-python",
   "name": "python",
   "nbconvert_exporter": "python",
   "pygments_lexer": "ipython3",
   "version": "3.11.4"
  }
 },
 "nbformat": 4,
 "nbformat_minor": 5
}
