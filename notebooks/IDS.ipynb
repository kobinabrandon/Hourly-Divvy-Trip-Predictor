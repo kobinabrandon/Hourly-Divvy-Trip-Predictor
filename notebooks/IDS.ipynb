{
 "cells": [
  {
   "cell_type": "code",
   "execution_count": 1,
   "metadata": {},
   "outputs": [],
   "source": [
    "from src.setup.paths import make_fundamental_paths"
   ]
  },
  {
   "cell_type": "code",
   "execution_count": 2,
   "metadata": {},
   "outputs": [],
   "source": [
    "make_fundamental_paths()"
   ]
  },
  {
   "cell_type": "code",
   "execution_count": 5,
   "metadata": {},
   "outputs": [],
   "source": [
    "from src.feature_pipeline.data_extraction import load_raw_data\n",
    "from src.feature_pipeline.preprocessing import DataProcessor"
   ]
  },
  {
   "cell_type": "code",
   "execution_count": 6,
   "metadata": {},
   "outputs": [
    {
     "name": "stderr",
     "output_type": "stream",
     "text": [
      "\u001b[32m2024-07-05 23:23:54.939\u001b[0m | \u001b[1mINFO    \u001b[0m | \u001b[36msrc.feature_pipeline.data_extraction\u001b[0m:\u001b[36mcheck_for_file_and_download\u001b[0m:\u001b[36m101\u001b[0m - \u001b[1mDownloading and extracting 202401-divvy-tripdata.zip\u001b[0m\n",
      "\u001b[32m2024-07-05 23:24:06.465\u001b[0m | \u001b[1mINFO    \u001b[0m | \u001b[36msrc.feature_pipeline.data_extraction\u001b[0m:\u001b[36mcheck_for_file_and_download\u001b[0m:\u001b[36m101\u001b[0m - \u001b[1mDownloading and extracting 202402-divvy-tripdata.zip\u001b[0m\n",
      "\u001b[32m2024-07-05 23:24:20.832\u001b[0m | \u001b[1mINFO    \u001b[0m | \u001b[36msrc.feature_pipeline.data_extraction\u001b[0m:\u001b[36mcheck_for_file_and_download\u001b[0m:\u001b[36m101\u001b[0m - \u001b[1mDownloading and extracting 202403-divvy-tripdata.zip\u001b[0m\n",
      "\u001b[32m2024-07-05 23:24:54.385\u001b[0m | \u001b[1mINFO    \u001b[0m | \u001b[36msrc.feature_pipeline.data_extraction\u001b[0m:\u001b[36mcheck_for_file_and_download\u001b[0m:\u001b[36m101\u001b[0m - \u001b[1mDownloading and extracting 202404-divvy-tripdata.zip\u001b[0m\n",
      "\u001b[32m2024-07-05 23:25:13.213\u001b[0m | \u001b[1mINFO    \u001b[0m | \u001b[36msrc.feature_pipeline.data_extraction\u001b[0m:\u001b[36mcheck_for_file_and_download\u001b[0m:\u001b[36m101\u001b[0m - \u001b[1mDownloading and extracting 202405-divvy-tripdata.zip\u001b[0m\n",
      "\u001b[32m2024-07-05 23:25:52.812\u001b[0m | \u001b[1mINFO    \u001b[0m | \u001b[36msrc.feature_pipeline.data_extraction\u001b[0m:\u001b[36mcheck_for_file_and_download\u001b[0m:\u001b[36m101\u001b[0m - \u001b[1mDownloading and extracting 202406-divvy-tripdata.zip\u001b[0m\n",
      "\u001b[32m2024-07-05 23:26:28.344\u001b[0m | \u001b[1mINFO    \u001b[0m | \u001b[36msrc.feature_pipeline.data_extraction\u001b[0m:\u001b[36mcheck_for_file_and_download\u001b[0m:\u001b[36m101\u001b[0m - \u001b[1mDownloading and extracting 202407-divvy-tripdata.zip\u001b[0m\n",
      "\u001b[32m2024-07-05 23:26:30.126\u001b[0m | \u001b[31m\u001b[1mERROR   \u001b[0m | \u001b[36msrc.feature_pipeline.data_extraction\u001b[0m:\u001b[36mload_raw_data\u001b[0m:\u001b[36m148\u001b[0m - \u001b[31m\u001b[1m[Errno 2] No such file or directory: '/home/kobina/ML/End-to-End Projects/Actualised/data/raw/202407-divvy-tripdata/202407-divvy-tripdata.csv'\u001b[0m\n"
     ]
    }
   ],
   "source": [
    "start = DataProcessor(year=2024)"
   ]
  },
  {
   "cell_type": "code",
   "execution_count": 9,
   "metadata": {},
   "outputs": [
    {
     "data": {
      "text/plain": [
       "415051"
      ]
     },
     "execution_count": 9,
     "metadata": {},
     "output_type": "execute_result"
    }
   ],
   "source": [
    "dataset = start.data\n",
    "dataset[\"start_station_id\"].isna().sum()"
   ]
  },
  {
   "cell_type": "code",
   "execution_count": 21,
   "metadata": {},
   "outputs": [],
   "source": [
    "str_count = 0\n",
    "for id in dataset[\"start_station_id\"].to_list():\n",
    "    if isinstance(id, str):\n",
    "        str_count+=1"
   ]
  },
  {
   "cell_type": "code",
   "execution_count": 24,
   "metadata": {},
   "outputs": [
    {
     "data": {
      "text/plain": [
       "1995742"
      ]
     },
     "execution_count": 24,
     "metadata": {},
     "output_type": "execute_result"
    }
   ],
   "source": [
    "str_count"
   ]
  },
  {
   "cell_type": "code",
   "execution_count": 25,
   "metadata": {},
   "outputs": [
    {
     "data": {
      "text/plain": [
       "0.8278363177593431"
      ]
     },
     "execution_count": 25,
     "metadata": {},
     "output_type": "execute_result"
    }
   ],
   "source": [
    "str_count / dataset.shape[0]"
   ]
  }
 ],
 "metadata": {
  "kernelspec": {
   "display_name": "src-aBVq-T_x-py3.11",
   "language": "python",
   "name": "python3"
  },
  "language_info": {
   "codemirror_mode": {
    "name": "ipython",
    "version": 3
   },
   "file_extension": ".py",
   "mimetype": "text/x-python",
   "name": "python",
   "nbconvert_exporter": "python",
   "pygments_lexer": "ipython3",
   "version": "3.11.2"
  }
 },
 "nbformat": 4,
 "nbformat_minor": 2
}
