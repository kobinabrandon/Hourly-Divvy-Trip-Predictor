{
 "cells": [
  {
   "cell_type": "code",
   "execution_count": 4,
   "metadata": {},
   "outputs": [],
   "source": [
    "import pandas as pd \n",
    "\n",
    "data = pd.read_parquet(\n",
    "    \"/home/kobina/ML/Projects/Divvy-Bikes-Demand-Predictor/data/transformed/training data/starts.parquet\"\n",
    ")"
   ]
  },
  {
   "cell_type": "code",
   "execution_count": 6,
   "metadata": {},
   "outputs": [
    {
     "data": {
      "text/plain": [
       "0         2024-01-01 00:00:00\n",
       "1         2024-01-01 00:00:00\n",
       "2         2024-01-01 00:00:00\n",
       "3         2024-01-01 00:00:00\n",
       "4         2024-01-01 00:00:00\n",
       "                  ...        \n",
       "1618417   2024-06-30 23:00:00\n",
       "1618418   2024-06-30 23:00:00\n",
       "1618419   2024-06-30 23:00:00\n",
       "1618420   2024-06-30 23:00:00\n",
       "1618421   2024-06-30 23:00:00\n",
       "Name: start_hour, Length: 1618422, dtype: datetime64[ns]"
      ]
     },
     "execution_count": 6,
     "metadata": {},
     "output_type": "execute_result"
    }
   ],
   "source": [
    "data[\"start_hour\"]"
   ]
  }
 ],
 "metadata": {
  "kernelspec": {
   "display_name": "src-sOhH62IC-py3.12",
   "language": "python",
   "name": "python3"
  },
  "language_info": {
   "codemirror_mode": {
    "name": "ipython",
    "version": 3
   },
   "file_extension": ".py",
   "mimetype": "text/x-python",
   "name": "python",
   "nbconvert_exporter": "python",
   "pygments_lexer": "ipython3",
   "version": "3.12.4"
  }
 },
 "nbformat": 4,
 "nbformat_minor": 2
}
