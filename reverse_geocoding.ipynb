{
 "cells": [
  {
   "cell_type": "code",
   "execution_count": 1,
   "metadata": {},
   "outputs": [],
   "source": [
    "import json \n",
    "import pandas as pd \n",
    "from src.setup.paths import GEOGRAPHICAL_DATA\n",
    "from src.feature_pipeline.miscellaneous import ReverseGeocoder"
   ]
  },
  {
   "cell_type": "code",
   "execution_count": 2,
   "metadata": {},
   "outputs": [],
   "source": [
    "with open(GEOGRAPHICAL_DATA / f\"rounded_end_points_and_new_ids.geojson\") as file:\n",
    "        points_and_ids = json.load(file)\n",
    "\n",
    "loaded_geodata = pd.DataFrame(\n",
    "    {\n",
    "        f\"end_station_id\": points_and_ids.keys(), \n",
    "        \"coordinates\": points_and_ids.values()\n",
    "    }\n",
    ")"
   ]
  },
  {
   "cell_type": "code",
   "execution_count": 3,
   "metadata": {},
   "outputs": [
    {
     "data": {
      "text/plain": [
       "1573"
      ]
     },
     "execution_count": 3,
     "metadata": {},
     "output_type": "execute_result"
    }
   ],
   "source": [
    "len(loaded_geodata[\"end_station_id\"].unique())"
   ]
  },
  {
   "cell_type": "code",
   "execution_count": 4,
   "metadata": {},
   "outputs": [],
   "source": [
    "def prepare_geodata(scenario: str) -> pd.DataFrame:\n",
    "\n",
    "    with open(GEOGRAPHICAL_DATA / f\"rounded_{scenario}_points_and_new_ids.geojson\") as file:\n",
    "        points_and_ids = json.load(file)\n",
    "\n",
    "    loaded_geodata = pd.DataFrame(\n",
    "        {\n",
    "            f\"{scenario}_station_id\": points_and_ids.keys(), \n",
    "            \"coordinates\": points_and_ids.values()\n",
    "        }\n",
    "    )\n",
    "\n",
    "    reverse_geocoding = ReverseGeocoder(scenario=scenario, geodata=loaded_geodata)\n",
    "    station_names_and_locations = reverse_geocoding.reverse_geocode()\n",
    "\n",
    "    return station_names_and_locations\n"
   ]
  },
  {
   "cell_type": "code",
   "execution_count": 5,
   "metadata": {},
   "outputs": [
    {
     "name": "stderr",
     "output_type": "stream",
     "text": [
      "  0%|          | 0/1573 [00:00<?, ?it/s]"
     ]
    },
    {
     "name": "stderr",
     "output_type": "stream",
     "text": [
      "100%|██████████| 1573/1573 [00:54<00:00, 28.64it/s] \n",
      "Reverse geocoding the coordinates: 100%|██████████| 1573/1573 [00:00<00:00, 767345.92it/s]\n"
     ]
    }
   ],
   "source": [
    "daf = prepare_geodata(scenario=\"end\")"
   ]
  },
  {
   "cell_type": "code",
   "execution_count": 6,
   "metadata": {},
   "outputs": [
    {
     "data": {
      "text/plain": [
       "set"
      ]
     },
     "execution_count": 6,
     "metadata": {},
     "output_type": "execute_result"
    }
   ],
   "source": [
    "type(set([1,2,4,1]))"
   ]
  }
 ],
 "metadata": {
  "kernelspec": {
   "display_name": "src-sOhH62IC-py3.12",
   "language": "python",
   "name": "python3"
  },
  "language_info": {
   "codemirror_mode": {
    "name": "ipython",
    "version": 3
   },
   "file_extension": ".py",
   "mimetype": "text/x-python",
   "name": "python",
   "nbconvert_exporter": "python",
   "pygments_lexer": "ipython3",
   "version": "3.12.4"
  }
 },
 "nbformat": 4,
 "nbformat_minor": 2
}
